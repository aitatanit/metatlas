{
 "cells": [
  {
   "cell_type": "code",
   "execution_count": null,
   "metadata": {
    "collapsed": true
   },
   "outputs": [],
   "source": [
    "# 1) Convert files for Metatlas 2.0 (using mzCAT)\n",
    "# 2) Transfer to NERSC (using mzCAT)\n",
    "# 3) Make MetAtlas Groups for your files\n",
    "# 4) Enter your internal standards into an Atlas\n",
    "# 5) Extract data from each of your files for the internal standards\n",
    "# 6) Export the results in a meaningful way\n",
    "\n",
    "# If all goes according to plan that means on Thursday we will:\n",
    "# 1) Build a small Atlas of your favorite molecules that have been identified.\n",
    "# 2) Extract data from each of your files for these molecules\n",
    "# 3) Export the results in a meaningful way"
   ]
  },
  {
   "cell_type": "code",
   "execution_count": 1,
   "metadata": {
    "collapsed": true
   },
   "outputs": [],
   "source": [
    "%matplotlib inline\n",
    "%config InlineBackend.figure_format = 'retina'\n",
    "\n",
    "import sys,os,glob,csv\n",
    "import numpy as np\n",
    "from matplotlib import pylab as plt\n",
    "\n",
    "from scipy.spatial.distance import pdist\n",
    "from scipy.cluster.hierarchy import linkage\n",
    "from scipy.cluster.hierarchy import fcluster\n",
    "from scipy.spatial.distance import squareform\n",
    "\n",
    "#sys.path.insert(0,'/global/project/projectdirs/metatlas/anaconda/lib/python2.7/site-packages' )\n",
    "from metatlas import metatlas_objects as metob\n",
    "from metatlas import h5_query\n",
    "\n",
    "curr_ld_lib_path = ''\n",
    "\n",
    "#<--- Not sure what this is for\n",
    "#os.environ['LD_LIBRARY_PATH'] = curr_ld_lib_path + ':/project/projectdirs/openmsi/jupyterhub_libs/boost_1_55_0/lib' + ':/project/projectdirs/openmsi/jupyterhub_libs/lib'\n",
    "# sys.path.remove('/anaconda/lib/python2.7/site-packages')\n",
    "#sys.path.append('/global/project/projectdirs/openmsi/jupyterhub_libs/anaconda/lib/python2.7/site-packages')\n",
    "sys.path.insert(0,'/project/projectdirs/openmsi/projects/meta-iq/pactolus/pactolus' )\n",
    "\n",
    "from rdkit import Chem\n",
    "# from rdkit.Chem.rdMolDescriptors import ExactMolWt\n",
    "from rdkit.Chem import Descriptors\n",
    "from rdkit.Chem import rdMolDescriptors\n",
    "from rdkit.Chem import AllChem\n",
    "from rdkit.Chem.Fingerprints import FingerprintMols\n",
    "from rdkit.Chem import Draw\n",
    "from rdkit import DataStructs\n",
    "from rdkit.DataManip import Metric\n",
    "\n",
    "#<--- this doesn't appear to be used\n",
    "import networkx as nx"
   ]
  },
  {
   "cell_type": "code",
   "execution_count": 2,
   "metadata": {
    "collapsed": false
   },
   "outputs": [
    {
     "name": "stdout",
     "output_type": "stream",
     "text": [
      "[{'mzmax': 267.0668271916963, 'name': u'inosine', 'mzmin': 267.0668271916963}, {'mzmax': 115.00080471855173, 'name': u'|fumarate|', 'mzmin': 115.00080471855173}, {'mzmax': 135.02651866279575, 'name': u'L-threonate', 'mzmin': 135.02651866279575}, {'mzmax': 111.00599339748358, 'name': u'2-furoate', 'mzmin': 111.00599339748358}, {'mzmax': 125.03252871166193, 'name': u'thymine', 'mzmin': 125.03252871166193}, {'mzmax': 225.08244897094767, 'name': u'porphobilinogen', 'mzmin': 225.08244897094767}, {'mzmax': 133.0109287950132, 'name': u'(R)-malate', 'mzmin': 133.0109287950132}, {'mzmax': 151.02238035293584, 'name': u'xanthine', 'mzmin': 151.02238035293584}, {'mzmax': 241.07696792121908, 'name': u'thymidine', 'mzmin': 241.07696792121908}, {'mzmax': 149.0418237889858, 'name': u'&alpha;-D-xylopyranose', 'mzmin': 149.0418237889858}, {'mzmax': 168.02602934776343, 'name': u'3-methyl-4-nitrocatechol', 'mzmin': 168.02602934776343}, {'mzmax': 182.04133447395347, 'name': u'4-pyridoxate', 'mzmin': 182.04133447395347}, {'mzmax': 304.0264134328459, 'name': u\"cytidine 2',3'-cyclic monophosphate\", 'mzmin': 304.0264134328459}, {'mzmax': 187.10413514686633, 'name': u'<i>N</i><sup>6</sup>-acetyl-L-lysine', 'mzmin': 187.10413514686633}, {'mzmax': 163.05711365676834, 'name': u'6-deoxy-D-glucose', 'mzmin': 163.05711365676834}, {'mzmax': 192.06182064987212, 'name': u'phenylacetylglycine', 'mzmin': 192.06182064987212}, {'mzmax': 190.04958763175924, 'name': u'N-&alpha;-acetyl-L-methionine', 'mzmin': 190.04958763175924}, {'mzmax': 165.03767022071838, 'name': u'3-methylxanthine', 'mzmin': 165.03767022071838}, {'mzmax': 167.0168840447997, 'name': u'|urate|', 'mzmin': 167.0168840447997}, {'mzmax': 193.0458048387144, 'name': u'ferulate', 'mzmin': 193.0458048387144}, {'mzmax': 167.03079971252433, 'name': u'vanillate', 'mzmin': 167.03079971252433}, {'mzmax': 174.08405965591436, 'name': u'L-citrulline', 'mzmin': 174.08405965591436}, {'mzmax': 173.0888452790828, 'name': u'<i>N</i>-acetyl-L-ornithine', 'mzmin': 173.0888452790828}, {'mzmax': 179.03049971252432, 'name': u'<i>cis</i>-caffeate', 'mzmin': 179.03049971252432}, {'mzmax': 179.05163260704077, 'name': u'L-glucose', 'mzmin': 179.05163260704077}, {'mzmax': 168.06242064987214, 'name': u'|pyridoxine|', 'mzmin': 168.06242064987214}, {'mzmax': 204.06152064987214, 'name': u'indole-3-lactate', 'mzmin': 204.06152064987214}, {'mzmax': 206.07711051765463, 'name': u'<i>N</i>-acetyl-L-phenylalanine', 'mzmin': 206.07711051765463}, {'mzmax': 255.22657755104063, 'name': u'palmitate', 'mzmin': 255.22657755104063}, {'mzmax': 243.05618174530045, 'name': u'uridine', 'mzmin': 243.05618174530045}, {'mzmax': 242.07219755645718, 'name': u'|cytidine|', 'mzmin': 242.07219755645718}, {'mzmax': 344.0315473126981, 'name': u'cyclic-GMP', 'mzmin': 344.0315473126981}, {'mzmax': 281.2415826772307, 'name': u'oleate', 'mzmin': 281.2415826772307}, {'mzmax': 328.0370436208342, 'name': u'cyclic-AMP', 'mzmin': 328.0370436208342}, {'mzmax': 89.02219089447017, 'name': u'(<i>R</i>)-lactate', 'mzmin': 89.02219089447017}, {'mzmax': 137.03222108245865, 'name': u'urocanate', 'mzmin': 137.03222108245865}, {'mzmax': 112.04883689361539, 'name': u'creatinine', 'mzmin': 112.04883689361539}, {'mzmax': 117.01640984474179, 'name': u'succinate', 'mzmin': 117.01640984474179}, {'mzmax': 341.10040721412656, 'name': u'sucrose', 'mzmin': 341.10040721412656}]\n"
     ]
    }
   ],
   "source": [
    "atlases = metob.retrieve('Atlas',name='%_LS_%', username='*')\n",
    "myAtlas = atlases[0]\n",
    "istds = list()\n",
    "#print myAtlas\n",
    "\n",
    "for x in atlases[0].compound_identifications:\n",
    "    x.compound[0].name\n",
    "    mzmin = x.mz_references[0].mz - x.mz_references[0].mz * x.mz_references[0].mz_tolerance / 1e6\n",
    "    mzmax = x.mz_references[0].mz - x.mz_references[0].mz * x.mz_references[0].mz_tolerance / 1e6\n",
    "    istds.append({'name':x.compound[0].name,'mzmin':mzmin,'mzmax':mzmax})\n",
    "\n",
    "\n",
    "\n",
    "print istds\n",
    "\n",
    "\n",
    "\n",
    "##atlases = metob.retrieve('Atlas',name='All%', username='*')\n",
    "#for a in atlases:\n",
    "#    print a.name\n",
    "# atlases = metob.retrieve('Atlas',name='QExactive%')\n",
    "##myAtlas = atlases[0]\n",
    "##istds = list()\n",
    "\n",
    "##for cid in myAtlas.compound_identifications:\n",
    "##    myreferences = cid.retrieve()\n",
    "##    c = myreferences.compound.retrieve()\n",
    "##    for r in myreferences.references:\n",
    "##        temp = r.retrieve()\n",
    "##        if 'mz' in dir(temp):\n",
    "##            print c.name, temp.mz, temp.mz_tolerance, temp.mz_tolerance_units\n",
    "##            mzmin = temp.mz - temp.mz*temp.mz_tolerance / 1e6\n",
    "##            mzmax = temp.mz + temp.mz*temp.mz_tolerance / 1e6\n",
    "##            istds.append({'name':c.name,'mzmin':mzmin,'mzmax':mzmax})\n",
    "##        if 'RTpeak' in dir(temp):\n",
    "##            print c.name, temp.RTpeak, temp.RTmin, temp.RTmax, temp.RTUnits\n",
    "\n"
   ]
  },
  {
   "cell_type": "code",
   "execution_count": null,
   "metadata": {
    "collapsed": false
   },
   "outputs": [],
   "source": [
    "# groups = metob.retrieve('Group')#,name='20150826_KZH_QExactive_Hilic_Avena_exudates_and_standards')\n",
    "# for g in groups:\n",
    "#     print g.name"
   ]
  },
  {
   "cell_type": "code",
   "execution_count": 22,
   "metadata": {
    "collapsed": false
   },
   "outputs": [
    {
     "name": "stdout",
     "output_type": "stream",
     "text": [
      "----------\n"
     ]
    },
    {
     "ename": "TypeError",
     "evalue": "object of type 'Group' has no len()",
     "output_type": "error",
     "traceback": [
      "\u001b[1;31m---------------------------------------------------------------------------\u001b[0m",
      "\u001b[1;31mTypeError\u001b[0m                                 Traceback (most recent call last)",
      "\u001b[1;32m<ipython-input-22-ddaf41531476>\u001b[0m in \u001b[0;36m<module>\u001b[1;34m()\u001b[0m\n\u001b[0;32m     13\u001b[0m         \u001b[1;32mfor\u001b[0m \u001b[0mk\u001b[0m\u001b[1;33m,\u001b[0m \u001b[0mmyFile\u001b[0m \u001b[1;32min\u001b[0m \u001b[0menumerate\u001b[0m\u001b[1;33m(\u001b[0m\u001b[0mtreatment_groups\u001b[0m\u001b[1;33m.\u001b[0m\u001b[0mitems\u001b[0m\u001b[1;33m)\u001b[0m\u001b[1;33m:\u001b[0m\u001b[1;33m\u001b[0m\u001b[0m\n\u001b[0;32m     14\u001b[0m             \u001b[1;32mprint\u001b[0m \u001b[1;34m'-'\u001b[0m\u001b[1;33m*\u001b[0m\u001b[1;36m10\u001b[0m\u001b[1;33m\u001b[0m\u001b[0m\n\u001b[1;32m---> 15\u001b[1;33m             \u001b[1;32mprint\u001b[0m \u001b[0mlen\u001b[0m\u001b[1;33m(\u001b[0m\u001b[0mmyFile\u001b[0m\u001b[1;33m)\u001b[0m\u001b[1;33m\u001b[0m\u001b[0m\n\u001b[0m\u001b[0;32m     16\u001b[0m \u001b[1;33m\u001b[0m\u001b[0m\n\u001b[0;32m     17\u001b[0m \u001b[1;33m\u001b[0m\u001b[0m\n",
      "\u001b[1;31mTypeError\u001b[0m: object of type 'Group' has no len()"
     ]
    }
   ],
   "source": [
    "# groups = metob.retrieve('Group',name='20150826_KZH_QExactive_Hilic_Avena_exudates_and_standards')\n",
    "groups = metob.retrieve('Groups',name='%_LS_%', username='*')\n",
    "group = list()\n",
    "\n",
    "\n",
    "\n",
    "for i,treatment_groups in enumerate(groups):\n",
    "    if len(treatment_groups.items)> 0:\n",
    "        group.append(treatment_groups)\n",
    "        \n",
    "for i,treatment_groups in enumerate(group):\n",
    "    for j in range(len(treatment_groups.items)):\n",
    "        for k, myFile in enumerate(treatment_groups.items):\n",
    "            print '-'*10\n",
    "            print len(myFile)\n",
    "        \n",
    "        \n",
    "#    for j in range(len(treatment_groups.items)):\n",
    "#        myFile = treatment_groups.items[j].hdf5_file\n",
    "#        print myFile\n",
    "\n",
    "\n",
    "    \n",
    "    \n",
    "#    file_list = treatment_groups.\n",
    "#    for j, files in enumerate(file_list.items):\n",
    "#        lcms_run = files.retrieve()\n",
    "#        print i,j,file_list.name,lcms_run.hdf5_file\n"
   ]
  },
  {
   "cell_type": "code",
   "execution_count": null,
   "metadata": {
    "collapsed": true
   },
   "outputs": [],
   "source": [
    "from metatlas import h5_query as h5q\n",
    "import tables\n"
   ]
  },
  {
   "cell_type": "code",
   "execution_count": null,
   "metadata": {
    "collapsed": false,
    "scrolled": false
   },
   "outputs": [],
   "source": [
    "data = []\n",
    "for treatment_groups in myExperiment.items:\n",
    "    file_list = treatment_groups.retrieve()\n",
    "    for i,files in enumerate(file_list.items):\n",
    "        lcms_run = files.retrieve()\n",
    "        print lcms_run\n",
    "        if '_pos_' in lcms_run.hdf5_file.lower():\n",
    "            h5file = tables.open_file(lcms_run.hdf5_file)\n",
    "            for istd in istds[:4]:\n",
    "                print istd\n",
    "                rt,intensity = h5q.get_chromatogram(h5file,istd['mzmin']-0.01,istd['mzmax']+0.01,1,'positive')\n",
    "\n",
    "                data.append((rt,intensity,istd['name'],file_list.name,lcms_run.hdf5_file))\n"
   ]
  },
  {
   "cell_type": "code",
   "execution_count": null,
   "metadata": {
    "collapsed": false
   },
   "outputs": [],
   "source": [
    "len(data)/4"
   ]
  },
  {
   "cell_type": "code",
   "execution_count": null,
   "metadata": {
    "collapsed": false,
    "scrolled": false
   },
   "outputs": [],
   "source": [
    "K_max = 67\n",
    "K_min = 0\n",
    "L_max = 4\n",
    "L_min = 0\n",
    "ax = plt.subplot(111)\n",
    "x_offset = 7 # tune these\n",
    "y_offset = 7 # tune these\n",
    "plt.setp(ax, 'frame_on', False)\n",
    "ax.set_ylim([0, (K_max-K_min +1)*y_offset ])\n",
    "ax.set_xlim([0, (L_max - L_min+1)*x_offset])\n",
    "ax.set_xticks([])\n",
    "ax.set_yticks([])\n",
    "ax.grid('off')\n",
    "\n",
    "\n",
    "for k in np.arange(K_min, K_max + 1):\n",
    "    for l in np.arange(L_min, L_max + 1):\n",
    "        ax.plot(d[0],d[1])\n",
    "\n",
    "#plt.savefig(os.path.join(os.getcwd(), 'plot-average.pdf'))\n",
    "\n",
    "\n",
    "#myCounter = 0\n",
    "#for i,d in enumerate(data):\n",
    "#    if len(d[0]) > 1:\n",
    "#        plt.subplot(67,4,myCounter+1)\n",
    "#        plt.plot(d[0],d[1])\n",
    "#        plt.title('%s\\n%s'%(d[3],d[2]))\n",
    "#        plt.xlim(2,22)\n",
    "#        plt.ylim(0,7e8)\n",
    "#        myCounter = myCounter + 1\n",
    "#fig = plt.gcf()\n",
    "#fig.set_size_inches(22, 120)\n",
    "#fig.tight_layout()\n",
    "plt.show()"
   ]
  },
  {
   "cell_type": "code",
   "execution_count": null,
   "metadata": {
    "collapsed": true
   },
   "outputs": [],
   "source": [
    "# myFile = '/global/project/projectdirs/metatlas//raw_data/katezh/20150826_KZH_pHILIC_QExactive_ExudatesAndCassettes/20150826_pHILIC_POS_MSMS_ACN__Root_exudate_2_3x_R2_8ul.h5'\n",
    "myFile = '/project/projectdirs/metatlas/raw_data/pandeer/20150305_angelo_MSMS/POS_5Dmsms.h5'\n",
    "h5file = tables.open_file(myFile)\n",
    "\n"
   ]
  },
  {
   "cell_type": "code",
   "execution_count": null,
   "metadata": {
    "collapsed": true
   },
   "outputs": [],
   "source": [
    "mz_bins = np.linspace(50,1000,1000)\n",
    "data = h5q.get_heatmap(myFile,mz_bins,1,1)"
   ]
  },
  {
   "cell_type": "code",
   "execution_count": null,
   "metadata": {
    "collapsed": false
   },
   "outputs": [],
   "source": [
    "print h5file"
   ]
  },
  {
   "cell_type": "code",
   "execution_count": null,
   "metadata": {
    "collapsed": false
   },
   "outputs": [],
   "source": [
    "# import seaborn as sns; sns.set()\n",
    "# plt.figure(figsize=(22,22))\n",
    "# ax = sns.heatmap((data['arr']+1)**0.5,xticklabels=False,yticklabels=False,vmin=0,vmax=300)"
   ]
  },
  {
   "cell_type": "code",
   "execution_count": null,
   "metadata": {
    "collapsed": true
   },
   "outputs": [],
   "source": []
  },
  {
   "cell_type": "code",
   "execution_count": null,
   "metadata": {
    "collapsed": true
   },
   "outputs": [],
   "source": []
  },
  {
   "cell_type": "code",
   "execution_count": null,
   "metadata": {
    "collapsed": false
   },
   "outputs": [],
   "source": [
    "%%javascript\n",
    "var nb = IPython.notebook;\n",
    "var kernel = IPython.notebook.kernel;\n",
    "var command = \"NOTEBOOK_FULL_PATH = '\" + nb.base_url + nb.notebook_path + \"'\";\n",
    "kernel.execute(command);"
   ]
  },
  {
   "cell_type": "code",
   "execution_count": null,
   "metadata": {
    "collapsed": false
   },
   "outputs": [],
   "source": [
    "filename = os.path.basename(NOTEBOOK_FULL_PATH)\n",
    "%system cp $filename /project/projectdirs/openmsi/www/\n",
    "temp = '%s/%s'%('/project/projectdirs/openmsi/www',filename)\n",
    "%system chmod 775 $temp\n",
    "print 'http://nbviewer.ipython.org/url/portal.nersc.gov/project/openmsi/%s?flush_cache=true'%filename"
   ]
  },
  {
   "cell_type": "code",
   "execution_count": null,
   "metadata": {
    "collapsed": true
   },
   "outputs": [],
   "source": []
  }
 ],
 "metadata": {
  "kernelspec": {
   "display_name": "Python 2",
   "language": "python",
   "name": "python2"
  },
  "language_info": {
   "codemirror_mode": {
    "name": "ipython",
    "version": 2
   },
   "file_extension": ".py",
   "mimetype": "text/x-python",
   "name": "python",
   "nbconvert_exporter": "python",
   "pygments_lexer": "ipython2",
   "version": "2.7.11"
  }
 },
 "nbformat": 4,
 "nbformat_minor": 0
}
