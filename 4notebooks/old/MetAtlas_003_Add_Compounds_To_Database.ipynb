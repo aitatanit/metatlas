{
 "cells": [
  {
   "cell_type": "code",
   "execution_count": 76,
   "metadata": {
    "collapsed": true
   },
   "outputs": [],
   "source": [
    "# http://metacyc.org/META/class-instances?object=Compounds\n",
    "# Smart Table\n",
    "# Add the following columns\n",
    "# export with weblinks"
   ]
  },
  {
   "cell_type": "code",
   "execution_count": 3,
   "metadata": {
    "collapsed": false
   },
   "outputs": [],
   "source": [
    "import sys,os\n",
    "sys.path.insert(0,'/global/project/projectdirs/metatlas/anaconda/lib/python2.7/site-packages' )\n",
    "from metatlas import metatlas_objects as metob\n",
    "import csv\n",
    "\n",
    "\n",
    "curr_ld_lib_path = ''\n",
    "\n",
    "os.environ['LD_LIBRARY_PATH'] = curr_ld_lib_path + ':/project/projectdirs/openmsi/jupyterhub_libs/boost_1_55_0/lib' + ':/project/projectdirs/openmsi/jupyterhub_libs/lib'\n",
    "import sys\n",
    "# sys.path.remove('/anaconda/lib/python2.7/site-packages')\n",
    "sys.path.append('/global/project/projectdirs/openmsi/jupyterhub_libs/anaconda/lib/python2.7/site-packages')\n",
    "sys.path.insert(0,'/project/projectdirs/openmsi/projects/meta-iq/pactolus/pactolus' )\n",
    "\n",
    "from rdkit import Chem\n",
    "# from rdkit.Chem.rdMolDescriptors import ExactMolWt\n",
    "from rdkit.Chem import Descriptors\n",
    "from rdkit.Chem import rdMolDescriptors\n",
    "from rdkit.Chem import AllChem\n"
   ]
  },
  {
   "cell_type": "code",
   "execution_count": 4,
   "metadata": {
    "collapsed": true
   },
   "outputs": [],
   "source": [
    "\"\"\" contribution from Hans de Winter \"\"\"\n",
    "def _InitialiseNeutralisationReactions():\n",
    "    patts= (\n",
    "        # Imidazoles\n",
    "        ('[n+;H]','n'),\n",
    "        # Amines\n",
    "        ('[N+;!H0]','N'),\n",
    "        # Carboxylic acids and alcohols\n",
    "        ('[$([O-]);!$([O-][#7])]','O'),\n",
    "        # Thiols\n",
    "        ('[S-;X1]','S'),\n",
    "        # Sulfonamides\n",
    "        ('[$([N-;X2]S(=O)=O)]','N'),\n",
    "        # Enamines\n",
    "        ('[$([N-;X2][C,N]=C)]','N'),\n",
    "        # Tetrazoles\n",
    "        ('[n-]','[nH]'),\n",
    "        # Sulfoxides\n",
    "        ('[$([S-]=O)]','S'),\n",
    "        # Amides\n",
    "        ('[$([N-]C=O)]','N'),\n",
    "        )\n",
    "    return [(Chem.MolFromSmarts(x),Chem.MolFromSmiles(y,False)) for x,y in patts]\n",
    "\n",
    "_reactions=None\n",
    "def NeutraliseCharges(mol, reactions=None):\n",
    "    global _reactions\n",
    "    if reactions is None:\n",
    "        if _reactions is None:\n",
    "            _reactions=_InitialiseNeutralisationReactions()\n",
    "        reactions=_reactions\n",
    "#     mol = Chem.MolFromSmiles(smiles)\n",
    "    replaced = False\n",
    "    for i,(reactant, product) in enumerate(reactions):\n",
    "        while mol.HasSubstructMatch(reactant):\n",
    "            replaced = True\n",
    "            rms = AllChem.ReplaceSubstructs(mol, reactant, product)\n",
    "            rms_smiles = Chem.MolToSmiles(rms[0])\n",
    "            mol = Chem.MolFromSmiles(rms_smiles)\n",
    "    if replaced:\n",
    "        return (mol, True) #Chem.MolToSmiles(mol,True)\n",
    "    else:\n",
    "        return (mol, False)"
   ]
  },
  {
   "cell_type": "code",
   "execution_count": 7,
   "metadata": {
    "collapsed": false
   },
   "outputs": [
    {
     "name": "stdout",
     "output_type": "stream",
     "text": [
      "['InChI', 'name', 'description']\n"
     ]
    }
   ],
   "source": [
    "datafile = '/global/homes/b/bpb/notebooks/bpb_data_analysis_metatlas/150624 ISTDs.txt'\n",
    "with open(datafile, 'rUb') as f:\n",
    "    new_compounds = list(csv.DictReader(f, dialect='excel-tab'))\n",
    "print new_compounds[0].keys()"
   ]
  },
  {
   "cell_type": "code",
   "execution_count": 14,
   "metadata": {
    "collapsed": false
   },
   "outputs": [
    {
     "name": "stdout",
     "output_type": "stream",
     "text": [
      "\n",
      "3,6-Dihydroxy-4-methylpyridazine | 126.042927432 | C5H6N2O2\n",
      "\n",
      "d5-benzoic acid | 127.068163162 | C7H6O2\n",
      "\n",
      "4-(3,3-dimethyl-ureido)benzoic acid | 208.084792244 | C10H12N2O3\n",
      "\n",
      "9-anthracene carboxylic acid | 222.06807956 | C15H10O2\n",
      "\n",
      "13C-15N-L-phenylalanine | 175.106207052 | C9H11NO2\n",
      "\n",
      "13C-glucose | 186.083517144 | C6H12O6\n",
      "\n",
      "d8-lysine | 154.155741656 | C6H14N2O2\n",
      "\n",
      "d4-lysine | 150.130634672 | C6H14N2O2\n",
      "\n",
      "ABMBA | 228.973840596 | C8H8BrNO2\n"
     ]
    }
   ],
   "source": [
    "for c in new_compounds:\n",
    "    myInChI = c['InChI']#'InChI=1S/C7H6O2/c8-7(9)6-4-2-1-3-5-6/h1-5H,(H,8,9)/i1D,2D,3D,4D,5D'\n",
    "    myMol = Chem.MolFromInchi(myInChI)\n",
    "    print \n",
    "    print c['name'],\"|\",Descriptors.ExactMolWt(myMol), \"|\",rdMolDescriptors.CalcMolFormula(myMol)\n"
   ]
  },
  {
   "cell_type": "code",
   "execution_count": 10,
   "metadata": {
    "collapsed": false,
    "scrolled": true
   },
   "outputs": [],
   "source": [
    "all_compounds = []\n",
    "for myCompound in new_compounds:\n",
    "    myMol = Chem.MolFromInchi(myCompound['InChI'])\n",
    "    try:\n",
    "        myCharge = Chem.GetFormalCharge(myMol)\n",
    "        if  myCharge != 0:\n",
    "            (myMol, neutralised) = NeutraliseCharges(myMol)\n",
    "#             if neutralised == False:\n",
    "#                 print neutralised, myCompound['Common-Name']\n",
    "#                 print rdMolDescriptors.CalcMolFormula(neutral_mol)\n",
    "        c = metob.Compound()\n",
    "        c.InChI = myCompound['InChI']\n",
    "        c.formula = rdMolDescriptors.CalcMolFormula(myMol)\n",
    "        c.MonoIsotopic_molecular_weight = Descriptors.ExactMolWt(myMol)\n",
    "        c.description = myCompound['description']\n",
    "        c.name = myCompound['name']\n",
    "        all_compounds.append(c)\n",
    "\n",
    "                \n",
    "    except:\n",
    "        print \"Can not parse \", myCompound['Common-Name']\n"
   ]
  },
  {
   "cell_type": "code",
   "execution_count": 46,
   "metadata": {
    "collapsed": false
   },
   "outputs": [],
   "source": [
    "#add them to the database\n",
    "metob.store(all_compounds)"
   ]
  },
  {
   "cell_type": "code",
   "execution_count": 11,
   "metadata": {
    "collapsed": false
   },
   "outputs": [
    {
     "name": "stdout",
     "output_type": "stream",
     "text": [
      "ABMBA C8H8BrNO2 228.974 https://pubchem.ncbi.nlm.nih.gov/compound/2774400 InChI=1S/C8H8BrNO2/c1-4-2-5(8(11)12)7(10)6(9)3-4/h2-3H,10H2,1H3,(H,11,12)\n"
     ]
    }
   ],
   "source": [
    "allCompounds = metob.retrieve('Compound', name='ABMBA')\n",
    "for c in allCompounds:\n",
    "    print c.name,c.formula,c.MonoIsotopic_molecular_weight,c.description, c.InChI"
   ]
  },
  {
   "cell_type": "code",
   "execution_count": 12,
   "metadata": {
    "collapsed": false
   },
   "outputs": [
    {
     "data": {
      "application/javascript": [
       "var nb = IPython.notebook;\n",
       "var kernel = IPython.notebook.kernel;\n",
       "var command = \"NOTEBOOK_FULL_PATH = '\" + nb.base_url + nb.notebook_path + \"'\";\n",
       "kernel.execute(command);"
      ],
      "text/plain": [
       "<IPython.core.display.Javascript object>"
      ]
     },
     "metadata": {},
     "output_type": "display_data"
    }
   ],
   "source": [
    "%%javascript\n",
    "var nb = IPython.notebook;\n",
    "var kernel = IPython.notebook.kernel;\n",
    "var command = \"NOTEBOOK_FULL_PATH = '\" + nb.base_url + nb.notebook_path + \"'\";\n",
    "kernel.execute(command);"
   ]
  },
  {
   "cell_type": "code",
   "execution_count": 13,
   "metadata": {
    "collapsed": false
   },
   "outputs": [
    {
     "name": "stdout",
     "output_type": "stream",
     "text": [
      "http://nbviewer.ipython.org/url/portal.nersc.gov/project/openmsi/MetAtlas_003_Add_Compounds_To_Database.ipynb?flush_cache=true\n"
     ]
    }
   ],
   "source": [
    "filename = os.path.basename(NOTEBOOK_FULL_PATH)\n",
    "%system cp $filename /project/projectdirs/openmsi/www/\n",
    "temp = '%s/%s'%('/project/projectdirs/openmsi/www',filename)\n",
    "%system chmod 775 $temp\n",
    "print 'http://nbviewer.ipython.org/url/portal.nersc.gov/project/openmsi/%s?flush_cache=true'%filename"
   ]
  },
  {
   "cell_type": "code",
   "execution_count": null,
   "metadata": {
    "collapsed": true
   },
   "outputs": [],
   "source": []
  }
 ],
 "metadata": {
  "kernelspec": {
   "display_name": "Python 2",
   "language": "python",
   "name": "python2"
  },
  "language_info": {
   "codemirror_mode": {
    "name": "ipython",
    "version": 2
   },
   "file_extension": ".py",
   "mimetype": "text/x-python",
   "name": "python",
   "nbconvert_exporter": "python",
   "pygments_lexer": "ipython2",
   "version": "2.7.10"
  }
 },
 "nbformat": 4,
 "nbformat_minor": 0
}
