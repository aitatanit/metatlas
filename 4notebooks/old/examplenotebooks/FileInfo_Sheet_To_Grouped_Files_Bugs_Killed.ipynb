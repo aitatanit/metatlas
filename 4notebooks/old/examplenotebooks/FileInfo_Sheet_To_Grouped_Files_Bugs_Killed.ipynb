{
 "cells": [
  {
   "cell_type": "code",
   "execution_count": 1,
   "metadata": {
    "collapsed": false
   },
   "outputs": [
    {
     "name": "stderr",
     "output_type": "stream",
     "text": [
      ":0: FutureWarning: IPython widgets are experimental and may change in the future.\n"
     ]
    }
   ],
   "source": [
    "import sys\n",
    "sys.path.insert(0,'/global/project/projectdirs/metatlas/anaconda/lib/python2.7/site-packages' )\n",
    "from metatlas import metatlas_objects as metob\n",
    "import qgrid\n",
    "\n",
    "\n",
    "%matplotlib notebook\n",
    "\n",
    "import pandas as pd\n",
    "\n"
   ]
  },
  {
   "cell_type": "code",
   "execution_count": 12,
   "metadata": {
    "collapsed": false
   },
   "outputs": [
    {
     "name": "stdout",
     "output_type": "stream",
     "text": [
      "435\n"
     ]
    }
   ],
   "source": [
    "#make file info template sheet by selecting a folder:\n",
    "# bpb@edison06:/project/projectdirs/metatlas/raw_data/lpsilva> ls -lta\n",
    "# total 3584\n",
    "# drwxrws--- 17 silvest metatlas 131072 Oct 11 10:18 ..\n",
    "# drwxrws---  2 silvest metatlas 131072 Sep 29 15:30 Actinobacillus test\n",
    "# drwxrws---  2 silvest metatlas 262144 Sep 29 14:13 20150521_LPSilva_Actino_C18_NEG_51isolates\n",
    "# drwxrws---  2 silvest metatlas 262144 Sep 29 13:43 20150514_LPSilva_Actino_C18_POS_51isolates\n",
    "# drwxrws---  2 silvest metatlas 262144 Sep 29 13:09 20150512_LPSilva_Actino_HILIC_NEG_51isolates\n",
    "# drwxrws---  2 silvest metatlas 262144 Sep 29 11:46 20150504_LPSilva_Actino_HILIC_POS_51isolates\n",
    "# files = metob.retrieve('LcmsRun',mzml_file='%katezh/20151016_%')\n",
    "files = metob.retrieve('LcmsRun',mzml_file='%_SJ_HM_%', username='*')\n",
    "# files = metob.retrieve('LcmsRun',mzml_file='%_LPSilva_Actino_%_51isolates%', username='*')\n",
    "flist = []\n",
    "for f in files:\n",
    "    flist.append(f.mzml_file)\n",
    "import numpy as np\n",
    "flist = np.unique(flist)\n",
    "print len(flist)\n"
   ]
  },
  {
   "cell_type": "code",
   "execution_count": 14,
   "metadata": {
    "collapsed": false
   },
   "outputs": [
    {
     "data": {
      "text/plain": [
       "{'creation_time': '2015-12-14T19:43:22',\n",
       " 'description': u'Human Microbiome- Arkin Lab SJ_HM_6550_151018_EL0A_Neg_098.mzML',\n",
       " 'experiment': u'Human Microbiome- Arkin Lab',\n",
       " 'hdf5_file': u'/global/project/projectdirs/metatlas/raw_data/sjenkins/Human Microbiome- Arkin Lab/SJ_HM_6550_151018_EL0A_Neg_098.h5',\n",
       " 'head_id': u'a2099fd30e244e7980dab93317131129',\n",
       " 'last_modified': '2015-12-14T19:50:15',\n",
       " 'method': None,\n",
       " 'mzml_file': u'/global/project/projectdirs/metatlas/raw_data/sjenkins/Human Microbiome- Arkin Lab/SJ_HM_6550_151018_EL0A_Neg_098.mzML',\n",
       " 'name': u'SJ_HM_6550_151018_EL0A_Neg_098.mzML',\n",
       " 'prev_uid': u'origin',\n",
       " 'sample': None,\n",
       " 'unique_id': u'a2099fd30e244e7980dab93317131129',\n",
       " 'username': u'pasteur'}"
      ]
     },
     "execution_count": 14,
     "metadata": {},
     "output_type": "execute_result"
    }
   ],
   "source": [
    "files[0]"
   ]
  },
  {
   "cell_type": "code",
   "execution_count": 13,
   "metadata": {
    "collapsed": true
   },
   "outputs": [],
   "source": [
    "#dump all the files to a spreadheet, download it, and make a \"filled in\" one.\n",
    "with open('FileInfo_Sheet_Unique_HM_Arkin_All.tab','w') as fid:\n",
    "    fid.write('mzml_file\\tgroup\\tdescription\\n')\n",
    "    for f in flist:\n",
    "        fid.write('%s\\t\\t\\n'%f)\n"
   ]
  },
  {
   "cell_type": "code",
   "execution_count": 3,
   "metadata": {
    "collapsed": false
   },
   "outputs": [
    {
     "data": {
      "text/html": [
       "<div>\n",
       "<table border=\"1\" class=\"dataframe\">\n",
       "  <thead>\n",
       "    <tr style=\"text-align: right;\">\n",
       "      <th></th>\n",
       "      <th>mzml_file</th>\n",
       "      <th>group</th>\n",
       "      <th>description</th>\n",
       "    </tr>\n",
       "  </thead>\n",
       "  <tbody>\n",
       "    <tr>\n",
       "      <th>0</th>\n",
       "      <td>/project/projectdirs/metatlas/raw_data/lpsilva...</td>\n",
       "      <td>Replicate_Analysis_R2A_HILIC_neg</td>\n",
       "      <td>NaN</td>\n",
       "    </tr>\n",
       "    <tr>\n",
       "      <th>1</th>\n",
       "      <td>/project/projectdirs/metatlas/raw_data/lpsilva...</td>\n",
       "      <td>Replicate_Analysis_R2A_HILIC_neg</td>\n",
       "      <td>NaN</td>\n",
       "    </tr>\n",
       "    <tr>\n",
       "      <th>2</th>\n",
       "      <td>/project/projectdirs/metatlas/raw_data/lpsilva...</td>\n",
       "      <td>Replicate_Analysis_R2A_HILIC_neg</td>\n",
       "      <td>NaN</td>\n",
       "    </tr>\n",
       "    <tr>\n",
       "      <th>3</th>\n",
       "      <td>/project/projectdirs/metatlas/raw_data/lpsilva...</td>\n",
       "      <td>Replicate_Analysis_R2A_HILIC_neg</td>\n",
       "      <td>NaN</td>\n",
       "    </tr>\n",
       "    <tr>\n",
       "      <th>4</th>\n",
       "      <td>/project/projectdirs/metatlas/raw_data/bpb/201...</td>\n",
       "      <td>Replicate_Analysis_R2A_HILIC_neg</td>\n",
       "      <td>NaN</td>\n",
       "    </tr>\n",
       "    <tr>\n",
       "      <th>5</th>\n",
       "      <td>/project/projectdirs/metatlas/raw_data/bpb/201...</td>\n",
       "      <td>Replicate_Analysis_R2A_HILIC_neg</td>\n",
       "      <td>NaN</td>\n",
       "    </tr>\n",
       "    <tr>\n",
       "      <th>6</th>\n",
       "      <td>/project/projectdirs/metatlas/raw_data/bpb/201...</td>\n",
       "      <td>Replicate_Analysis_R2A_HILIC_neg</td>\n",
       "      <td>NaN</td>\n",
       "    </tr>\n",
       "    <tr>\n",
       "      <th>7</th>\n",
       "      <td>/project/projectdirs/metatlas/raw_data/bpb/201...</td>\n",
       "      <td>Replicate_Analysis_R2A_HILIC_neg</td>\n",
       "      <td>NaN</td>\n",
       "    </tr>\n",
       "    <tr>\n",
       "      <th>8</th>\n",
       "      <td>/project/projectdirs/metatlas/raw_data/bpb/201...</td>\n",
       "      <td>Replicate_Analysis_R2A_HILIC_neg</td>\n",
       "      <td>NaN</td>\n",
       "    </tr>\n",
       "  </tbody>\n",
       "</table>\n",
       "</div>"
      ],
      "text/plain": [
       "                                           mzml_file  \\\n",
       "0  /project/projectdirs/metatlas/raw_data/lpsilva...   \n",
       "1  /project/projectdirs/metatlas/raw_data/lpsilva...   \n",
       "2  /project/projectdirs/metatlas/raw_data/lpsilva...   \n",
       "3  /project/projectdirs/metatlas/raw_data/lpsilva...   \n",
       "4  /project/projectdirs/metatlas/raw_data/bpb/201...   \n",
       "5  /project/projectdirs/metatlas/raw_data/bpb/201...   \n",
       "6  /project/projectdirs/metatlas/raw_data/bpb/201...   \n",
       "7  /project/projectdirs/metatlas/raw_data/bpb/201...   \n",
       "8  /project/projectdirs/metatlas/raw_data/bpb/201...   \n",
       "\n",
       "                              group  description  \n",
       "0  Replicate_Analysis_R2A_HILIC_neg          NaN  \n",
       "1  Replicate_Analysis_R2A_HILIC_neg          NaN  \n",
       "2  Replicate_Analysis_R2A_HILIC_neg          NaN  \n",
       "3  Replicate_Analysis_R2A_HILIC_neg          NaN  \n",
       "4  Replicate_Analysis_R2A_HILIC_neg          NaN  \n",
       "5  Replicate_Analysis_R2A_HILIC_neg          NaN  \n",
       "6  Replicate_Analysis_R2A_HILIC_neg          NaN  \n",
       "7  Replicate_Analysis_R2A_HILIC_neg          NaN  \n",
       "8  Replicate_Analysis_R2A_HILIC_neg          NaN  "
      ]
     },
     "execution_count": 3,
     "metadata": {},
     "output_type": "execute_result"
    }
   ],
   "source": [
    "#Download the fileinfo sheet and fill it in!\n",
    "df = pd.read_csv('../atlas_finfo_to_be_loaded/20160106_FileInfoSheet_neg_hilic_r2a.txt',sep='\\t')\n",
    "df"
   ]
  },
  {
   "cell_type": "code",
   "execution_count": 4,
   "metadata": {
    "collapsed": false
   },
   "outputs": [],
   "source": [
    "grouped = df.groupby(by='group')\n",
    "# list(grouped)"
   ]
  },
  {
   "cell_type": "code",
   "execution_count": 6,
   "metadata": {
    "collapsed": false
   },
   "outputs": [
    {
     "data": {
      "text/plain": [
       "['Replicate_Analysis_R2A_HILIC_neg']"
      ]
     },
     "execution_count": 6,
     "metadata": {},
     "output_type": "execute_result"
    }
   ],
   "source": [
    "grouped.groups.keys()"
   ]
  },
  {
   "cell_type": "code",
   "execution_count": 13,
   "metadata": {
    "collapsed": false
   },
   "outputs": [
    {
     "data": {
      "text/plain": [
       "[{'creation_time': '2016-01-06T19:11:36',\n",
       "  'description': u'20160106_Hilic_Neg_Actinobacteria_lpsilva_R2A_Files 20150115_pHILIC_NEG_MSMS_R2A-1An.mzML',\n",
       "  'experiment': u'20160106_Hilic_Neg_Actinobacteria_lpsilva_R2A_Files',\n",
       "  'hdf5_file': u'/global/project/projectdirs/metatlas/raw_data/bpb/20160106_Hilic_Neg_Actinobacteria_lpsilva_R2A_Files/20150115_pHILIC_NEG_MSMS_R2A-1An.h5',\n",
       "  'head_id': u'4180465815ef4326a60893ad18f6ba45',\n",
       "  'last_modified': '2016-01-06T19:22:37',\n",
       "  'method': None,\n",
       "  'mzml_file': u'/global/project/projectdirs/metatlas/raw_data/bpb/20160106_Hilic_Neg_Actinobacteria_lpsilva_R2A_Files/20150115_pHILIC_NEG_MSMS_R2A-1An.mzML',\n",
       "  'name': u'20150115_pHILIC_NEG_MSMS_R2A-1An.mzML',\n",
       "  'prev_uid': u'origin',\n",
       "  'sample': None,\n",
       "  'unique_id': u'4180465815ef4326a60893ad18f6ba45',\n",
       "  'username': u'pasteur'}]"
      ]
     },
     "execution_count": 13,
     "metadata": {},
     "output_type": "execute_result"
    }
   ],
   "source": [
    "metob.retrieve('LcmsRun',mzml_file='%0150115_pHILIC_NEG_MSMS_R2A-1An%',username='*')"
   ]
  },
  {
   "cell_type": "code",
   "execution_count": 15,
   "metadata": {
    "collapsed": false
   },
   "outputs": [],
   "source": [
    "for g in grouped.groups.keys():\n",
    "    indices = grouped.groups[g]\n",
    "    myGroup = metob.Group()\n",
    "    myGroup.name = '20160106_%s'%g\n",
    "    myGroup.description = 'none'#df.loc[indices[0],'description']\n",
    "    file_set = []\n",
    "    for i in indices:\n",
    "        file_set.append(metob.retrieve('LcmsRun',mzml_file='%%%s'%df.loc[i,'mzml_file'],username='*')[0])\n",
    "    myGroup.items = file_set\n",
    "    metob.store(myGroup)"
   ]
  },
  {
   "cell_type": "code",
   "execution_count": 11,
   "metadata": {
    "collapsed": false
   },
   "outputs": [
    {
     "name": "stdout",
     "output_type": "stream",
     "text": [
      "38\n",
      "Avena_Hopland_KZ_RootExu_9wk_hilic_fps_BLANK /global/project/projectdirs/metatlas/raw_data/katezh/20151016_KZ_RootExu_pHILIC_QExactive/20151016_pHILIC___FPS_MS_KZ_RootExu_9wk_1_of_4_MeOHExt_MeOHBlank_Run18.h5\n",
      "Avena_Hopland_KZ_RootExu_9wk_hilic_fps_BLANK /global/project/projectdirs/metatlas/raw_data/katezh/20151016_KZ_RootExu_pHILIC_QExactive/20151016_pHILIC___FPS_MS_KZ_RootExu_9wk_2_of_4_MeOHExt_MeOHBlank_Run52.h5\n",
      "Avena_Hopland_KZ_RootExu_9wk_hilic_fps_BLANK /global/project/projectdirs/metatlas/raw_data/katezh/20151016_KZ_RootExu_pHILIC_QExactive/20151016_pHILIC___FPS_MS_KZ_RootExu_9wk_3_of_4_MeOHExt_MeOHBlank_Run41.h5\n",
      "Avena_Hopland_KZ_RootExu_9wk_hilic_fps_BLANK /global/project/projectdirs/metatlas/raw_data/katezh/20151016_KZ_RootExu_pHILIC_QExactive/20151016_pHILIC___FPS_MS_KZ_RootExu_9wk_4_of_4_MeOHExt_MeOHBlank_Run25.h5\n",
      " \n",
      "Avena_Hopland_KZ_RootCass_6_hilic_neg /global/project/projectdirs/metatlas/raw_data/katezh/20151016_KZ_RootExu_pHILIC_QExactive/20151016_pHILIC___NEG_MSMS_KZ_RootCass_6_MeOH_2ul____Run75.h5\n",
      " \n",
      "Avena_Hopland_KZ_RootExu_control_hilic_pos /global/project/projectdirs/metatlas/raw_data/katezh/20151016_KZ_RootExu_pHILIC_QExactive/20151016_pHILIC___POS_MSMS_KZ_RootExuControl__1_of_2_MeOHExt__Run8.h5\n",
      "Avena_Hopland_KZ_RootExu_control_hilic_pos /global/project/projectdirs/metatlas/raw_data/katezh/20151016_KZ_RootExu_pHILIC_QExactive/20151016_pHILIC___POS_MSMS_KZ_RootExuControl__2_of_2_MeOHExt__Run42.h5\n",
      " \n",
      "Avena_Hopland_KZ_RootCass_8_hilic_neg /global/project/projectdirs/metatlas/raw_data/katezh/20151016_KZ_RootExu_pHILIC_QExactive/20151016_pHILIC___NEG_MSMS_KZ_RootCass_8_MeOH_2ul____Run79.h5\n",
      " \n",
      "Avena_Hopland_KZ_RootCass_10_hilic_neg /global/project/projectdirs/metatlas/raw_data/katezh/20151016_KZ_RootExu_pHILIC_QExactive/20151016_pHILIC___NEG_MSMS_KZ_RootCass_10_MeOH_2ul____Run83.h5\n",
      " \n",
      "Avena_Hopland_KZ_RootCass_4_hilic_pos /global/project/projectdirs/metatlas/raw_data/katezh/20151016_KZ_RootExu_pHILIC_QExactive/20151016_pHILIC___POS_MSMS_KZ_RootCass_4_MeOH_2ul____Run70.h5\n",
      " \n",
      "Avena_Hopland_KZ_RootCass_3_hilic_neg /global/project/projectdirs/metatlas/raw_data/katezh/20151016_KZ_RootExu_pHILIC_QExactive/20151016_pHILIC___NEG_MSMS_KZ_RootCass_3_MeOH_2ul____Run69.h5\n",
      " \n",
      "Avena_Hopland_KZ_RootExu_6wk_hilic_neg /global/project/projectdirs/metatlas/raw_data/katezh/20151016_KZ_RootExu_pHILIC_QExactive/20151016_pHILIC___NEG_MSMS_KZ_RootExu_6wk_1_of_4_MeOHExt__Run14.h5\n",
      "Avena_Hopland_KZ_RootExu_6wk_hilic_neg /global/project/projectdirs/metatlas/raw_data/katezh/20151016_KZ_RootExu_pHILIC_QExactive/20151016_pHILIC___NEG_MSMS_KZ_RootExu_6wk_2_of_4_MeOHExt__Run48.h5\n",
      "Avena_Hopland_KZ_RootExu_6wk_hilic_neg /global/project/projectdirs/metatlas/raw_data/katezh/20151016_KZ_RootExu_pHILIC_QExactive/20151016_pHILIC___NEG_MSMS_KZ_RootExu_6wk_3_of_4_MeOHExt__Run33.h5\n",
      "Avena_Hopland_KZ_RootExu_6wk_hilic_neg /global/project/projectdirs/metatlas/raw_data/katezh/20151016_KZ_RootExu_pHILIC_QExactive/20151016_pHILIC___NEG_MSMS_KZ_RootExu_6wk_4_of_4_MeOHExt__Run57.h5\n",
      " \n",
      "Avena_Hopland_KZ_RootCass_9_hilic_pos /global/project/projectdirs/metatlas/raw_data/katezh/20151016_KZ_RootExu_pHILIC_QExactive/20151016_pHILIC___POS_MSMS_KZ_RootCass_9_MeOH_2ul____Run80.h5\n",
      " \n",
      "Avena_Hopland_KZ_RootExu_3wk_hilic_pos /global/project/projectdirs/metatlas/raw_data/katezh/20151016_KZ_RootExu_pHILIC_QExactive/20151016_pHILIC___POS_MSMS_KZ_RootExu_3wk_1_of_4_MeOHExt__Run10.h5\n",
      "Avena_Hopland_KZ_RootExu_3wk_hilic_pos /global/project/projectdirs/metatlas/raw_data/katezh/20151016_KZ_RootExu_pHILIC_QExactive/20151016_pHILIC___POS_MSMS_KZ_RootExu_3wk_2_of_4_MeOHExt__Run53.h5\n",
      "Avena_Hopland_KZ_RootExu_3wk_hilic_pos /global/project/projectdirs/metatlas/raw_data/katezh/20151016_KZ_RootExu_pHILIC_QExactive/20151016_pHILIC___POS_MSMS_KZ_RootExu_3wk_3_of_4_MeOHExt__Run35.h5\n",
      "Avena_Hopland_KZ_RootExu_3wk_hilic_pos /global/project/projectdirs/metatlas/raw_data/katezh/20151016_KZ_RootExu_pHILIC_QExactive/20151016_pHILIC___POS_MSMS_KZ_RootExu_3wk_4_of_4_MeOHExt__Run26.h5\n",
      " \n",
      "Avena_Hopland_KZ_RootExu_6wk_hilic_fps_BLANK /global/project/projectdirs/metatlas/raw_data/katezh/20151016_KZ_RootExu_pHILIC_QExactive/20151016_pHILIC___FPS_MS_KZ_RootExu_6wk_1_of_4_MeOHExt_MeOHBlank_Run15.h5\n",
      "Avena_Hopland_KZ_RootExu_6wk_hilic_fps_BLANK /global/project/projectdirs/metatlas/raw_data/katezh/20151016_KZ_RootExu_pHILIC_QExactive/20151016_pHILIC___FPS_MS_KZ_RootExu_6wk_2_of_4_MeOHExt_MeOHBlank_Run49.h5\n",
      "Avena_Hopland_KZ_RootExu_6wk_hilic_fps_BLANK /global/project/projectdirs/metatlas/raw_data/katezh/20151016_KZ_RootExu_pHILIC_QExactive/20151016_pHILIC___FPS_MS_KZ_RootExu_6wk_3_of_4_MeOHExt_MeOHBlank_Run34.h5\n",
      "Avena_Hopland_KZ_RootExu_6wk_hilic_fps_BLANK /global/project/projectdirs/metatlas/raw_data/katezh/20151016_KZ_RootExu_pHILIC_QExactive/20151016_pHILIC___FPS_MS_KZ_RootExu_6wk_4_of_4_MeOHExt_MeOHBlank_Run58.h5\n",
      " \n",
      "Avena_Hopland_KZ_MeOHBlank_neg /global/project/projectdirs/metatlas/raw_data/katezh/20151016_KZ_RootExu_pHILIC_QExactive/20151016_pHILIC___NEG_MSMS_KZ_MeOHBlank_PRE_3_____Run3.h5\n",
      " \n",
      "Avena_Hopland_KZ_RootCass_9_hilic_neg /global/project/projectdirs/metatlas/raw_data/katezh/20151016_KZ_RootExu_pHILIC_QExactive/20151016_pHILIC___NEG_MSMS_KZ_RootCass_9_MeOH_2ul____Run81.h5\n",
      " \n",
      "Avena_Hopland_KZ_MeOHBlank_pos /global/project/projectdirs/metatlas/raw_data/katezh/20151016_KZ_RootExu_pHILIC_QExactive/20151016_pHILIC___POS_MSMS_KZ_MeOHBlank_PRE_2_____Run2.h5\n",
      "Avena_Hopland_KZ_MeOHBlank_pos /global/project/projectdirs/metatlas/raw_data/katezh/20151016_KZ_RootExu_pHILIC_QExactive/20151016_pHILIC___POS_MSMS_KZ_MeOHBlank_PRE_4_____Run4.h5\n",
      "Avena_Hopland_KZ_MeOHBlank_pos /global/project/projectdirs/metatlas/raw_data/katezh/20151016_KZ_RootExu_pHILIC_QExactive/20151016_pHILIC___POS_MSMS_KZ_MeOHBlank_PRE_7_____Run7.h5\n",
      " \n",
      "Avena_Hopland_KZ_RootCass_4_hilic_neg /global/project/projectdirs/metatlas/raw_data/katezh/20151016_KZ_RootExu_pHILIC_QExactive/20151016_pHILIC___NEG_MSMS_KZ_RootCass_4_MeOH_2ul____Run71.h5\n",
      " \n",
      "Avena_Hopland_KZ_RootCass_7_hilic_pos /global/project/projectdirs/metatlas/raw_data/katezh/20151016_KZ_RootExu_pHILIC_QExactive/20151016_pHILIC___POS_MSMS_KZ_RootCass_7_MeOH_2ul____Run76.h5\n",
      " \n",
      "Avena_Hopland_KZ_RootExu_12wk_hilic_pos /global/project/projectdirs/metatlas/raw_data/katezh/20151016_KZ_RootExu_pHILIC_QExactive/20151016_pHILIC___POS_MSMS_KZ_RootExu_12wk_1_of_4_MeOHExt__Run19.h5\n",
      "Avena_Hopland_KZ_RootExu_12wk_hilic_pos /global/project/projectdirs/metatlas/raw_data/katezh/20151016_KZ_RootExu_pHILIC_QExactive/20151016_pHILIC___POS_MSMS_KZ_RootExu_12wk_2_of_4_MeOHExt__Run59.h5\n",
      "Avena_Hopland_KZ_RootExu_12wk_hilic_pos /global/project/projectdirs/metatlas/raw_data/katezh/20151016_KZ_RootExu_pHILIC_QExactive/20151016_pHILIC___POS_MSMS_KZ_RootExu_12wk_3_of_4_MeOHExt__Run29.h5\n",
      "Avena_Hopland_KZ_RootExu_12wk_hilic_pos /global/project/projectdirs/metatlas/raw_data/katezh/20151016_KZ_RootExu_pHILIC_QExactive/20151016_pHILIC___POS_MSMS_KZ_RootExu_12wk_4_of_4_MeOHExt__Run44.h5\n",
      " \n",
      "Avena_Hopland_KZ_ITSD_fps /global/project/projectdirs/metatlas/raw_data/katezh/20151016_KZ_RootExu_pHILIC_QExactive/20151016_pHILIC___FPS_MS_KZ_ITSD_2uL_MeOH_PRE_6_____Run6.h5\n",
      "Avena_Hopland_KZ_ITSD_fps /global/project/projectdirs/metatlas/raw_data/katezh/20151016_KZ_RootExu_pHILIC_QExactive/20151016_pHILIC___FPS_MS_KZ_ITSD_2uL_MeOH_PRE_6_____Run63.h5\n",
      " \n",
      "Avena_Hopland_KZ_RootExu_3wk_hilic_neg /global/project/projectdirs/metatlas/raw_data/katezh/20151016_KZ_RootExu_pHILIC_QExactive/20151016_pHILIC___NEG_MSMS_KZ_RootExu_3wk_1_of_4_MeOHExt__Run11.h5\n",
      "Avena_Hopland_KZ_RootExu_3wk_hilic_neg /global/project/projectdirs/metatlas/raw_data/katezh/20151016_KZ_RootExu_pHILIC_QExactive/20151016_pHILIC___NEG_MSMS_KZ_RootExu_3wk_2_of_4_MeOHExt__Run54.h5\n",
      "Avena_Hopland_KZ_RootExu_3wk_hilic_neg /global/project/projectdirs/metatlas/raw_data/katezh/20151016_KZ_RootExu_pHILIC_QExactive/20151016_pHILIC___NEG_MSMS_KZ_RootExu_3wk_3_of_4_MeOHExt__Run36.h5\n",
      "Avena_Hopland_KZ_RootExu_3wk_hilic_neg /global/project/projectdirs/metatlas/raw_data/katezh/20151016_KZ_RootExu_pHILIC_QExactive/20151016_pHILIC___NEG_MSMS_KZ_RootExu_3wk_4_of_4_MeOHExt__Run27.h5\n",
      " \n",
      "Avena_Hopland_KZ_RootCass_1_hilic_neg /global/project/projectdirs/metatlas/raw_data/katezh/20151016_KZ_RootExu_pHILIC_QExactive/20151016_pHILIC___NEG_MSMS_KZ_RootCass_1_MeOH_2ul____Run65.h5\n",
      " \n",
      "Avena_Hopland_KZ_RootExu_3wk_hilic_fps_BLANK /global/project/projectdirs/metatlas/raw_data/katezh/20151016_KZ_RootExu_pHILIC_QExactive/20151016_pHILIC___FPS_MS_KZ_RootExu_3wk_1_of_4_MeOHExt_MeOHBlank_Run12.h5\n",
      "Avena_Hopland_KZ_RootExu_3wk_hilic_fps_BLANK /global/project/projectdirs/metatlas/raw_data/katezh/20151016_KZ_RootExu_pHILIC_QExactive/20151016_pHILIC___FPS_MS_KZ_RootExu_3wk_2_of_4_MeOHExt_MeOHBlank_Run55.h5\n",
      "Avena_Hopland_KZ_RootExu_3wk_hilic_fps_BLANK /global/project/projectdirs/metatlas/raw_data/katezh/20151016_KZ_RootExu_pHILIC_QExactive/20151016_pHILIC___FPS_MS_KZ_RootExu_3wk_3_of_4_MeOHExt_MeOHBlank_Run37.h5\n",
      "Avena_Hopland_KZ_RootExu_3wk_hilic_fps_BLANK /global/project/projectdirs/metatlas/raw_data/katezh/20151016_KZ_RootExu_pHILIC_QExactive/20151016_pHILIC___FPS_MS_KZ_RootExu_3wk_4_of_4_MeOHExt_MeOHBlank_Run28.h5\n",
      " \n",
      "Avena_Hopland_KZ_RootCass_5_hilic_pos /global/project/projectdirs/metatlas/raw_data/katezh/20151016_KZ_RootExu_pHILIC_QExactive/20151016_pHILIC___POS_MSMS_KZ_RootCass_5_MeOH_2ul____Run72.h5\n",
      " \n",
      "Avena_Hopland_KZ_RootCass_6_hilic_pos /global/project/projectdirs/metatlas/raw_data/katezh/20151016_KZ_RootExu_pHILIC_QExactive/20151016_pHILIC___POS_MSMS_KZ_RootCass_6_MeOH_2ul____Run74.h5\n",
      " \n",
      "Avena_Hopland_KZ_RootCass_3_hilic_pos /global/project/projectdirs/metatlas/raw_data/katezh/20151016_KZ_RootExu_pHILIC_QExactive/20151016_pHILIC___POS_MSMS_KZ_RootCass_3_MeOH_2ul____Run68.h5\n",
      " \n",
      "Avena_Hopland_KZ_RootExu_6wk_hilic_pos /global/project/projectdirs/metatlas/raw_data/katezh/20151016_KZ_RootExu_pHILIC_QExactive/20151016_pHILIC___POS_MSMS_KZ_RootExu_6wk_1_of_4_MeOHExt__Run13.h5\n",
      "Avena_Hopland_KZ_RootExu_6wk_hilic_pos /global/project/projectdirs/metatlas/raw_data/katezh/20151016_KZ_RootExu_pHILIC_QExactive/20151016_pHILIC___POS_MSMS_KZ_RootExu_6wk_2_of_4_MeOHExt__Run47.h5\n",
      "Avena_Hopland_KZ_RootExu_6wk_hilic_pos /global/project/projectdirs/metatlas/raw_data/katezh/20151016_KZ_RootExu_pHILIC_QExactive/20151016_pHILIC___POS_MSMS_KZ_RootExu_6wk_3_of_4_MeOHExt__Run32.h5\n",
      "Avena_Hopland_KZ_RootExu_6wk_hilic_pos /global/project/projectdirs/metatlas/raw_data/katezh/20151016_KZ_RootExu_pHILIC_QExactive/20151016_pHILIC___POS_MSMS_KZ_RootExu_6wk_4_of_4_MeOHExt__Run56.h5\n",
      " \n",
      "Avena_Hopland_KZ_RootExu_9wk_hilic_neg /global/project/projectdirs/metatlas/raw_data/katezh/20151016_KZ_RootExu_pHILIC_QExactive/20151016_pHILIC___NEG_MSMS_KZ_RootExu_9wk_1_of_4_MeOHExt__Run17.h5\n",
      "Avena_Hopland_KZ_RootExu_9wk_hilic_neg /global/project/projectdirs/metatlas/raw_data/katezh/20151016_KZ_RootExu_pHILIC_QExactive/20151016_pHILIC___NEG_MSMS_KZ_RootExu_9wk_2_of_4_MeOHExt__Run51.h5\n",
      "Avena_Hopland_KZ_RootExu_9wk_hilic_neg /global/project/projectdirs/metatlas/raw_data/katezh/20151016_KZ_RootExu_pHILIC_QExactive/20151016_pHILIC___NEG_MSMS_KZ_RootExu_9wk_3_of_4_MeOHExt__Run39.h5\n",
      "Avena_Hopland_KZ_RootExu_9wk_hilic_neg /global/project/projectdirs/metatlas/raw_data/katezh/20151016_KZ_RootExu_pHILIC_QExactive/20151016_pHILIC___NEG_MSMS_KZ_RootExu_9wk_4_of_4_MeOHExt__Run23.h5\n",
      " \n",
      "Avena_Hopland_KZ_RootCass_1_hilic_pos /global/project/projectdirs/metatlas/raw_data/katezh/20151016_KZ_RootExu_pHILIC_QExactive/20151016_pHILIC___POS_MSMS_KZ_RootCass_1_MeOH_2ul____Run64.h5\n",
      " \n",
      "Avena_Hopland_KZ_RootExu_12wk_hilic_neg /global/project/projectdirs/metatlas/raw_data/katezh/20151016_KZ_RootExu_pHILIC_QExactive/20151016_pHILIC___NEG_MSMS_KZ_RootExu_12wk_1_of_4_MeOHExt__Run20.h5\n",
      "Avena_Hopland_KZ_RootExu_12wk_hilic_neg /global/project/projectdirs/metatlas/raw_data/katezh/20151016_KZ_RootExu_pHILIC_QExactive/20151016_pHILIC___NEG_MSMS_KZ_RootExu_12wk_2_of_4_MeOHExt__Run60.h5\n",
      "Avena_Hopland_KZ_RootExu_12wk_hilic_neg /global/project/projectdirs/metatlas/raw_data/katezh/20151016_KZ_RootExu_pHILIC_QExactive/20151016_pHILIC___NEG_MSMS_KZ_RootExu_12wk_3_of_4_MeOHExt__Run30.h5\n",
      "Avena_Hopland_KZ_RootExu_12wk_hilic_neg /global/project/projectdirs/metatlas/raw_data/katezh/20151016_KZ_RootExu_pHILIC_QExactive/20151016_pHILIC___NEG_MSMS_KZ_RootExu_12wk_4_of_4_MeOHExt__Run45.h5\n",
      " \n",
      "Avena_Hopland_KZ_RootCass_5_hilic_neg /global/project/projectdirs/metatlas/raw_data/katezh/20151016_KZ_RootExu_pHILIC_QExactive/20151016_pHILIC___NEG_MSMS_KZ_RootCass_5_MeOH_2ul____Run73.h5\n",
      " \n",
      "Avena_Hopland_KZ_QC_hilic_fps /global/project/projectdirs/metatlas/raw_data/katezh/20151016_KZ_RootExu_pHILIC_QExactive/20151016_pHILIC___FPS_MS_KZ_QCMix_MID_1_____Run24.h5\n",
      "Avena_Hopland_KZ_QC_hilic_fps /global/project/projectdirs/metatlas/raw_data/katezh/20151016_KZ_RootExu_pHILIC_QExactive/20151016_pHILIC___FPS_MS_KZ_QCMix_MID_2_____Run40.h5\n",
      "Avena_Hopland_KZ_QC_hilic_fps /global/project/projectdirs/metatlas/raw_data/katezh/20151016_KZ_RootExu_pHILIC_QExactive/20151016_pHILIC___FPS_MS_KZ_QCMix_MID_3_____Run62.h5\n",
      "Avena_Hopland_KZ_QC_hilic_fps /global/project/projectdirs/metatlas/raw_data/katezh/20151016_KZ_RootExu_pHILIC_QExactive/20151016_pHILIC___FPS_MS_KZ_QCMix_POST_4_____Run84.h5\n",
      "Avena_Hopland_KZ_QC_hilic_fps /global/project/projectdirs/metatlas/raw_data/katezh/20151016_KZ_RootExu_pHILIC_QExactive/20151016_pHILIC___FPS_MS_KZ_QCMix_PRE_5_____Run5.h5\n",
      " \n",
      "Avena_Hopland_KZ_RootCass_10_hilic_pos /global/project/projectdirs/metatlas/raw_data/katezh/20151016_KZ_RootExu_pHILIC_QExactive/20151016_pHILIC___POS_MSMS_KZ_RootCass_10_MeOH_2ul____Run82.h5\n",
      " \n",
      "Avena_Hopland_KZ_RootExu_12wk_hilic_fps_BLANK /global/project/projectdirs/metatlas/raw_data/katezh/20151016_KZ_RootExu_pHILIC_QExactive/20151016_pHILIC___FPS_MS_KZ_RootExu_12wk_1_of_4_MeOHExt_MeOHBlank_Run21.h5\n",
      "Avena_Hopland_KZ_RootExu_12wk_hilic_fps_BLANK /global/project/projectdirs/metatlas/raw_data/katezh/20151016_KZ_RootExu_pHILIC_QExactive/20151016_pHILIC___FPS_MS_KZ_RootExu_12wk_2_of_4_MeOHExt_MeOHBlank_Run61.h5\n",
      "Avena_Hopland_KZ_RootExu_12wk_hilic_fps_BLANK /global/project/projectdirs/metatlas/raw_data/katezh/20151016_KZ_RootExu_pHILIC_QExactive/20151016_pHILIC___FPS_MS_KZ_RootExu_12wk_3_of_4_MeOHExt_MeOHBlank_Run31.h5\n",
      "Avena_Hopland_KZ_RootExu_12wk_hilic_fps_BLANK /global/project/projectdirs/metatlas/raw_data/katezh/20151016_KZ_RootExu_pHILIC_QExactive/20151016_pHILIC___FPS_MS_KZ_RootExu_12wk_4_of_4_MeOHExt_MeOHBlank_Run46.h5\n",
      " \n",
      "Avena_Hopland_KZ_RootCass_8_hilic_pos /global/project/projectdirs/metatlas/raw_data/katezh/20151016_KZ_RootExu_pHILIC_QExactive/20151016_pHILIC___POS_MSMS_KZ_RootCass_8_MeOH_2ul____Run78.h5\n",
      " \n",
      "Avena_Hopland_KZ_RootCass_2_hilic_pos /global/project/projectdirs/metatlas/raw_data/katezh/20151016_KZ_RootExu_pHILIC_QExactive/20151016_pHILIC___POS_MSMS_KZ_RootCass_2_MeOH_2ul____Run66.h5\n",
      " \n",
      "Avena_Hopland_KZ_RootExu_control_hilic_neg /global/project/projectdirs/metatlas/raw_data/katezh/20151016_KZ_RootExu_pHILIC_QExactive/20151016_pHILIC___NEG_MSMS_KZ_RootExuControl__1_of_2_MeOHExt__Run9.h5\n",
      "Avena_Hopland_KZ_RootExu_control_hilic_neg /global/project/projectdirs/metatlas/raw_data/katezh/20151016_KZ_RootExu_pHILIC_QExactive/20151016_pHILIC___NEG_MSMS_KZ_RootExuControl__2_of_2_MeOHExt__Run43.h5\n",
      " \n",
      "Avena_Hopland_KZ_RootCass_2_hilic_neg /global/project/projectdirs/metatlas/raw_data/katezh/20151016_KZ_RootExu_pHILIC_QExactive/20151016_pHILIC___NEG_MSMS_KZ_RootCass_2_MeOH_2ul____Run67.h5\n",
      " \n",
      "Avena_Hopland_KZ_RootExu_9wk_hilic_pos /global/project/projectdirs/metatlas/raw_data/katezh/20151016_KZ_RootExu_pHILIC_QExactive/20151016_pHILIC___POS_MSMS_KZ_RootExu_9wk_1_of_4_MeOHExt__Run16.h5\n",
      "Avena_Hopland_KZ_RootExu_9wk_hilic_pos /global/project/projectdirs/metatlas/raw_data/katezh/20151016_KZ_RootExu_pHILIC_QExactive/20151016_pHILIC___POS_MSMS_KZ_RootExu_9wk_2_of_4_MeOHExt__Run50.h5\n",
      "Avena_Hopland_KZ_RootExu_9wk_hilic_pos /global/project/projectdirs/metatlas/raw_data/katezh/20151016_KZ_RootExu_pHILIC_QExactive/20151016_pHILIC___POS_MSMS_KZ_RootExu_9wk_3_of_4_MeOHExt__Run38.h5\n",
      "Avena_Hopland_KZ_RootExu_9wk_hilic_pos /global/project/projectdirs/metatlas/raw_data/katezh/20151016_KZ_RootExu_pHILIC_QExactive/20151016_pHILIC___POS_MSMS_KZ_RootExu_9wk_4_of_4_MeOHExt__Run22.h5\n",
      " \n",
      "Avena_Hopland_KZ_RootCass_7_hilic_neg /global/project/projectdirs/metatlas/raw_data/katezh/20151016_KZ_RootExu_pHILIC_QExactive/20151016_pHILIC___NEG_MSMS_KZ_RootCass_7_MeOH_2ul____Run77.h5\n",
      " \n"
     ]
    }
   ],
   "source": [
    "g = metob.retrieve('Groups',name = 'Avena_Hopland_KZ_%')\n",
    "print len(g)\n",
    "for gg in g:\n",
    "    for i in gg.items:\n",
    "        print gg.name,i.hdf5_file\n",
    "    print \" \""
   ]
  },
  {
   "cell_type": "code",
   "execution_count": null,
   "metadata": {
    "collapsed": true
   },
   "outputs": [],
   "source": []
  },
  {
   "cell_type": "code",
   "execution_count": null,
   "metadata": {
    "collapsed": true
   },
   "outputs": [],
   "source": []
  }
 ],
 "metadata": {
  "kernelspec": {
   "display_name": "Python 2",
   "language": "python",
   "name": "python2"
  },
  "language_info": {
   "codemirror_mode": {
    "name": "ipython",
    "version": 2
   },
   "file_extension": ".py",
   "mimetype": "text/x-python",
   "name": "python",
   "nbconvert_exporter": "python",
   "pygments_lexer": "ipython2",
   "version": "2.7.11"
  }
 },
 "nbformat": 4,
 "nbformat_minor": 0
}
