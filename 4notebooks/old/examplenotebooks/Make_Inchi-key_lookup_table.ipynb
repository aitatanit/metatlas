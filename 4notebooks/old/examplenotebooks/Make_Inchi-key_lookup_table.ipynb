{
 "cells": [
  {
   "cell_type": "code",
   "execution_count": 1,
   "metadata": {
    "collapsed": false
   },
   "outputs": [],
   "source": [
    "import sys\n",
    "import os\n",
    "import re\n",
    "import glob\n",
    "from matplotlib import pylab as plt\n",
    "import pandas as pd\n",
    "%matplotlib notebook\n",
    "# %matplotlib inline\n",
    "%config InlineBackend.figure_format = 'retina'\n",
    "\n",
    "\n",
    "\n",
    "\n",
    "# curr_ld_lib_path = ''\n",
    "# os.environ['LD_LIBRARY_PATH'] = curr_ld_lib_path + ':/project/projectdirs/openmsi/jupyterhub_libs/boost_1_55_0/lib' + ':/project/projectdirs/openmsi/jupyterhub_libs/lib'\n",
    "# import sys\n",
    "sys.path.append('/global/project/projectdirs/openmsi/jupyterhub_libs/anaconda/lib/python2.7/site-packages')\n",
    "\n",
    "# sys.path.insert(0,'/global/project/projectdirs/metatlas/anaconda/lib/python2.7/site-packages' )\n",
    "\n",
    "\n",
    "\n",
    "sys.path.append('/project/projectdirs/openmsi/projects/meta-iq/pactolus/pactolus')\n",
    "sys.path.insert(0,'/global/project/projectdirs/metatlas/anaconda/lib/python2.7/site-packages' )\n",
    "\n",
    "from metatlas import metatlas_objects as metob\n",
    "from metatlas import h5_query as h5q\n",
    "from metatlas import mzml_to_hdf\n",
    "\n",
    "\n",
    "import score_frag_dag\n",
    "\n",
    "from rdkit import Chem\n",
    "from rdkit.Chem import AllChem\n",
    "from rdkit.Chem import Draw\n",
    "# from rdkit.Chem.rdMolDescriptors import ExactMolWt\n",
    "from rdkit.Chem import Descriptors\n",
    "from rdkit.Chem import rdMolDescriptors\n",
    "from rdkit.Chem import AllChem\n",
    "from rdkit.Chem import Draw\n",
    "from rdkit.Chem import rdDepictor\n",
    "from rdkit.Chem.Draw import rdMolDraw2D\n",
    "from rdkit.Chem.Draw import IPythonConsole\n",
    "from IPython.display import SVG,display"
   ]
  },
  {
   "cell_type": "code",
   "execution_count": null,
   "metadata": {
    "collapsed": true
   },
   "outputs": [],
   "source": [
    "# These are the tests:\n",
    "#         if len(Chem.GetMolFrags(mol, sanitizeFrags=False, asMols=False)) != 1:\n",
    "#             raise TypeError('Molecule must be fully connected by covalent bonds.')\n",
    "\n",
    "#         if Chem.RemoveHs(mol).GetNumAtoms() != mol.GetNumAtoms():\n",
    "#             raise TypeError('Molecule must have only implicit H atoms.')\n",
    "\n",
    "#         if GetFormalCharge(mol) != 0:\n",
    "#             raise TypeError('Molecule must have overall neutral charge.')"
   ]
  },
  {
   "cell_type": "code",
   "execution_count": 2,
   "metadata": {
    "collapsed": true
   },
   "outputs": [],
   "source": [
    "\"\"\" contribution from Hans de Winter \"\"\"\n",
    "def _InitialiseNeutralisationReactions():\n",
    "    patts= (\n",
    "        # Imidazoles\n",
    "        ('[n+;H]','n'),\n",
    "        # Amines\n",
    "        ('[N+;!H0]','N'),\n",
    "        # Carboxylic acids and alcohols\n",
    "        ('[$([O-]);!$([O-][#7])]','O'),\n",
    "        # Thiols\n",
    "        ('[S-;X1]','S'),\n",
    "        # Sulfonamides\n",
    "        ('[$([N-;X2]S(=O)=O)]','N'),\n",
    "        # Enamines\n",
    "        ('[$([N-;X2][C,N]=C)]','N'),\n",
    "        # Tetrazoles\n",
    "        ('[n-]','[nH]'),\n",
    "        # Sulfoxides\n",
    "        ('[$([S-]=O)]','S'),\n",
    "        # Amides\n",
    "        ('[$([N-]C=O)]','N'),\n",
    "        )\n",
    "    return [(Chem.MolFromSmarts(x),Chem.MolFromSmiles(y,False)) for x,y in patts]\n",
    "\n",
    "_reactions=None\n",
    "def NeutraliseCharges(mol, reactions=None):\n",
    "    global _reactions\n",
    "    if reactions is None:\n",
    "        if _reactions is None:\n",
    "            _reactions=_InitialiseNeutralisationReactions()\n",
    "        reactions=_reactions\n",
    "#     mol = Chem.MolFromSmiles(smiles)\n",
    "    replaced = False\n",
    "    for i,(reactant, product) in enumerate(reactions):\n",
    "        while mol.HasSubstructMatch(reactant):\n",
    "            replaced = True\n",
    "            rms = AllChem.ReplaceSubstructs(mol, reactant, product)\n",
    "            rms_smiles = Chem.MolToSmiles(rms[0])\n",
    "            mol = Chem.MolFromSmiles(rms_smiles)\n",
    "    if replaced:\n",
    "        return (mol, True) #Chem.MolToSmiles(mol,True)\n",
    "    else:\n",
    "        return (mol, False)\n",
    "def drawStructure_ShowingFragment(pactolus_tree,fragment_idx,myMol,myMol_w_Hs):\n",
    "\n",
    "    drawer = rdMolDraw2D.MolDraw2DSVG(600,300)\n",
    "\n",
    "    fragment_atoms = np.where(pactolus_tree[fragment_idx]['atom_bool_arr'])[0]\n",
    "    mark_atoms_no_H = []\n",
    "    for a_index in fragment_atoms:\n",
    "        if myMol_w_Hs.GetAtomWithIdx(a_index).GetSymbol() != 'H':\n",
    "            mark_atoms_no_H.append(a_index)\n",
    "\n",
    "    rdDepictor.Compute2DCoords(myMol)\n",
    "\n",
    "    drawer.DrawMolecule(myMol,highlightAtoms=mark_atoms_no_H)\n",
    "    drawer.FinishDrawing()\n",
    "    svg = drawer.GetDrawingText().replace('svg:','')\n",
    "    return svg\n",
    "\n",
    "def drawStructure_Fragment(pactolus_tree,fragment_idx,myMol,myMol_w_Hs):\n",
    "    fragment_atoms = np.where(pactolus_tree[fragment_idx]['atom_bool_arr'])[0]\n",
    "    depth_of_hit = np.sum(pactolus_tree[fragment_idx]['bond_bool_arr'])\n",
    "    mol2 = deepcopy(myMol_w_Hs)\n",
    "    # Now set the atoms you'd like to remove to dummy atoms with atomic number 0\n",
    "    fragment_atoms = np.where(pactolus_tree[fragment_idx]['atom_bool_arr']==False)[0]\n",
    "    for f in fragment_atoms:\n",
    "        mol2.GetAtomWithIdx(f).SetAtomicNum(0)\n",
    "\n",
    "    # Now remove dummy atoms using a query\n",
    "    mol3 = Chem.DeleteSubstructs(mol2, Chem.MolFromSmarts('[#0]'))\n",
    "    mol3 = Chem.RemoveHs(mol3)\n",
    "    # You get what you are looking for\n",
    "    return moltosvg(mol3),depth_of_hit\n",
    "\n",
    "\n",
    "def moltosvg(mol,molSize=(450,150),kekulize=True):\n",
    "    mc = Chem.Mol(mol.ToBinary())\n",
    "    if kekulize:\n",
    "        try:\n",
    "            Chem.Kekulize(mc)\n",
    "        except:\n",
    "            mc = Chem.Mol(mol.ToBinary())\n",
    "    if not mc.GetNumConformers():\n",
    "        rdDepictor.Compute2DCoords(mc)\n",
    "    drawer = rdMolDraw2D.MolDraw2DSVG(molSize[0],molSize[1])\n",
    "    drawer.DrawMolecule(mc)\n",
    "    drawer.FinishDrawing()\n",
    "    svg = drawer.GetDrawingText()\n",
    "    # It seems that the svg renderer used doesn't quite hit the spec.\n",
    "    # Here are some fixes to make it work in the notebook, although I think\n",
    "    # the underlying issue needs to be resolved at the generation step\n",
    "    return svg.replace('svg:','')\n",
    "\n",
    "def get_ion_from_fragment(frag_info,spectrum):\n",
    "    hit_indices = np.where(np.sum(frag_info,axis=1))\n",
    "    hit = spectrum[hit_indices,:][0]\n",
    "    return hit,hit_indices"
   ]
  },
  {
   "cell_type": "code",
   "execution_count": 4,
   "metadata": {
    "collapsed": false
   },
   "outputs": [
    {
     "name": "stdout",
     "output_type": "stream",
     "text": [
      "15616\n"
     ]
    },
    {
     "data": {
      "text/plain": [
       "{'creation_time': '2015-10-08T17:36:17',\n",
       " 'description': u'',\n",
       " 'formula': u'C21H28O2',\n",
       " 'functional_sets': [],\n",
       " 'head_id': u'0029ce6ff55b44468275b69597be364c',\n",
       " 'inchi': u'InChI=1S/C21H28O2/c1-13(22)17-6-7-18-16-5-4-14-12-15(23)8-10-20(14,2)19(16)9-11-21(17,18)3/h9,12,16-18H,4-8,10-11H2,1-3H3/t16?,17?,18?,20-,21+/m0/s1',\n",
       " 'inchi_key': None,\n",
       " 'last_modified': '2015-10-08T17:38:10',\n",
       " 'mono_isotopic_molecular_weight': 312.20892333984375,\n",
       " 'name': u'pregna-4,9(11)-diene-3,20-dione',\n",
       " 'neutralized_2d_inchi': None,\n",
       " 'neutralized_2d_inchi_key': None,\n",
       " 'neutralized_inchi': None,\n",
       " 'neutralized_inchi_key': None,\n",
       " 'number_components': None,\n",
       " 'permanent_charge': None,\n",
       " 'prev_uid': u'origin',\n",
       " 'reference_xrefs': [],\n",
       " 'synonyms': u'',\n",
       " 'unique_id': u'0029ce6ff55b44468275b69597be364c',\n",
       " 'url': u'',\n",
       " 'username': u'bpb'}"
      ]
     },
     "execution_count": 4,
     "metadata": {},
     "output_type": "execute_result"
    }
   ],
   "source": [
    "allCompounds = metob.retrieve('Compounds',inchi='InchI%',username='*')\n",
    "print len(allCompounds)\n",
    "allCompounds[0]\n",
    "#11539 trees of depth 5 Curt had before I messed with it."
   ]
  },
  {
   "cell_type": "code",
   "execution_count": 6,
   "metadata": {
    "collapsed": false
   },
   "outputs": [],
   "source": [
    "# all_my_h5_files = glob.glob('/global/project/projectdirs/openmsi/projects/ben_trees/*_hdf5_5_*.h5')\n",
    "# inchi_keys = []\n",
    "# for f in all_my_h5_files:\n",
    "#     temp = f.replace('/global/project/projectdirs/openmsi/projects/ben_trees/FragTreeLibrary_test_hdf5_5_','').replace('h5','').replace('.','')\n",
    "#     inchi_keys.append(temp)\n",
    "# len(inchi_keys)\n",
    "# #was 13189 before"
   ]
  },
  {
   "cell_type": "code",
   "execution_count": 7,
   "metadata": {
    "collapsed": false
   },
   "outputs": [],
   "source": [
    "# get inchi key for neutralized molecules\n",
    "ik = []\n",
    "num_pieces = []\n",
    "inchi = []\n",
    "charge = []\n",
    "compound_list = []\n",
    "for idx,myCompound in enumerate(allCompounds):\n",
    "    compound_list.append(myCompound.name)\n",
    "    \n",
    "    try:\n",
    "        myMol = Chem.MolFromInchi(str(myCompound.inchi))\n",
    "        (myMol, neutralised) = NeutraliseCharges(myMol)\n",
    "\n",
    "        num_pieces.append(len(Chem.GetMolFrags(myMol, sanitizeFrags=False, asMols=False)))\n",
    "        charge.append(Chem.GetFormalCharge(myMol))\n",
    "        i = Chem.MolToInchi(myMol)\n",
    "        inchi.append(i)\n",
    "        ik.append(Chem.InchiToInchiKey(i))\n",
    "        \n",
    "    except:\n",
    "        print \"Can not parse \", myCompound.name, myCompound.InChI\n",
    "\n",
    "\n",
    "    "
   ]
  },
  {
   "cell_type": "code",
   "execution_count": 9,
   "metadata": {
    "collapsed": false
   },
   "outputs": [],
   "source": [
    "\n",
    "cols = ['InChI',\n",
    " 'MonoIsotopic_molecular_weight',\n",
    " 'formula',\n",
    "       'InChI-Key',\n",
    "       'charge',\n",
    "       'num_pieces',\n",
    "       'description']\n",
    "    \n",
    "    # print myAtlas[0].compound_identifications[0].compound\n",
    "df = pd.DataFrame(index=compound_list, columns=cols)\n",
    "\n",
    "df['name'] = compound_list\n",
    "df.set_index('name',drop=True)\n",
    "for idx,myCompound in enumerate(allCompounds):\n",
    "    n = myCompound.name\n",
    "    df.ix[n,'formula'] = myCompound.formula\n",
    "    df.ix[n,'Monoisotopic'] = myCompound.mono_isotopic_molecular_weight\n",
    "    df.ix[n,'num_pieces'] = num_pieces[idx]\n",
    "    df.ix[n,'Charge'] = charge[idx]\n",
    "    df.ix[n,'InChI-Key'] = ik[idx]\n",
    "    df.ix[n,'InChI'] = inchi[idx]\n",
    "    df.ix[n,'description'] = myCompound.description\n",
    "df.to_csv('20151214_lookup_table_metatlas_to_inchi_key.csv')"
   ]
  },
  {
   "cell_type": "code",
   "execution_count": null,
   "metadata": {
    "collapsed": true
   },
   "outputs": [],
   "source": []
  }
 ],
 "metadata": {
  "kernelspec": {
   "display_name": "Python 2",
   "language": "python",
   "name": "python2"
  },
  "language_info": {
   "codemirror_mode": {
    "name": "ipython",
    "version": 2
   },
   "file_extension": ".py",
   "mimetype": "text/x-python",
   "name": "python",
   "nbconvert_exporter": "python",
   "pygments_lexer": "ipython2",
   "version": "2.7.10"
  }
 },
 "nbformat": 4,
 "nbformat_minor": 0
}
