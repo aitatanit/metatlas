{
 "cells": [
  {
   "cell_type": "markdown",
   "metadata": {},
   "source": [
    "##MetAtlas Workflow Tool\n",
    "1. Acquire great data and upload it to this folder: /project/projectdirs/metatlas/data_for_metatlas_2/\n",
    "2. Create an experiment. This requires that you specify a directory with your mzML files in it.  Convert the files and register them in the experiment.\n",
    "3. Create a file specification sheet for your experiment and fill it in. Populate the sheet and apply the file specification to the experiment.\n",
    "4. Create an Atlas in a spreadsheet. Import the spreadsheet as an Atlas in the experiment"
   ]
  },
  {
   "cell_type": "code",
   "execution_count": 2,
   "metadata": {
    "collapsed": true
   },
   "outputs": [],
   "source": [
    "%matplotlib notebook\n",
    "# %matplotlib inline\n",
    "%config InlineBackend.figure_format = 'retina'\n",
    "from matplotlib import pylab as plt\n",
    "import sys\n",
    "import glob, os\n",
    "\n",
    "# import glob\n",
    "# metob.load_lcms_files(glob.glob('/project/projectdirs/metatlas/data_for_metatlas_2/20150504_LPSilva_Actino_HILIC_POS_51isolates/*.*’))\n",
    "\n",
    "\n",
    "curr_ld_lib_path = ''\n",
    "os.environ['LD_LIBRARY_PATH'] = curr_ld_lib_path + ':/project/projectdirs/openmsi/jupyterhub_libs/boost_1_55_0/lib' + ':/project/projectdirs/openmsi/jupyterhub_libs/lib'\n",
    "import sys\n",
    "# sys.path.remove('/anaconda/lib/python2.7/site-packages')\n",
    "sys.path.append('/global/project/projectdirs/openmsi/jupyterhub_libs/anaconda/lib/python2.7/site-packages')\n",
    "sys.path.insert(0,'/project/projectdirs/openmsi/projects/meta-iq/pactolus/pactolus' )\n",
    "\n",
    "# %system ls /project/projectdirs/openmsi/projects/meta-iq/pactolus/pactolus/\n",
    "from generate_frag_dag import *\n",
    "\n",
    "sys.path.insert(0,'/global/project/projectdirs/metatlas/anaconda/lib/python2.7/site-packages' )\n",
    "\n",
    "from metatlas import metatlas_objects as metob\n",
    "from metatlas import h5_query as h5q\n",
    "from metatlas import mzml_to_hdf\n",
    "\n",
    "\n",
    "import tables\n",
    "\n",
    "import pickle\n",
    "\n"
   ]
  },
  {
   "cell_type": "code",
   "execution_count": null,
   "metadata": {
    "collapsed": true
   },
   "outputs": [],
   "source": [
    "import peakdetect"
   ]
  },
  {
   "cell_type": "code",
   "execution_count": null,
   "metadata": {
    "collapsed": false,
    "scrolled": false
   },
   "outputs": [],
   "source": [
    "# import glob\n",
    "# metob.load_lcms_files(glob.glob('/project/projectdirs/metatlas/raw_data/kblouie/TagOP_Trial_1_DP_NHSCA_NHSPU/*.*'))"
   ]
  },
  {
   "cell_type": "code",
   "execution_count": 15,
   "metadata": {
    "collapsed": false
   },
   "outputs": [],
   "source": [
    "# myRun = metob.queryDatabase('lcmsrun',mzml_file='%actino%',created_by='lpsilva',description='%C18_POS%')\n",
    "# myRun = metob.queryDatabase('lcmsrun',mzml_file='%pandeer%')\n",
    "myRun = metob.queryDatabase('lcmsrun',created_by='pandeer')\n",
    "# myExperiment = metob.queryDatabase('Group')#,mzml_file='%global/homes/b/bpb/Actino_C18_Pos%')\n",
    "\n",
    "\n"
   ]
  },
  {
   "cell_type": "code",
   "execution_count": 13,
   "metadata": {
    "collapsed": false
   },
   "outputs": [
    {
     "data": {
      "text/plain": [
       "[{'created': '2015-09-19T01:10:11',\n",
       "  'created_by': u'bpb',\n",
       "  'description': u'No description',\n",
       "  'hdf5_file': u'/project/projectdirs/metatlas/data_for_metatlas_2/20150504_LPSilva_Actino_HILIC_POS_51isolates/20150424_pHILIC_POS_MSMS_HB42-4.h5',\n",
       "  'last_modified': '2015-09-19T01:10:11',\n",
       "  'method': None,\n",
       "  'modified_by': u'bpb',\n",
       "  'mzml_file': u'',\n",
       "  'name': u'',\n",
       "  'prev_unique_id': u'',\n",
       "  'sample': None,\n",
       "  'unique_id': u'7c482a6306574ce2bcc01c611ba4a727'},\n",
       " {'created': '2015-09-19T01:10:11',\n",
       "  'created_by': u'bpb',\n",
       "  'description': u'No description',\n",
       "  'hdf5_file': u'/project/projectdirs/metatlas/data_for_metatlas_2/20150504_LPSilva_Actino_HILIC_POS_51isolates/20150424_pHILIC_POS_MSMS_HB42-2.h5',\n",
       "  'last_modified': '2015-09-19T01:10:11',\n",
       "  'method': None,\n",
       "  'modified_by': u'bpb',\n",
       "  'mzml_file': u'',\n",
       "  'name': u'',\n",
       "  'prev_unique_id': u'',\n",
       "  'sample': None,\n",
       "  'unique_id': u'145c577f2da542129651cc713a6f4477'},\n",
       " {'created': '2015-09-19T01:10:11',\n",
       "  'created_by': u'bpb',\n",
       "  'description': u'No description',\n",
       "  'hdf5_file': u'/project/projectdirs/metatlas/data_for_metatlas_2/20150504_LPSilva_Actino_HILIC_POS_51isolates/20150424_pHILIC_POS_MSMS_HB42-1.h5',\n",
       "  'last_modified': '2015-09-19T01:10:11',\n",
       "  'method': None,\n",
       "  'modified_by': u'bpb',\n",
       "  'mzml_file': u'',\n",
       "  'name': u'',\n",
       "  'prev_unique_id': u'',\n",
       "  'sample': None,\n",
       "  'unique_id': u'de0e20b1b82f41b2b34f671a3eba7ff9'},\n",
       " {'created': '2015-09-19T01:10:11',\n",
       "  'created_by': u'bpb',\n",
       "  'description': u'No description',\n",
       "  'hdf5_file': u'/project/projectdirs/metatlas/data_for_metatlas_2/20150504_LPSilva_Actino_HILIC_POS_51isolates/20150424_pHILIC_POS_MSMS_HB42-3.h5',\n",
       "  'last_modified': '2015-09-19T01:10:11',\n",
       "  'method': None,\n",
       "  'modified_by': u'bpb',\n",
       "  'mzml_file': u'',\n",
       "  'name': u'',\n",
       "  'prev_unique_id': u'',\n",
       "  'sample': None,\n",
       "  'unique_id': u'721d80ea55084baaa2438fac325e8bb8'}]"
      ]
     },
     "execution_count": 13,
     "metadata": {},
     "output_type": "execute_result"
    }
   ],
   "source": [
    "myExperiment[0].items"
   ]
  },
  {
   "cell_type": "code",
   "execution_count": 16,
   "metadata": {
    "collapsed": false,
    "scrolled": false
   },
   "outputs": [
    {
     "name": "stdout",
     "output_type": "stream",
     "text": [
      "898\n",
      "20150107_POS_10Bb.mzML (0a656eef8b8541508e7fa81e784aa98a)\n",
      "820_20_30negA.mzML (c489d3d06301488a8bc6355b4f270742)\n",
      "20150107_NEG_4A.mzML (a8257b189d3e41febe627690e3a80e84)\n",
      "927p1_0_10C.mzML (b187c02c17ad4777adc161269231984f)\n",
      "927p1_20_30B.mzML (d81d0af1b47f49aea00f9df2ae787512)\n",
      "RPNEG_C3.mzML (24595f316c21417e8472a3d92a22892a)\n",
      "L6N.mzML (e6c74ff44dff4d98a2f7faa04fb0cb59)\n",
      "EXT3_lipid_shortMSMS_POS.mzML (c3a9193b3e5a478388ed9377c8debec4)\n",
      "Con9_lipid_long_POS.mzML (7ba344e7507445ccbf6bf11c86d2c73b)\n",
      "927p1_0_10A.mzML (43341889e269450e8f7c17ba1c75ddf3)\n",
      "RPNEG_3A.mzML (a9aefeece0024fbe86a218d0285e699b)\n",
      "927_20_30negC.mzML (275d1481064647c89aed5c0ebfe617e4)\n",
      "L2N.mzML (5c85b5e0a7bf44838eb28d86e4203172)\n",
      "820_0_10negC.mzML (a9a0516d16c24614913f914f7a05e380)\n",
      "925_20_30B.mzML (6860400342784253a5cb4f6143e407b7)\n",
      "140815_R2A_2_POS.mzML (e341ad84079547f687753466619b732a)\n",
      "L20P.mzML (7f7d742dd06c46c0b0b81db502c44c37)\n",
      "HILIC AA Pos_TLW_D3.mzML (44c49cfb807246f2a3fede70a6542be5)\n",
      "1002p1_0_10C.mzML (cee02cd125894b2ab919d05cedd4c436)\n",
      "LIP2N.mzML (f53ec8c3a1c642c59f45db0f51610601)\n",
      "1002_0_10negC.mzML (3f9a9ae3d1de4ff5a8b78f6283713f30)\n",
      "HILIC AA Neg_TLW_D3.mzML (f86d7f5d8fd947238a03afbfce5e126c)\n",
      "925_20_30C.mzML (ebd05a14c8ed4d378b6ede84bf808f59)\n",
      "1002_20_30negA.mzML (23d14e1816da4bf5b1512ac9af99e19c)\n",
      "820_20_30negC.mzML (b6e9c80123d74f3ba2d7e21ff01efb84)\n",
      "1002_10_20negC.mzML (bbd7c813fc2c41119ea42163f2088093)\n",
      "140815_R2A_2_NEG.mzML (0a4d6b56a12d40f0a168159778a272a5)\n",
      "20150107_NEG_6A.mzML (76e34cd1238543af9c6f9adf4dd2801e)\n",
      "20150107_NEG_12B.mzML (ad0c98d28e204e6f812e2bfb85a6df0e)\n",
      "1002_10_20p2negA.mzML (07558fda260a489aa8f3a555ae780557)\n",
      "control3.mzML (d445896fb58c4195b461ca125b02818a)\n",
      "POS_4A.mzML (d3c0d13d4fc24dad82f42342361e586e)\n",
      "POS_2B.mzML (3ce3ab597a4b483a8c5569f26052eb45)\n",
      "820_30_40negA.mzML (d85e348b03e240abba35cf3aef867211)\n",
      "RPNEG_16A.mzML (09851f0716f64c7b8981d375e14d33e6)\n",
      "RPNEG_C4.mzML (049dfb63d5914bccbf0afb65eb0ffa82)\n",
      "1002p1_30_40A.mzML (526e18ae27bc40029a7756ee885dd441)\n",
      "927_0_10negA.mzML (4b8380f39b4f40cb9d2c08ee97ed0a65)\n",
      "RPPOS_4A.mzML (ccecc46dd37044a294674e80199f850a)\n",
      "20150107_POS_12Cb.mzML (679a77c07d87404a9f987df151f95a99)\n",
      "20150107_POS_3Bb.mzML (a241e2a869df4db5bb20f0b7be80835c)\n",
      "1002_10_20p2negC.mzML (86f80ec55c89473e9e3e46ac8c313b86)\n",
      "1002_10_20negB.mzML (c0f75c2443de4173bd6d2630b0cf5a4f)\n",
      "925_10_20negB.mzML (b6e70757e35542d28146e96656a6ad86)\n",
      "1002p1_10_20C.mzML (62f92ae6c7944245ba9f78edfd6886fb)\n",
      "927_20_30negB.mzML (7e7c26c5be4746a8ac7b00ac27623436)\n",
      "925_0_10A.mzML (9b31ee3133ad47658d0c7d4951999eb3)\n",
      "20150107_POS_10Cb.mzML (fa90aa3e093c43a1b997f6041734746b)\n",
      "1002_30_40negB.mzML (9513fd3d811c4094a78827e518373d7e)\n",
      "20150107_NEG_11B.mzML (799fc6e1d1be40678ac3ed3d16b7209f)\n",
      "20150107_POS_4Bb.mzML (580e5ee948a346df8d0252ce256a94e0)\n",
      "1002p1_0_10B.mzML (b55ab1b3f56749a8879cd4c68b906b77)\n",
      "L19P.mzML (cc2b88ec78f84f2abcfc471ef3b50e32)\n",
      "RPNEG_C1.mzML (5e3f01adf3c64781a4222fa6d68696e9)\n",
      "LIP3P.mzML (02ff747e26994d418408a6edb5a8b54b)\n",
      "927_10_20negC.mzML (c24e6cd406e64791b880184374b74d7b)\n",
      "L15N.mzML (5497cc8c89174de689cced0cc1469569)\n",
      "927_10_20p2negB.mzML (7904874d76f9484daa8f272cc498e137)\n",
      "820_0_10negA.mzML (9ef4dd878b3a41baa8a4303730b9c28c)\n",
      "LIP3N.mzML (761aff83d90044ddac7e051fa5db94ea)\n",
      "927p2_10_20A.mzML (54dd8d6f4c9f4e0186f187e7bd4e355a)\n",
      "RPPOS_C1.mzML (59219f2947da43bdbd48a1fd26055683)\n",
      "POS_2D.mzML (4dda2e4e2d4540f0be683b8ec58e946e)\n",
      "20150107_NEG_3C.mzML (3deb7cb29e7942caa25fa9e317ae3356)\n",
      "POS_3B.mzML (95b8bcb6bbe44fe18a4c54b12a685750)\n",
      "NEG_metext3.mzML (f3c2a5a4d98e4538a50f2218425a65f3)\n",
      "L16N.mzML (f37ab3bf5b69499da4ffd00364bb0a13)\n",
      "1002p1_10_20A.mzML (4c136a510b65478d868cb76077f19a6c)\n",
      "20150107_POS_6Ab.mzML (825be0fe97ec4b0daf6b30345447069a)\n",
      "925_0_10PPLnegB.mzML (b2c84ed8b70c43c3ae4a7a5cb3a52414)\n",
      "820_0_10C.mzML (45896bdf56104c1aa540b8ed98be2f31)\n",
      "HILIC AA Pos_TLW_B.mzML (802b249a19644a10bedbfba544ae3da4)\n",
      "20150107_NEG_2A.mzML (7c41a38395074d3ebc8354090d9b882e)\n",
      "925_0_10PPL2.mzML (e043b4ee939246e79e1a94f8b7324e1c)\n",
      "L5N.mzML (9d5f5f0570c440bb931b8c496de4f11e)\n",
      "1002_20_30negC.mzML (eb57861b349142ff817cd9adbb06e0b0)\n",
      "20150107_POS_2Ab.mzML (e462b3877d91499ba94934f63996eef3)\n",
      "140815_R2A_1_POS.mzML (b73d4dd565834e20abfae4e789a70d82)\n",
      "925_10_20A.mzML (38f5cf45d242416aaf6f31c3edff478a)\n",
      "NegControlPPL.mzML (268e95f87ace417984001c04ea013e8f)\n",
      "Con9N.mzML (9c2eb72d4f7c4ffe96903b9fd3d81d99)\n",
      "925_30_40negB.mzML (7d4c1b92884242f4b557b82d288687a8)\n",
      "925_0_10negA.mzML (7e4053d0fb904a4f9a64f15494d80d4b)\n",
      "POS_1B.mzML (c78b817b43b5405faf2f8de61c5fb6a9)\n",
      "925_0_10negB.mzML (da592d99e8d64e7c8d7f9e7519967393)\n",
      "NEG_metcon9.mzML (b7eba21768174f09a0d85d79e52272f8)\n",
      "927_10_20p2negC.mzML (f67716d916804ffd8cccc1d87729fcda)\n",
      "POS_metcon9.mzML (80636c46d22147ceb1d2eb078da05c87)\n",
      "LIP1P.mzML (6a540f59a7504341be443c04ba142c61)\n",
      "EXT3_lipid_short_POS.mzML (4505822867dc411a9793f4c0e8f9cee5)\n",
      "Con9P.mzML (56760eef681f4ede9b6b83ef1ff56fb7)\n",
      "POS_2A.mzML (ddeae28dd0834fc3afa46d31590964d9)\n",
      "RPNEG_13A.mzML (f54cca208282464a8bc738c9f42e9b3d)\n",
      "RPNEG_5A.mzML (1abe6f7840a3494ba6299c626342a2e6)\n",
      "927_10_20negB.mzML (9aabc6c7090742469d42d5a065c22412)\n",
      "RPPOS_C4.mzML (f4b9bde725634d8f8eb8fc1876c843a2)\n",
      "20150107_POS_7Bb.mzML (50160452fc1142d6866f5f7e14e94a2c)\n",
      "925_30_40negA.mzML (a5f65603e2bc4ccb8e429faa7128935d)\n",
      "LIP6P.mzML (3f508ebcf508491e8a698b8a3ba09bbc)\n",
      "925_20_30negB.mzML (df8bf306df9d4cbaa40c2d23d97e3355)\n",
      "L14P.mzML (d9147794d5c3437da92ee7839693169d)\n",
      "L3N.mzML (9b10876eecdf48dfb4fc383c61880c6b)\n",
      "RPNEG_14A.mzML (3b3042633d8d4aeeb40475e1e7f69dd3)\n",
      "control1.mzML (318b2b5413c843cb92f32ae0b92fe0cb)\n",
      "20150107_POS_2Bb.mzML (46ed2f9d9a0b4235bbaf0d6433e64ad3)\n",
      "927p1_30_40A.mzML (9e614ce057e9462da24fcd751fdeea5c)\n",
      "Con7_lipid_long_POS.mzML (f91276cdaecc43c192cfbded04a37b04)\n",
      "20150107_NEG_C3.mzML (ed8489b02f5041b989384ed215d8204d)\n",
      "927p1_20_30C.mzML (0657d1ed8a184ae1b9719f387aa51181)\n",
      "L13N.mzML (0ef7a8888065420da262291f9b48a344)\n",
      "927p1_30_40C.mzML (1dadfe5769eb46afa8b15a433d13b237)\n",
      "925_20_30A.mzML (8d712640ba104dbe97ab3d1ac5e9e0ee)\n",
      "RPPOS_1A.mzML (2cc52d5aeaa54aa49bc762930707fff8)\n",
      "20150107_NEG_7B.mzML (fb44a3897c244a34a7fe11321dde6ee9)\n",
      "L8P.mzML (8b528d1db315451da7dc141b4fc420a7)\n",
      "control4.mzML (99fc9625fa454a68ba5f4a993dc52437)\n",
      "925_30_40B.mzML (59f57f2e009c4a71844335f6a3b4d78d)\n",
      "NegControl2.mzML (7a5b232161484486bae2391c815ff9cf)\n",
      "20150107_NEG_5B.mzML (a8ef7e62048e46dcb5a0428579281b3c)\n",
      "EXT4_lipid_short_POS.mzML (17500429684d4f41a77c173ba211bfb0)\n",
      "NEG_1C.mzML (803be7bde6434d8182f34a73525d7139)\n",
      "POS_4B.mzML (afa97a75aa834714979da5c054a05329)\n",
      "20150107_NEG_7A.mzML (4d0e7ddb76e14edaa6cbd3b446b5ab55)\n",
      "Con7_lipid_short_POS.mzML (8ed2e283efed4ad79821b521a4832f41)\n",
      "NegControl3.mzML (db3d5f1160ce4bb6b5e19fd99fc91101)\n",
      "925_10_20negC.mzML (12c01e2efcd3474eb292368d956f74f5)\n",
      "1002p1_0_10A.mzML (f0eb915e5d894e05a224df967d591be9)\n",
      "925_10_20C.mzML (3842e58940e64a35aacba537a761c0ee)\n",
      "RPPOS_2A.mzML (647b59f3e8974f17a4d3131f704d7d18)\n",
      "20150107_NEG_11A.mzML (d45fc8e6ce0d4fdba8f264efec5c844d)\n",
      "20150107_NEG_C2.mzML (69c9bbac1aba45e9b63bc530c2214450)\n",
      "con7P.mzML (083e68666d6440e9a443b3aef77a942d)\n",
      "20150107_NEG_12A.mzML (da725b6b16b94832b4ab15f5590a1d4c)\n",
      "NEG_2D.mzML (2d9c588873a04996977c0b5c261a4624)\n",
      "20150107_POS_7Ab.mzML (c34ae124e5d941d980d81c8165d243f6)\n",
      "POS_1C.mzML (c3197c81f11a4ea692a77dfa2e06cb5e)\n",
      "1002p2_10_20A.mzML (66b1c5b6c5b94da99d47edfe37367fb5)\n",
      "L18P.mzML (2a9d65d968bb4cfb81ee0261813f3eb7)\n",
      "925_30_40PPLnegB.mzML (d2396db6a9b24e678335137c3859758a)\n",
      "con7N.mzML (d49cfc8573b1406bb861ca098dcac39a)\n",
      "20150107_POS_10Ab.mzML (0eb3a54c4887422c8cd38b8dfc1c2864)\n",
      "L17N.mzML (d9e8397ff7674b0a9cd3d120da5368c9)\n",
      "1002p1_20_30C.mzML (e57dc3de040b46c884862dbbf888b9f9)\n",
      "20150107_POS_11Cb.mzML (785adbb3e36646b993eb745c65e01c1d)\n",
      "20150107_POS_8Bb.mzML (272181872c3d47088ece3392abc202d3)\n",
      "RPPOS_C2.mzML (761ed4ec826c470ab06d137d70b89322)\n",
      "820_10_20C.mzML (78c8a13b4865416baff2f17db7e63f56)\n",
      "L16P.mzML (120a85bf1f544c31a5a0df82e50b2bd0)\n",
      "925_0_10PPL1.mzML (270fd60076364808865fe76314bf5817)\n",
      "20150107_POS_C3b.mzML (8f6fd6117e764058a0f07e1e597446dd)\n",
      "20150107_NEG_3A.mzML (5b36aa89ae9b4f118d320edd388d807d)\n",
      "820_20_30A.mzML (46a6e450efa645f4a95ac1e016792004)\n",
      "RPPOS_3A.mzML (4d512da3b2f946e3abab2d8c28f7d130)\n",
      "RPNEG_C2.mzML (c0eeee218e4c4041b1d2a2931fb034fb)\n",
      "20150107_POS_8Cb.mzML (0875e14bcdc1450299c265d0c334bc9b)\n",
      "927p1_20_30A.mzML (fb4d1f1bf6f74ab9a3aae19baf893f64)\n",
      "20150107_POS_8Ab.mzML (39ed564b7f5b4e718bf121e73e137449)\n",
      "1002p2_10_20C.mzML (76712833e79944e596ad9ded2017481c)\n",
      "20150107_POS_C1b.mzML (9c46ee616134488e8de58a06b25c71fe)\n",
      "20150107_NEG_8C.mzML (afcb585b3deb445fbc7a0ac667261e4e)\n",
      "POS_metcon7.mzML (3a9ed8e83e924dd0883c747688423ade)\n",
      "RPPOS_16A.mzML (d7557bfca5064370a37c174e4147b1e3)\n",
      "820_30_40negC.mzML (91766822dcf34a8c90dae2bdc9375103)\n",
      "20150107_POS_3Cb.mzML (e9f88887ef0145a898e59504b2401388)\n",
      "20150107_NEG_4C.mzML (e615564dfef74d8487153d611b725016)\n",
      "20150107_NEG_4B.mzML (d9a35ddf0886409290ab500be575d938)\n",
      "POS_4Cb.mzML (8198b159218d4015ba4ab620426c158e)\n",
      "RPNEG_15A.mzML (9c3bd586cb0b4c6f960a00db5b8b44cd)\n",
      "20150107_NEG_2Cb.mzML (a7ab0b2ed297408cbf8d1273e939a6cf)\n",
      "820_20_30negB.mzML (da3c735376d2494c92147290df1c442e)\n",
      "140815_R2A_5_NEG.mzML (822394036c954621a9e2d06a244baf7e)\n",
      "20150107_POS_3Ab.mzML (55ebe44c96db4dc89817171286b2eef0)\n",
      "925_30_40PPL2.mzML (dd04c3931b58424f81ba74bcc6285078)\n",
      "POS_metcon8.mzML (b713fc1f126c45dfbb2b0319590948ab)\n",
      "927_10_20negA.mzML (b099cf9c1c1149d2a6dca2b6aaa3a173)\n",
      "RPPOS_14A.mzML (bf87f962107145ef8a0ebbcdfd576dfa)\n",
      "20150107_NEG_6C.mzML (7448304598824aa880b2b7b046329337)\n",
      "NEG_4C.mzML (f6dff08595b44928a4a075be750e1300)\n",
      "927p1_30_40B.mzML (6dfb874541964f46b541e222eb08fece)\n",
      "RPPOS_C5.mzML (61db3bf2072b417fb42300b88a98fcf1)\n",
      "con8P.mzML (5f7e2a53a88540a5bb2cb5c67f0aaea7)\n",
      "820_0_10A.mzML (4a4acdb267ca4a938863aabd1fc17d71)\n",
      "20150107_NEG_5A.mzML (977701f1a7b743d5908eddb0121daa89)\n",
      "EXT6_lipid_short_POS.mzML (1b53015d833a4ebcba8c82b7c7f853c5)\n",
      "HILIC AA Pos_TLW_D1.mzML (d7b1c3eb626243b89cf59b2bcc1a03f8)\n",
      "L14N.mzML (abb71413b4d5488bb194e497e061ba36)\n",
      "1002_0_10negA.mzML (09f6a8d052714bf7a8492d9545c7657f)\n",
      "20150107_POS_7Cb.mzML (6b701ba7e90c4db3a2a98187c27bc062)\n",
      "1002p1_20_30A.mzML (1979b5f664134132b4cd04846be1c67c)\n",
      "820_30_40A.mzML (5bde7ed8bfd24d9a89e0c06e33a05063)\n",
      "Con9_lipid_short_POS.mzML (86c2702141864c40a777dfe6cfaa5103)\n",
      "NEG_3C.mzML (2d6381ec122e4788b8e184eb7968b2b3)\n",
      "927p2_10_20C.mzML (19538bbdfca44c9e882114c92e7cb9d4)\n",
      "NEG_2C.mzML (5105f3aa39b84b55bcd6803b84084ac0)\n",
      "140815_R2A_3_NEG.mzML (1c09de5c43324e00aea537b03b0223ea)\n",
      "EXT5_lipid_short_POS.mzML (770a55927e2e452486722bf14ea0ccd5)\n",
      "POS_3D.mzML (cd586a8c5db644618aff5d2787ab3104)\n",
      "RPPOS_6A.mzML (7891d9b895d24dc4a8fa26f18a5f27ae)\n",
      "925_30_40A.mzML (be7bb6ced4054387858cd80eba8d3274)\n",
      "NEG_metcon8.mzML (9d689aadf1994df2a152226c1b71f69d)\n",
      "20150107_NEG_C1.mzML (ae9127402fbb42b2ad1bb3a3bf395ec3)\n",
      "927_30_40negC.mzML (fdc5b4537edc4621aac5fddee8f203e8)\n",
      "20150107_POS_5Bb.mzML (ad8df606038f496da0ca59528f15c294)\n",
      "1002_20_30negB.mzML (7a12050aba3a4c4781912e1ecca65d7f)\n",
      "820_10_20negB.mzML (80ca6daa5a5944909c86c436e3070063)\n",
      "140815_R2A_4_NEG.mzML (4b118a5fcec24c1e9278a0303b09d80f)\n",
      "RPPOS_8A.mzML (02de24fb75be46a9a215cb01c3a9fb48)\n",
      "1002_10_20negA.mzML (824eef0fc2c041acaf18c8ee9ef3723c)\n",
      "925_0_10negC.mzML (985683afc4df4c88a015c17134b7764f)\n",
      "20150107_NEG_8A.mzML (560d1485dff9484986e82aa7029c73c8)\n",
      "L6P.mzML (9266203c0b8a4922a6d29fb33b327a77)\n",
      "LIP6N.mzML (579b701afff84c8d8766b88bf88b298e)\n",
      "EXT3_lipid_long_POS.mzML (c32a9897e13f4de793a81c7c53ca2a34)\n",
      "927p1_0_10B.mzML (b8df960c94494922ba6dbe0f2aee8c92)\n",
      "NEG_1D.mzML (4446408fb5114444bcbe708a0662d212)\n",
      "POS_metext3.mzML (affc77387b244a9b891fbbe049d27795)\n",
      "925_20_30negC.mzML (573ef4d15c9a4ccbbb8b4b1b3a03ddf1)\n",
      "820_10_20B.mzML (fc05b04594064ceca83d96ad5eef9efc)\n",
      "L7N.mzML (e500909ae1e44659a4466806257f7ba0)\n",
      "RPPOS_13A.mzML (c80e7414525740ef9c438331a1b5ad12)\n",
      "POS_2C.mzML (a1dd1bfa163f4c638c0cd04f3ce8a0f4)\n",
      "20150107_POS_4Ab.mzML (1b31ab23c2cb4362b63f3120601d20bc)\n",
      "1002_30_40negC.mzML (d83157d71a1e46b782009d24eef97ff7)\n",
      "NEG_4A.mzML (77443539578f48a7b1185f1ecf4c97b3)\n",
      "EXT1_lipid_short_POS.mzML (2e7fee407f1f46158c3c8fca3dd7d43c)\n",
      "NEG_4b.mzML (f1a45ac9446a4358af85aeabde1a0d7d)\n",
      "927_0_10negB.mzML (476f943f2d0846e3a0fb4b1a0c25cfb0)\n",
      "20150107_POS_12Bb.mzML (21c2830a545a49858c6eb137727aa0a5)\n",
      "NegControl1.mzML (76e49337660944bb8a3373af2ad3b0e4)\n",
      "NEG_1B.mzML (918e9939e96e400daecb1f45f5ebbe2f)\n",
      "20150107_NEG_11C.mzML (801d3e472c71497588f4cb5f9f162071)\n",
      "POS_metext1.mzML (f190a9d7bdfe457c8a9a6e14b5a215dd)\n",
      "927p2_10_20B.mzML (ac0efc13877a49e1b76e043969913781)\n",
      "EXT1_lipid_long_POS.mzML (193f117995934adfa6254e9f214c3ed3)\n",
      "927_20_30negA.mzML (482f38f07d1f4c22aeb926dd7219bfd0)\n",
      "20150107_POS_11Bb.mzML (63d27d84d5b147e8a483495a7ff39080)\n",
      "L9P.mzML (e284eb3ef69b4d1499b291c2bd7aeeb8)\n",
      "20150107_NEG_12C.mzML (700fcb8bcdad42a89e133d7babd5efba)\n",
      "1002p2_10_20B.mzML (d54a1b2e433849a6b05a31f68cd70870)\n",
      "RPPOS_C3.mzML (298b00ed81e4463d982ac3010b912574)\n",
      "20150107_NEG_7C.mzML (8f38a1c5c5d84189a380624ed0a3bfc3)\n",
      "POS_control4.mzML (1bc45a665f264a45b2262ee194534ffd)\n",
      "20150107_POS_12Ab.mzML (c4e7e73ee6444f72b9316495aee91b83)\n",
      "820_30_40C.mzML (1f655b4240714c48812d3111929e900c)\n",
      "L15P.mzML (e760a429ab3644b6a4afadce5b853894)\n",
      "control5.mzML (a680a0d5b93d4b1eb3fe8786f327a11a)\n",
      "927p1_10_20B.mzML (653bbcd281094da4ae617107c39c3690)\n",
      "Con8N.mzML (8a9b3d7790824ff5af63ac55d0b87979)\n",
      "927p1_10_20A.mzML (2c55010bb0b64916aa351bed966ceed8)\n",
      "L7P.mzML (ad84da0ad4484dde9d743fe68125e300)\n",
      "RPNEG_4A.mzML (5ae442d0473745cebcc96b7e67cb7b36)\n",
      "EXT3_lipid_longMSMS_POS.mzML (05d83d4ce065484f88a828c40669daa1)\n",
      "NEG_metext1.mzML (5afe806dc08d4983adea4681fdea9a82)\n",
      "820_10_20negA.mzML (af69f41863c44df198fdd23aa41fdc0b)\n",
      "1002p1_10_20B.mzML (df1583a55f554131880572d33e2276ce)\n",
      "20150107_POS_5Cb.mzML (2c9dae11f73e4e78813e547b7f41ced0)\n",
      "925_0_10PPLnegA.mzML (9cc28b4d9ccc498da616a1c8abf99f59)\n",
      "140815_R2A_1_NEG.mzML (4483082273ef438280f0663462dc4470)\n",
      "927_10_20p2negA.mzML (3acd8bfd576f410abdccd9d1615a00be)\n",
      "HILIC AA Neg_TLW_D2.mzML (d27dfb4d543744a587bc7b8bda608565)\n",
      "927_30_40negB.mzML (3d4f8ee886234de1a5ddd37bb1e16a8a)\n",
      "1002_30_40negA.mzML (84c4ee286d704b62bf84d6190a827eac)\n",
      "20150107_NEG_10B.mzML (9c6411358ab448c2bb7655e922f3240f)\n",
      "POS_metext6.mzML (a02a9680c12143998e781e5793f8d4d6)\n",
      "NEG_1A.mzML (c1a871b52d0a47bab6ab89b208436bc9)\n",
      "925_30_40PPLnegA.mzML (fada6b9221484c238b96034426814fca)\n",
      "L9N.mzML (9beda5938e4d4ad78836a1948da4b6c6)\n",
      "HILIC AA Neg_TLW_B.mzML (d37c4444843b4954a700d1ac04e59fdd)\n",
      "20150107_NEG_2B.mzML (25a210bb36ff4b4897ede26d972f9b69)\n",
      "927_0_10negC.mzML (a9074a2f15ac4be2bdb3ec3c9d34a147)\n",
      "20150107_POS_11Ab.mzML (d1a0c3a7c60d46bcba8bcff73df7a966)\n",
      "RPNEG_8A.mzML (8f6ed17167e94ea0b689a8faddfeee6e)\n",
      "RPPOS_15A.mzML (f4b4bbf074b2495fbab36d1eb4d09ea1)\n",
      "L19N.mzML (16bf0ea4909a4268b676b08f7fa5b11e)\n",
      "LIP5N.mzML (11a0df944f4d4537b42e1b26b072480d)\n",
      "NegControl4.mzML (acd23aab8b574f9a8857dd0ea082796a)\n",
      "NEG_2A.mzML (f5770bcc5599473c870f01158adc6a03)\n",
      "820_0_10B.mzML (ccf0a38d3b8b4fa0b43f23e3f86c557e)\n",
      "POS_1D.mzML (facd708de5e149359e336822c5fbf9e6)\n",
      "20150107_NEG_8B.mzML (96eb10c8a3db42a6ae86e6c116e817ad)\n",
      "POS_metext4.mzML (cfcb58fe2dea4b8082387115d3c5c9b9)\n",
      "control2.mzML (16e12ed9bc52415083d03cecdffaf45f)\n",
      "RPPOS_5A.mzML (b7e11ff818534dd881c1f3ce4c584844)\n",
      "927p1_10_20C.mzML (2eb99a925da3407eafe4a456da4b3d5f)\n",
      "L4P.mzML (e5dfbf40ac32439aa01b1b958472c0ee)\n",
      "140815_R2A_3_POS.mzML (732bb657eb4645cdb4e9c1238d03845a)\n",
      "820_10_20A.mzML (f6b275fcc036418d92726ef341b3cac5)\n",
      "925_30_40C.mzML (f84da6fec40546f29870f84301c928fa)\n",
      "HILIC AA Neg_TLW_D1.mzML (bb1a121a61394132bd5b9d037f3e386a)\n",
      "925_30_40PPL1.mzML (08e9740e1633478c851ab00b9084c209)\n",
      "925_30_40negC.mzML (e16a4ee3176243f3982c8e1485597848)\n",
      "L20N.mzML (9b42df14ca6d460bb4a6ab7d9cb22608)\n",
      "NEG_metext6.mzML (99183609009449b3bb2338c010eab366)\n",
      "20150107_POS_6Cb.mzML (e47b26177f6f4dbc87371770376c16d2)\n",
      "L8N.mzML (f227bdbbd9fb49f5ae0e9b06baa585ee)\n",
      "820_10_20negC.mzML (90628fa6ec8d40ef975be59249dccaa1)\n",
      "20150107_POS_2Cb.mzML (ee5fa2e03e4f4f9084a5a4af28a1563e)\n",
      "1002p1_30_40B.mzML (9da79dc2660744b4bbd0428db1771f70)\n",
      "RPNEG_1A.mzML (26147a9f2fb942a2b5428ca552ee331a)\n",
      "20150107_NEG_10A.mzML (0a5f9a6cd2a64f67b7154fddb2d02b2f)\n",
      "LIP1N.mzML (64f620b9ef374054ad4a0a1263050867)\n",
      "Con8_lipid_short_POS.mzML (696507e09bd544728250eadaedf411c8)\n",
      "925_20_30negA.mzML (dde2d7fb90e64d949d09db4e7e272f29)\n",
      "NEG_2B.mzML (322a5ba49ffd47b085d017cf188b5b0e)\n",
      "EXT6_lipid_long_POS.mzML (ce758fe098f14605a7960bda49ba1b27)\n",
      "RPPOS_7A.mzML (090ba3af351a47fea5553bf2de726e88)\n",
      "RPNEG_C5.mzML (028ed370223c484a965f39846a71d881)\n",
      "20150107_NEG_10Acopy.mzML (faf991919ce54f49b612b4ad0cdc6a40)\n",
      "925_0_10B.mzML (e0f480d5dcd94656b89925d5d448c62c)\n",
      "RPNEG_2A.mzML (817e3cde17544512bdb68050fb455436)\n",
      "1002p1_30_40C.mzML (619af3d8ded944698b8fe7af7898a1ac)\n",
      "L18N.mzML (4c279930c75a4029a2b3f02fcb210170)\n",
      "L5P.mzML (410d0dd4d9924047ac4e888689ed075c)\n",
      "NEG_metext4.mzML (8cdcf7e44fca462489ad832ef66bdd93)\n",
      "820_30_40B.mzML (87145a1fbda74d45973753e934a23d1f)\n",
      "L4N.mzML (6185575b984e4e4ca1754ab02108f6b2)\n",
      "LIP2P.mzML (321195cfa24243629575dabd30067b80)\n",
      "925_0_10C.mzML (6880ebd492164f01893986430664a357)\n",
      "LIP5P.mzML (e5012e43f3dc4cd6947957cd44744318)\n",
      "820_20_30B.mzML (84db7b4ac0c141ab96617a4400f40d2f)\n",
      "EXT2_lipid_short_POS.mzML (dac899529dd042faaad9c3fa150b724e)\n",
      "20150107_NEG_6B.mzML (2a8f6f509c814e71ba71d272ee82ea70)\n",
      "NEG_metext3b.mzML (7a6b15ef32aa4c808fcf4ddea540892b)\n",
      "925_10_20negA.mzML (71092e6bed204ff4b212dedc0a812d79)\n",
      "L13P.mzML (4c778a8353ca469f82379bd617484fe1)\n",
      "820_0_10negB.mzML (5191e521a18941e4ab9ce9fe2e25d853)\n",
      "140815_R2A_4_POS.mzML (8a18675ce9ac46c595b129c54f5ce9b4)\n",
      "POS_4Db.mzML (8dd4c0d5063143f994aa8fe2c44b7526)\n",
      "L2P.mzML (f3dc446071c74a989bfdf5b5152daa2a)\n",
      "L17P.mzML (63d640271cde4b609a1ab4f9f62252e0)\n",
      "20150107_POS_4Cb.mzML (dab83224aee54f74a14cd5e3ca65a34c)\n",
      "20150107_POS_6Bb.mzML (35fd2fdd85fa4386a906def3ec3095eb)\n",
      "927_30_40negA.mzML (f94def82488e49968f4db269146edecc)\n",
      "20150107_NEG_3B.mzML (57c9abc30703481db094bba62740fe64)\n",
      "925_10_20B.mzML (252084db4c3344019b9622137a4d7e15)\n",
      "NEG_metcon7.mzML (281901d545e84053bd0ce0c7e09d0d97)\n",
      "140815_R2A_5_POS.mzML (39103eb12327458c9ba6c0d745ebac59)\n",
      "POS_1A.mzML (58ef3885bd624197b742224a3c947c33)\n",
      "820_30_40negB.mzML (5cae756968884ec2a60d4c0bc4263a0c)\n",
      "820_20_30C.mzML (1dab1f5b0775445ca83f72377980c917)\n",
      "NEG_3A.mzML (6e9c785a327a455eab3f792273cbb668)\n",
      "20150107_POS_C2b.mzML (a76b4f58672c4bcb9401f96838be6c79)\n",
      "1002_10_20p2negB.mzML (3d129f8c64fe4bea9af8cb35fd224390)\n",
      "1002_0_10negB.mzML (33ee8533c2204926a8f281f8ac6bf8c6)\n",
      "NEG_4D.mzML (9e03fbf949c5463e89467b43462e3fff)\n",
      "NEG_control4.mzML (e23f0ed3619942708246190b8d2014ec)\n",
      "NEG_3D.mzML (5e62c11c9cad4c8ea6e74f96a596df39)\n",
      "20150107_NEG_10C.mzML (2c18e69c8ca9479588ccae8504673a4e)\n",
      "1002p1_20_30B.mzML (5107108cbfc148d2b3d33dcd682694c1)\n",
      "RPNEG_6A.mzML (5143490523bf4f65bbf79ed952419b7d)\n",
      "NEG_3B.mzML (09d802b415e748d3b1f22803720ae5aa)\n",
      "POS_3A.mzML (67c8ce18fee147b3b3a6525eaf8ceb4c)\n",
      "HILIC AA Pos_TLW_D2.mzML (7cc5106832b54780aece9dcc0868023b)\n",
      "L3P.mzML (47f73c0ec3184bfba5a1acd629d92c90)\n",
      "20150107_POS_5Ab.mzML (833159d926474b9e9681a21ff0563fbe)\n",
      "20150107_NEG_5C.mzML (c3dcba226a6a4c5f9ad6d924b5f41c6b)\n",
      "RPNEG_7A.mzML (1dbe03e1fd304eb39eabb87c9d2f055b)\n",
      "POS_3C.mzML (939ba8f924ca47969cc84c06bfdc75f3)\n",
      "20150107_POS_10Bb.mzML (b75f729944074176ad0988a3b76cdb2c)\n",
      "820_20_30negA.mzML (2b3d997f111b490b9868834dd738058b)\n",
      "20150107_NEG_4A.mzML (428734b857bd402680db4c248547c359)\n",
      "927p1_0_10C.mzML (e7bc1dc4b8414e32a61985e499e3f267)\n",
      "820_0_10negB.mzML (38f6fa9f86894cd1999420baeb195b55)\n",
      "927p1_20_30B.mzML (209dccfe23dd45688f7af7e9e9931bf2)\n",
      "RPNEG_C3.mzML (fbf8f2120b234d5f9ea4039276e604f8)\n",
      "L6N.mzML (d4ecaeb3a1144e7aad6cb764c9452e14)\n",
      "EXT3_lipid_shortMSMS_POS.mzML (0ed3a9fe222f4bcbb8f082503d258070)\n",
      "927p1_0_10A.mzML (fc5cb1586c7845a8b7ad789abbe41dc8)\n",
      "RPNEG_3A.mzML (474e1d251fe24b37812b015ae091851b)\n",
      "927_20_30negC.mzML (f59872ba68d1441fa978dad5df0f519b)\n",
      "L2N.mzML (af308dd2ca44419882f90ab84c0946b4)\n",
      "820_0_10negC.mzML (44c1af31b2104dc2b2563f0aeacd1cf4)\n",
      "140815_R2A_2_POS.mzML (8d29f3ffc48e46d0bf9f4f3e3e1e3ae1)\n",
      "L20P.mzML (a97be6bcf4d149f59ea04cc3487c4067)\n",
      "HILIC AA Pos_TLW_D3.mzML (30de2260ceb945c6b24c53c39936c228)\n",
      "1002p1_0_10C.mzML (14c67370d69240b2aa102c1ba08a7a98)\n",
      "LIP2N.mzML (c93d6f274a724a35a696df7f637ee115)\n",
      "1002_0_10negC.mzML (f8197d0ab87b47d983817d1ea3d7491b)\n",
      "HILIC AA Neg_TLW_D3.mzML (74820afe7deb452287c2b911994453f7)\n",
      "925_20_30C.mzML (cfb60e51e1cc45b58406e6fbbbad8d38)\n",
      "1002_20_30negA.mzML (16396accb6f24c588913c2a9a5df19f3)\n",
      "1002_10_20negC.mzML (9fa3786fc40c47648e2d7a4f5640ffe1)\n",
      "140815_R2A_2_NEG.mzML (c592427b85fb496f8c9ce20087f87283)\n",
      "20150107_NEG_6A.mzML (f5a66c9812ef40a6822de4d0e66ffc16)\n",
      "20150107_NEG_12B.mzML (dd08491184574198ae0f839df4704061)\n",
      "1002_10_20p2negA.mzML (8d18ebf7675d4ca8bb118a9b83014554)\n",
      "control3.mzML (285a9a355f024816bbb8fd2ef0aaabee)\n",
      "POS_4A.mzML (e12e09c43912451899c87f1dd83780cf)\n",
      "20150107_POS_C2b.mzML (bafa0e4185db486088fcd71ebc7feeda)\n",
      "POS_2B.mzML (35b96a3e2216442d9822101b8613a603)\n",
      "820_30_40negA.mzML (81b5dce4b09046c7905c9ccd6ed249ac)\n",
      "NEG_3A.mzML (36918f84b2954f79836d4c19a017f160)\n",
      "RPNEG_C4.mzML (2132abfd216b442da6badbce20d96f90)\n",
      "927p2_10_20A.mzML (6b081e48137f46259f4435842f479a75)\n",
      "1002p1_30_40A.mzML (777965bdbac3440b85a4a536d62a7e49)\n",
      "RPPOS_4A.mzML (cea8b23cefc643569a1f239d4aed9814)\n",
      "20150107_POS_3Bb.mzML (88461f89aa6d45a0bf3136b25238db1f)\n",
      "1002_10_20p2negC.mzML (db6db693fdea47ada221db9f716eab12)\n",
      "1002p1_10_20C.mzML (08b546642b3d4da79de567bb0c51aea2)\n",
      "927_20_30negB.mzML (54fb1a51d56f4c2487ca7fa595895f36)\n",
      "RPPOS_C1.mzML (d6ef8a4e4ee24f6097e262296d595dd4)\n",
      "925_0_10A.mzML (4ec47bb434264f53802edb078c6129df)\n",
      "20150107_NEG_11B.mzML (bb7e57af4a5b428f912d110bd8356248)\n",
      "820_30_40C.mzML (d79dff45c0234ecdb008a3bd093e20e2)\n",
      "20150107_POS_4Bb.mzML (aa489ec58f544806a5842e3da52babd0)\n",
      "1002p1_0_10B.mzML (86e0564cd76547b89b864bc66f7e7b4e)\n",
      "RPNEG_C1.mzML (470d9a41bf6f454d90c9a980d9d5bf32)\n",
      "927_10_20negC.mzML (a51f00c4c18e47a78b9f5996592643d0)\n",
      "Con9_lipid_long_POS.mzML (bbab290975f044488c9c5bed949b6664)\n",
      "927_10_20p2negB.mzML (7f2bc172f861477297df84a32e00e3bd)\n",
      "820_0_10negA.mzML (9eeba0c26866439e8bb08647665f842d)\n",
      "LIP3N.mzML (e048fa6f71124dcd8b99fdea73f0983a)\n",
      "POS_2D.mzML (2a346c00a000487bbf8b559f0384b236)\n",
      "20150107_NEG_3C.mzML (0a256028d507435681a726d867addcaf)\n",
      "POS_3B.mzML (99bba5e8000c470e9ac2edf62fe01f90)\n",
      "NEG_metext3.mzML (6ecfff4dcb6f49e7bc23c5c785c6cc0c)\n",
      "1002p1_10_20A.mzML (dab862063cab471baba1e8ac3110a5fb)\n",
      "820_0_10C.mzML (e421d0bd250c4c43b8682e7e431db2b3)\n",
      "HILIC AA Pos_TLW_B.mzML (c08a4307353042d0b43f864f8a218946)\n",
      "20150107_NEG_2A.mzML (ccae008737ab40beb0503429a497763a)\n",
      "925_0_10PPL2.mzML (b4574e5c0eb14a3d94f2949f3aa6a35c)\n",
      "1002_20_30negC.mzML (1e3f3d2654a24891b1f7aebbf413dab0)\n",
      "20150107_POS_2Ab.mzML (991a5483f27443f1847667deb9b7ce82)\n",
      "140815_R2A_1_POS.mzML (ff3e022946e24fb681e6465eb73a21c6)\n",
      "925_10_20A.mzML (21635b55b6b2415098d7bbe8cf264b03)\n",
      "Con7_lipid_long_POS.mzML (47d2b24a83b84188aa86d3667b900235)\n",
      "NegControlPPL.mzML (f6ac5d92dfb243e59e007c248e925db6)\n",
      "Con9N.mzML (573c02ef94a2406296942b7229320b1f)\n",
      "925_30_40negB.mzML (f556b6aa41aa4000b38bbf69657e55ef)\n",
      "925_0_10negA.mzML (c6a432896cf2450dba2fc66b3ad23bf8)\n",
      "POS_1B.mzML (bcb36311380e4b7293ae9023c294f935)\n",
      "925_0_10negB.mzML (12bdcc17d2b1424fa78be787478c0719)\n",
      "NEG_metcon9.mzML (637c17427f4d4039a2f3a45689b69db5)\n",
      "LIP5P.mzML (a5823e45c1af4660a4f85158ca587d52)\n",
      "POS_metcon9.mzML (9dad45aa0cbd43baa034f3e248eef04c)\n",
      "925_0_10PPLnegB.mzML (cabd85879ab741f2bdbd404d755a6785)\n",
      "LIP1P.mzML (0436848255ef44c6846abdd3a3a8a359)\n",
      "EXT3_lipid_short_POS.mzML (4976ee1927f24670a37ce4f915d194cc)\n",
      "Con9P.mzML (df91993fb1e24e58925065a3fa8a3d7a)\n",
      "RPNEG_13A.mzML (3f1478d2df5d43ac9132545f534fd044)\n",
      "RPNEG_5A.mzML (7b6e8eaf954a4b12a3ad9b1d1776b0a8)\n",
      "927_10_20negB.mzML (c9533c8212344d1ea38726a4db3f86bd)\n",
      "20150107_POS_7Bb.mzML (8cd4cadaa7a64db6ae31686962202fdc)\n",
      "925_30_40negA.mzML (bdd8618a96e947cb87683fb256dfa696)\n",
      "LIP6P.mzML (fe0cbd427b2a4dcf96034633333fef98)\n",
      "925_20_30negB.mzML (3140f396b28842e794165d388c258707)\n",
      "L14P.mzML (92c5097041bc46e49c3ce030eb401b4a)\n",
      "RPNEG_14A.mzML (d742697cd4c240009b66c84073fb2196)\n",
      "control1.mzML (fabad51496c549958a7a3a8840fb57bd)\n",
      "140815_R2A_5_POS.mzML (736d55b640cd472bb479da0c6513cb3b)\n",
      "20150107_NEG_C3.mzML (8bafba88d3c5405aa966fb87c5a8deb1)\n",
      "927p1_20_30C.mzML (90dc22328c724a6694bc6a836a14bece)\n",
      "L13N.mzML (d7b0c10a785f46c0b25a84b98f259291)\n",
      "927p1_30_40C.mzML (bb11b4169d9d4fea970a9675bc88c8d7)\n",
      "925_20_30A.mzML (61286f3855794009aaabdbf161317893)\n",
      "20150107_NEG_7B.mzML (2032d57739da464ebda83af02d509235)\n",
      "control4.mzML (80759a2da92d485f88572cac1a08455e)\n",
      "925_30_40B.mzML (76fccbcb288b467da337570b6e8a2944)\n",
      "20150107_NEG_5B.mzML (08b5cf269367406a9a7d79c459ace2fe)\n",
      "EXT2_lipid_short_POS.mzML (aabaed13aa3e49fb81d099a2f65c0b8d)\n",
      "POS_4B.mzML (daa998e73aa245508e94c8db79dec569)\n",
      "20150107_NEG_7A.mzML (fac9dba1f37a482b984da5a544150ccf)\n",
      "NegControl3.mzML (60258a7e46e147e2a6be6bdf19f686f2)\n",
      "1002p1_0_10A.mzML (727b7879f77a4a4297ff328958933a7e)\n",
      "925_10_20C.mzML (236e3a4b06ca4cbbb21d23b35f4f3cbd)\n",
      "RPPOS_2A.mzML (e597c075e9f54e298912f152518f9b27)\n",
      "20150107_NEG_C2.mzML (13825681fec94a328d33648a282e2a04)\n",
      "L13P.mzML (608af9c26eae41809e651cc4fa7607ab)\n",
      "1002p2_10_20A.mzML (7a9824a0cf7a4a59a084cb4f695eb494)\n",
      "L18P.mzML (f94c5483a84c495ba0ccc9f648cb36dd)\n",
      "20150107_NEG_11A.mzML (0f07f4f32e9b426a8abf751f285e1db6)\n",
      "LIP1N.mzML (1139c91876fa40d29654466b60179938)\n",
      "L17N.mzML (be85cbb064de45b9b32198c5cdb3f897)\n",
      "1002p1_20_30C.mzML (f5d6561f17cc4a50824317e71a9662a4)\n",
      "20150107_POS_8Bb.mzML (3bff53f35a5b4a5c9abc544f2dd2a3a3)\n",
      "L16P.mzML (b658c1a5b90240e4bf4744bfe8a6b55d)\n",
      "925_0_10PPL1.mzML (8f27c11c0eb8443695829946743ab47e)\n",
      "20150107_POS_C3b.mzML (41eda9b773da465a95daaf11c7e4f625)\n",
      "820_20_30A.mzML (fcb82e48e80146c5b8e455e65f0a67bb)\n",
      "RPPOS_3A.mzML (b2568b80e87d46e7818345d7d98a1364)\n",
      "POS_metcon7.mzML (d76e281b66074bc8821377e31223907b)\n",
      "140815_R2A_5_NEG.mzML (6809a6fd7c5640619f8945995c895926)\n",
      "925_30_40PPL2.mzML (76af46611db647e9af50f1054fede41b)\n",
      "927_10_20negA.mzML (1845fcd1c9e849f1bac0cb41f1773cb7)\n",
      "RPPOS_14A.mzML (4ad48ff899fa44d7810b1cccf34539b0)\n",
      "20150107_NEG_6C.mzML (70b24895b385445d835baabfcd6c7bc9)\n",
      "927p1_30_40B.mzML (8fbaf7b9a345468691ca80f0391ac394)\n",
      "820_0_10A.mzML (8f720abc50ba43ba8ac3ed8bf6217e83)\n",
      "20150107_POS_2Cb.mzML (1e88aa52df6c43b5885cb8afc6548b3b)\n",
      "HILIC AA Pos_TLW_D1.mzML (807107dac1e04f52a89165d3a1c75915)\n",
      "1002_0_10negA.mzML (b48997eec6504995a2d75df100686853)\n",
      "1002p1_20_30A.mzML (e9b8f7fed3094ddeb62cdf79f13b19f2)\n",
      "NEG_3C.mzML (02cf64acbea945dab967c85e791b502c)\n",
      "NEG_2C.mzML (088779cce3ea4896b6280c7cc4875010)\n",
      "EXT5_lipid_short_POS.mzML (405b638f822944279298433eefdab547)\n",
      "RPPOS_6A.mzML (0a10ef16625f4ef7a68fd6dbaa1b3b34)\n",
      "1002_20_30negB.mzML (3f714566c22e4469adb5214f04a01c25)\n",
      "LIP3P.mzML (af92b4acb2454590a85a2bd4008cb2a2)\n",
      "925_0_10negC.mzML (aa46bffb0da244d885b86004d4c90c86)\n",
      "LIP6N.mzML (0b2bd3d424d7419ea4383c1526a22d93)\n",
      "927p1_0_10B.mzML (dff1afeb3b1b4418b9c8b8decd5e0382)\n",
      "POS_metext3.mzML (cf1cc485f7f14f269aa8ed4892d19d28)\n",
      "RPPOS_13A.mzML (efc0c4bc6b274841b63ad429f37df2b6)\n",
      "20150107_POS_4Ab.mzML (26180458381c4729b3b7c4ec2d82a6d9)\n",
      "1002_30_40negC.mzML (0e62c4af285a4a2e962f8d5c630ee025)\n",
      "NEG_4A.mzML (5dfe68ffdb7f42f98428b070611e00c1)\n",
      "RPNEG_16A.mzML (82d8e54f51a94f58953af7405382987b)\n",
      "927_0_10negB.mzML (d44f9dfdd1a3414dbabad74b7dcbbbd6)\n",
      "NegControl1.mzML (ae7a57f28f05451fa669290e7c85710e)\n",
      "RPPOS_1A.mzML (5f365ba9a47c4fc7a258d313f225f0fb)\n",
      "L9P.mzML (abb4e8abf423480da66471f827744c1d)\n",
      "Con8N.mzML (36eb4d6a1de14132b741155feb63ed31)\n",
      "POS_metext1.mzML (e8a8b76296dd4b9abf028f24bac2f2df)\n",
      "20150107_NEG_3A.mzML (5b387e00690b4af489c5ead266f3cb2d)\n",
      "NEG_control4.mzML (224c3065492f452590aa612d01d9206e)\n",
      "20150107_NEG_12C.mzML (ed0b631b340546a78d97a34ab8e305f9)\n",
      "20150107_NEG_7C.mzML (2dccac4a8f2247c493668c4f30fd2fb8)\n",
      "POS_control4.mzML (1f2444e307cf43b59bde081e7e805436)\n",
      "L15P.mzML (81b0cc10474147b9a1c1760471d341fb)\n",
      "927p1_10_20B.mzML (cefd799beb7f41038b8bc350767b9842)\n",
      "927p1_10_20A.mzML (127bef60f1dc451c9f489e75ce653e4d)\n",
      "RPPOS_C2.mzML (abd7aa9860fa4c67812fcadfeeefac98)\n",
      "140815_R2A_1_NEG.mzML (514fcb69aaa84b9b95461e8a5a48663a)\n",
      "925_30_40PPLnegB.mzML (ec2f296953b841b18a11440600848c9e)\n",
      "HILIC AA Neg_TLW_B.mzML (187ab24095664801a6163f20ee129746)\n",
      "20150107_POS_11Ab.mzML (c2ce886c37a340999937511a1bea26c7)\n",
      "RPPOS_15A.mzML (86c7350a3b7449c298d415f7743d0aac)\n",
      "L19N.mzML (574967f268b54e3394d696e8863eef15)\n",
      "NegControl4.mzML (d122c711a4f245208e1a2bbd42c76a76)\n",
      "925_30_40C.mzML (30e1d0a9ee0f461b9bf2e32fd04f2968)\n",
      "20150107_NEG_10A.mzML (016ba102cc4b4135a65c4541d5a461b4)\n",
      "RPPOS_16A.mzML (254a672d65c44a83b0c7c487f0b77038)\n",
      "EXT6_lipid_long_POS.mzML (8a47ca0de68f4b9b91422149b09bd7bc)\n",
      "POS_metcon8.mzML (84ab2e0eaffd4e3e99b280a885ff1095)\n",
      "820_20_30B.mzML (dfc834d25ded42669c064cca8dcfb0fe)\n",
      "925_10_20negC.mzML (a69630da5d9f4139bf1146765837ec5e)\n",
      "L2P.mzML (c7c90084eaad4e398bf7e021f4a60c6b)\n",
      "20150107_POS_6Bb.mzML (50852a8fc8b046d8917a1885ff3a3c20)\n",
      "1002p1_20_30B.mzML (6c6306845a52461dbb1be5de3882d38f)\n",
      "L3N.mzML (cd5f782ac3e747d5b162a0c7200f238e)\n",
      "Con9P.mzML (d44dd6d9c916416f866dffcb220fcfc3)\n",
      "L13P.mzML (20bf863c64304ee78d8760c9290879b8)\n",
      "L14P.mzML (1e410f8075804ddaab42979b182cd6bf)\n",
      "L20P.mzML (9f9ab3e56f784007a206fe8dc6497df8)\n",
      "L15P.mzML (1437d2947cb642da9e78a65941c122bb)\n",
      "L4P.mzML (04a838f008c447b8b996daeaea20e675)\n",
      "LIP1P.mzML (bd61c6e824a44b1ba897fab34fa5a01e)\n",
      "L16P.mzML (d87ac803334f447f8f88a9715c2b3e7c)\n",
      "L2P.mzML (c86d36cd657e4e14b4824c6c2c4bfbf7)\n",
      "L5P.mzML (6752b1b69cd84ae29f7f0b14e59dfc41)\n",
      "L17P.mzML (67d88e334d03400bb751b84643109aec)\n",
      "LIP2P.mzML (ebc73523ddca4754b4feb411d9968dcb)\n",
      "L6P.mzML (1d8c895fb1ee4510af7e427340f23973)\n",
      "L3P.mzML (540812ffea9140a0a470a276949d1d9e)\n",
      "L18P.mzML (33d230fa9efa44f19942732d5c7d0937)\n",
      "LIP3P.mzML (e4352366e10c4bd3ad4a286e7660e40a)\n",
      "LIP5P.mzML (ef23b90ae22e4befa424ce07b6281a62)\n",
      "L7P.mzML (2d21bd7ce5f74d618219fad73743241d)\n",
      "L19P.mzML (83dc3432afed419aac38553e6da33903)\n",
      "con8P.mzML (84c90490289a4caebb1b31957ff47321)\n",
      "LIP6P.mzML (f50dd02eb97640e490e3b436ca5ccb21)\n",
      "con7P.mzML (013c7b42aea04ea08d4caf00a99f9342)\n",
      "L8P.mzML (39dad099a1974849b17d5dde3440bc32)\n",
      "L9P.mzML (0a14a61599e14354a5d5ddfb8ff4a516)\n",
      "Con8N.mzML (c03234f9fc4449aa8eae16d82509523e)\n",
      "Con9N.mzML (d0e2fd3bcbe14cd48b0754b7da15e783)\n",
      "L13N.mzML (4339ae080aa64bf79d4a799c3c038580)\n",
      "L14N.mzML (fc3d84a4e9ce477399dbd27b8eb55c6c)\n",
      "L15N.mzML (d6bffc8791504141956e6c93bb595422)\n",
      "L20N.mzML (013ae67faa9d4c7b8b788163e14ef5d0)\n",
      "L4N.mzML (68badbf6fa6142a283ceb11bf45cefb2)\n",
      "L7N.mzML (719cbe0a1f94474ab1266e83eb314347)\n",
      "L16N.mzML (91936669b2aa4a74b44433ddc01805c2)\n",
      "L2N.mzML (6299284ce9ac4434ae4ebc2f45edeca7)\n",
      "L5N.mzML (df24c577dfe74b679188f270286a7fd5)\n",
      "L8N.mzML (5d8aed489eb44a75bb5a88c35031075c)\n",
      "L17N.mzML (505ed8ec1d914e88965b8be64d6348f2)\n",
      "L3N.mzML (7c2420f2b5c5404ea342939b57654b73)\n",
      "L6N.mzML (920911a5c5634ed683c920d3c7c97f14)\n",
      "L9N.mzML (a49fe33c83a046eba182887499ab00e0)\n",
      "L18N.mzML (6bcab369410c403f806722715ff8a187)\n",
      "LIP1N.mzML (28db38f797604cacae7fbd9876bd53fc)\n",
      "LIP5N.mzML (dd1dfb0910494834881ce03f33f652fe)\n",
      "con7N.mzML (5315dad7b61d4b6ab5324aed499ecab1)\n",
      "L19N.mzML (6de2db0f3bae4c019e423c93b48a981e)\n",
      "LIP2N.mzML (859eb742fd8d48619562b086e94f4ef4)\n",
      "LIP6N.mzML (59440792620647fc9c2e8c85c9091a94)\n",
      "LIP3N.mzML (fed41cbf49d54206905c187b2cefdf2d)\n",
      "NEG_metcon7.mzML (a590248ab7a34eb892837743133d16e6)\n",
      "NEG_metcon8.mzML (fc7f7a9db52941b8a6b3459a048ba070)\n",
      "NEG_metext4.mzML (7b7851c41d9045588e60f6865e5337ed)\n",
      "NEG_metcon9.mzML (dfcc4aa78c5c4f42890d1db8d65a2874)\n",
      "NEG_metext3.mzML (9c2a60cabe7c4de49cdc11a09bd48fe2)\n",
      "NEG_metext1.mzML (f501fd40a3a5431fb6dc99496c7302c2)\n",
      "POS_metcon9.mzML (3cecb2f376cd42cda6ca11032afee518)\n",
      "POS_metcon7.mzML (91cc6fd405f048d7943ad184909daf5a)\n",
      "POS_metcon8.mzML (c99ff82a756543af94eac7da9794a416)\n",
      "NEG_metext6.mzML (bc37c00baef44e8288848d53eeeaf251)\n",
      "POS_metext1.mzML (ae1c33e52ee44c41ba881d40ee3356f3)\n",
      "POS_metext3.mzML (80ce6f57b3384c6fa7ba59a117dda04d)\n",
      "POS_metext4.mzML (ed67df58909c44bcaf33d0d4dea6ce0e)\n",
      "POS_metext6.mzML (d698b2e170fe4d66ad6023eb9b1fcc78)\n",
      "NEG_metext3b.mzML (7a9a4da0559b45bdb9ed542e85ec765e)\n",
      "Con7_lipid_long_POS.mzML (ffba0905a1e3478cbad2f22c83cda1fd)\n",
      "Con7_lipid_short_POS.mzML (a4b08c3ec3674b6c84597f394bb00898)\n",
      "Con8_lipid_short_POS.mzML (9d2ccfb4c7574fc982f1a2ecc5a085be)\n",
      "Con9_lipid_long_POS.mzML (2f245e3ae64c40619ba16bd85f6e3f65)\n",
      "EXT3_lipid_longMSMS_POS.mzML (093ed6cdd5dd464589c28a17d3d7bd20)\n",
      "EXT3_lipid_shortMSMS_POS.mzML (c94bdfa8fbe1443fb6712c06f154c846)\n",
      "Con9_lipid_short_POS.mzML (34ef0e6142e343758910e5dd80cbf85a)\n",
      "EXT3_lipid_short_POS.mzML (344d9bbf4015472d9eae080d4c678939)\n",
      "EXT2_lipid_short_POS.mzML (a3aed9bdfa2e40a9890042af5470b3d0)\n",
      "EXT3_lipid_long_POS.mzML (aa442845cd054020b17af65ed4e65845)\n",
      "EXT1_lipid_long_POS.mzML (b55934ffb69d4f3bb0c32bf87517bace)\n",
      "EXT6_lipid_short_POS.mzML (2bcaa68923ef4f91a5494a8c1c433832)\n",
      "EXT5_lipid_short_POS.mzML (d60491bfc30f48faa8cb19ee17d305ad)\n",
      "EXT4_lipid_short_POS.mzML (e5f420fc07e145ec83e2deff5b57d4bc)\n",
      "EXT1_lipid_short_POS.mzML (71594cad015044268d9b555caba55d33)\n",
      "EXT6_lipid_long_POS.mzML (8d123dd32ef04f8fa568a2e66e235e69)\n",
      "140815_R2A_1_NEG.mzML (b725885e742c434cb59a7ada60826702)\n",
      "140815_R2A_3_NEG.mzML (668d1b8bb4e34cb589daa3be5020143e)\n",
      "140815_R2A_1_POS.mzML (1c4106c08e6e40239a00de455fa289cc)\n",
      "140815_R2A_3_POS.mzML (8342612580e34aa286ce10b79e7e1699)\n",
      "140815_R2A_2_NEG.mzML (89998c679e88493c8f71c4ad593d29b5)\n",
      "140815_R2A_4_NEG.mzML (98086580c3504ae8bb4f2cf65fec5b5e)\n",
      "140815_R2A_2_POS.mzML (e75624255c0b4bf08f0e161dddbf9bfd)\n",
      "140815_R2A_4_POS.mzML (75cd3a9b487643cdbe87c3e9586f400f)\n",
      "140815_R2A_5_NEG.mzML (c35c8bc2b59048fb8a183f609a8381b1)\n",
      "140815_R2A_5_POS.mzML (6843c9606f5f4c3db725ee359c93527b)\n",
      "20150107_NEG_10A.mzML (65b40d39cea148128cb66d2f8568393e)\n",
      "20150107_NEG_5C.mzML (e10d61ad384a4ae090d3e9be12af34fe)\n",
      "20150107_NEG_10B.mzML (13b243becf004f04a9ba4e2e91fbcd7d)\n",
      "20150107_NEG_10C.mzML (4648363a30ae4074a6d18abc1d995445)\n",
      "20150107_NEG_11A.mzML (e08bd374935f4dcfb3bbf42286fad2f0)\n",
      "20150107_NEG_11B.mzML (96fc00b7bb20498a802f872dd67a8e99)\n",
      "20150107_NEG_11C.mzML (113ddfc444a94561ab93843082dd3e16)\n",
      "20150107_NEG_6A.mzML (aa0098b60b0a4c7380934b6b8e14fa00)\n",
      "20150107_NEG_12A.mzML (b8a0f66ba8bd437e831c9ced87a2be97)\n",
      "20150107_NEG_6B.mzML (9ffdd400be874bfaa9d41a27fc5238a7)\n",
      "20150107_NEG_12B.mzML (18785f06f5e54fc19bc5443cadb00f35)\n",
      "20150107_NEG_6C.mzML (8cfab1ff7f3a415cadc26cd122630da6)\n",
      "20150107_NEG_12C.mzML (29d12460c6b44d60b13a17521cd2eaea)\n",
      "20150107_NEG_2A.mzML (890d1e77ae224f4eaa1cc66b347fd508)\n",
      "20150107_NEG_7A.mzML (dd6eeb2374c44b2ba29912fa430a76ae)\n",
      "20150107_NEG_7B.mzML (6c4a65687d174e2996ee46b4ec60a837)\n",
      "20150107_NEG_7C.mzML (543ac10b03ac44abb18e57a32173bed3)\n",
      "20150107_NEG_8A.mzML (a1a8514dbfc84712bd0957d5aa22d59c)\n",
      "20150107_NEG_2B.mzML (ac2d1f7e38e84b8fbcf9e955b6aa7acb)\n",
      "20150107_NEG_2Cb.mzML (ecd0686b76e345968ede8efbc628ce9e)\n",
      "20150107_NEG_8B.mzML (d385eefc8cb64517b56f94268f0e769f)\n",
      "20150107_NEG_3A.mzML (50410209a3794431a1047b7c8887a8ab)\n",
      "20150107_NEG_8C.mzML (a48f77885b8242648ba3241d315207c9)\n",
      "20150107_NEG_3B.mzML (70d2a2b326f640b58168cfedfaa49b72)\n",
      "20150107_NEG_C1.mzML (d467eda6775c48eda75ce287d6e4cfd6)\n",
      "20150107_NEG_3C.mzML (b9a179258d5e4591b768912c3c3842e4)\n",
      "20150107_NEG_4A.mzML (d942072244b74545883a24fed04a5d75)\n",
      "20150107_NEG_C2.mzML (c115b007a43a49f1b8f130dacbc72555)\n",
      "20150107_NEG_C3.mzML (c5e88861bcd84f02b636bbb9045dcab5)\n",
      "20150107_NEG_4B.mzML (a80e2745d4dd45328682b4e2e2086200)\n",
      "20150107_POS_10Ab.mzML (02e4debe8b9441cfae22309f68fe2a05)\n",
      "20150107_POS_10Bb.mzML (6595b1d4ee714e8aa58ce8a233326b78)\n",
      "20150107_NEG_4C.mzML (0afa4d185f1e492caeec3b59d66ad1a2)\n",
      "20150107_POS_10Cb.mzML (fa67d9db7420463d9bf3b77c2e18d65d)\n",
      "20150107_NEG_5A.mzML (0555f02310d9414cb034bb0b42d98da1)\n",
      "20150107_POS_11Ab.mzML (457b7eb43d944f609a5cf6c07b028c8c)\n",
      "20150107_NEG_5B.mzML (d0bb8e8a8bf04329a718e62024da5494)\n",
      "20150107_POS_11Bb.mzML (cb768c2af54f4b0eb69c760ed2203af2)\n",
      "20150107_POS_11Cb.mzML (675fe2e4c06b4501af5df7d157075383)\n",
      "20150107_POS_12Bb.mzML (01fededb8a8b49c6bfc1f0a213171632)\n",
      "20150107_POS_12Cb.mzML (0c6b1a0d85f949f19a9c92bbcd29c9b1)\n",
      "20150107_POS_12Ab.mzML (f245678eb78f457fb70b0b2b71d2baf3)\n",
      "20150107_POS_2Ab.mzML (73f1e40272c84dddb3cc7a1aef190233)\n",
      "20150107_POS_3Ab.mzML (2b94b291add24a68acb78336a9f128f8)\n",
      "20150107_POS_3Cb.mzML (d60d1f6197904cac8f470be8d873a5d8)\n",
      "20150107_POS_2Bb.mzML (8b0a03e4302742e7ab2373316171052a)\n",
      "20150107_POS_2Cb.mzML (893237c2d49a44558cb210b197e6f4f0)\n",
      "20150107_POS_4Bb.mzML (2f11c4d7cd2141b9ba4d703b023f2f46)\n",
      "20150107_POS_3Bb.mzML (fbdc104904cd40bfb6c0994a0f3e5d61)\n",
      "20150107_POS_5Bb.mzML (235a8c6c92e44a2c8763071dd5b7802b)\n",
      "20150107_POS_4Ab.mzML (183367f60d8e42e2b847cfc8b56e71fa)\n",
      "20150107_POS_5Cb.mzML (115d3ce8662e4a0c8331c50f1b28bf29)\n",
      "20150107_POS_4Cb.mzML (6a13e4dadbb0468ba90f4f83b6a8e438)\n",
      "20150107_POS_6Ab.mzML (b897e3e6bc8c411c84ba5b29a3768e7b)\n",
      "20150107_POS_5Ab.mzML (bef93303ff784dd5bf818a94ae1d80ed)\n",
      "20150107_POS_6Bb.mzML (eba282ce4f3444ed9cb25b85b283d9ee)\n",
      "20150107_POS_6Cb.mzML (b3b437254d6246c492ae0d9e0d2c67fb)\n",
      "20150107_POS_7Bb.mzML (df573652742c44969271fefd91bce5c8)\n",
      "20150107_POS_7Ab.mzML (4d789152730a49f3bad1d688eccfc247)\n",
      "20150107_POS_7Cb.mzML (b9f7890190db42d79b94f01e7cc6a7dd)\n",
      "20150107_POS_8Ab.mzML (4bbc36cc569647448cbcfefdd7bb02ad)\n",
      "20150107_POS_8Bb.mzML (77a40c541bf242eaaea36f4b4c3b62fe)\n",
      "20150107_POS_C1b.mzML (ed7e1d86304f43fa845fded1c5937b46)\n",
      "20150107_POS_8Cb.mzML (9e5d510d87bf431cb45ca37497378531)\n",
      "20150107_POS_C3b.mzML (e5e9c17a17754b949b384cf4f0088b4c)\n",
      "20150107_POS_C2b.mzML (ebf7bbc52f0a4f8da51ad9085bcaa351)\n",
      "20150107_NEG_10Acopy.mzML (3e4d7854dcc04d3db777d3b3e6153e7b)\n",
      "NEG_1A.mzML (153a05e4c8aa4cc495425d7e6fb4ff63)\n",
      "NEG_3A.mzML (bd76c8a3a108406b90203f5fa501a75c)\n",
      "NEG_3B.mzML (abf0da6adf1e42318df4f3ca021df6ce)\n",
      "NEG_1B.mzML (e59ded2fb3e345c19acb09ffb12c6df4)\n",
      "NEG_3C.mzML (ff99840c21a4438482bdd2e522c27298)\n",
      "NEG_1C.mzML (e37df64878204fcb9181895349445112)\n",
      "NEG_3D.mzML (c994dbbd0b674206aed16d8bc8d98bc2)\n",
      "NEG_1D.mzML (f11ddd9862a3432db9fa3786fcc757ae)\n",
      "NEG_4A.mzML (344bb550121b4f3189fc52467f56362d)\n",
      "NEG_2A.mzML (636fa086af9b4a4e84d975a8ae19f205)\n",
      "NEG_4C.mzML (ec1695738c5048d0af991195f1b99819)\n",
      "NEG_2B.mzML (1e386b11ea0a4a14b223587f6455840e)\n",
      "NEG_4D.mzML (30b77576266846599be2fdf56017fc5c)\n",
      "NEG_4b.mzML (139157c78af642f2b465e0dab0aaf455)\n",
      "NEG_2C.mzML (4746a461e5074037a817eea574bad3ba)\n",
      "NEG_control4.mzML (9baede2ef61e4a539bf06b81f8d3f1bb)\n",
      "NEG_2D.mzML (69ca1ebd6fe5476c9e48fbc79e47f31f)\n",
      "POS_1A.mzML (8a4d02ae942747fbb6f836997e8022b0)\n",
      "POS_1B.mzML (447af44049f64ccf89fb26f724510229)\n",
      "POS_1C.mzML (aa4d32fec8974e3bb9ddf583e7779af8)\n",
      "POS_1D.mzML (3dfb54c6dc56441bb4532646262c9d22)\n",
      "POS_2A.mzML (0c9417ff4ecd46cd86a9470d86248632)\n",
      "POS_2B.mzML (42bee24859be4f88a2a9a19718cc250f)\n",
      "POS_2C.mzML (805baea94f3c41ee8c1392927a5b9ec8)\n",
      "POS_2D.mzML (9ea06c7651a145c89068d0eef986f352)\n",
      "POS_3A.mzML (b6f8cd503a894d4da743840edd8f39d2)\n",
      "POS_3B.mzML (98ef374a4dcb49adb84b90432a646d27)\n",
      "POS_3C.mzML (751ddd252fbd44fc99937714610096b1)\n",
      "POS_control4.mzML (403182263f0b44ed94d765323b587f71)\n",
      "POS_3D.mzML (b9f8011045964141afd20fc5e4ef6605)\n",
      "POS_4A.mzML (079431d0ac0b4ac896aaabf87cad35c9)\n",
      "POS_4B.mzML (268cf7412d38493dbb11b92297b96eb8)\n",
      "POS_4Cb.mzML (f3b26f064ba24f70ae5ee4b2a1e07164)\n",
      "POS_4Db.mzML (a478ecd9d29c4c6f858038219ac080c5)\n",
      "1002_0_10negA.mzML (a3cad34d67cc416cb3f7867507750a25)\n",
      "820_10_20negC.mzML (a7504b532e664d33993f8ea494be6236)\n",
      "1002_0_10negB.mzML (7c043641c9494bd9b78624c25eb24d8a)\n",
      "820_20_30negA.mzML (854fea4354f94cb3b319f92226134cee)\n",
      "1002_0_10negC.mzML (532d08c258fe41d980dd176c712ee412)\n",
      "820_20_30negB.mzML (9177a49f2c7f4259b8671b91945a2dc0)\n",
      "1002_10_20negA.mzML (663ec7b36ecb4143ba222eec88571720)\n",
      "820_20_30negC.mzML (4c267da48bf54d3586d117217084105c)\n",
      "1002_10_20negB.mzML (611c19022ec84eda90521b587a922e97)\n",
      "820_30_40negA.mzML (1476ce29cd2248318b2783da74232757)\n",
      "1002_10_20negC.mzML (51f3ab1bcd5a46bb807d23981d564f47)\n",
      "820_30_40negB.mzML (10ba95b2732946f094c52b21d49d697a)\n",
      "1002_10_20p2negA.mzML (5889c099012c4428b9daa7039669cfd6)\n",
      "820_30_40negC.mzML (8674858f6d184a47b38869dc50d43ae0)\n",
      "1002_10_20p2negB.mzML (0e5ff07ed0894bbba293ef5b566e0100)\n",
      "925_0_10PPLnegA.mzML (5842f4a1304d48e4a4bb78bba27e3d8a)\n",
      "1002_10_20p2negC.mzML (45407c619a3d485bbf0539d597efd923)\n",
      "925_0_10PPLnegB.mzML (47830df386974226ac84e81dd237f18a)\n",
      "1002_20_30negA.mzML (8870e8358dc74f63bb247afd1004aad5)\n",
      "925_0_10negA.mzML (35874af8b9bf4ab6bfd9e9dd38d99b01)\n",
      "1002_20_30negB.mzML (dc96b8b6787c4e4bb0dee1d0f98a0cac)\n",
      "925_0_10negB.mzML (33adbe89689f4bc5a71340c066598baa)\n",
      "1002_20_30negC.mzML (5b8f3483e1a84ab7b2ed405ee0de1604)\n",
      "925_0_10negC.mzML (edfb8e5a90994999a0bcf88299f85647)\n",
      "1002_30_40negA.mzML (ad77a4cdff8344eea27dd88244cb610a)\n",
      "925_10_20negA.mzML (2115efeb1c2948398ff8d19f05094f15)\n",
      "1002_30_40negB.mzML (0d6e6ca6efe84ac681361ebb0a9a3abf)\n",
      "925_10_20negB.mzML (280751278b284ea38d83298bb36bac02)\n",
      "1002_30_40negC.mzML (7526e3091b4447618ff9c3c431f13386)\n",
      "925_10_20negC.mzML (9f4a983300984cdeb10ec4ec953f2fe2)\n",
      "820_0_10negA.mzML (b7522c7c3b9a4dfa96e272302877ff7c)\n",
      "925_20_30negA.mzML (c2183b22197545a7a0dbbc4618e91b81)\n",
      "820_0_10negB.mzML (22e55cec7a5147969af5cbfdc38a0685)\n",
      "925_20_30negB.mzML (c721c84bafe34081871964bcc8088aae)\n",
      "820_0_10negC.mzML (672718261b2146f29ac79da7706ac6b2)\n",
      "925_20_30negC.mzML (f845fc55ccf04c168963024d0043e6d6)\n",
      "820_10_20negA.mzML (52f73b48980d4e6596b97633d181c14c)\n",
      "925_30_40PPLnegA.mzML (b341149b146a4db58eb1bfe73e8ae768)\n",
      "820_10_20negB.mzML (068f3368e2a24059990de56c8d1fbd35)\n",
      "925_30_40PPLnegB.mzML (c26f288865ab46679133eb38e2f6bb9a)\n",
      "925_30_40negA.mzML (d8b24366cb054d5b904bc544bd6b48ec)\n",
      "925_30_40negB.mzML (8a311dc003a44bac8cb4185b269dac6d)\n",
      "925_30_40negC.mzML (f4e627cb1b8f43a4a9a171b7b4da1a8d)\n",
      "927_0_10negA.mzML (73ceb830b268460eb85ffb8969a4da1b)\n",
      "927_0_10negB.mzML (bcf056e888d5473abe184f3420d91528)\n",
      "927_0_10negC.mzML (5ed7810942254b08a1d686d89a43697c)\n",
      "927_10_20negA.mzML (5244194f6a3541ae921744e24c867599)\n",
      "927_10_20negB.mzML (59b6bebf63c44363994d57bd4067106c)\n",
      "927_10_20negC.mzML (3a01cb03e6f641ee8bbe39405c501666)\n",
      "927_10_20p2negA.mzML (3f4322a99ead4433a2bed9bb7caa1712)\n",
      "927_10_20p2negB.mzML (4cc822a9dd8341c3911a081bc2bed616)\n",
      "927_10_20p2negC.mzML (16d5926c87c34cfc971bf1ce6ab13ca6)\n",
      "927_20_30negA.mzML (025fca8d5f9b48e7a5f8f51b5cc7a525)\n",
      "927_20_30negB.mzML (fdad95cfac2d4c7bb605a0d4a584612d)\n",
      "927_20_30negC.mzML (ccd2900d764f447a8541f9923350778a)\n",
      "927_30_40negA.mzML (f9b770b56d154116b6b2c88fc5798102)\n",
      "927_30_40negB.mzML (8d013e8e86ef4404a045b055e0995deb)\n",
      "927_30_40negC.mzML (0c18bbddff1c4453b362670ddbfb79ce)\n",
      "NegControl1.mzML (7ca2f922f13a469c9b325596392e75da)\n",
      "NegControl2.mzML (0c1f8718e7f540a38d30422414d19bc8)\n",
      "NegControl3.mzML (016238f473584cb783da75d64c6d828a)\n",
      "NegControl4.mzML (5dc6dd2b9c184e5a98acaa096e014928)\n",
      "NegControlPPL.mzML (1718164f9e8f41af8b7889f1fbc6a54c)\n",
      "1002p1_0_10A.mzML (87d8ec17d9fe44918e5d8d90dc0c8504)\n",
      "1002p1_0_10B.mzML (1248468b0aa241c2916b044605f816e1)\n",
      "1002p1_0_10C.mzML (912eda910c6a4755ad4e8971a44e832c)\n",
      "820_20_30A.mzML (aa20046aca1441d594cdd9c62091f77c)\n",
      "1002p1_10_20A.mzML (6c88def5a57b43d0a46adc63343861e6)\n",
      "820_20_30B.mzML (1c3156bdcfd746a6b5025cf7b0866b99)\n",
      "1002p1_10_20B.mzML (11c8f6007b6e42b08045089428a6b9f7)\n",
      "820_20_30C.mzML (22903c1a16a64ab4b2cfb88c26bacde1)\n",
      "1002p1_10_20C.mzML (ba612c82333f48728e5e2425262e1e9a)\n",
      "820_30_40A.mzML (6546c6980c2d48ecb1d7a35715816352)\n",
      "1002p1_20_30A.mzML (70ea9c2bf1d947e3a5249b3aa4d9bc53)\n",
      "820_30_40B.mzML (8508885a104448658514be7748707d0e)\n",
      "820_30_40C.mzML (92aeeddc11c044638b4d6b722888d532)\n",
      "1002p1_20_30B.mzML (9a021459fe3d40378502a412433d4f42)\n",
      "925_0_10A.mzML (230f3ed4cc044992a7dde6b07fb62bd7)\n",
      "1002p1_20_30C.mzML (5cda5c6c2cde4b53bd220a2d57d5ab2b)\n",
      "1002p1_30_40A.mzML (cdcb1989837749b28fdec8c32e74ec73)\n",
      "925_0_10B.mzML (214195c7875646d0b513a3f217ee9b80)\n",
      "1002p1_30_40B.mzML (461a7783a49b4070a18b2953e6cf0235)\n",
      "925_0_10C.mzML (b38a298edccb4356a694b47882e5dcb5)\n",
      "1002p1_30_40C.mzML (2ff70dd6583f473dad91910ed7645cd8)\n",
      "925_0_10PPL1.mzML (58dabd3087544c64a0dfb8f4972aaa93)\n",
      "1002p2_10_20A.mzML (91c426e2eb784cfdbd716c9c18612606)\n",
      "925_0_10PPL2.mzML (9975bc9fb10b4f4188bdfbd728514836)\n",
      "1002p2_10_20B.mzML (12551fedf77a4fe7b70d9ff1de366eb3)\n",
      "925_10_20A.mzML (fe2f7ba929164f899b732199a27548c3)\n",
      "1002p2_10_20C.mzML (51150cc89f0a42abbaedccba53eadff6)\n",
      "925_10_20B.mzML (9d6eb26182ec47d7865ccf39718a208b)\n",
      "820_0_10A.mzML (abc367b2bf2f4bcb93ed33c4290c0f37)\n",
      "925_10_20C.mzML (89bbfadea9eb4acaab4b20e28e1cbcc0)\n",
      "820_0_10B.mzML (5b72e6f3a201410c8100efbf7bb83770)\n",
      "925_20_30A.mzML (bd5315da58694569b7b6581fe106c6c3)\n",
      "820_0_10C.mzML (1346d899dc0b4cc985052663560b957c)\n",
      "925_20_30B.mzML (39062761d4464c6e92131856ddc76a51)\n",
      "820_10_20A.mzML (c663dd2b06424670a27f072118a1c0fd)\n",
      "925_20_30C.mzML (39379c110a4e414cbf7c29d16fa0b16a)\n",
      "820_10_20B.mzML (66824d89127e4414b22b1d927f1d60e5)\n",
      "925_30_40A.mzML (dcfa00fabcb34bba9a5ac1a9e4f1c2fe)\n",
      "820_10_20C.mzML (1d8125058d3a4ecb93a391e3c5f278b4)\n",
      "925_30_40B.mzML (6cbcd9d51e764ed781ebd29a3263dd2f)\n",
      "925_30_40PPL1.mzML (0071c0423e114bc6b6834a7563e2211b)\n",
      "925_30_40C.mzML (100184e0c31946a094f29a746f33e106)\n",
      "925_30_40PPL2.mzML (d6ea3b1b4a474c9a9928e4791282515e)\n",
      "927p1_0_10A.mzML (08e23ea41f1040c9acac0ebd436bd28f)\n",
      "927p1_0_10B.mzML (a67351a375024f108788e1f8a5aa18eb)\n",
      "927p1_0_10C.mzML (641372ec6da648f99896f43f45d0ae0d)\n",
      "927p1_10_20A.mzML (4899df59696d4971bfd56b4f0a05666b)\n",
      "927p1_10_20B.mzML (944c7cb0c223470fadf106a3f083bf51)\n",
      "927p1_10_20C.mzML (db10a2e28b364043845b7c5fc09f5fb2)\n",
      "927p1_20_30A.mzML (bf50703d471a4851b0822ddfe1e48bb9)\n",
      "927p1_20_30C.mzML (23d0dfc6344141d59b237c974effcefc)\n",
      "927p1_20_30B.mzML (9f3d1bd311534308b272e52ad46da5e8)\n",
      "927p1_30_40B.mzML (0c43f6e0b1fd4f598a2eafba24d88554)\n",
      "927p1_30_40A.mzML (99166e31ad9847fe8846402d3ad6b31c)\n",
      "927p1_30_40C.mzML (e17f5781b45541679825ad52508e35c9)\n",
      "927p2_10_20A.mzML (4cac0583aaa6480b9f05d3feea5df2ae)\n",
      "927p2_10_20B.mzML (2af8d3d4c6a64a9896be94cf969d4fd2)\n",
      "927p2_10_20C.mzML (ec65b17be2d44325b04ab94b4e1878a6)\n",
      "control1.mzML (311c0fd84b2a40fbbd1b270bab612186)\n",
      "control2.mzML (dcbec32b13474c6da06ce4a2f08c5041)\n",
      "control3.mzML (4e067c6cc7134d50875aceddeb88a1e0)\n",
      "control4.mzML (66fdc533747d4c5897149e7d20442674)\n",
      "control5.mzML (646793e0380a42bb8b3318ce977f45bb)\n",
      "RPNEG_13A.mzML (df5e5ff5381b420aa872c78d80bc9cc7)\n",
      "RPNEG_14A.mzML (92796b9c7bdb45d2b3718c7b3896f353)\n",
      "RPNEG_16A.mzML (79c116c2750f4a888226149bd3548887)\n",
      "RPNEG_15A.mzML (fc9beebc059d4349979fce9992136867)\n",
      "RPNEG_3A.mzML (541d72db80a643b0966f79ca5787c769)\n",
      "RPNEG_4A.mzML (a7245e241e0f4856a5f5fa0de7a7bd43)\n",
      "RPNEG_1A.mzML (00c7ac79c7324b06be0d5bdd734b5657)\n",
      "RPNEG_2A.mzML (5343a5946252426e98fb1da19a9715d3)\n",
      "RPNEG_6A.mzML (395570a754144ebeace972a377665f75)\n",
      "RPNEG_5A.mzML (e0966402966b41ceaa68ed608b88ae76)\n",
      "RPNEG_8A.mzML (5ed6e57e874c49f0a381f65c75e56106)\n",
      "RPNEG_7A.mzML (8ea41e2aaf2041ccbf2b1a8f5bf81f97)\n",
      "RPNEG_C1.mzML (306ac40caf454d25b33991e4e31322ba)\n",
      "RPNEG_C2.mzML (4dcb147a390d4b8a873ae0e3e00a257b)\n",
      "RPNEG_C3.mzML (99ffdedd445045f6ba7faec9e95bcdf4)\n",
      "RPNEG_C5.mzML (c7bb4f99b4974136803f1f6f3e712ec4)\n",
      "RPNEG_C4.mzML (1b2724ff17654b60961842a3c3a9e3b7)\n",
      "RPPOS_13A.mzML (0249215f93244f56b39a257fbd48bb93)\n",
      "RPPOS_14A.mzML (70ed7feb707b4666a2e7aa1e54376a9c)\n",
      "RPPOS_15A.mzML (79d50ab4d3f94d75b5d5d3a34b0fd973)\n",
      "RPPOS_1A.mzML (d57b6fb38b7649f794bb03ddfefd93d4)\n",
      "RPPOS_16A.mzML (ac0440da365946f2b5abac740d1ad97f)\n",
      "RPPOS_3A.mzML (8b5154244e9146cd9b9826db83ec0a89)\n",
      "RPPOS_5A.mzML (723a29cce26b4593bcacf71d157917d6)\n",
      "RPPOS_4A.mzML (5f279d0d73a8404b91e839006449d872)\n",
      "RPPOS_2A.mzML (ab4aa606cace48f28c4f6ca1d9c1ee98)\n",
      "RPPOS_7A.mzML (717693c7dcc34a7b8c8bdc4cb8224e4f)\n",
      "RPPOS_8A.mzML (31175eaebe2c4a80910a96fc7d66c424)\n",
      "RPPOS_6A.mzML (ffff6e90d2c94130a9dc582852282f69)\n",
      "RPPOS_C1.mzML (3740931c7c034834b2b83af5993dcf92)\n",
      "RPPOS_C2.mzML (eb138bb665754c03a9c8db56f33974b3)\n",
      "RPPOS_C3.mzML (73f4f083db854e2ab0fced1f4cdf6136)\n",
      "RPPOS_C4.mzML (c4e2b2fbb2834e6f8f3d9f54076532ec)\n",
      "RPPOS_C5.mzML (6b67275b18d84fcfbd637fb2042d8c33)\n",
      "HILIC AA Neg_TLW_B.mzML (a668e15e049b4990bca671b74d69b911)\n",
      "HILIC AA Neg_TLW_D1.mzML (6e1ebe0ea1e649f794d2c0a4d187c744)\n",
      "HILIC AA Neg_TLW_D3.mzML (119281f33cbe40968d2e35d553f10a3a)\n",
      "HILIC AA Pos_TLW_B.mzML (2a334252b5444cb3a18e4d8360bea59a)\n",
      "HILIC AA Pos_TLW_D1.mzML (06018b2576d343e2bcfb3b69637ceb9e)\n",
      "HILIC AA Neg_TLW_D2.mzML (41570e25330d4839887db4c10168ae99)\n",
      "HILIC AA Pos_TLW_D2.mzML (b13e0a2ed540415b96dd1c0602e01431)\n",
      "HILIC AA Pos_TLW_D3.mzML (032852cc7cc24510aa1914cd10b16f07)\n"
     ]
    }
   ],
   "source": [
    "print len(myRun)\n",
    "for r in range(len(myRun)):\n",
    "    print myRun[r]"
   ]
  },
  {
   "cell_type": "code",
   "execution_count": 6,
   "metadata": {
    "collapsed": false
   },
   "outputs": [
    {
     "name": "stderr",
     "output_type": "stream",
     "text": [
      ":0: FutureWarning: IPython widgets are experimental and may change in the future.\n"
     ]
    }
   ],
   "source": [
    "myRun[0].edit()"
   ]
  },
  {
   "cell_type": "code",
   "execution_count": 6,
   "metadata": {
    "collapsed": false
   },
   "outputs": [],
   "source": [
    "# myfile = '/global/homes/b/bpb/ExoMetabolomic_Example_Data/MEDIA-1.h5'\n",
    "h5file = tables.open_file(myRun[0].hdf5_file)\n",
    "# h5file"
   ]
  },
  {
   "cell_type": "code",
   "execution_count": 13,
   "metadata": {
    "collapsed": false
   },
   "outputs": [
    {
     "name": "stdout",
     "output_type": "stream",
     "text": [
      "(270806,)\n"
     ]
    }
   ],
   "source": [
    "RTSTART = 2.0\n",
    "RTSTOP = 23.0\n",
    "MZSTART = 70\n",
    "MZSTOP = 1050\n",
    "DELTA_RT = 0.00980\n",
    "PPM_BINNING = 10\n",
    "\n",
    "NUM_MZ_EDGES = np.ceil(1e6*np.log(MZSTOP/MZSTART)/PPM_BINNING)\n",
    "RT_EDGES = np.linspace(RTSTART,RTSTOP,(RTSTOP - RTSTART) / DELTA_RT)\n",
    "MZ_EDGES = np.logspace(np.log10(MZSTART), np.log10(MZSTOP), NUM_MZ_EDGES)\n",
    "\n",
    "PPM_BINNING = 100\n",
    "NUM_MZ_EDGES = np.ceil(1e6*np.log(MZSTOP/MZSTART)/PPM_BINNING)\n",
    "MZ_EDGES_100ppm = np.logspace(np.log10(MZSTART), np.log10(MZSTOP), NUM_MZ_EDGES)\n",
    "\n",
    "# create a low res binning to make figures\n",
    "MZ_EDGES_1K = np.linspace(MZSTART,MZSTOP,1000)\n",
    "print MZ_EDGES.shape\n",
    "#RT_CENTERS = (RT_EDGES[:-1] + RT_EDGES[1:]) / 2\n",
    "MZ_CENTERS = (MZ_EDGES[:-1] + MZ_EDGES[1:]) / 2\n",
    "\n",
    "EIC_MEDFILT_SIZE = 5\n",
    "EIC_STDEV = 0.05 #stdev of a peak in minutes\n",
    "\n",
    "MZ_GAUSS_WIDTH = 1 #ppm\n",
    "MZ_MEDFILT_SIZE = 3 #bins"
   ]
  },
  {
   "cell_type": "code",
   "execution_count": 15,
   "metadata": {
    "collapsed": false
   },
   "outputs": [
    {
     "name": "stdout",
     "output_type": "stream",
     "text": [
      "270806\n"
     ]
    }
   ],
   "source": [
    "print len(MZ_EDGES)"
   ]
  },
  {
   "cell_type": "code",
   "execution_count": null,
   "metadata": {
    "collapsed": true
   },
   "outputs": [],
   "source": []
  },
  {
   "cell_type": "code",
   "execution_count": 16,
   "metadata": {
    "collapsed": true
   },
   "outputs": [],
   "source": [
    "mz,intensity = h5q.get_spectrogram(h5file,0,20,1,1,bins=MZ_EDGES)"
   ]
  },
  {
   "cell_type": "code",
   "execution_count": 18,
   "metadata": {
    "collapsed": false
   },
   "outputs": [],
   "source": [
    "plt.plot(mz[:10],intensity[:10])\n",
    "plt.show()"
   ]
  },
  {
   "cell_type": "code",
   "execution_count": null,
   "metadata": {
    "collapsed": true
   },
   "outputs": [],
   "source": []
  },
  {
   "cell_type": "code",
   "execution_count": null,
   "metadata": {
    "collapsed": true
   },
   "outputs": [],
   "source": []
  },
  {
   "cell_type": "code",
   "execution_count": null,
   "metadata": {
    "collapsed": false
   },
   "outputs": [],
   "source": [
    "# mzml_to_hdf(myRun[0].mzml_file, myRun[0].hdf5_file)\n",
    "# h5file = tables.open_file(myRun[0].hdf5_file)\n",
    "# import glob\n",
    "# metob.load_lcms_files(glob.glob('/global/homes/b/bpb/Actino_C18_Pos/*.*'))"
   ]
  },
  {
   "cell_type": "code",
   "execution_count": null,
   "metadata": {
    "collapsed": false,
    "scrolled": false
   },
   "outputs": [],
   "source": [
    "MSMS_data = {}\n",
    "MSMS_data['scan'] = []\n",
    "MSMS_data['file'] = []\n",
    "MSMS_data['rt'] = []\n",
    "MSMS_data['precursor_mz'] = []\n",
    "MSMS_data['precursor_intensity'] = []\n",
    "MSMS_data['collision_energy'] = []\n",
    "\n",
    "for i,myfile in enumerate(myRun):\n",
    "    print i\n",
    "    data = get_msms_data(myfile.hdf5_file,2,1)\n",
    "\n",
    "    for myrt in np.unique(data['rt']):\n",
    "        idx = np.argwhere(data['rt'] == myrt)\n",
    "        temp = np.array([data['mz'][idx], \n",
    "                              data['i'][idx]] ).T\n",
    "        MSMS_data['scan'].append( np.squeeze(temp) )\n",
    "        MSMS_data['file'].append( myfile.hdf5_file )\n",
    "        MSMS_data['rt'].append( myrt )\n",
    "        MSMS_data['precursor_mz'].append( data['precursor_MZ'][idx[0]][0] )\n",
    "        MSMS_data['precursor_intensity'].append( data['precursor_intensity'][idx[0]][0] )\n",
    "        MSMS_data['collision_energy'].append( data['collision_energy'][idx[0]][0] )"
   ]
  },
  {
   "cell_type": "code",
   "execution_count": 25,
   "metadata": {
    "collapsed": false
   },
   "outputs": [],
   "source": [
    "# print len(MSMS_data['rt'])\n",
    "# MSMS_data['file'][100]\n",
    "\n",
    "\n",
    "# with open('Actino_C18_Pos.pickle', 'wb') as handle:\n",
    "#   pickle.dump(MSMS_data, handle)\n",
    "\n",
    "with open('Actino_C18_Pos.pickle', 'rb') as handle:\n",
    "    MSMS_data = pickle.load(handle)\n",
    "\n"
   ]
  },
  {
   "cell_type": "code",
   "execution_count": 3,
   "metadata": {
    "collapsed": false
   },
   "outputs": [
    {
     "data": {
      "text/plain": [
       "2"
      ]
     },
     "execution_count": 3,
     "metadata": {},
     "output_type": "execute_result"
    }
   ],
   "source": [
    "1+1"
   ]
  },
  {
   "cell_type": "code",
   "execution_count": 26,
   "metadata": {
    "collapsed": false
   },
   "outputs": [],
   "source": [
    "intensity = MSMS_data['precursor_intensity']\n",
    "sx = np.argsort(intensity[:])"
   ]
  },
  {
   "cell_type": "code",
   "execution_count": 32,
   "metadata": {
    "collapsed": true
   },
   "outputs": [],
   "source": [
    "MSMS_data_sorted = {}\n",
    "MSMS_data_sorted['scan'] = []\n",
    "MSMS_data_sorted['file'] = []\n",
    "MSMS_data_sorted['rt'] = []\n",
    "MSMS_data_sorted['precursor_mz'] = []\n",
    "MSMS_data_sorted['precursor_intensity'] = []\n",
    "MSMS_data_sorted['collision_energy'] = []\n",
    "\n",
    "for i in sx:\n",
    "    MSMS_data_sorted['scan'].append(MSMS_data['scan'][i])\n",
    "    MSMS_data_sorted['file'].append(MSMS_data['file'][i])\n",
    "    MSMS_data_sorted['rt'].append(MSMS_data['rt'][i])\n",
    "    MSMS_data_sorted['precursor_mz'].append(MSMS_data['precursor_mz'][i])\n",
    "    MSMS_data_sorted['precursor_intensity'].append(MSMS_data['precursor_intensity'][i])\n",
    "    MSMS_data_sorted['collision_energy'].append(MSMS_data['collision_energy'][i])"
   ]
  },
  {
   "cell_type": "code",
   "execution_count": 33,
   "metadata": {
    "collapsed": false
   },
   "outputs": [],
   "source": [
    "pos_mode_neutralizations = [-1.00727646677, -(1.00727646677+1.00782504), +5.4857990946e-4,]\n",
    "neg_mode_neutralizations = [-el for el in pos_mode_neutralizations]\n",
    "\n",
    "# make lookup table\n",
    "path_to_trees = '/project/projectdirs/openmsi/projects/pactolus_trees/'\n",
    "all_my_h5_files = glob.glob('/project/projectdirs/openmsi/projects/pactolus_trees/*_hdf5_5_*.h5')\n",
    "my_tree_filename = 'metacyc_max_depth_5'\n",
    "\n",
    "if not os.path.isfile(os.path.join(path_to_trees, my_tree_filename + '.npy')):\n",
    "    score_frag_dag.make_file_lookup_table_by_MS1_mass(all_my_h5_files, \n",
    "                                                      path=path_to_trees, \n",
    "                                                      save_result='metacyc_max_depth_5')\n",
    "\n",
    "maxdepth_5_table = os.path.join(path_to_trees, my_tree_filename + '.npy')\n",
    "\n",
    "params = {'file_lookup_table': maxdepth_5_table,\n",
    "          'ms1_mass_tol': 0.02,\n",
    "          'ms2_mass_tol': 0.01,\n",
    "          'neutralizations': pos_mode_neutralizations,\n",
    "          'max_depth': 5,\n",
    "              }\n",
    "\n"
   ]
  },
  {
   "cell_type": "code",
   "execution_count": 16,
   "metadata": {
    "collapsed": false
   },
   "outputs": [
    {
     "name": "stdout",
     "output_type": "stream",
     "text": [
      "37\n"
     ]
    }
   ],
   "source": [
    "import time\n",
    "import score_frag_dag\n",
    "score_results = []\n",
    "# print len(score_results)\n"
   ]
  },
  {
   "cell_type": "code",
   "execution_count": 22,
   "metadata": {
    "collapsed": false
   },
   "outputs": [
    {
     "name": "stdout",
     "output_type": "stream",
     "text": [
      "36000 292.170962811\n"
     ]
    }
   ],
   "source": [
    "t0 = time.time()\n",
    "with open('/project/projectdirs/metatlas/projects/pactolus/results/test.pickle','wb') as handle:\n",
    "    pickle.dump(score_results, handle)\n",
    "t1 = time.time()\n",
    "print i, t1 - t0"
   ]
  },
  {
   "cell_type": "code",
   "execution_count": 17,
   "metadata": {
    "collapsed": false
   },
   "outputs": [
    {
     "name": "stdout",
     "output_type": "stream",
     "text": [
      "The history saving thread hit an unexpected error (OperationalError('disk I/O error',)).History will not be written to the database.\n"
     ]
    },
    {
     "ename": "KeyboardInterrupt",
     "evalue": "",
     "output_type": "error",
     "traceback": [
      "\u001b[1;31m---------------------------------------------------------------------------\u001b[0m",
      "\u001b[1;31mKeyboardInterrupt\u001b[0m                         Traceback (most recent call last)",
      "\u001b[1;32m<ipython-input-17-43d0df20a6b9>\u001b[0m in \u001b[0;36m<module>\u001b[1;34m()\u001b[0m\n\u001b[0;32m     11\u001b[0m     \u001b[0mscore_results\u001b[0m\u001b[1;33m.\u001b[0m\u001b[0mappend\u001b[0m\u001b[1;33m(\u001b[0m\u001b[0mfoo\u001b[0m\u001b[1;33m)\u001b[0m\u001b[1;33m\u001b[0m\u001b[0m\n\u001b[0;32m     12\u001b[0m     \u001b[1;32mwith\u001b[0m \u001b[0mopen\u001b[0m\u001b[1;33m(\u001b[0m\u001b[1;34m'Actino_C18_Pos_Scores_Sorted.pickle'\u001b[0m\u001b[1;33m,\u001b[0m \u001b[1;34m'wb'\u001b[0m\u001b[1;33m)\u001b[0m \u001b[1;32mas\u001b[0m \u001b[0mhandle\u001b[0m\u001b[1;33m:\u001b[0m\u001b[1;33m\u001b[0m\u001b[0m\n\u001b[1;32m---> 13\u001b[1;33m         \u001b[0mpickle\u001b[0m\u001b[1;33m.\u001b[0m\u001b[0mdump\u001b[0m\u001b[1;33m(\u001b[0m\u001b[0mscore_results\u001b[0m\u001b[1;33m,\u001b[0m \u001b[0mhandle\u001b[0m\u001b[1;33m)\u001b[0m\u001b[1;33m\u001b[0m\u001b[0m\n\u001b[0m\u001b[0;32m     14\u001b[0m     \u001b[0mt1\u001b[0m \u001b[1;33m=\u001b[0m \u001b[0mtime\u001b[0m\u001b[1;33m.\u001b[0m\u001b[0mtime\u001b[0m\u001b[1;33m(\u001b[0m\u001b[1;33m)\u001b[0m\u001b[1;33m\u001b[0m\u001b[0m\n\u001b[0;32m     15\u001b[0m     \u001b[1;32mprint\u001b[0m \u001b[0mi\u001b[0m\u001b[1;33m,\u001b[0m \u001b[0mt1\u001b[0m \u001b[1;33m-\u001b[0m \u001b[0mt0\u001b[0m\u001b[1;33m\u001b[0m\u001b[0m\n",
      "\u001b[1;32m//anaconda/lib/python2.7/pickle.pyc\u001b[0m in \u001b[0;36mdump\u001b[1;34m(obj, file, protocol)\u001b[0m\n\u001b[0;32m   1368\u001b[0m \u001b[1;33m\u001b[0m\u001b[0m\n\u001b[0;32m   1369\u001b[0m \u001b[1;32mdef\u001b[0m \u001b[0mdump\u001b[0m\u001b[1;33m(\u001b[0m\u001b[0mobj\u001b[0m\u001b[1;33m,\u001b[0m \u001b[0mfile\u001b[0m\u001b[1;33m,\u001b[0m \u001b[0mprotocol\u001b[0m\u001b[1;33m=\u001b[0m\u001b[0mNone\u001b[0m\u001b[1;33m)\u001b[0m\u001b[1;33m:\u001b[0m\u001b[1;33m\u001b[0m\u001b[0m\n\u001b[1;32m-> 1370\u001b[1;33m     \u001b[0mPickler\u001b[0m\u001b[1;33m(\u001b[0m\u001b[0mfile\u001b[0m\u001b[1;33m,\u001b[0m \u001b[0mprotocol\u001b[0m\u001b[1;33m)\u001b[0m\u001b[1;33m.\u001b[0m\u001b[0mdump\u001b[0m\u001b[1;33m(\u001b[0m\u001b[0mobj\u001b[0m\u001b[1;33m)\u001b[0m\u001b[1;33m\u001b[0m\u001b[0m\n\u001b[0m\u001b[0;32m   1371\u001b[0m \u001b[1;33m\u001b[0m\u001b[0m\n\u001b[0;32m   1372\u001b[0m \u001b[1;32mdef\u001b[0m \u001b[0mdumps\u001b[0m\u001b[1;33m(\u001b[0m\u001b[0mobj\u001b[0m\u001b[1;33m,\u001b[0m \u001b[0mprotocol\u001b[0m\u001b[1;33m=\u001b[0m\u001b[0mNone\u001b[0m\u001b[1;33m)\u001b[0m\u001b[1;33m:\u001b[0m\u001b[1;33m\u001b[0m\u001b[0m\n",
      "\u001b[1;32m//anaconda/lib/python2.7/pickle.pyc\u001b[0m in \u001b[0;36mdump\u001b[1;34m(self, obj)\u001b[0m\n\u001b[0;32m    222\u001b[0m         \u001b[1;32mif\u001b[0m \u001b[0mself\u001b[0m\u001b[1;33m.\u001b[0m\u001b[0mproto\u001b[0m \u001b[1;33m>=\u001b[0m \u001b[1;36m2\u001b[0m\u001b[1;33m:\u001b[0m\u001b[1;33m\u001b[0m\u001b[0m\n\u001b[0;32m    223\u001b[0m             \u001b[0mself\u001b[0m\u001b[1;33m.\u001b[0m\u001b[0mwrite\u001b[0m\u001b[1;33m(\u001b[0m\u001b[0mPROTO\u001b[0m \u001b[1;33m+\u001b[0m \u001b[0mchr\u001b[0m\u001b[1;33m(\u001b[0m\u001b[0mself\u001b[0m\u001b[1;33m.\u001b[0m\u001b[0mproto\u001b[0m\u001b[1;33m)\u001b[0m\u001b[1;33m)\u001b[0m\u001b[1;33m\u001b[0m\u001b[0m\n\u001b[1;32m--> 224\u001b[1;33m         \u001b[0mself\u001b[0m\u001b[1;33m.\u001b[0m\u001b[0msave\u001b[0m\u001b[1;33m(\u001b[0m\u001b[0mobj\u001b[0m\u001b[1;33m)\u001b[0m\u001b[1;33m\u001b[0m\u001b[0m\n\u001b[0m\u001b[0;32m    225\u001b[0m         \u001b[0mself\u001b[0m\u001b[1;33m.\u001b[0m\u001b[0mwrite\u001b[0m\u001b[1;33m(\u001b[0m\u001b[0mSTOP\u001b[0m\u001b[1;33m)\u001b[0m\u001b[1;33m\u001b[0m\u001b[0m\n\u001b[0;32m    226\u001b[0m \u001b[1;33m\u001b[0m\u001b[0m\n",
      "\u001b[1;32m//anaconda/lib/python2.7/pickle.pyc\u001b[0m in \u001b[0;36msave\u001b[1;34m(self, obj)\u001b[0m\n\u001b[0;32m    284\u001b[0m         \u001b[0mf\u001b[0m \u001b[1;33m=\u001b[0m \u001b[0mself\u001b[0m\u001b[1;33m.\u001b[0m\u001b[0mdispatch\u001b[0m\u001b[1;33m.\u001b[0m\u001b[0mget\u001b[0m\u001b[1;33m(\u001b[0m\u001b[0mt\u001b[0m\u001b[1;33m)\u001b[0m\u001b[1;33m\u001b[0m\u001b[0m\n\u001b[0;32m    285\u001b[0m         \u001b[1;32mif\u001b[0m \u001b[0mf\u001b[0m\u001b[1;33m:\u001b[0m\u001b[1;33m\u001b[0m\u001b[0m\n\u001b[1;32m--> 286\u001b[1;33m             \u001b[0mf\u001b[0m\u001b[1;33m(\u001b[0m\u001b[0mself\u001b[0m\u001b[1;33m,\u001b[0m \u001b[0mobj\u001b[0m\u001b[1;33m)\u001b[0m \u001b[1;31m# Call unbound method with explicit self\u001b[0m\u001b[1;33m\u001b[0m\u001b[0m\n\u001b[0m\u001b[0;32m    287\u001b[0m             \u001b[1;32mreturn\u001b[0m\u001b[1;33m\u001b[0m\u001b[0m\n\u001b[0;32m    288\u001b[0m \u001b[1;33m\u001b[0m\u001b[0m\n",
      "\u001b[1;32m//anaconda/lib/python2.7/pickle.pyc\u001b[0m in \u001b[0;36msave_list\u001b[1;34m(self, obj)\u001b[0m\n\u001b[0;32m    598\u001b[0m \u001b[1;33m\u001b[0m\u001b[0m\n\u001b[0;32m    599\u001b[0m         \u001b[0mself\u001b[0m\u001b[1;33m.\u001b[0m\u001b[0mmemoize\u001b[0m\u001b[1;33m(\u001b[0m\u001b[0mobj\u001b[0m\u001b[1;33m)\u001b[0m\u001b[1;33m\u001b[0m\u001b[0m\n\u001b[1;32m--> 600\u001b[1;33m         \u001b[0mself\u001b[0m\u001b[1;33m.\u001b[0m\u001b[0m_batch_appends\u001b[0m\u001b[1;33m(\u001b[0m\u001b[0miter\u001b[0m\u001b[1;33m(\u001b[0m\u001b[0mobj\u001b[0m\u001b[1;33m)\u001b[0m\u001b[1;33m)\u001b[0m\u001b[1;33m\u001b[0m\u001b[0m\n\u001b[0m\u001b[0;32m    601\u001b[0m \u001b[1;33m\u001b[0m\u001b[0m\n\u001b[0;32m    602\u001b[0m     \u001b[0mdispatch\u001b[0m\u001b[1;33m[\u001b[0m\u001b[0mListType\u001b[0m\u001b[1;33m]\u001b[0m \u001b[1;33m=\u001b[0m \u001b[0msave_list\u001b[0m\u001b[1;33m\u001b[0m\u001b[0m\n",
      "\u001b[1;32m//anaconda/lib/python2.7/pickle.pyc\u001b[0m in \u001b[0;36m_batch_appends\u001b[1;34m(self, items)\u001b[0m\n\u001b[0;32m    613\u001b[0m         \u001b[1;32mif\u001b[0m \u001b[1;32mnot\u001b[0m \u001b[0mself\u001b[0m\u001b[1;33m.\u001b[0m\u001b[0mbin\u001b[0m\u001b[1;33m:\u001b[0m\u001b[1;33m\u001b[0m\u001b[0m\n\u001b[0;32m    614\u001b[0m             \u001b[1;32mfor\u001b[0m \u001b[0mx\u001b[0m \u001b[1;32min\u001b[0m \u001b[0mitems\u001b[0m\u001b[1;33m:\u001b[0m\u001b[1;33m\u001b[0m\u001b[0m\n\u001b[1;32m--> 615\u001b[1;33m                 \u001b[0msave\u001b[0m\u001b[1;33m(\u001b[0m\u001b[0mx\u001b[0m\u001b[1;33m)\u001b[0m\u001b[1;33m\u001b[0m\u001b[0m\n\u001b[0m\u001b[0;32m    616\u001b[0m                 \u001b[0mwrite\u001b[0m\u001b[1;33m(\u001b[0m\u001b[0mAPPEND\u001b[0m\u001b[1;33m)\u001b[0m\u001b[1;33m\u001b[0m\u001b[0m\n\u001b[0;32m    617\u001b[0m             \u001b[1;32mreturn\u001b[0m\u001b[1;33m\u001b[0m\u001b[0m\n",
      "\u001b[1;32m//anaconda/lib/python2.7/pickle.pyc\u001b[0m in \u001b[0;36msave\u001b[1;34m(self, obj)\u001b[0m\n\u001b[0;32m    329\u001b[0m \u001b[1;33m\u001b[0m\u001b[0m\n\u001b[0;32m    330\u001b[0m         \u001b[1;31m# Save the reduce() output and finally memoize the object\u001b[0m\u001b[1;33m\u001b[0m\u001b[1;33m\u001b[0m\u001b[0m\n\u001b[1;32m--> 331\u001b[1;33m         \u001b[0mself\u001b[0m\u001b[1;33m.\u001b[0m\u001b[0msave_reduce\u001b[0m\u001b[1;33m(\u001b[0m\u001b[0mobj\u001b[0m\u001b[1;33m=\u001b[0m\u001b[0mobj\u001b[0m\u001b[1;33m,\u001b[0m \u001b[1;33m*\u001b[0m\u001b[0mrv\u001b[0m\u001b[1;33m)\u001b[0m\u001b[1;33m\u001b[0m\u001b[0m\n\u001b[0m\u001b[0;32m    332\u001b[0m \u001b[1;33m\u001b[0m\u001b[0m\n\u001b[0;32m    333\u001b[0m     \u001b[1;32mdef\u001b[0m \u001b[0mpersistent_id\u001b[0m\u001b[1;33m(\u001b[0m\u001b[0mself\u001b[0m\u001b[1;33m,\u001b[0m \u001b[0mobj\u001b[0m\u001b[1;33m)\u001b[0m\u001b[1;33m:\u001b[0m\u001b[1;33m\u001b[0m\u001b[0m\n",
      "\u001b[1;32m//anaconda/lib/python2.7/pickle.pyc\u001b[0m in \u001b[0;36msave_reduce\u001b[1;34m(self, func, args, state, listitems, dictitems, obj)\u001b[0m\n\u001b[0;32m    417\u001b[0m \u001b[1;33m\u001b[0m\u001b[0m\n\u001b[0;32m    418\u001b[0m         \u001b[1;32mif\u001b[0m \u001b[0mstate\u001b[0m \u001b[1;32mis\u001b[0m \u001b[1;32mnot\u001b[0m \u001b[0mNone\u001b[0m\u001b[1;33m:\u001b[0m\u001b[1;33m\u001b[0m\u001b[0m\n\u001b[1;32m--> 419\u001b[1;33m             \u001b[0msave\u001b[0m\u001b[1;33m(\u001b[0m\u001b[0mstate\u001b[0m\u001b[1;33m)\u001b[0m\u001b[1;33m\u001b[0m\u001b[0m\n\u001b[0m\u001b[0;32m    420\u001b[0m             \u001b[0mwrite\u001b[0m\u001b[1;33m(\u001b[0m\u001b[0mBUILD\u001b[0m\u001b[1;33m)\u001b[0m\u001b[1;33m\u001b[0m\u001b[0m\n\u001b[0;32m    421\u001b[0m \u001b[1;33m\u001b[0m\u001b[0m\n",
      "\u001b[1;32m//anaconda/lib/python2.7/pickle.pyc\u001b[0m in \u001b[0;36msave\u001b[1;34m(self, obj)\u001b[0m\n\u001b[0;32m    284\u001b[0m         \u001b[0mf\u001b[0m \u001b[1;33m=\u001b[0m \u001b[0mself\u001b[0m\u001b[1;33m.\u001b[0m\u001b[0mdispatch\u001b[0m\u001b[1;33m.\u001b[0m\u001b[0mget\u001b[0m\u001b[1;33m(\u001b[0m\u001b[0mt\u001b[0m\u001b[1;33m)\u001b[0m\u001b[1;33m\u001b[0m\u001b[0m\n\u001b[0;32m    285\u001b[0m         \u001b[1;32mif\u001b[0m \u001b[0mf\u001b[0m\u001b[1;33m:\u001b[0m\u001b[1;33m\u001b[0m\u001b[0m\n\u001b[1;32m--> 286\u001b[1;33m             \u001b[0mf\u001b[0m\u001b[1;33m(\u001b[0m\u001b[0mself\u001b[0m\u001b[1;33m,\u001b[0m \u001b[0mobj\u001b[0m\u001b[1;33m)\u001b[0m \u001b[1;31m# Call unbound method with explicit self\u001b[0m\u001b[1;33m\u001b[0m\u001b[0m\n\u001b[0m\u001b[0;32m    287\u001b[0m             \u001b[1;32mreturn\u001b[0m\u001b[1;33m\u001b[0m\u001b[0m\n\u001b[0;32m    288\u001b[0m \u001b[1;33m\u001b[0m\u001b[0m\n",
      "\u001b[1;32m//anaconda/lib/python2.7/pickle.pyc\u001b[0m in \u001b[0;36msave_tuple\u001b[1;34m(self, obj)\u001b[0m\n\u001b[0;32m    560\u001b[0m         \u001b[0mwrite\u001b[0m\u001b[1;33m(\u001b[0m\u001b[0mMARK\u001b[0m\u001b[1;33m)\u001b[0m\u001b[1;33m\u001b[0m\u001b[0m\n\u001b[0;32m    561\u001b[0m         \u001b[1;32mfor\u001b[0m \u001b[0melement\u001b[0m \u001b[1;32min\u001b[0m \u001b[0mobj\u001b[0m\u001b[1;33m:\u001b[0m\u001b[1;33m\u001b[0m\u001b[0m\n\u001b[1;32m--> 562\u001b[1;33m             \u001b[0msave\u001b[0m\u001b[1;33m(\u001b[0m\u001b[0melement\u001b[0m\u001b[1;33m)\u001b[0m\u001b[1;33m\u001b[0m\u001b[0m\n\u001b[0m\u001b[0;32m    563\u001b[0m \u001b[1;33m\u001b[0m\u001b[0m\n\u001b[0;32m    564\u001b[0m         \u001b[1;32mif\u001b[0m \u001b[0mid\u001b[0m\u001b[1;33m(\u001b[0m\u001b[0mobj\u001b[0m\u001b[1;33m)\u001b[0m \u001b[1;32min\u001b[0m \u001b[0mmemo\u001b[0m\u001b[1;33m:\u001b[0m\u001b[1;33m\u001b[0m\u001b[0m\n",
      "\u001b[1;32m//anaconda/lib/python2.7/pickle.pyc\u001b[0m in \u001b[0;36msave\u001b[1;34m(self, obj)\u001b[0m\n\u001b[0;32m    284\u001b[0m         \u001b[0mf\u001b[0m \u001b[1;33m=\u001b[0m \u001b[0mself\u001b[0m\u001b[1;33m.\u001b[0m\u001b[0mdispatch\u001b[0m\u001b[1;33m.\u001b[0m\u001b[0mget\u001b[0m\u001b[1;33m(\u001b[0m\u001b[0mt\u001b[0m\u001b[1;33m)\u001b[0m\u001b[1;33m\u001b[0m\u001b[0m\n\u001b[0;32m    285\u001b[0m         \u001b[1;32mif\u001b[0m \u001b[0mf\u001b[0m\u001b[1;33m:\u001b[0m\u001b[1;33m\u001b[0m\u001b[0m\n\u001b[1;32m--> 286\u001b[1;33m             \u001b[0mf\u001b[0m\u001b[1;33m(\u001b[0m\u001b[0mself\u001b[0m\u001b[1;33m,\u001b[0m \u001b[0mobj\u001b[0m\u001b[1;33m)\u001b[0m \u001b[1;31m# Call unbound method with explicit self\u001b[0m\u001b[1;33m\u001b[0m\u001b[0m\n\u001b[0m\u001b[0;32m    287\u001b[0m             \u001b[1;32mreturn\u001b[0m\u001b[1;33m\u001b[0m\u001b[0m\n\u001b[0;32m    288\u001b[0m \u001b[1;33m\u001b[0m\u001b[0m\n",
      "\u001b[1;32m//anaconda/lib/python2.7/pickle.pyc\u001b[0m in \u001b[0;36msave_string\u001b[1;34m(self, obj, pack)\u001b[0m\n\u001b[0;32m    486\u001b[0m                 \u001b[0mself\u001b[0m\u001b[1;33m.\u001b[0m\u001b[0mwrite\u001b[0m\u001b[1;33m(\u001b[0m\u001b[0mBINSTRING\u001b[0m \u001b[1;33m+\u001b[0m \u001b[0mpack\u001b[0m\u001b[1;33m(\u001b[0m\u001b[1;34m\"<i\"\u001b[0m\u001b[1;33m,\u001b[0m \u001b[0mn\u001b[0m\u001b[1;33m)\u001b[0m \u001b[1;33m+\u001b[0m \u001b[0mobj\u001b[0m\u001b[1;33m)\u001b[0m\u001b[1;33m\u001b[0m\u001b[0m\n\u001b[0;32m    487\u001b[0m         \u001b[1;32melse\u001b[0m\u001b[1;33m:\u001b[0m\u001b[1;33m\u001b[0m\u001b[0m\n\u001b[1;32m--> 488\u001b[1;33m             \u001b[0mself\u001b[0m\u001b[1;33m.\u001b[0m\u001b[0mwrite\u001b[0m\u001b[1;33m(\u001b[0m\u001b[0mSTRING\u001b[0m \u001b[1;33m+\u001b[0m \u001b[0mrepr\u001b[0m\u001b[1;33m(\u001b[0m\u001b[0mobj\u001b[0m\u001b[1;33m)\u001b[0m \u001b[1;33m+\u001b[0m \u001b[1;34m'\\n'\u001b[0m\u001b[1;33m)\u001b[0m\u001b[1;33m\u001b[0m\u001b[0m\n\u001b[0m\u001b[0;32m    489\u001b[0m         \u001b[0mself\u001b[0m\u001b[1;33m.\u001b[0m\u001b[0mmemoize\u001b[0m\u001b[1;33m(\u001b[0m\u001b[0mobj\u001b[0m\u001b[1;33m)\u001b[0m\u001b[1;33m\u001b[0m\u001b[0m\n\u001b[0;32m    490\u001b[0m     \u001b[0mdispatch\u001b[0m\u001b[1;33m[\u001b[0m\u001b[0mStringType\u001b[0m\u001b[1;33m]\u001b[0m \u001b[1;33m=\u001b[0m \u001b[0msave_string\u001b[0m\u001b[1;33m\u001b[0m\u001b[0m\n",
      "\u001b[1;31mKeyboardInterrupt\u001b[0m: "
     ]
    }
   ],
   "source": [
    "\n",
    "# N=\n",
    "t0 = time.time()\n",
    "for i in range(36000,len(MSMS_data_sorted['precursor_mz']),3000):\n",
    "    if i + 3000 < len(MSMS_data_sorted['precursor_mz']):\n",
    "        foo = score_frag_dag.score_scan_list_against_trees(MSMS_data_sorted['scan'][i:i+3000],\n",
    "                                                           MSMS_data_sorted['precursor_mz'][i:i+3000], params)\n",
    "    else:\n",
    "        foo = score_frag_dag.score_scan_list_against_trees(MSMS_data_sorted['scan'][i:],\n",
    "                                                           MSMS_data_sorted['precursor_mz'][i:], params)\n",
    "#     score_results.append(foo)\n",
    "    foo2 = []\n",
    "    for i in foo:\n",
    "        foo.append(i)\n",
    "    foo = np.array(foo)\n",
    "    s = score_frag_dag.make_pactolus_hit_table(foo,maxdepth_5_table,'/global/homes/b/bpb/notebooks/meta-iq_old/midas_lbl/MetaCyc.mdb')\n",
    "\n",
    "    print foo.shape\n",
    "    with open('Actino_C18_Pos_Scores_Sorted.pickle', 'wb') as handle:\n",
    "        pickle.dump(score_results, handle)\n",
    "    t1 = time.time()\n",
    "    print i, t1 - t0\n"
   ]
  },
  {
   "cell_type": "code",
   "execution_count": null,
   "metadata": {
    "collapsed": false
   },
   "outputs": [],
   "source": [
    "print maxdepth_5_table"
   ]
  },
  {
   "cell_type": "code",
   "execution_count": null,
   "metadata": {
    "collapsed": false
   },
   "outputs": [],
   "source": [
    "s = score_frag_dag.make_pactolus_hit_table(foo,maxdepth_5_table,'/global/homes/b/bpb/notebooks/meta-iq_old/midas_lbl/MetaCyc.mdb')\n",
    "print s"
   ]
  },
  {
   "cell_type": "code",
   "execution_count": null,
   "metadata": {
    "collapsed": false
   },
   "outputs": [],
   "source": [
    "score_frag_dag.\n",
    "for f in score_results:\n",
    "    print np.argmax(f)"
   ]
  },
  {
   "cell_type": "code",
   "execution_count": null,
   "metadata": {
    "collapsed": true
   },
   "outputs": [],
   "source": [
    "my_db = '/project/projectdirs/openmsi/projects/meta-iq/pactolus/data/' + 'MetaCyc.mdb'\n",
    "score_frag_dag.make_pactolus_hit_table(foo, maxdepth_5_table, original_db=my_db)"
   ]
  },
  {
   "cell_type": "code",
   "execution_count": null,
   "metadata": {
    "collapsed": true
   },
   "outputs": [],
   "source": []
  },
  {
   "cell_type": "code",
   "execution_count": null,
   "metadata": {
    "collapsed": true
   },
   "outputs": [],
   "source": [
    "\n",
    "q = lambda i,j,n: n*j - j*(j+1)/2 + i - 1 - j\n"
   ]
  },
  {
   "cell_type": "code",
   "execution_count": null,
   "metadata": {
    "collapsed": true
   },
   "outputs": [],
   "source": []
  },
  {
   "cell_type": "code",
   "execution_count": null,
   "metadata": {
    "collapsed": true
   },
   "outputs": [],
   "source": []
  },
  {
   "cell_type": "code",
   "execution_count": null,
   "metadata": {
    "collapsed": false
   },
   "outputs": [],
   "source": [
    "\n",
    "import itertools as it\n",
    "import numpy as np\n",
    "import timeit\n",
    "\n",
    "a = np.random.randint(1e6, size=20)\n",
    "a = a.astype(float) / 1e3\n",
    "a = np.sort(a)\n",
    "\n",
    "idx = range(len(a))\n",
    "print a\n",
    "print idx\n",
    "\n",
    "yi = np.interp(a,idx,)"
   ]
  },
  {
   "cell_type": "code",
   "execution_count": null,
   "metadata": {
    "collapsed": true
   },
   "outputs": [],
   "source": [
    "def get_msms_data(h5file, ms_level, polarity, **kwargs):\n",
    "    \"\"\"\n",
    "    Get raw data from an h5file meeting given criteria.\n",
    "    Parameters\n",
    "    ----------\n",
    "    h5file: string or open pytables file\n",
    "        The path to the h5file or open file handle.\n",
    "    ms_level : int\n",
    "        MS Level.\n",
    "    polarity : int\n",
    "        Plus proton (1) or Minus proton (0).\n",
    "    **kwargs\n",
    "        Optional search modifiers.  (e.g. min_r=0, max_mz=100, precursor_MZ=1).\n",
    "        Use verbose=True for displaying query messages.\n",
    "    Returns\n",
    "    -------\n",
    "    out : dictionary\n",
    "        Dictionary with arrays for 'i', 'mz', and 'rt' values meeting criteria.\n",
    "    \"\"\"\n",
    "    if not isinstance(h5file, tables.File):\n",
    "        h5file = tables.open_file(h5file)\n",
    "\n",
    "    if ms_level == 1:\n",
    "        if not polarity:\n",
    "            table = h5file.root.ms1_neg\n",
    "        else:\n",
    "            table = h5file.root.ms1_pos\n",
    "    elif not polarity:\n",
    "        table = h5file.root.ms2_neg\n",
    "    else:\n",
    "        table = h5file.root.ms2_pos\n",
    "\n",
    "    if not table.nrows:\n",
    "        raise ValueError('No data in chosen table: %s' % table._v_name)\n",
    "\n",
    "    query = ''\n",
    "\n",
    "    for name in ['rt', 'mz', 'precursor_MZ', 'precursor_intensity',\n",
    "                 'collision_energy']:\n",
    "        if 'min_%s' % name in kwargs:\n",
    "            query += ' & (%s >= %s)' % (name, kwargs['min_%s' % name])\n",
    "        if 'max_%s' % name in kwargs:\n",
    "            query += ' & (%s <= %s)' % (name, kwargs['max_%s' % name])\n",
    "        if name in kwargs:\n",
    "            query += ' & (%s == %s)' % (name, kwargs[name])\n",
    "\n",
    "    if not query:\n",
    "        data = table.read()\n",
    "        return dict(i=data['i'], \n",
    "                    rt=data['rt'], \n",
    "                    mz=data['mz'], \n",
    "                    precursor_MZ=data['precursor_MZ'], \n",
    "                    precursor_intensity=data['precursor_intensity'], \n",
    "                    collision_energy=data['collision_energy'] )\n",
    "\n",
    "    # chop off the initial ' & '\n",
    "    query = query[3:]\n",
    "    if kwargs.get('verbose', None):\n",
    "        print('Querying: %s from %s' % (query, table._v_name))\n",
    "\n",
    "    data = table.read_where(query)\n",
    "\n",
    "    if not data.size:\n",
    "        raise ValueError('No data found matching criteria')\n",
    "\n",
    "    if kwargs.get('verbose', None):\n",
    "        print('Query complete')\n",
    "\n",
    "    return dict(i=data['i'], \n",
    "                rt=data['rt'], \n",
    "                mz=data['mz'], \n",
    "                precursor_MZ=data['precursor_MZ'], \n",
    "                precursor_intensity=data['precursor_intensity'], \n",
    "                collision_energy=data['collision_energy']  )"
   ]
  },
  {
   "cell_type": "code",
   "execution_count": null,
   "metadata": {
    "collapsed": true
   },
   "outputs": [],
   "source": []
  },
  {
   "cell_type": "code",
   "execution_count": null,
   "metadata": {
    "collapsed": false
   },
   "outputs": [],
   "source": [
    "# myRun = metob.LcmsRun(hdf5_file = '/global/homes/b/bpb/ExoMetabolomic_Example_Data/MEDIA-1.h5')\n",
    "myRun.interact(min_mz = 233.153, max_mz = 233.155)#, polarity = 'positive', ms_level=1)"
   ]
  },
  {
   "cell_type": "code",
   "execution_count": null,
   "metadata": {
    "collapsed": false
   },
   "outputs": [],
   "source": [
    "import tables\n",
    "target_mz = 233.15416\n",
    "target_mz_tolerance = 105\n",
    "target_rt_min = 7.1\n",
    "target_rt_max = 7.15\n",
    "# target_rt_min = 7.4\n",
    "# target_rt_min = 7.6\n",
    "fid = tables.open_file(myRun.hdf5_file)\n",
    "data = h5q.get_data(fid,2,0,\n",
    "                                 min_precursor_mz = target_mz - target_mz * target_mz_tolerance / 1e6,\n",
    "                                 max_precursor_mz = target_mz + target_mz * target_mz_tolerance / 1e6,\n",
    "#                                  max_mz = mz_ref.mz + mz_ref.mz*mz_ref.mz_tolerance/1e6,\n",
    "                                 min_rt = target_rt_min,\n",
    "                                 max_rt = target_rt_max,\n",
    "                                 )"
   ]
  },
  {
   "cell_type": "code",
   "execution_count": null,
   "metadata": {
    "collapsed": false,
    "scrolled": true
   },
   "outputs": [],
   "source": [
    "data"
   ]
  },
  {
   "cell_type": "code",
   "execution_count": null,
   "metadata": {
    "collapsed": false
   },
   "outputs": [],
   "source": [
    "%matplotlib inline\n",
    "import numpy as np\n",
    "plt.vlines(data['mz'],np.zeros(data['i'].shape),data['i'])\n",
    "plt.show()"
   ]
  },
  {
   "cell_type": "code",
   "execution_count": null,
   "metadata": {
    "collapsed": false
   },
   "outputs": [],
   "source": [
    "sys.path.insert(0,'/project/projectdirs/openmsi/projects/meta-iq/pactolus/pactolus' )\n",
    "\n",
    "%system ls /project/projectdirs/openmsi/projects/meta-iq/pactolus/pactolus/\n",
    "from generate_frag_dag import *"
   ]
  },
  {
   "cell_type": "code",
   "execution_count": null,
   "metadata": {
    "collapsed": false,
    "scrolled": true
   },
   "outputs": [],
   "source": [
    "allruns = metob.queryDatabase('lcmsrun',created_by='kblou%')"
   ]
  },
  {
   "cell_type": "code",
   "execution_count": null,
   "metadata": {
    "collapsed": false
   },
   "outputs": [],
   "source": [
    "print len(allruns)"
   ]
  },
  {
   "cell_type": "code",
   "execution_count": null,
   "metadata": {
    "collapsed": false
   },
   "outputs": [],
   "source": [
    "myCompound = metob.Compound()\n",
    "myCompound.edit()"
   ]
  },
  {
   "cell_type": "code",
   "execution_count": null,
   "metadata": {
    "collapsed": true
   },
   "outputs": [],
   "source": [
    "myCompound.store()"
   ]
  },
  {
   "cell_type": "code",
   "execution_count": null,
   "metadata": {
    "collapsed": false
   },
   "outputs": [],
   "source": [
    "allCompounds = metob.queryDatabase('Compounds')\n",
    "print allCompounds"
   ]
  },
  {
   "cell_type": "code",
   "execution_count": null,
   "metadata": {
    "collapsed": true
   },
   "outputs": [],
   "source": [
    "myMethod = metob.Method()\n",
    "myMethod.edit()"
   ]
  },
  {
   "cell_type": "code",
   "execution_count": null,
   "metadata": {
    "collapsed": true
   },
   "outputs": [],
   "source": [
    "# queryDatabase('Atlas',user='curt',description='an atlas')\n",
    "# queryDatabase('group',modified_by='silvest',name='My cool title')"
   ]
  },
  {
   "cell_type": "code",
   "execution_count": null,
   "metadata": {
    "collapsed": true
   },
   "outputs": [],
   "source": [
    "\n",
    "# myGrade = metob.IdentificationGrade(name='A', description='High intensity and verifiable by MSMS and RT authentic standard')\n",
    "# myGrade.store()\n",
    "# myGrade = metob.IdentificationGrade(name='B', description='Verifiable by MSMS from database or publication')\n",
    "# myGrade.store()\n",
    "# myGrade = metob.IdentificationGrade(name='C', description='Has fragment ion or neutral loss characteristic of a class of compounds')\n",
    "# myGrade.store()\n",
    "# myGrade = metob.IdentificationGrade(name='D', description='Unambiguous chemical formula and adduct')\n",
    "# myGrade.store()\n",
    "# myGrade = metob.IdentificationGrade(name='E', description='Significant feature with MSMS suggestion from MIDAS')\n",
    "# myGrade.store()\n",
    "# myGrade = metob.IdentificationGrade(name='F', description='Unknown feature that is not significant')\n",
    "# myGrade.store()\n"
   ]
  },
  {
   "cell_type": "code",
   "execution_count": null,
   "metadata": {
    "collapsed": false
   },
   "outputs": [],
   "source": [
    "myIDGrade = metob.queryDatabase('IdentificationGrade',name='A')\n",
    "myIDGrade"
   ]
  },
  {
   "cell_type": "code",
   "execution_count": null,
   "metadata": {
    "collapsed": false
   },
   "outputs": [],
   "source": [
    "atlases = metob.queryDatabase('Atlas',created_by='bpb')\n",
    "for a in atlases:\n",
    "    print a\n",
    "myAtlas = atlases[3]\n",
    "# print myAtlas\n",
    "myAtlas"
   ]
  },
  {
   "cell_type": "code",
   "execution_count": null,
   "metadata": {
    "collapsed": true
   },
   "outputs": [],
   "source": [
    "# class FragmentationReference(Reference):\n",
    "\n",
    "#     polarity = Enum(POLARITY, 'positive')\n",
    "#     precursor_mz = CFloat()\n",
    "#     mz_intensities = List(Instance(MzIntensityPair),\n",
    "#                           help='list of [mz, intesity] tuples that describe ' +\n",
    "#                                ' a fragmentation spectra')\n",
    "\n",
    "# class MzIntensityPair(MetatlasObject):\n",
    "#     mz = CFloat()\n",
    "#     intensity = CFloat()\n",
    "\n",
    "# @set_docstring\n",
    "# class MzReference(Reference):\n",
    "#     \"\"\"Source of the assertion that a compound has a given m/z and\n",
    "#     other properties directly tied to m/z.\n",
    "#     \"\"\" \n",
    "#     mz = CFloat()\n",
    "#     mz_tolerance = CFloat()\n",
    "#     mz_tolerance_units = Enum(('ppm', 'Da'), 'ppm')\n",
    "#     detected_polarity = Enum(POLARITY, 'positive')\n",
    "#     adduct = CUnicode(help='Optional adduct')\n",
    "#     modification = CUnicode(help='Optional modification')\n",
    "#     observed_formula = CUnicode(help='Optional observed formula')"
   ]
  },
  {
   "cell_type": "code",
   "execution_count": null,
   "metadata": {
    "collapsed": false
   },
   "outputs": [],
   "source": [
    "my_ref = []\n",
    "my_ref.append(metob.RtReference(lcms_run=myRun, RTpeak=2.6, RTmin = 2.0, RTmax = 3.0, RTUnits = 'min'))\n",
    "my_ref.append(metob.MzReference(lcms_run=myRun, mz=170.081169, mz_tolerance=5, mz_tolerance_units='ppm', detected_polarity='positive',adduct='+Proton',modification='',observed_formula='C8H11NO3') ) #TODO: should be neutral formula\n",
    "# metob.FragmentationReference() #TODO: should be the reference to a real spectrum in a file\n",
    "\n",
    "# my_ref.append(metob.FragmentationReference(lcms_run=myRun, RTpeak=2.6, RTmin = 2.0, RTmax = 3.0, RTUnits = 'min'))\n",
    "my_id = metob.CompoundId(compound=myCompound, identification_grade=myIDGrade[0], references=my_ref)\n",
    "# myAtlas = metob.Atlas(name = 'R2A Media Positive Mode Hilic', compounds_ids = [my_id])\n",
    "myAtlas.compound_ids = [my_id] #TODO: should be compound_identifications\n",
    "myAtlas.store()\n"
   ]
  },
  {
   "cell_type": "code",
   "execution_count": null,
   "metadata": {
    "collapsed": false
   },
   "outputs": [],
   "source": [
    "print myAtlas.compounds_ids[0].compound.name\n",
    "print myAtlas.compounds_ids[0].compound.InChl #TODO: Change to InChI\n",
    "# print myAtlas.compounds_ids[0].identification_grade\n",
    "rt_ref = myAtlas.compounds_ids[0].references[0]\n",
    "mz_ref = myAtlas.compounds_ids[0].references[1]\n",
    "print rt_ref.RTpeak, rt_ref.RTmin, rt_ref.RTmax\n",
    "print mz_ref.mz, mz_ref.mz_tolerance, mz_ref.mz_tolerance_units"
   ]
  },
  {
   "cell_type": "code",
   "execution_count": null,
   "metadata": {
    "collapsed": false,
    "scrolled": false
   },
   "outputs": [],
   "source": [
    "\n",
    "#TODO: I need to specify a method for these files\n",
    "import glob, os\n",
    "myPath = '/project/projectdirs/metatlas/data_for_metatlas_2/20150504_LPSilva_Actino_HILIC_POS_51isolates'\n",
    "myFiles = glob.glob(os.path.join(myPath,'*.h5'))\n",
    "# print myFiles\n",
    "myItems = []\n",
    "for f in myFiles:\n",
    "    if 'HB42' in f:\n",
    "        myItems.append( metob.LcmsRun(hdf5_file = f) )\n",
    "spentmediaFiles = metob.Group(name='HB42 Spent Medium',description='Spent medium from isolate HB42 grown in R2A and analyzed with hilic positive mode',items=myItems)\n",
    "spentmediaFiles.store()\n",
    "\n",
    "myItems = []\n",
    "for f in myFiles:\n",
    "    if 'R2A' in f:\n",
    "        myItems.append( metob.LcmsRun(hdf5_file = f))\n",
    "mediaFiles = metob.Group(name='Control Medium',description='R2A medium analyzed with hilic positive mode',items=myItems)\n",
    "mediaFiles.store()\n",
    "\n",
    "myExperiment = metob.Group(name='Control vs Spent Medium',\n",
    "                           description='Four replicates of both R2A medium and spent medium from isolate HB42 analyzed with hilic positive mode',\n",
    "                           items=[spentmediaFiles,mediaFiles])\n",
    "myExperiment.store()\n",
    "\n"
   ]
  },
  {
   "cell_type": "code",
   "execution_count": null,
   "metadata": {
    "collapsed": false
   },
   "outputs": [],
   "source": [
    "print myExperiment.description\n",
    "print myExperiment.items[0].description\n",
    "print myExperiment.items[0].items[0].hdf5_file\n",
    "print myExperiment.items[1].description\n",
    "print myExperiment.items[1].items[0].hdf5_file\n"
   ]
  },
  {
   "cell_type": "code",
   "execution_count": null,
   "metadata": {
    "collapsed": false
   },
   "outputs": [],
   "source": [
    "from metatlas import h5_query as h5q"
   ]
  },
  {
   "cell_type": "code",
   "execution_count": null,
   "metadata": {
    "collapsed": false
   },
   "outputs": [],
   "source": [
    "# TODO: reconvert files and use LcmsRun.interact\n",
    "# This was done the old way and won't work anymore\n",
    "data = []\n",
    "for f in myExperiment.items:\n",
    "    for ff in f.items:\n",
    "        print ff.hdf5_file\n",
    "        data.append(h5q.get_data(ff.hdf5_file,\n",
    "                                 1,\n",
    "                                 1,\n",
    "                                 min_mz = mz_ref.mz - mz_ref.mz*mz_ref.mz_tolerance/1e6,\n",
    "                                 max_mz = mz_ref.mz + mz_ref.mz*mz_ref.mz_tolerance/1e6,\n",
    "                                 min_rt = rt_ref.RTmin,\n",
    "                                 max_rt = rt_ref.RTmax,\n",
    "                                 ))"
   ]
  },
  {
   "cell_type": "code",
   "execution_count": null,
   "metadata": {
    "collapsed": true
   },
   "outputs": [],
   "source": []
  },
  {
   "cell_type": "code",
   "execution_count": null,
   "metadata": {
    "collapsed": true
   },
   "outputs": [],
   "source": []
  },
  {
   "cell_type": "code",
   "execution_count": null,
   "metadata": {
    "collapsed": false
   },
   "outputs": [],
   "source": [
    "# import pandas as pd\n",
    "# atlas_file = '/global/homes/b/bpb/20150804_POS_pHILIC_R2A_Small.txt'\n",
    "# finfo_file = '/global/homes/b/bpb/POS_C18_Actino_FileInfo.txt'\n",
    "\n",
    "# df = pd.read_csv(atlas_file,sep='\\t')\n",
    "# df.fillna('',inplace=True)\n",
    "# comp_list = df.to_dict('records')\n",
    "\n",
    "# df = pd.read_csv(finfo_file,sep='\\t')\n",
    "# df.fillna('',inplace=True)\n",
    "# finfo_list = df.to_dict('records')\n",
    "\n",
    "# print comp_list[0]\n",
    "# # print finfo_list"
   ]
  },
  {
   "cell_type": "code",
   "execution_count": null,
   "metadata": {
    "collapsed": true
   },
   "outputs": [],
   "source": [
    "# compounds = []\n",
    "# for comp in comp_list:\n",
    "#     compounds.append(metatlas_objects.Compound(name = comp['name'], \n",
    "#                                formula = comp['formula'], \n",
    "#                                adducts = comp['adducts'], \n",
    "#                                mz = comp['mz'], \n",
    "#                                mz_threshold = comp['mz_threshold'],\n",
    "#                                rt_min = comp['rt_min'], \n",
    "#                                rt_max = comp['rt_max'], \n",
    "#                                rt_peak = comp['rt_peak'],\n",
    "#                                neutral_mass = comp['neutral_mass'],\n",
    "#                                pubchem_id = comp['pubchem_id']))"
   ]
  },
  {
   "cell_type": "code",
   "execution_count": null,
   "metadata": {
    "collapsed": true
   },
   "outputs": [],
   "source": []
  }
 ],
 "metadata": {
  "kernelspec": {
   "display_name": "Python 2",
   "language": "python",
   "name": "python2"
  },
  "language_info": {
   "codemirror_mode": {
    "name": "ipython",
    "version": 2
   },
   "file_extension": ".py",
   "mimetype": "text/x-python",
   "name": "python",
   "nbconvert_exporter": "python",
   "pygments_lexer": "ipython2",
   "version": "2.7.10"
  }
 },
 "nbformat": 4,
 "nbformat_minor": 0
}
