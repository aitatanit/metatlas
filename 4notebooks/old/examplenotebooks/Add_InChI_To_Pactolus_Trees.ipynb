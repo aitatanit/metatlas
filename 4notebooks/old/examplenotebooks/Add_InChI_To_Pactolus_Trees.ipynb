{
 "cells": [
  {
   "cell_type": "markdown",
   "metadata": {},
   "source": [
    "#Add file level attribute to hdf5 files containing pactolus trees\n",
    "The attribute is the inchi string\n",
    "I'm writing them to a new folder \"pactolus_trees_with_inchi\" not readable to openmsi users, but its writeable by us\n",
    "\n",
    "When you are happy with the result:<br>\n",
    "chgrp -R m1541<br>\n",
    "chmod -R 750 \"foldername\"<br>\n",
    "so the users can have read access to the updated tree files"
   ]
  },
  {
   "cell_type": "code",
   "execution_count": 1,
   "metadata": {
    "collapsed": false
   },
   "outputs": [],
   "source": [
    "# %matplotlib notebook\n",
    "%matplotlib inline\n",
    "%config InlineBackend.figure_format = 'retina'\n",
    "from matplotlib import pylab as plt\n",
    "import sys\n",
    "import glob, os\n",
    "\n",
    "curr_ld_lib_path = ''\n",
    "os.environ['LD_LIBRARY_PATH'] = curr_ld_lib_path + ':/project/projectdirs/openmsi/jupyterhub_libs/boost_1_55_0/lib' + ':/project/projectdirs/openmsi/jupyterhub_libs/lib'\n",
    "import sys\n",
    "# sys.path.remove('/anaconda/lib/python2.7/site-packages')\n",
    "sys.path.append('/global/project/projectdirs/openmsi/jupyterhub_libs/anaconda/lib/python2.7/site-packages')\n",
    "sys.path.insert(0,'/project/projectdirs/openmsi/projects/meta-iq/pactolus/pactolus' )\n",
    "\n",
    "from generate_frag_dag import *\n",
    "\n",
    "import score_frag_dag\n",
    "\n",
    "sys.path.insert(0,'/global/project/projectdirs/metatlas/anaconda/lib/python2.7/site-packages' )\n",
    "\n",
    "from metatlas import metatlas_objects as metob\n",
    "from metatlas import h5_query as h5q\n",
    "from metatlas import mzml_to_hdf\n",
    "\n",
    "import h5py\n",
    "import tables\n",
    "import pickle\n",
    "\n",
    "from rdkit import Chem\n",
    "# from rdkit.Chem.rdMolDescriptors import ExactMolWt\n",
    "from rdkit.Chem import Descriptors\n",
    "from rdkit.Chem import rdMolDescriptors\n",
    "from rdkit.Chem import AllChem\n",
    "from rdkit.Chem import Draw\n",
    "from rdkit.Chem import rdDepictor\n",
    "from rdkit.Chem.Draw import rdMolDraw2D\n",
    "\n",
    "from copy import deepcopy\n",
    "\n",
    "\n",
    "from pyteomics import mgf\n",
    "\n",
    "from rdkit.Chem.Draw import IPythonConsole\n",
    "from IPython.display import SVG,display"
   ]
  },
  {
   "cell_type": "code",
   "execution_count": 2,
   "metadata": {
    "collapsed": false
   },
   "outputs": [
    {
     "name": "stdout",
     "output_type": "stream",
     "text": [
      "13920\n",
      "('InChI=1S/2C10H15NO.H2O4S/c2*1-11(2)8-7-9-3-5-10(12)6-4-9;1-5(2,3)4/h2*3-6,12H,7-8H2,1-2H3;(H2,1,2,3,4)', 'PKCUSEDYJXJFJO-UHFFFAOYSA-N', <rdkit.Chem.rdchem.Mol object at 0x7f63584b27d0>, <rdkit.Chem.rdchem.Mol object at 0x7f635c43ebb0>)\n"
     ]
    }
   ],
   "source": [
    "datafile = []\n",
    "datafile.append('inchi_tables/enzo_and_img_abc_inchis.txt')\n",
    "datafile.append('inchi_tables/gnps_molecule_inchis.txt')\n",
    "datafile.append('inchi_tables/neutral_organic_compounds_from_metacyc.txt')\n",
    "inchi = []\n",
    "for d in datafile:\n",
    "    with open(d) as fid:\n",
    "        for line in fid:\n",
    "            inchi.append(line.strip())\n",
    "inchi = np.unique(inchi)\n",
    "\n",
    "inchi = inchi[1:] #remove the empty line break TODO: verify that its empty line.\n",
    "\n",
    "inchi_with_key = []\n",
    "#This list contains the inchi, inchi-key, rdkit-mol, and rdkit-mol with Hs\n",
    "#TODO: store metatlas compound ID\n",
    "for chi in inchi:\n",
    "    myMol = Chem.MolFromInchi(chi)\n",
    "    inchi_with_key.append((chi,Chem.InchiToInchiKey(chi),myMol,Chem.AddHs(myMol)))\n",
    "print len(inchi_with_key)\n",
    "print inchi_with_key[0]\n"
   ]
  },
  {
   "cell_type": "code",
   "execution_count": 3,
   "metadata": {
    "collapsed": false
   },
   "outputs": [],
   "source": [
    "path_to_trees = '/project/projectdirs/openmsi/projects/pactolus_trees_with_inchi/'\n",
    "all_my_h5_files = glob.glob('/project/projectdirs/openmsi/projects/pactolus_trees_with_inchi/*_hdf5_5_*.h5')\n",
    "\n",
    "for myFile in all_my_h5_files:\n",
    "    f = h5py.File(myFile, 'r+')\n",
    "    matches = [x[0] for x in inchi_with_key if x[1] == f.keys()[0]][0]\n",
    "    if len(matches) > 0:\n",
    "        f.attrs['inchi'] = matches\n",
    "    else:\n",
    "        print myFile    \n",
    "    f.close()\n"
   ]
  },
  {
   "cell_type": "code",
   "execution_count": 50,
   "metadata": {
    "collapsed": false
   },
   "outputs": [
    {
     "data": {
      "application/javascript": [
       "var nb = IPython.notebook;\n",
       "var kernel = IPython.notebook.kernel;\n",
       "var command = \"NOTEBOOK_FULL_PATH = '\" + nb.base_url + nb.notebook_path + \"'\";\n",
       "kernel.execute(command);"
      ],
      "text/plain": [
       "<IPython.core.display.Javascript object>"
      ]
     },
     "metadata": {},
     "output_type": "display_data"
    }
   ],
   "source": [
    "%%javascript\n",
    "var nb = IPython.notebook;\n",
    "var kernel = IPython.notebook.kernel;\n",
    "var command = \"NOTEBOOK_FULL_PATH = '\" + nb.base_url + nb.notebook_path + \"'\";\n",
    "kernel.execute(command);"
   ]
  },
  {
   "cell_type": "code",
   "execution_count": 51,
   "metadata": {
    "collapsed": false
   },
   "outputs": [
    {
     "name": "stdout",
     "output_type": "stream",
     "text": [
      "http://nbviewer.ipython.org/url/portal.nersc.gov/project/openmsi/Add_InChI_To_Pactolus_Trees.ipynb?flush_cache=true\n"
     ]
    }
   ],
   "source": [
    "filename = os.path.basename(NOTEBOOK_FULL_PATH)\n",
    "%system cp $filename /project/projectdirs/openmsi/www/\n",
    "temp = '%s/%s'%('/project/projectdirs/openmsi/www',filename)\n",
    "%system chmod 775 $temp\n",
    "print 'http://nbviewer.ipython.org/url/portal.nersc.gov/project/openmsi/%s?flush_cache=true'%filename"
   ]
  },
  {
   "cell_type": "code",
   "execution_count": null,
   "metadata": {
    "collapsed": true
   },
   "outputs": [],
   "source": []
  }
 ],
 "metadata": {
  "kernelspec": {
   "display_name": "Python 2",
   "language": "python",
   "name": "python2"
  },
  "language_info": {
   "codemirror_mode": {
    "name": "ipython",
    "version": 2
   },
   "file_extension": ".py",
   "mimetype": "text/x-python",
   "name": "python",
   "nbconvert_exporter": "python",
   "pygments_lexer": "ipython2",
   "version": "2.7.10"
  }
 },
 "nbformat": 4,
 "nbformat_minor": 0
}
