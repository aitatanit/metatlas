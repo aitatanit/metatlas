{
 "cells": [
  {
   "cell_type": "code",
   "execution_count": null,
   "metadata": {
    "collapsed": false
   },
   "outputs": [],
   "source": [
    "import sys\n",
    "sys.path.insert(0,'/global/project/projectdirs/metatlas/anaconda/lib/python2.7/site-packages' )\n",
    "\n",
    "from metatlas import xcms\n",
    "import os\n",
    "# myPath = '/project/projectdirs/metatlas/original_data/kblouie/Nyogi_PSII_prelim/'\n",
    "# myPath = '/project/projectdirs/metatlas/original_data/sjenkins/ENIGMA Big EMAc 1/'\n",
    "myPath = '/project/projectdirs/metatlas/original_data/tls/150922_biocrust_porewater/'\n",
    "myFileList = []\n",
    "%system ls $myPath"
   ]
  },
  {
   "cell_type": "code",
   "execution_count": null,
   "metadata": {
    "collapsed": false
   },
   "outputs": [],
   "source": [
    "\n",
    "for file in os.listdir(myPath):\n",
    "    if file.endswith(\".mzML\"):\n",
    "#         if 'Pos' in file:\n",
    "#             if '_RP' in file:\n",
    "                myFileList.append('%s%s'%(myPath,file))\n",
    "for f in myFileList:\n",
    "    print f\n",
    "xset = xcms.get_xmcs_set(myFileList)\n",
    "xset = xcms.group(xset)\n",
    "df = xcms.peak_table(xset)\n",
    "df.head()"
   ]
  },
  {
   "cell_type": "code",
   "execution_count": null,
   "metadata": {
    "collapsed": true
   },
   "outputs": [],
   "source": [
    "df.to_csv('/global/homes/b/bpb/Tami_PoreWater_Neg_XCMS.xls')"
   ]
  },
  {
   "cell_type": "code",
   "execution_count": null,
   "metadata": {
    "collapsed": true
   },
   "outputs": [],
   "source": []
  }
 ],
 "metadata": {
  "kernelspec": {
   "display_name": "Python 2",
   "language": "python",
   "name": "python2"
  },
  "language_info": {
   "codemirror_mode": {
    "name": "ipython",
    "version": 2
   },
   "file_extension": ".py",
   "mimetype": "text/x-python",
   "name": "python",
   "nbconvert_exporter": "python",
   "pygments_lexer": "ipython2",
   "version": "2.7.10"
  }
 },
 "nbformat": 4,
 "nbformat_minor": 0
}
