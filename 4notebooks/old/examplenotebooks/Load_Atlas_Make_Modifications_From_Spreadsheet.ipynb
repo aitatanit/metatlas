{
 "cells": [
  {
   "cell_type": "code",
   "execution_count": 1,
   "metadata": {
    "collapsed": false
   },
   "outputs": [],
   "source": [
    "%matplotlib notebook\n",
    "import sys\n",
    "import pandas as pd\n",
    "\n",
    "#sys.path.insert(0,'/global/project/projectdirs/metatlas/anaconda/lib/python2.7/site-packages' )\n",
    "import qgrid\n",
    "\n",
    "from metatlas import metatlas_objects as metob\n",
    "\n",
    "# df = pd.read_csv('/global/homes/b/bpb/notebooks/MetAtlas_Workflow_20151116/five things for metatlas2/201500826_library_qxqct_hilic_pos.txt', sep='\\t') #if you are loading the corrected names\n",
    "# df = pd.read_csv('/global/homes/b/bpb/notebooks/MetAtlas_Workflow_20151116/five things for metatlas2/201500826_library_qxqct_hilic_neg.txt', sep='\\t') #if you are loading the corrected names\n",
    "# df = pd.read_csv('/global/homes/b/bpb/notebooks/atlas_finfo_to_be_loaded/20151130_Atlas_POS_HILIC_LS_Validated (1).csv',sep = ',')\n",
    "# df = pd.read_csv('/global/homes/b/bpb/notebooks/atlas_finfo_to_be_loaded/20151130_Atlas_NEG_HILIC_LS_Validated.csv',sep = ',')\n",
    "# df = pd.read_csv('/global/homes/b/bpb/notebooks/atlas_finfo_to_be_loaded/20151130_Atlas_POS_HILIC_LS_ISTDs.csv',sep = ',')\n",
    "# df = pd.read_csv('/global/homes/b/bpb/notebooks/atlas_finfo_to_be_loaded/20151130_Atlas_NEG_HILIC_LS_ISTDs.csv',sep = ',')\n",
    "# df = pd.read_csv('/global/homes/b/bpb/notebooks/atlas_finfo_to_be_loaded/HMArkin_Pos_Atlas v3 MCNames (1).txt',sep = '\\t')\n",
    "df = pd.read_csv('/home/jimmy/data/atlas_finfo_to_be_loaded/20151208_Atlas_POS_HILIC_LS_Validated_RTcorr.csv',sep = ',')\n",
    "# df = pd.read_csv('../atlas_finfo_to_be_loaded/20151208_Atlas_NEG_HILIC_LS_Validated_RTcorr.csv',sep = ',')\n",
    "\n",
    "df.columns = [x.lower() for x in df.columns]\n",
    "qgrid.show_grid(df, precision=5)\n",
    "\n",
    "# TODO: Make one Atlas.  \n",
    "# TODO: Add column labels for each mzref, rtref, and fragmentation_ref\n",
    "# TODO: Make template for this\n",
    "# TODO: Make error checker to ensure Adduct is conforming to specification\n",
    "# TODO: make error checker to ensure modification is conforming to specification"
   ]
  },
  {
   "cell_type": "code",
   "execution_count": null,
   "metadata": {
    "collapsed": false
   },
   "outputs": [],
   "source": [
    "fetch_atlases = metob.retrieve('Atlas',name='%_LS_%', username='*')\n",
    "for c in fetch_atlases:\n",
    "    print c.name\n",
    "# 2-acetamido-2-deoxy-beta-D-glucopyranosyl-(1->4)-2-amino-2-deoxy-D-glucopyranose Cite this Record\n",
    "atlas_to_modify = fetch_atlases[3]"
   ]
  },
  {
   "cell_type": "code",
   "execution_count": null,
   "metadata": {
    "collapsed": false
   },
   "outputs": [],
   "source": [
    "\n",
    "# compounds that have the wrong compound name will be listed\n",
    "# Keep running this until no more compounds are listed\n",
    "for x in df.index:\n",
    "    if not metob.retrieve('Compounds',name=df.name[x]):\n",
    "        print df.name[x], \"is not in database\""
   ]
  },
  {
   "cell_type": "code",
   "execution_count": null,
   "metadata": {
    "collapsed": true
   },
   "outputs": [],
   "source": [
    "df.to_csv('saveit.tab', sep='\\t')"
   ]
  },
  {
   "cell_type": "code",
   "execution_count": null,
   "metadata": {
    "collapsed": false
   },
   "outputs": [],
   "source": [
    "keep_compound_identifications = []\n",
    "for i,comp_id in enumerate(atlas_to_modify.compound_identifications):\n",
    "    no_hit = 1 #check for new compounds\n",
    "    for x in df.index:\n",
    "        if df.name[x] == comp_id.compound[0].name:\n",
    "            no_hit = 0\n",
    "    if no_hit == 1:\n",
    "        print \"remove compound\", comp_id.compound[0].name\n",
    "    if no_hit == 0: #the compound was found\n",
    "        keep_compound_identifications.append(comp_id)\n",
    "atlas_to_modify.compound_identifications = keep_compound_identifications\n",
    "# metob.store(atlas_to_modify)"
   ]
  },
  {
   "cell_type": "code",
   "execution_count": null,
   "metadata": {
    "collapsed": false
   },
   "outputs": [],
   "source": [
    "all_identifications = atlas_to_modify.compound_identifications\n",
    "for x in df.index:\n",
    "    no_hit = 1 #check for new compounds\n",
    "    for i,comp_id in enumerate(atlas_to_modify.compound_identifications):\n",
    "        if df.name[x] == comp_id.compound[0].name:\n",
    "            no_hit = 0\n",
    "            old_rt_ref = comp_id.rt_references[0]\n",
    "            old_rt_ref.rt_min = df.rt_min[x]\n",
    "            old_rt_ref.rt_max = df.rt_max[x]\n",
    "#             print df.rt_min[x], df.rt_max[x], old_rt_ref.rt_min, old_rt_ref.rt_max\n",
    "    if no_hit == 1:\n",
    "        print df.name[x], \"new compound\"\n",
    "        new_id = metob.CompoundIdentification()\n",
    "        c = metob.retrieve('Compounds',name=df.name[x], username='*')[0] #currently, all copies of the molecule are returned.  The 0 is the most recent one. \n",
    "        mzRef = metob.MzReference()\n",
    "#     # take the mz value from the spreadsheet\n",
    "        mzRef.mz = df.mz[x]\n",
    "#     #TODO: calculate the mz from theoretical adduct and modification if provided.\n",
    "# #     mzRef.mz = c.MonoIso topic_molecular_weight + 1.007276\n",
    "        mzRef.mz_tolerance = df.mz_threshold[x]\n",
    "        mzRef.mz_tolerance_units = 'ppm'\n",
    "        mzRef.detected_polarity = 'positive'\n",
    "\n",
    "        rtRef = metob.RtReference()\n",
    "        rtRef.rt_units = 'min'\n",
    "        rtRef.rt_min = df.rt_min[x]\n",
    "        rtRef.rt_max = df.rt_max[x]\n",
    "        rtRef.rt_peak = df.rt_peak[x]\n",
    "\n",
    "\n",
    "        new_id.compound = [c]\n",
    "        new_id.mz_references = [mzRef]\n",
    "        new_id.rt_references = [rtRef]\n",
    "        all_identifications.append(new_id)\n",
    "\n",
    "atlas_to_modify.compound_identifications = all_identifications\n",
    "metob.store(atlas_to_modify)\n",
    "\n"
   ]
  },
  {
   "cell_type": "code",
   "execution_count": null,
   "metadata": {
    "collapsed": false,
    "scrolled": false
   },
   "outputs": [],
   "source": [
    "# #     myID.description = 'mz=%5.4f,ppm=%5.4f,RTmin=%5.4f,RTmax=%5.4f,RTpeak=%5.4f'%(mz[i],\n",
    "# #                                                                                  mz_tolerance[i],\n",
    "# #                                                                                  rt_min[i],\n",
    "# #                                                                                  rt_max[i],\n",
    "# #                                                                                  rt_peak[i])\n",
    "# #     print myID.references\n",
    "\n",
    "\n",
    "# all_identifications = []\n",
    "# for i,c in enumerate(myCompounds):\n",
    "#     mzRef = metob.MzReference()\n",
    "\n",
    "#     # take the mz value from the spreadsheet\n",
    "#     mzRef.mz = mz[i]\n",
    "    \n",
    "#     #TODO: calculate the mz from theoretical adduct and modification if provided.\n",
    "# #     mzRef.mz = c.MonoIso topic_molecular_weight + 1.007276\n",
    "#     mzRef.mz_tolerance = mz_tolerance[i]\n",
    "#     mzRef.mz_tolerance_units = 'ppm'\n",
    "#     mzRef.detected_polarity = 'positive'\n",
    "# #     mzRef.adduct = '[M-H]'\n",
    "    \n",
    "#     rtRef = metob.RtReference()\n",
    "#     rtRef.rt_units = 'min'\n",
    "#     rtRef.rt_min = rt_min[i]\n",
    "#     rtRef.rt_max = rt_max[i]\n",
    "#     rtRef.rt_peak = rt_peak[i]\n",
    "    \n",
    "#     myID = metob.CompoundIdentification()\n",
    "#     myID.compound = [c]\n",
    "#     myID.mz_references = [mzRef]\n",
    "#     myID.rt_references = [rtRef]\n",
    "\n",
    "#     all_identifications.append(myID)\n",
    "\n",
    "# myAtlas = metob.Atlas()\n",
    "# #metob.Atlas() has \"compound_identifications\" and a \"name\"\n",
    "# # myAtlas.name = '20151130_LS_Negative_Hilic_QExactive_Archetypes'\n",
    "# myAtlas.name = '20151210_SJ_Positive_Hilic_QTOF6550_HMArkin'\n",
    "# myAtlas.compound_identifications = all_identifications\n",
    "# metob.store(myAtlas)"
   ]
  },
  {
   "cell_type": "code",
   "execution_count": null,
   "metadata": {
    "collapsed": false
   },
   "outputs": [],
   "source": [
    "myAtlas"
   ]
  },
  {
   "cell_type": "code",
   "execution_count": null,
   "metadata": {
    "collapsed": false,
    "scrolled": false
   },
   "outputs": [],
   "source": [
    "atlases = metob.retrieve('Atlas',name='20151130_LS_Positive_Hilic_QExactive_Archetypes', username='*')\n",
    "a = atlases[0]\n",
    "a.compound_identifications[0].mz_references"
   ]
  },
  {
   "cell_type": "code",
   "execution_count": null,
   "metadata": {
    "collapsed": false
   },
   "outputs": [],
   "source": [
    "print atlases[0].compound_identifications[0].compound[0].name\n",
    "print atlases[0].compound_identifications[0].mz_references[0].mz\n",
    "print atlases[0].compound_identifications[0].rt_references[0].rt_peak\n",
    "# print atlases[0].compound_identifications[0].references[2].RTpeak\n",
    "print atlases[0].compound_identifications[0].description.split(',')\n",
    "print atlases[0].compound_identifications[0].name\n"
   ]
  },
  {
   "cell_type": "code",
   "execution_count": null,
   "metadata": {
    "collapsed": true
   },
   "outputs": [],
   "source": []
  }
 ],
 "metadata": {
  "kernelspec": {
   "display_name": "Python 2",
   "language": "python",
   "name": "python2"
  },
  "language_info": {
   "codemirror_mode": {
    "name": "ipython",
    "version": 2
   },
   "file_extension": ".py",
   "mimetype": "text/x-python",
   "name": "python",
   "nbconvert_exporter": "python",
   "pygments_lexer": "ipython2",
   "version": "2.7.11"
  }
 },
 "nbformat": 4,
 "nbformat_minor": 0
}
