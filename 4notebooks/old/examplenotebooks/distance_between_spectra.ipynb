{
 "cells": [
  {
   "cell_type": "code",
   "execution_count": 288,
   "metadata": {
    "collapsed": false
   },
   "outputs": [
    {
     "name": "stdout",
     "output_type": "stream",
     "text": [
      "The line_profiler extension is already loaded. To reload it, use:\n",
      "  %reload_ext line_profiler\n"
     ]
    }
   ],
   "source": [
    "#Imports\n",
    "\n",
    "# standard library\n",
    "import sys\n",
    "import os \n",
    "import time\n",
    "import re\n",
    "import glob\n",
    "import pickle \n",
    "import operator \n",
    "\n",
    "# numpy, scipy, etc\n",
    "import numpy as np\n",
    "import mkl\n",
    "from scipy import ndimage as ndi\n",
    "from scipy.stats import norm\n",
    "import scipy.cluster.hierarchy as sch\n",
    "import scipy.spatial.distance as ssd\n",
    "\n",
    "# for plotting\n",
    "import matplotlib.pyplot as plt\n",
    "%matplotlib inline\n",
    "from matplotlib import cm\n",
    "import seaborn as sns\n",
    "\n",
    "# for networks\n",
    "import networkx as nx\n",
    "\n",
    "# required bastet, MIDAS, and pactolus specific modules:\n",
    "def isneeded(x):\n",
    "    if x not in sys.path:\n",
    "        sys.path.append(x)\n",
    "\n",
    "isneeded('/Users/curt/bastet/')\n",
    "isneeded('/Users/curt/meta-iq/pactolus/pactolus/')\n",
    "isneeded('/Users/curt/meta-iq/midas_lbl/')\n",
    "\n",
    "# pactolus\n",
    "from score_spectra import score_spectra_pairwise, sparse_uncertain_dot, calc_lambda, calc_dot_matrix\n",
    "\n",
    "\n",
    "# timing and profiling\n",
    "import timeit\n",
    "%load_ext line_profiler"
   ]
  },
  {
   "cell_type": "code",
   "execution_count": 2,
   "metadata": {
    "collapsed": false
   },
   "outputs": [],
   "source": [
    "with open('Actino_C18_Pos.pickle', 'r+') as io:\n",
    "    my_data = pickle.load(io)"
   ]
  },
  {
   "cell_type": "code",
   "execution_count": 3,
   "metadata": {
    "collapsed": false
   },
   "outputs": [
    {
     "data": {
      "text/plain": [
       "['rt',\n",
       " 'scan',\n",
       " 'collision_energy',\n",
       " 'precursor_intensity',\n",
       " 'file',\n",
       " 'precursor_mz']"
      ]
     },
     "execution_count": 3,
     "metadata": {},
     "output_type": "execute_result"
    }
   ],
   "source": [
    "my_data.keys()"
   ]
  },
  {
   "cell_type": "code",
   "execution_count": 4,
   "metadata": {
    "collapsed": false
   },
   "outputs": [
    {
     "data": {
      "text/plain": [
       "651072"
      ]
     },
     "execution_count": 4,
     "metadata": {},
     "output_type": "execute_result"
    }
   ],
   "source": [
    "len(my_data['scan'])"
   ]
  },
  {
   "cell_type": "code",
   "execution_count": 5,
   "metadata": {
    "collapsed": false
   },
   "outputs": [
    {
     "data": {
      "text/plain": [
       "62085"
      ]
     },
     "execution_count": 5,
     "metadata": {},
     "output_type": "execute_result"
    }
   ],
   "source": [
    "# how many unique scans?\n",
    "\n",
    "len(np.unique(my_data['precursor_mz']))\n"
   ]
  },
  {
   "cell_type": "code",
   "execution_count": 6,
   "metadata": {
    "collapsed": false
   },
   "outputs": [
    {
     "data": {
      "text/plain": [
       "70.010002"
      ]
     },
     "execution_count": 6,
     "metadata": {},
     "output_type": "execute_result"
    }
   ],
   "source": [
    "np.min(my_data['precursor_mz'])"
   ]
  },
  {
   "cell_type": "code",
   "execution_count": 7,
   "metadata": {
    "collapsed": false
   },
   "outputs": [
    {
     "data": {
      "text/plain": [
       "1048.7751"
      ]
     },
     "execution_count": 7,
     "metadata": {},
     "output_type": "execute_result"
    }
   ],
   "source": [
    "np.max(my_data['precursor_mz'])"
   ]
  },
  {
   "cell_type": "code",
   "execution_count": 11,
   "metadata": {
    "collapsed": true
   },
   "outputs": [],
   "source": [
    "sorted_unique_precursors = np.unique(my_data['precursor_mz'])"
   ]
  },
  {
   "cell_type": "code",
   "execution_count": 12,
   "metadata": {
    "collapsed": false
   },
   "outputs": [
    {
     "data": {
      "text/plain": [
       "array([ 70.01000214,  70.01332855,  70.01337433,  70.01338196,\n",
       "        70.01339722,  70.01340485,  70.01343536,  70.01344299,\n",
       "        70.01345062,  70.01346588], dtype=float32)"
      ]
     },
     "execution_count": 12,
     "metadata": {},
     "output_type": "execute_result"
    }
   ],
   "source": [
    "sorted_unique_precursors[0:10]"
   ]
  },
  {
   "cell_type": "code",
   "execution_count": 13,
   "metadata": {
    "collapsed": false
   },
   "outputs": [
    {
     "data": {
      "text/plain": [
       "[<matplotlib.lines.Line2D at 0x1e249a190>]"
      ]
     },
     "execution_count": 13,
     "metadata": {},
     "output_type": "execute_result"
    },
    {
     "data": {
      "image/png": "[encoded data removed]",
      "text/plain": [
       "<matplotlib.figure.Figure at 0x12ad2c7d0>"
      ]
     },
     "metadata": {},
     "output_type": "display_data"
    }
   ],
   "source": [
    "plt.plot(np.diff(sorted_unique_precursors), '.')"
   ]
  },
  {
   "cell_type": "code",
   "execution_count": 14,
   "metadata": {
    "collapsed": false
   },
   "outputs": [
    {
     "data": {
      "text/plain": [
       "<Container object of 979 artists>"
      ]
     },
     "execution_count": 14,
     "metadata": {},
     "output_type": "execute_result"
    },
    {
     "data": {
      "image/png": "[encoded data removed]",
      "text/plain": [
       "<matplotlib.figure.Figure at 0x1d5e22510>"
      ]
     },
     "metadata": {},
     "output_type": "display_data"
    }
   ],
   "source": [
    "bin_edges = np.arange(70, 1050, 1)\n",
    "\n",
    "binned_precursor_mzs, _ = np.histogram(sorted_unique_precursors, bins=bin_edges)\n",
    "\n",
    "bin_width = np.diff(bin_edges).mean()\n",
    "\n",
    "bin_centers = bin_edges[:-1] + bin_width/2\n",
    "\n",
    "plt.bar(bin_centers, binned_precursor_mzs)"
   ]
  },
  {
   "cell_type": "code",
   "execution_count": 17,
   "metadata": {
    "collapsed": false
   },
   "outputs": [
    {
     "name": "stdout",
     "output_type": "stream",
     "text": [
      "651072\n"
     ]
    },
    {
     "data": {
      "text/plain": [
       "[<matplotlib.lines.Line2D at 0x136e7e290>]"
      ]
     },
     "execution_count": 17,
     "metadata": {},
     "output_type": "execute_result"
    },
    {
     "data": {
      "image/png": "[encoded data removed]",
      "text/plain": [
       "<matplotlib.figure.Figure at 0x13f4015d0>"
      ]
     },
     "metadata": {},
     "output_type": "display_data"
    }
   ],
   "source": [
    "# All precursor masses that round to the same value should be treated as identical\n",
    "rounded_uniques, index_to_uniques, counts = np.unique(np.around(my_data['precursor_mz'], \n",
    "                                                                decimals = 4), \n",
    "                                                      return_inverse=True,\n",
    "                                                      return_counts = True)\n",
    "\n",
    "index_to_sort = index_to_uniques.argsort()\n",
    "\n",
    "# TODO: implement a function which is like around() \n",
    "#       but puts out a tuple of possible \"true\" precursor mzs to allow for neutral losses\n",
    "\n",
    "print len(index_to_uniques)\n",
    "\n",
    "plt.plot(counts)"
   ]
  },
  {
   "cell_type": "code",
   "execution_count": 18,
   "metadata": {
    "collapsed": false
   },
   "outputs": [
    {
     "data": {
      "text/plain": [
       "27437"
      ]
     },
     "execution_count": 18,
     "metadata": {},
     "output_type": "execute_result"
    }
   ],
   "source": [
    "len(counts)"
   ]
  },
  {
   "cell_type": "code",
   "execution_count": 19,
   "metadata": {
    "collapsed": false
   },
   "outputs": [
    {
     "data": {
      "text/plain": [
       "array([0, 0, 0, 0, 0, 0, 0, 0, 0, 0, 0, 0, 0, 0, 0, 0, 0, 0, 0, 0, 0, 0, 0,\n",
       "       0, 0, 0, 0, 0, 0, 0, 0, 0, 0, 0, 0, 0, 0, 0, 0, 0, 0, 0, 0, 0, 0, 0,\n",
       "       0, 0, 0, 0, 0, 0, 0, 0, 0, 0, 0, 0, 0, 0, 0, 0, 0, 0, 0, 0, 0, 0, 0,\n",
       "       0, 0, 0, 0, 0, 0, 0, 0, 0, 0, 0, 0, 0, 0, 0, 0, 0, 0, 0, 0, 0, 0, 0,\n",
       "       0, 0, 0, 0, 0, 0, 0, 0, 0, 0, 0, 0, 0, 0, 0, 1, 2, 2, 2, 2, 2, 2, 2,\n",
       "       2, 3, 3, 3, 3, 4, 4, 4, 4, 4, 4, 4, 4, 5, 5, 6, 6, 6, 6, 6, 6, 6, 6,\n",
       "       6, 6, 6, 6, 6, 6, 6, 6, 6, 6, 6, 6, 6, 6, 6, 6, 6, 6, 6, 6, 6, 6, 6,\n",
       "       6, 6, 6, 6, 6, 6, 6, 6, 6, 6, 6, 6, 6, 6, 6, 6, 6, 6, 6, 6, 6, 6, 6,\n",
       "       6, 6, 6, 6, 6, 6, 6, 6, 6, 6, 6, 6, 6, 6, 6, 6])"
      ]
     },
     "execution_count": 19,
     "metadata": {},
     "output_type": "execute_result"
    }
   ],
   "source": [
    "index_to_uniques[index_to_sort][0:200]"
   ]
  },
  {
   "cell_type": "code",
   "execution_count": 20,
   "metadata": {
    "collapsed": false
   },
   "outputs": [],
   "source": [
    "# group scans by their rounded mass value\n",
    "\n",
    "my_grouped_data = {}\n",
    "\n",
    "for field in my_data:\n",
    "    my_grouped_data[field] = [my_data[field][el] for el in index_to_sort]\n",
    "    \n",
    "my_grouped_data['group'] = index_to_uniques[index_to_sort]"
   ]
  },
  {
   "cell_type": "code",
   "execution_count": 23,
   "metadata": {
    "collapsed": false
   },
   "outputs": [
    {
     "data": {
      "text/plain": [
       "([array([ 72.08000183], dtype=float32),\n",
       "  array([ 72.08000183], dtype=float32),\n",
       "  array([ 72.08000183], dtype=float32),\n",
       "  array([ 72.08000183], dtype=float32),\n",
       "  array([ 72.08000183], dtype=float32),\n",
       "  array([ 72.08000183], dtype=float32),\n",
       "  array([ 72.08000183], dtype=float32),\n",
       "  array([ 72.08000183], dtype=float32),\n",
       "  array([ 72.08000183], dtype=float32),\n",
       "  array([ 72.08000183], dtype=float32)],\n",
       " array([20, 20, 20, 20, 20, 20, 20, 20, 20, 20]))"
      ]
     },
     "execution_count": 23,
     "metadata": {},
     "output_type": "execute_result"
    }
   ],
   "source": [
    "# example entries my my_grouped_data\n",
    "\n",
    "my_grouped_data['precursor_mz'][0:10], my_grouped_data['group'][0:10]\n",
    "\n",
    "my_grouped_data['precursor_mz'][2000:2010], my_grouped_data['group'][2000:2010]\n",
    "    "
   ]
  },
  {
   "cell_type": "code",
   "execution_count": 82,
   "metadata": {
    "collapsed": false
   },
   "outputs": [],
   "source": [
    "# convert to list of Scan objects\n",
    "\n",
    "class MS2_Scan(object):\n",
    "    \"\"\"Python class for holding a single tandem mass spectrum\"\"\"\n",
    "    def __init__(self, params):\n",
    "        \"\"\"\n",
    "        :param params: dict that must contain these key, value pairs:\n",
    "                            precursor_mz: float\n",
    "                            collision_energy: float\n",
    "                            precursor_intensity: float\n",
    "                            scan_data: ndarray of shape (n_peaks, 2) with columnz m/z and intensity\n",
    "                            filename: string\n",
    "                        option key, value pair:\n",
    "                            group: int or string\n",
    "        \"\"\"\n",
    "        \n",
    "        # required parameters\n",
    "        self.rt = params['rt']\n",
    "        self.precursor_mz = params['precursor_mz']\n",
    "        self.collision_energy = params['collision_energy']\n",
    "        self.precursor_intensity = params['precursor_intensity']\n",
    "        self.scan_data = params['scan_data']\n",
    "        self.filename = params['filename']\n",
    "        \n",
    "        # optional parameters\n",
    "        if 'group' in params.keys():\n",
    "            self.group = params['group']\n",
    "        else:\n",
    "            self.group = None\n",
    "        return\n",
    "\n",
    "class MS2_ScanSet(list):\n",
    "    \"\"\"Python class for holding groups of MS2 scans.\"\"\"\n",
    "    def __init__(self, list_of_MS2_Scans):\n",
    "        \n",
    "        # record the scans\n",
    "        self.scans = list_of_MS2_Scans\n",
    "        \n",
    "        # record the groups as a dictionary keyed on group names, with values as lists of indices\n",
    "        self.groups = {}\n",
    "        all_groups = np.unique([scan.group for scan in self.scans])\n",
    "        for group_name in all_groups:\n",
    "            self.groups[group_name] = np.where(scan.group == group_name for scan in self.scans)[0]\n",
    "        return\n",
    "    \n",
    "    def calc_dot_matrix_of_groups(self, params=None, max_num_scans=500):\n",
    "        self.dot_matrix_by_groups = {}\n",
    "        if params is None:\n",
    "            params = {\n",
    "                      'mass_tol': 0.001,\n",
    "                      'neutral_losses': [0],\n",
    "                      'noise_cutoff': 1000,\n",
    "                      'normalize': 2,\n",
    "                      }\n",
    "        for group_name in self.groups:\n",
    "            raw_group_scans = [scan.scan_data for scan in self.scans if scan.group == group_name]\n",
    "            if len(raw_group_scans) > max_num_scans:\n",
    "                print 'Too many scans (%s) in group %s for calculation; skipping...' % (len(raw_group_scans), group_name)\n",
    "                continue\n",
    "            print 'Finding similarity matrix for group %s of %s scans.' % (group_name, len(raw_group_scans))\n",
    "            self.dot_matrix_by_groups[group_name] = calc_dot_matrix(raw_group_scans, params)\n",
    "        return\n",
    "            \n",
    "        \n",
    "\n",
    "\n",
    "def convert_dict_of_lists_to_list_of_scans(my_dict):\n",
    "    scan_list = []\n",
    "    \n",
    "    for idx, _ in enumerate(my_dict['file']):\n",
    "        params = {'rt': my_dict['rt'][idx],\n",
    "                  'precursor_mz': my_dict['precursor_mz'][idx],\n",
    "                  'precursor_intensity': my_dict['precursor_intensity'][idx],\n",
    "                  'collision_energy': my_dict['collision_energy'][idx],\n",
    "                  'scan_data': my_dict['scan'][idx],\n",
    "                  'filename': my_dict['file'][idx],\n",
    "                  }\n",
    "        \n",
    "        if 'group' in my_dict.keys():\n",
    "            params['group'] = my_dict['group'][idx]\n",
    "        scan_list.append(MS2_Scan(params))\n",
    "    return scan_list\n"
   ]
  },
  {
   "cell_type": "code",
   "execution_count": 151,
   "metadata": {
    "collapsed": false
   },
   "outputs": [
    {
     "name": "stdout",
     "output_type": "stream",
     "text": [
      "Found pickle file; loading data.\n"
     ]
    }
   ],
   "source": [
    "# load the data from a pickle file if it is there, otherwise do the calculation and save it\n",
    "try:\n",
    "    with open('dumped_pickle_data.pkl', 'r+') as io:\n",
    "        my_scan_set = pickle.load(io)\n",
    "        print 'Found pickle file; loading data.'\n",
    "except IOError:\n",
    "    print 'Could not find pickle file, repeating calculation of group proximity matrices.'\n",
    "    my_scan_list = convert_dict_of_lists_to_list_of_scans(my_grouped_data)\n",
    "    my_scan_set = MS2_ScanSet(my_scan_list)\n",
    "\n",
    "    # do dot matrixing\n",
    "    my_scan_set.calc_dot_matrix_of_groups()\n",
    "    \n",
    "    # save results\n",
    "    with open('dumped_pickle_data.pkl', 'w') as io:\n",
    "        pickle.dump(my_scan_set, io)\n",
    "    \n"
   ]
  },
  {
   "cell_type": "code",
   "execution_count": 152,
   "metadata": {
    "collapsed": false
   },
   "outputs": [
    {
     "data": {
      "text/plain": [
       "651072"
      ]
     },
     "execution_count": 152,
     "metadata": {},
     "output_type": "execute_result"
    }
   ],
   "source": [
    "len(my_scan_set.scans)"
   ]
  },
  {
   "cell_type": "code",
   "execution_count": 153,
   "metadata": {
    "collapsed": false
   },
   "outputs": [
    {
     "data": {
      "image/png": "[encoded data removed]",
      "text/plain": [
       "<matplotlib.figure.Figure at 0x2f68dd250>"
      ]
     },
     "metadata": {},
     "output_type": "display_data"
    }
   ],
   "source": [
    "# Look at distribution of all MS2 peak intensities in all scans to decide noise cutoff\n",
    "\n",
    "all_ints = np.array([my_scan_list[idx].scan_data[:, 1] for idx in xrange(len(my_scan_list))]).flatten()\n",
    "\n",
    "plt.hist(all_ints, bins = np.logspace(0, 8))\n",
    "\n",
    "plt.gca().set_xscale('log')"
   ]
  },
  {
   "cell_type": "code",
   "execution_count": 154,
   "metadata": {
    "collapsed": false
   },
   "outputs": [
    {
     "data": {
      "image/png": "[encoded data removed]",
      "text/plain": [
       "<matplotlib.figure.Figure at 0x25784b3d0>"
      ]
     },
     "metadata": {},
     "output_type": "display_data"
    }
   ],
   "source": [
    "# Look at distribution of all parent peak intensities in all scans to decide noise cutoff\n",
    "\n",
    "all_ints = np.array([my_scan_list[idx].precursor_intensity for idx in xrange(len(my_scan_list))])\n",
    "\n",
    "plt.hist(all_ints, bins = np.logspace(0, 9))\n",
    "\n",
    "plt.gca().set_xscale('log')"
   ]
  },
  {
   "cell_type": "code",
   "execution_count": 155,
   "metadata": {
    "collapsed": false
   },
   "outputs": [
    {
     "data": {
      "text/plain": [
       "<matplotlib.image.AxesImage at 0x25a0d67d0>"
      ]
     },
     "execution_count": 155,
     "metadata": {},
     "output_type": "execute_result"
    },
    {
     "data": {
      "image/png": "[encoded data removed]",
      "text/plain": [
       "<matplotlib.figure.Figure at 0x2c287df10>"
      ]
     },
     "metadata": {},
     "output_type": "display_data"
    }
   ],
   "source": [
    "# do some clustering\n",
    "\n",
    "plt.imshow(my_scan_set.dot_matrix_by_groups[0], \n",
    "           cmap=cm.Greens_r,\n",
    "           interpolation='none',\n",
    "           )"
   ]
  },
  {
   "cell_type": "code",
   "execution_count": 338,
   "metadata": {
    "collapsed": false,
    "scrolled": true
   },
   "outputs": [
    {
     "data": {
      "text/plain": [
       "<seaborn.matrix.ClusterGrid at 0x2f7e21c90>"
      ]
     },
     "execution_count": 338,
     "metadata": {},
     "output_type": "execute_result"
    },
    {
     "data": {
      "image/png": "[encoded data removed]",
      "text/plain": [
       "<matplotlib.figure.Figure at 0x294560450>"
      ]
     },
     "metadata": {},
     "output_type": "display_data"
    }
   ],
   "source": [
    "\n",
    "\n",
    "\n",
    "def make_distance_matrix_clustergram(prox_mat):\n",
    "    # convert upper-triangular proximity matrix to a full-square distance matrix\n",
    "    upper_trig = prox_mat.copy()\n",
    "    lower_trig = upper_trig.T.copy()\n",
    "    diag_idxs = np.diag_indices_from(upper_trig)\n",
    "    lower_trig[diag_idxs] = 0\n",
    "    proximity_mat = upper_trig + lower_trig\n",
    "\n",
    "    # get rid of NaNs\n",
    "    proximity_mat[np.isnan(proximity_mat)] = 0\n",
    "    \n",
    "    # ensure diagonal of distance_matrix is zero\n",
    "    proximity_mat[np.diag_indices_from(proximity_mat)] = 1\n",
    "    \n",
    "    # ensure full proximity matrix is symmetrc\n",
    "    assert np.allclose(proximity_mat, proximity_mat.T)\n",
    "    \n",
    "    # clustering require distances, not proximities\n",
    "    distance_mat = 1 - proximity_mat\n",
    "    \n",
    "    # \n",
    "    D = ssd.squareform(distance_mat)\n",
    "    Y = sch.linkage(D, method='complete')\n",
    "\n",
    "    g = sns.clustermap(data=distance_mat,\n",
    "                       row_linkage=Y,\n",
    "                       col_linkage=Y,\n",
    "                       figsize=(12, 10),\n",
    "                       yticklabels=False,\n",
    "                       )\n",
    "    my_labels = [el.get_text() for el in g.ax_heatmap.get_xticklabels()]\n",
    "    g.ax_heatmap.set_xticklabels(my_labels, size=8)\n",
    "    g.ax_row_dendrogram.set_visible(False)\n",
    "    return g\n",
    "\n",
    "make_distance_matrix_clustergram(my_scan_set.dot_matrix_by_groups[0])"
   ]
  },
  {
   "cell_type": "code",
   "execution_count": 268,
   "metadata": {
    "collapsed": false
   },
   "outputs": [
    {
     "name": "stdout",
     "output_type": "stream",
     "text": [
      "[u'100', u'101', u'106', u'50', u'15', u'47', u'66', u'20', u'61', u'36', u'57', u'69', u'3', u'67', u'51', u'52', u'28', u'2', u'71', u'89', u'59', u'76', u'105', u'74', u'77', u'22', u'64', u'4', u'42', u'54', u'6', u'78', u'48', u'11', u'85', u'98', u'37', u'1', u'34', u'16', u'87', u'104', u'21', u'29', u'62', u'31', u'45', u'103', u'84', u'97', u'73', u'102', u'99', u'96', u'70', u'35', u'40', u'68', u'24', u'81', u'30', u'80', u'46', u'88', u'83', u'95', u'38', u'92', u'94', u'9', u'44', u'10', u'60', u'86', u'13', u'53', u'93', u'58', u'5', u'79', u'91', u'90', u'82', u'75', u'72', u'0', u'19', u'65', u'63', u'56', u'55', u'49', u'43', u'41', u'39', u'33', u'32', u'27', u'26', u'25', u'23', u'18', u'17', u'14', u'12', u'7', u'8']\n"
     ]
    }
   ],
   "source": [
    "my_labels = [el.get_text() for el in g.ax_heatmap.get_xticklabels()]\n",
    "print my_labels"
   ]
  },
  {
   "cell_type": "code",
   "execution_count": 223,
   "metadata": {
    "collapsed": false
   },
   "outputs": [
    {
     "name": "stdout",
     "output_type": "stream",
     "text": [
      "[100, 101, 106, 50, 15, 47, 66, 20, 61, 36, 57, 69, 3, 67, 51, 52, 28, 2, 71, 89, 59, 76, 105, 74, 77, 22, 64, 4, 42, 54, 6, 78, 48, 11, 85, 98, 37, 1, 34, 16, 87, 104, 21, 29, 62, 31, 45, 103, 84, 97, 73, 102, 99, 96, 70, 35, 40, 68, 24, 81, 30, 80, 46, 88, 83, 95, 38, 92, 94, 9, 44, 10, 60, 86, 13, 53, 93, 58, 5, 79, 91, 90, 82, 75, 72, 0, 19, 65, 63, 56, 55, 49, 43, 41, 39, 33, 32, 27, 26, 25, 23, 18, 17, 14, 12, 7, 8]\n"
     ]
    }
   ],
   "source": [
    "print g.dendrogram_row.reordered_ind"
   ]
  },
  {
   "cell_type": "code",
   "execution_count": 226,
   "metadata": {
    "collapsed": false
   },
   "outputs": [],
   "source": [
    "all_0_data = [scan for scan in my_scan_set.scans if scan.group==0]"
   ]
  },
  {
   "cell_type": "code",
   "execution_count": 235,
   "metadata": {
    "collapsed": false
   },
   "outputs": [
    {
     "data": {
      "image/png": "[encoded data removed]",
      "text/plain": [
       "<matplotlib.figure.Figure at 0x2cc821650>"
      ]
     },
     "metadata": {},
     "output_type": "display_data"
    },
    {
     "data": {
      "image/png": "[encoded data removed]",
      "text/plain": [
       "<matplotlib.figure.Figure at 0x2cc821590>"
      ]
     },
     "metadata": {},
     "output_type": "display_data"
    },
    {
     "data": {
      "image/png": "[encoded data removed]",
      "text/plain": [
       "<matplotlib.figure.Figure at 0x3116de410>"
      ]
     },
     "metadata": {},
     "output_type": "display_data"
    }
   ],
   "source": [
    "def plot_spectrum(scan):\n",
    "    plt.figure(figsize=(5, 5))\n",
    "    plt.stem(scan[:, 0], scan[:, 1])\n",
    "    plt.show()\n",
    "    \n",
    "plot_spectrum(all_0_data[100].scan_data[0])\n",
    "plot_spectrum(all_0_data[101].scan_data[0])\n",
    "plot_spectrum(all_0_data[102].scan_data[0])"
   ]
  },
  {
   "cell_type": "code",
   "execution_count": 285,
   "metadata": {
    "collapsed": false
   },
   "outputs": [
    {
     "data": {
      "image/png": "[encoded data removed]",
      "text/plain": [
       "<matplotlib.figure.Figure at 0x2a3113f90>"
      ]
     },
     "metadata": {},
     "output_type": "display_data"
    }
   ],
   "source": [
    "# determine where to threshold our distance metric in order to make links\n",
    "\n",
    "plt.hist(my_scan_set.dot_matrix_by_groups[0].flatten(), bins = np.arange(0, 1, 0.1))\n",
    "plt.gca().set_yscale('log')"
   ]
  },
  {
   "cell_type": "code",
   "execution_count": 289,
   "metadata": {
    "collapsed": false
   },
   "outputs": [],
   "source": [
    "# draw network from heatmap\n",
    "\n",
    "dot_cutoff = 0.5\n",
    "\n",
    "proximity_matrix = my_scan_set.dot_matrix_by_groups[0].copy()\n",
    "\n",
    "adjacency_matrix = proximity_matrix > dot_cutoff\n",
    "\n",
    "group_0_network = nx.to_networkx_graph(adjacency_matrix)"
   ]
  },
  {
   "cell_type": "code",
   "execution_count": 325,
   "metadata": {
    "collapsed": false
   },
   "outputs": [
    {
     "data": {
      "image/png": "[encoded data removed]",
      "text/plain": [
       "<matplotlib.figure.Figure at 0x2efcf56d0>"
      ]
     },
     "metadata": {},
     "output_type": "display_data"
    }
   ],
   "source": [
    "from math import sqrt\n",
    "\n",
    "plt.figure(figsize=(10, 10))\n",
    "\n",
    "\n",
    "layout = nx.spring_layout(group_0_network)\n",
    "nx.draw(group_0_network, pos=layout)"
   ]
  },
  {
   "cell_type": "code",
   "execution_count": 313,
   "metadata": {
    "collapsed": false
   },
   "outputs": [
    {
     "data": {
      "text/plain": [
       "<bound method Graph.number_of_nodes of <networkx.classes.graph.Graph object at 0x136ba8fd0>>"
      ]
     },
     "execution_count": 313,
     "metadata": {},
     "output_type": "execute_result"
    }
   ],
   "source": [
    "group_0_network.number_of_nodes"
   ]
  },
  {
   "cell_type": "code",
   "execution_count": 335,
   "metadata": {
    "collapsed": false
   },
   "outputs": [
    {
     "data": {
      "text/plain": [
       "[(224, 498),\n",
       " (5795, 498),\n",
       " (783, 491),\n",
       " (5797, 489),\n",
       " (5794, 488),\n",
       " (1374, 486),\n",
       " (3463, 486),\n",
       " (308, 481),\n",
       " (5807, 473),\n",
       " (191, 471),\n",
       " (4291, 458),\n",
       " (5799, 456),\n",
       " (192, 455),\n",
       " (6, 452),\n",
       " (1359, 451),\n",
       " (1379, 450),\n",
       " (605, 448),\n",
       " (3158, 443),\n",
       " (117, 441),\n",
       " (2664, 441),\n",
       " (5802, 439),\n",
       " (5924, 439),\n",
       " (507, 435),\n",
       " (1334, 430),\n",
       " (309, 427),\n",
       " (4335, 426),\n",
       " (15821, 424),\n",
       " (5265, 421),\n",
       " (544, 420),\n",
       " (806, 419),\n",
       " (43, 412),\n",
       " (5189, 412),\n",
       " (2658, 410),\n",
       " (5801, 409),\n",
       " (3276, 405),\n",
       " (632, 404),\n",
       " (4284, 404),\n",
       " (11026, 401),\n",
       " (395, 397),\n",
       " (3356, 395),\n",
       " (4292, 391),\n",
       " (2784, 379),\n",
       " (1349, 376),\n",
       " (1331, 370),\n",
       " (1906, 370),\n",
       " (6004, 362),\n",
       " (2414, 359),\n",
       " (3354, 359),\n",
       " (397, 353),\n",
       " (294, 351),\n",
       " (1908, 351),\n",
       " (3358, 344),\n",
       " (6775, 344),\n",
       " (687, 342),\n",
       " (4315, 337),\n",
       " (3278, 336),\n",
       " (23802, 334),\n",
       " (537, 333),\n",
       " (16349, 333),\n",
       " (375, 332),\n",
       " (3355, 331),\n",
       " (62, 329),\n",
       " (458, 320),\n",
       " (1442, 320),\n",
       " (7331, 318),\n",
       " (572, 317),\n",
       " (161, 316),\n",
       " (3277, 316),\n",
       " (93, 312),\n",
       " (231, 312),\n",
       " (4430, 312),\n",
       " (940, 310),\n",
       " (332, 308),\n",
       " (468, 308),\n",
       " (1847, 306),\n",
       " (7369, 303),\n",
       " (2989, 302),\n",
       " (394, 299),\n",
       " (505, 298),\n",
       " (2261, 297),\n",
       " (149, 296),\n",
       " (3782, 294),\n",
       " (99, 293),\n",
       " (396, 293),\n",
       " (492, 293),\n",
       " (11258, 293),\n",
       " (498, 291),\n",
       " (1907, 290),\n",
       " (3275, 287),\n",
       " (310, 285),\n",
       " (5441, 285),\n",
       " (162, 284),\n",
       " (9912, 283),\n",
       " (177, 282),\n",
       " (4319, 282),\n",
       " (1333, 278),\n",
       " (1905, 274),\n",
       " (27377, 272),\n",
       " (611, 270),\n",
       " (1551, 270),\n",
       " (2014, 270),\n",
       " (2665, 270),\n",
       " (3236, 270),\n",
       " (509, 267),\n",
       " (16450, 267),\n",
       " (4317, 266),\n",
       " (1335, 265),\n",
       " (689, 263),\n",
       " (6213, 263),\n",
       " (2415, 260),\n",
       " (5383, 259),\n",
       " (26772, 258),\n",
       " (8785, 257),\n",
       " (7990, 255),\n",
       " (40, 253),\n",
       " (2062, 248),\n",
       " (2106, 247),\n",
       " (23796, 247),\n",
       " (27219, 246),\n",
       " (95, 245),\n",
       " (2408, 244),\n",
       " (105, 242),\n",
       " (982, 241),\n",
       " (15819, 240),\n",
       " (6245, 239),\n",
       " (189, 234),\n",
       " (8230, 233),\n",
       " (3366, 232),\n",
       " (1330, 230),\n",
       " (26309, 229),\n",
       " (5290, 227),\n",
       " (298, 226),\n",
       " (2049, 226),\n",
       " (94, 225),\n",
       " (178, 224),\n",
       " (104, 223),\n",
       " (5292, 223),\n",
       " (2039, 222),\n",
       " (5288, 222),\n",
       " (3279, 219),\n",
       " (4725, 219),\n",
       " (788, 218),\n",
       " (3274, 218),\n",
       " (1816, 216),\n",
       " (2427, 215),\n",
       " (3280, 215),\n",
       " (2050, 214),\n",
       " (3359, 213),\n",
       " (330, 210),\n",
       " (8156, 209),\n",
       " (8232, 209),\n",
       " (3294, 208),\n",
       " (3357, 208),\n",
       " (4471, 208),\n",
       " (306, 207),\n",
       " (4210, 207),\n",
       " (106, 206),\n",
       " (4887, 206),\n",
       " (15823, 206),\n",
       " (606, 205),\n",
       " (688, 205),\n",
       " (361, 204),\n",
       " (5294, 204),\n",
       " (6007, 204),\n",
       " (16893, 204),\n",
       " (206, 203),\n",
       " (628, 203),\n",
       " (686, 203),\n",
       " (7474, 203),\n",
       " (3360, 201),\n",
       " (7544, 201),\n",
       " (23795, 200),\n",
       " (6195, 199),\n",
       " (1909, 198),\n",
       " (2657, 198),\n",
       " (25038, 198),\n",
       " (8289, 196),\n",
       " (4314, 194),\n",
       " (8234, 193),\n",
       " (19706, 192),\n",
       " (2052, 191),\n",
       " (26001, 191),\n",
       " (11208, 190),\n",
       " (626, 188),\n",
       " (2016, 188),\n",
       " (27076, 188),\n",
       " (163, 186),\n",
       " (1034, 185),\n",
       " (15820, 185),\n",
       " (6176, 184),\n",
       " (1380, 183),\n",
       " (7672, 183),\n",
       " (15817, 183),\n",
       " (122, 178),\n",
       " (534, 178),\n",
       " (853, 178),\n",
       " (4293, 178),\n",
       " (5289, 178),\n",
       " (23803, 178),\n",
       " (144, 177),\n",
       " (859, 177),\n",
       " (4316, 177),\n",
       " (7407, 177),\n",
       " (8236, 177),\n",
       " (2048, 176),\n",
       " (837, 175),\n",
       " (1890, 174),\n",
       " (1955, 171),\n",
       " (7249, 171),\n",
       " (15825, 171),\n",
       " (15921, 171),\n",
       " (2015, 169),\n",
       " (1916, 168),\n",
       " (301, 167),\n",
       " (1881, 166),\n",
       " (324, 165),\n",
       " (145, 164),\n",
       " (265, 164),\n",
       " (1894, 164),\n",
       " (5396, 164),\n",
       " (5713, 164),\n",
       " (1910, 163),\n",
       " (8806, 163),\n",
       " (373, 161),\n",
       " (1420, 161),\n",
       " (300, 160),\n",
       " (1178, 160),\n",
       " (1904, 160),\n",
       " (4321, 160),\n",
       " (11201, 160),\n",
       " (15827, 159),\n",
       " (3505, 158),\n",
       " (5147, 158),\n",
       " (5803, 158),\n",
       " (10173, 158),\n",
       " (23809, 158),\n",
       " (249, 157),\n",
       " (5978, 157),\n",
       " (362, 156),\n",
       " (1892, 156),\n",
       " (2395, 156),\n",
       " (16875, 156),\n",
       " (211, 154),\n",
       " (1365, 154),\n",
       " (2766, 153),\n",
       " (3503, 152),\n",
       " (2393, 151),\n",
       " (3353, 151),\n",
       " (23798, 151),\n",
       " (621, 150),\n",
       " (8228, 150),\n",
       " (1722, 149),\n",
       " (6335, 149),\n",
       " (625, 148),\n",
       " (2763, 148),\n",
       " (4361, 148),\n",
       " (5857, 147),\n",
       " (244, 146),\n",
       " (23800, 146),\n",
       " (1891, 145),\n",
       " (1386, 144),\n",
       " (16877, 144),\n",
       " (2013, 142),\n",
       " (346, 140),\n",
       " (601, 140),\n",
       " (2762, 139),\n",
       " (2764, 139),\n",
       " (8231, 139),\n",
       " (15824, 139),\n",
       " (264, 138),\n",
       " (1893, 138),\n",
       " (2017, 138),\n",
       " (4318, 138),\n",
       " (5579, 138),\n",
       " (30, 137),\n",
       " (2051, 136),\n",
       " (3453, 136),\n",
       " (4164, 136),\n",
       " (4320, 136),\n",
       " (5291, 136),\n",
       " (6481, 135),\n",
       " (23780, 135),\n",
       " (616, 134),\n",
       " (2329, 134),\n",
       " (2569, 134),\n",
       " (792, 133),\n",
       " (5793, 133),\n",
       " (16873, 133),\n",
       " (87, 132),\n",
       " (204, 132),\n",
       " (1336, 132),\n",
       " (5293, 132),\n",
       " (4353, 131),\n",
       " (6292, 131),\n",
       " (7999, 131),\n",
       " (35, 130),\n",
       " (1076, 130),\n",
       " (5075, 130),\n",
       " (5542, 130),\n",
       " (7997, 130),\n",
       " (16874, 130),\n",
       " (25020, 130),\n",
       " (2765, 129),\n",
       " (3273, 128),\n",
       " (3504, 128),\n",
       " (6364, 128),\n",
       " (8001, 128),\n",
       " (11643, 128),\n",
       " (3506, 127),\n",
       " (6137, 127),\n",
       " (348, 126),\n",
       " (1387, 126),\n",
       " (8857, 126),\n",
       " (3228, 125),\n",
       " (276, 124),\n",
       " (319, 124),\n",
       " (2394, 124),\n",
       " (2682, 124),\n",
       " (3502, 124),\n",
       " (16879, 124),\n",
       " (1385, 123),\n",
       " (2416, 123),\n",
       " (4165, 123),\n",
       " (23805, 123),\n",
       " (3247, 122),\n",
       " (5920, 122),\n",
       " (146, 121),\n",
       " (2053, 121),\n",
       " (8235, 120),\n",
       " (15987, 120),\n",
       " (4846, 119),\n",
       " (6129, 119),\n",
       " (6541, 119),\n",
       " (5804, 118),\n",
       " (6024, 118),\n",
       " (6954, 118),\n",
       " (25641, 118),\n",
       " (1205, 117),\n",
       " (3507, 117),\n",
       " (78, 116),\n",
       " (347, 116),\n",
       " (789, 116),\n",
       " (2779, 116),\n",
       " (8727, 116),\n",
       " (711, 115),\n",
       " (2397, 115),\n",
       " (15829, 115),\n",
       " (2666, 114),\n",
       " (6127, 114),\n",
       " (1015, 113),\n",
       " (2757, 113),\n",
       " (8229, 113),\n",
       " (11109, 113),\n",
       " (11800, 113),\n",
       " (398, 112),\n",
       " (1010, 112),\n",
       " (4277, 112),\n",
       " (690, 111),\n",
       " (850, 111),\n",
       " (4163, 111),\n",
       " (5296, 111),\n",
       " (11007, 111),\n",
       " (16883, 111),\n",
       " (25642, 111),\n",
       " (212, 110),\n",
       " (3457, 110),\n",
       " (5295, 110),\n",
       " (20683, 110),\n",
       " (1230, 109),\n",
       " (19708, 109),\n",
       " (3454, 108),\n",
       " (0, 107),\n",
       " (66, 107),\n",
       " (193, 107),\n",
       " (627, 107),\n",
       " (4856, 107),\n",
       " (4885, 107),\n",
       " (113, 106),\n",
       " (510, 106),\n",
       " (629, 106),\n",
       " (3455, 106),\n",
       " (5320, 106),\n",
       " (6796, 106),\n",
       " (1398, 105),\n",
       " (4644, 105),\n",
       " (6677, 105),\n",
       " (15822, 105),\n",
       " (9701, 104),\n",
       " (25258, 104),\n",
       " (649, 103),\n",
       " (1671, 103),\n",
       " (2012, 103),\n",
       " (15220, 103),\n",
       " (16878, 103),\n",
       " (651, 102),\n",
       " (2778, 102),\n",
       " (4162, 102),\n",
       " (4740, 102),\n",
       " (6415, 102),\n",
       " (23793, 102),\n",
       " (1411, 101),\n",
       " (2777, 101),\n",
       " (2991, 101),\n",
       " (4642, 101),\n",
       " (8233, 101),\n",
       " (23807, 101),\n",
       " (137, 100),\n",
       " (1768, 100),\n",
       " (2776, 100),\n",
       " (4384, 99),\n",
       " (4583, 99),\n",
       " (4995, 99),\n",
       " (7280, 99),\n",
       " (2018, 98),\n",
       " (5526, 98),\n",
       " (8252, 98),\n",
       " (8844, 98),\n",
       " (535, 97),\n",
       " (1075, 97),\n",
       " (2088, 97),\n",
       " (2562, 97),\n",
       " (3251, 97),\n",
       " (4136, 97),\n",
       " (23370, 97),\n",
       " (219, 96),\n",
       " (791, 96),\n",
       " (1933, 96),\n",
       " (2942, 96),\n",
       " (4201, 96),\n",
       " (4283, 96),\n",
       " (9226, 96),\n",
       " (9264, 96),\n",
       " (15818, 96),\n",
       " (266, 95),\n",
       " (321, 95),\n",
       " (1388, 95),\n",
       " (1389, 95),\n",
       " (2796, 95),\n",
       " (4166, 95),\n",
       " (7769, 95),\n",
       " (10668, 95),\n",
       " (16881, 95),\n",
       " (1078, 94),\n",
       " (1373, 94),\n",
       " (5792, 94),\n",
       " (5915, 94),\n",
       " (6582, 94),\n",
       " (478, 93),\n",
       " (4203, 93),\n",
       " (5911, 93),\n",
       " (5930, 93),\n",
       " (8758, 93),\n",
       " (10022, 93),\n",
       " (23482, 93),\n",
       " (1077, 92),\n",
       " (1895, 92),\n",
       " (8438, 92),\n",
       " (160, 91),\n",
       " (320, 91),\n",
       " (685, 91),\n",
       " (7068, 91),\n",
       " (15155, 91),\n",
       " (16882, 91),\n",
       " (406, 90),\n",
       " (2775, 90),\n",
       " (7995, 90),\n",
       " (10417, 90),\n",
       " (15828, 90),\n",
       " (23752, 90),\n",
       " (88, 89),\n",
       " (1079, 89),\n",
       " (1399, 89),\n",
       " (3371, 89),\n",
       " (13677, 89),\n",
       " (23797, 89),\n",
       " (221, 88),\n",
       " (2333, 88),\n",
       " (2407, 88),\n",
       " (3281, 88),\n",
       " (3282, 88),\n",
       " (7931, 88),\n",
       " (11139, 88),\n",
       " (25635, 88),\n",
       " (25639, 88),\n",
       " (622, 87),\n",
       " (893, 87),\n",
       " (2301, 87),\n",
       " (2337, 87),\n",
       " (3268, 87),\n",
       " (3290, 87),\n",
       " (3369, 87),\n",
       " (5913, 87),\n",
       " (10432, 87),\n",
       " (10673, 87),\n",
       " (15826, 87),\n",
       " (25648, 87),\n",
       " (26315, 87),\n",
       " (167, 86),\n",
       " (8238, 86),\n",
       " (23811, 86),\n",
       " (89, 85),\n",
       " (151, 85),\n",
       " (652, 85),\n",
       " (1661, 85),\n",
       " (1992, 85),\n",
       " (2054, 85),\n",
       " (16885, 85),\n",
       " (504, 84),\n",
       " (1681, 84),\n",
       " (3199, 84),\n",
       " (6125, 84),\n",
       " (7037, 84),\n",
       " (13390, 84),\n",
       " (16871, 84),\n",
       " (92, 83),\n",
       " (153, 83),\n",
       " (322, 83),\n",
       " (1568, 83),\n",
       " (2767, 83),\n",
       " (823, 82),\n",
       " (3303, 82),\n",
       " (3373, 82),\n",
       " (8440, 82),\n",
       " (20626, 82),\n",
       " (220, 81),\n",
       " (762, 81),\n",
       " (1561, 81),\n",
       " (2396, 81),\n",
       " (2561, 81),\n",
       " (3635, 81),\n",
       " (5310, 81),\n",
       " (25644, 81),\n",
       " (568, 80),\n",
       " (639, 80),\n",
       " (716, 80),\n",
       " (1472, 80),\n",
       " (1819, 80),\n",
       " (3456, 80),\n",
       " (8478, 80),\n",
       " (8846, 80),\n",
       " (15841, 80),\n",
       " (107, 79),\n",
       " (1865, 79),\n",
       " (5909, 79),\n",
       " (26000, 79),\n",
       " (2768, 78),\n",
       " (4200, 78),\n",
       " (5928, 78),\n",
       " (6128, 78),\n",
       " (277, 77),\n",
       " (486, 77),\n",
       " (2877, 77),\n",
       " (3637, 77),\n",
       " (4223, 77),\n",
       " (650, 76),\n",
       " (3361, 76),\n",
       " (3634, 76),\n",
       " (4646, 76),\n",
       " (6058, 76),\n",
       " (6199, 76),\n",
       " (1642, 75),\n",
       " (2992, 75),\n",
       " (3227, 75),\n",
       " (3639, 75),\n",
       " (4776, 75),\n",
       " (15815, 75),\n",
       " (17160, 75),\n",
       " (23808, 75),\n",
       " (25654, 75),\n",
       " (26339, 75),\n",
       " (484, 74),\n",
       " (4205, 74),\n",
       " (5308, 74),\n",
       " (6131, 74),\n",
       " (9358, 74),\n",
       " (9862, 74),\n",
       " (23799, 74),\n",
       " (23, 73),\n",
       " (79, 73),\n",
       " (714, 73),\n",
       " (1199, 73),\n",
       " (1738, 73),\n",
       " (3508, 73),\n",
       " (7900, 73),\n",
       " (14343, 73),\n",
       " (23791, 73),\n",
       " (201, 72),\n",
       " (349, 72),\n",
       " (1356, 72),\n",
       " (2398, 72),\n",
       " (3321, 72),\n",
       " (5926, 72),\n",
       " (8003, 72),\n",
       " (9824, 72),\n",
       " (782, 71),\n",
       " (3272, 71),\n",
       " (4435, 71),\n",
       " (6709, 71),\n",
       " (19990, 71),\n",
       " (179, 70),\n",
       " (3458, 70),\n",
       " (3631, 70),\n",
       " (3872, 70),\n",
       " (4146, 70),\n",
       " (4202, 70),\n",
       " (4225, 70),\n",
       " (4643, 70),\n",
       " (5218, 70),\n",
       " (7902, 70),\n",
       " (8260, 70),\n",
       " (9009, 70),\n",
       " (10342, 70),\n",
       " (10464, 70),\n",
       " (14204, 70),\n",
       " (356, 69),\n",
       " (415, 69),\n",
       " (3389, 69),\n",
       " (4206, 69),\n",
       " (4282, 69),\n",
       " (11380, 69),\n",
       " (3636, 68),\n",
       " (7996, 68),\n",
       " (16876, 68),\n",
       " (101, 67),\n",
       " (5183, 67),\n",
       " (8224, 67),\n",
       " (14800, 67),\n",
       " (17227, 67),\n",
       " (1620, 66),\n",
       " (3060, 66),\n",
       " (3401, 66),\n",
       " (6130, 66),\n",
       " (8442, 66),\n",
       " (8838, 66),\n",
       " (9119, 66),\n",
       " (11038, 66),\n",
       " (344, 65),\n",
       " (483, 65),\n",
       " (1275, 65),\n",
       " (1367, 65),\n",
       " (1396, 65),\n",
       " (3374, 65),\n",
       " (4227, 65),\n",
       " (5932, 65),\n",
       " (7413, 65),\n",
       " (7664, 65),\n",
       " (8436, 65),\n",
       " (12484, 65),\n",
       " (23827, 65),\n",
       " (25637, 65),\n",
       " (26333, 65),\n",
       " (26337, 65),\n",
       " (381, 64),\n",
       " (953, 64),\n",
       " (1256, 64),\n",
       " (1474, 64),\n",
       " (1663, 64),\n",
       " (2579, 64),\n",
       " (2995, 64),\n",
       " (2996, 64),\n",
       " (3370, 64),\n",
       " (3541, 64),\n",
       " (4542, 64),\n",
       " (4838, 64),\n",
       " (7433, 64),\n",
       " (7898, 64),\n",
       " (11817, 64),\n",
       " (25646, 64),\n",
       " (26340, 64),\n",
       " (54, 63),\n",
       " (753, 63),\n",
       " (834, 63),\n",
       " (2563, 63),\n",
       " (3352, 63),\n",
       " (6046, 63),\n",
       " (8437, 63),\n",
       " (8848, 63),\n",
       " (11359, 63),\n",
       " (13211, 63),\n",
       " (26485, 63),\n",
       " (50, 62),\n",
       " (132, 62),\n",
       " (2030, 62),\n",
       " (2114, 62),\n",
       " (2335, 62),\n",
       " (5345, 62),\n",
       " (6755, 62),\n",
       " (7666, 62),\n",
       " (15831, 62),\n",
       " (16880, 62),\n",
       " (16886, 62),\n",
       " (360, 61),\n",
       " (984, 61),\n",
       " (2532, 61),\n",
       " (2781, 61),\n",
       " (4226, 61),\n",
       " (4836, 61),\n",
       " (5287, 61),\n",
       " (7507, 61),\n",
       " (8237, 61),\n",
       " (8843, 61),\n",
       " (19424, 61),\n",
       " (26028, 61),\n",
       " (479, 60),\n",
       " (562, 60),\n",
       " (983, 60),\n",
       " (1425, 60),\n",
       " (1471, 60),\n",
       " (2334, 60),\n",
       " (2417, 60),\n",
       " (2524, 60),\n",
       " (3252, 60),\n",
       " (3293, 60),\n",
       " (3501, 60),\n",
       " (4084, 60),\n",
       " (4161, 60),\n",
       " (4294, 60),\n",
       " (5235, 60),\n",
       " (7417, 60),\n",
       " (7998, 60),\n",
       " (14812, 60),\n",
       " (23810, 60),\n",
       " (27114, 60),\n",
       " (61, 59),\n",
       " (560, 59),\n",
       " (2336, 59),\n",
       " (2566, 59),\n",
       " (2597, 59),\n",
       " (3638, 59),\n",
       " (4648, 59),\n",
       " (5229, 59),\n",
       " (5244, 59),\n",
       " (5910, 59),\n",
       " (6798, 59),\n",
       " (7415, 59),\n",
       " (7522, 59),\n",
       " (8262, 59),\n",
       " (23806, 59),\n",
       " (164, 58),\n",
       " (407, 58),\n",
       " (472, 58),\n",
       " (595, 58),\n",
       " (751, 58),\n",
       " (752, 58),\n",
       " (768, 58),\n",
       " (811, 58),\n",
       " (1266, 58),\n",
       " (1473, 58),\n",
       " (2303, 58),\n",
       " (2565, 58),\n",
       " (2656, 58),\n",
       " (3005, 58),\n",
       " (4068, 58),\n",
       " (4148, 58),\n",
       " (4434, 58),\n",
       " (5784, 58),\n",
       " (13096, 58),\n",
       " (13538, 58),\n",
       " (14308, 58),\n",
       " (14935, 58),\n",
       " (23804, 58),\n",
       " (461, 57),\n",
       " (569, 57),\n",
       " (809, 57),\n",
       " (827, 57),\n",
       " (2994, 57),\n",
       " (3452, 57),\n",
       " (4066, 57),\n",
       " (4167, 57),\n",
       " (4565, 57),\n",
       " (5159, 57),\n",
       " (5283, 57),\n",
       " (9301, 57),\n",
       " (11378, 57),\n",
       " (19996, 57),\n",
       " (23794, 57),\n",
       " (83, 56),\n",
       " (822, 56),\n",
       " (1200, 56),\n",
       " (1644, 56),\n",
       " (3229, 56),\n",
       " (3372, 56),\n",
       " (4144, 56),\n",
       " (4204, 56),\n",
       " (4840, 56),\n",
       " (7200, 56),\n",
       " (8850, 56),\n",
       " (9864, 56),\n",
       " (12601, 56),\n",
       " (20415, 56),\n",
       " (26917, 56),\n",
       " (80, 55),\n",
       " (733, 55),\n",
       " (825, 55),\n",
       " (1141, 55),\n",
       " (2560, 55),\n",
       " (4313, 55),\n",
       " (5312, 55),\n",
       " (5931, 55),\n",
       " (7414, 55),\n",
       " (9299, 55),\n",
       " (11382, 55),\n",
       " (15767, 55),\n",
       " (16852, 55),\n",
       " (16994, 55),\n",
       " (660, 54),\n",
       " (1114, 54),\n",
       " (1381, 54),\n",
       " (2564, 54),\n",
       " (5914, 54),\n",
       " (6075, 54),\n",
       " (9600, 54),\n",
       " (13615, 54),\n",
       " (25652, 54),\n",
       " (27079, 54),\n",
       " (363, 53),\n",
       " (824, 53),\n",
       " (1366, 53),\n",
       " (2580, 53),\n",
       " (2780, 53),\n",
       " (3375, 53),\n",
       " (4327, 53),\n",
       " (5181, 53),\n",
       " (5929, 53),\n",
       " (6673, 53),\n",
       " (7667, 53),\n",
       " (8441, 53),\n",
       " (8444, 53),\n",
       " (16332, 53),\n",
       " (19988, 53),\n",
       " (19998, 53),\n",
       " (26104, 53),\n",
       " (24, 52),\n",
       " (311, 52),\n",
       " (1971, 52),\n",
       " (2188, 52),\n",
       " (2528, 52),\n",
       " (4437, 52),\n",
       " (4645, 52),\n",
       " (4863, 52),\n",
       " (5057, 52),\n",
       " (7496, 52),\n",
       " (7668, 52),\n",
       " (8847, 52),\n",
       " (11162, 52),\n",
       " (14429, 52),\n",
       " (25650, 52),\n",
       " (26335, 52),\n",
       " (176, 51),\n",
       " (417, 51),\n",
       " (588, 51),\n",
       " (717, 51),\n",
       " (1470, 51),\n",
       " (1521, 51),\n",
       " (1748, 51),\n",
       " (1813, 51),\n",
       " (2255, 51),\n",
       " (3378, 51),\n",
       " (4224, 51),\n",
       " (5246, 51),\n",
       " (5446, 51),\n",
       " (5912, 51),\n",
       " (8264, 51),\n",
       " (10257, 51),\n",
       " (12075, 51),\n",
       " (13209, 51),\n",
       " (23801, 51),\n",
       " (27237, 51),\n",
       " (810, 50),\n",
       " (2027, 50),\n",
       " (2139, 50),\n",
       " (2399, 50),\n",
       " (2881, 50),\n",
       " (3955, 50),\n",
       " (4067, 50),\n",
       " (4130, 50),\n",
       " (4143, 50),\n",
       " (4145, 50),\n",
       " (5230, 50),\n",
       " (6965, 50),\n",
       " (8698, 50),\n",
       " (9861, 50),\n",
       " (10478, 50),\n",
       " (11034, 50),\n",
       " (14798, 50),\n",
       " (19994, 50),\n",
       " (26022, 50),\n",
       " (26795, 50),\n",
       " (1139, 49),\n",
       " (1140, 49),\n",
       " (1142, 49),\n",
       " (1390, 49),\n",
       " (1820, 49),\n",
       " (1937, 49),\n",
       " (1969, 49),\n",
       " (1995, 49),\n",
       " (3254, 49),\n",
       " (4367, 49),\n",
       " (4641, 49),\n",
       " (4647, 49),\n",
       " (4842, 49),\n",
       " (5231, 49),\n",
       " (6669, 49),\n",
       " (14933, 49),\n",
       " (15830, 49),\n",
       " (16884, 49),\n",
       " (19793, 49),\n",
       " (19799, 49),\n",
       " (25640, 49),\n",
       " (1443, 48),\n",
       " (1662, 48),\n",
       " (2332, 48),\n",
       " (5112, 48),\n",
       " (5307, 48),\n",
       " (6013, 48),\n",
       " (6751, 48),\n",
       " (7494, 48),\n",
       " (8261, 48),\n",
       " (8842, 48),\n",
       " (9474, 48),\n",
       " (19992, 48),\n",
       " (25655, 48),\n",
       " (26342, 48),\n",
       " (202, 47),\n",
       " (563, 47),\n",
       " (671, 47),\n",
       " (715, 47),\n",
       " (1519, 47),\n",
       " (1520, 47),\n",
       " (1531, 47),\n",
       " (1665, 47),\n",
       " (4439, 47),\n",
       " (5185, 47),\n",
       " (6671, 47),\n",
       " (7476, 47),\n",
       " (7904, 47),\n",
       " (7933, 47),\n",
       " (8439, 47),\n",
       " (8644, 47),\n",
       " (8845, 47),\n",
       " (13358, 47),\n",
       " (13540, 47),\n",
       " (23036, 47),\n",
       " (26021, 47),\n",
       " (26332, 47),\n",
       " (408, 46),\n",
       " (435, 46),\n",
       " (1889, 46),\n",
       " (1932, 46),\n",
       " (2582, 46),\n",
       " (3923, 46),\n",
       " (4861, 46),\n",
       " (4864, 46),\n",
       " (7419, 46),\n",
       " (8913, 46),\n",
       " (9303, 46),\n",
       " (11338, 46),\n",
       " (13542, 46),\n",
       " (14934, 46),\n",
       " (16872, 46),\n",
       " (22457, 46),\n",
       " (25947, 46),\n",
       " (26006, 46),\n",
       " (130, 45),\n",
       " (213, 45),\n",
       " (225, 45),\n",
       " (436, 45),\n",
       " (691, 45),\n",
       " (985, 45),\n",
       " (2189, 45),\n",
       " (2644, 45),\n",
       " (2676, 45),\n",
       " (3459, 45),\n",
       " (4086, 45),\n",
       " (4160, 45),\n",
       " (4199, 45),\n",
       " (6126, 45),\n",
       " (9476, 45),\n",
       " (10216, 45),\n",
       " (11036, 45),\n",
       " (13515, 45),\n",
       " (14802, 45),\n",
       " (15285, 45),\n",
       " (15816, 45),\n",
       " (16859, 45),\n",
       " (19147, 45),\n",
       " (19151, 45),\n",
       " (19153, 45),\n",
       " (20000, 45),\n",
       " (26271, 45),\n",
       " (683, 44),\n",
       " (1190, 44),\n",
       " (1192, 44),\n",
       " (1855, 44),\n",
       " (2192, 44),\n",
       " (2338, 44),\n",
       " (2578, 44),\n",
       " (3253, 44),\n",
       " (4065, 44),\n",
       " (4147, 44),\n",
       " ...]"
      ]
     },
     "execution_count": 335,
     "metadata": {},
     "output_type": "execute_result"
    }
   ],
   "source": [
    "from collections import Counter\n",
    "\n",
    "group_counter = Counter([scan.group for scan in my_scan_set.scans])\n",
    "\n",
    "less_than_500 = group_counter.copy()\n",
    "for group in group_counter:\n",
    "    if group_counter[group] > 500:\n",
    "        less_than_500.pop(group)\n",
    "        \n",
    "less_than_500.most_common()\n",
    "    "
   ]
  },
  {
   "cell_type": "code",
   "execution_count": 339,
   "metadata": {
    "collapsed": false
   },
   "outputs": [
    {
     "data": {
      "text/plain": [
       "<seaborn.matrix.ClusterGrid at 0x2945606d0>"
      ]
     },
     "execution_count": 339,
     "metadata": {},
     "output_type": "execute_result"
    },
    {
     "data": {
      "image/png": "[encoded data removed]",
      "text/plain": [
       "<matplotlib.figure.Figure at 0x26835b150>"
      ]
     },
     "metadata": {},
     "output_type": "display_data"
    }
   ],
   "source": [
    "make_distance_matrix_clustergram(my_scan_set.dot_matrix_by_groups[224])"
   ]
  },
  {
   "cell_type": "code",
   "execution_count": null,
   "metadata": {
    "collapsed": true
   },
   "outputs": [],
   "source": []
  }
 ],
 "metadata": {
  "kernelspec": {
   "display_name": "Python 2",
   "language": "python",
   "name": "python2"
  },
  "language_info": {
   "codemirror_mode": {
    "name": "ipython",
    "version": 2
   },
   "file_extension": ".py",
   "mimetype": "text/x-python",
   "name": "python",
   "nbconvert_exporter": "python",
   "pygments_lexer": "ipython2",
   "version": "2.7.10"
  }
 },
 "nbformat": 4,
 "nbformat_minor": 0
}
