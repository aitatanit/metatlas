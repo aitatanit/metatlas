{
 "cells": [
  {
   "cell_type": "code",
   "execution_count": 1,
   "metadata": {
    "collapsed": true
   },
   "outputs": [],
   "source": [
    "%matplotlib inline\n",
    "from matplotlib import pylab as plt\n",
    "\n",
    "from metatlas import metatlas_objects\n",
    "from metatlas import h5_query\n",
    "\n",
    "import glob, os\n"
   ]
  },
  {
   "cell_type": "markdown",
   "metadata": {},
   "source": [
    "<h1>Create an experiment</h1>"
   ]
  },
  {
   "cell_type": "code",
   "execution_count": 2,
   "metadata": {
    "collapsed": false
   },
   "outputs": [],
   "source": [
    "myExperiment = metatlas_objects.Experiment(name = 'QExactive_Hilic_Pos_Actinobacteria_Phylogeny')"
   ]
  },
  {
   "cell_type": "markdown",
   "metadata": {},
   "source": [
    "<h1>Get a list of mzML files that you uploaded and assign them to a group</h1>"
   ]
  },
  {
   "cell_type": "code",
   "execution_count": 4,
   "metadata": {
    "collapsed": false
   },
   "outputs": [
    {
     "name": "stdout",
     "output_type": "stream",
     "text": [
      "enter group id for MEDIA-1.mzML [number, \"x\" to go back]:1\n",
      "enter group id for MEDIA-2.mzML [number, \"x\" to go back]:1\n",
      "enter group id for MEDIA-3.mzML [number, \"x\" to go back]:1\n",
      "enter group id for MEDIA-4.mzML [number, \"x\" to go back]:1\n",
      "enter group id for STRAIN1-1.mzML [number, \"x\" to go back]:2\n",
      "enter group id for STRAIN1-2.mzML [number, \"x\" to go back]:2\n",
      "enter group id for STRAIN1-3.mzML [number, \"x\" to go back]:2\n",
      "enter group id for STRAIN1-4.mzML [number, \"x\" to go back]:2\n",
      "enter group id for STRAIN2-1.mzML [number, \"x\" to go back]:3\n",
      "enter group id for STRAIN2-2.mzML [number, \"x\" to go back]:3\n",
      "enter group id for STRAIN2-3.mzML [number, \"x\" to go back]:3\n",
      "enter group id for STRAIN2-4.mzML [number, \"x\" to go back]:3\n",
      "enter group id for STRAIN3-1.mzML [number, \"x\" to go back]:4\n",
      "enter group id for STRAIN3-2.mzML [number, \"x\" to go back]:4\n",
      "enter group id for STRAIN3-3.mzML [number, \"x\" to go back]:4\n",
      "enter group id for STRAIN3-4.mzML [number, \"x\" to go back]:4\n",
      "enter group id for STRAIN4-1.mzML [number, \"x\" to go back]:5\n",
      "enter group id for STRAIN4-2.mzML [number, \"x\" to go back]:5\n",
      "enter group id for STRAIN4-3.mzML [number, \"x\" to go back]:5\n",
      "enter group id for STRAIN4-4.mzML [number, \"x\" to go back]:5\n",
      "['1', '1', '1', '1', '2', '2', '2', '2', '3', '3', '3', '3', '4', '4', '4', '4', '5', '5', '5', '5']\n",
      "['1', '2', '3', '4', '5']\n"
     ]
    }
   ],
   "source": [
    "myPath = '/global/homes/b/bpb/ExoMetabolomic_Example_Data/'\n",
    "myPath = '/project/projectdirs/metatlas/data_for_metatlas_2/20150324_LPSilva_BHedlund_chloroflexi_POS_rerun/'\n",
    "myFiles = glob.glob('%s*.mzML'%myPath)\n",
    "myFiles.sort()\n",
    "groupID = []\n",
    "for f in myFiles:\n",
    "    groupID.append('')\n",
    "i = 0\n",
    "while i < len(myFiles):\n",
    "    a,b = os.path.split(myFiles[i])\n",
    "    j = raw_input('enter group id for %s [number, \"x\" to go back]:'%b)\n",
    "    if j == 'x':\n",
    "        i = i - 1\n",
    "    else:\n",
    "        groupID[i] = j\n",
    "        i = i + 1\n",
    "\n",
    "print groupID\n",
    "uGroupID = sorted(set(groupID))\n",
    "print uGroupID"
   ]
  },
  {
   "cell_type": "markdown",
   "metadata": {},
   "source": [
    "<h1>Specify the descriptive names for each group</h1>"
   ]
  },
  {
   "cell_type": "code",
   "execution_count": 5,
   "metadata": {
    "collapsed": false
   },
   "outputs": [
    {
     "name": "stdout",
     "output_type": "stream",
     "text": [
      "enter group name for Group #1: Media\n",
      "enter group name for Group #2: Strain 1\n",
      "enter group name for Group #3: Strain 2\n",
      "enter group name for Group #4: Strain 3\n",
      "enter group name for Group #5: Strain 4\n"
     ]
    }
   ],
   "source": [
    "uGroupName = []\n",
    "for u in uGroupID:\n",
    "    j = raw_input('enter group name for Group #%s: '%u)\n",
    "    uGroupName.append(j)"
   ]
  },
  {
   "cell_type": "markdown",
   "metadata": {},
   "source": [
    "<h1>Steps in the file description and conversion process</h1>\n",
    "<ul>\n",
    "<li>upload mzml files</li>\n",
    "<li>glob to get list of mzml files</li>\n",
    "<li>for a homogenous set of mzml files make a single filespec object with </li>\n",
    "metatlas_objects.FileSpec(polarity = ,group = inclus = )\n",
    "<li>Call an experiment, e = metatlas_objects.Experiment(name = 'Test_20150722')</li>\n",
    "<li>e.load_files(mzmlfiles,sp)</li>\n",
    "<li>repeat this process for each homogeneous set of files</li>\n",
    "<li>Alternative, you can specify your own filespec object for each file</li>\n",
    "</ul>\n",
    "\n"
   ]
  },
  {
   "cell_type": "code",
   "execution_count": 6,
   "metadata": {
    "collapsed": false
   },
   "outputs": [],
   "source": [
    "fsList = []\n",
    "for i,g in enumerate(groupID):\n",
    "    for j,u in enumerate(uGroupID):\n",
    "        if g == u:\n",
    "            fs = metatlas_objects.FileSpec(polarity = 1,\n",
    "                                          group = uGroupName[j],\n",
    "                                          inclusion_order = i)\n",
    "            fsList.append(fs)\n",
    "            myExperiment.load_files([myFiles[i]],fs)"
   ]
  },
  {
   "cell_type": "code",
   "execution_count": 15,
   "metadata": {
    "collapsed": true
   },
   "outputs": [],
   "source": [
    "myExperiment.save()"
   ]
  },
  {
   "cell_type": "code",
   "execution_count": 10,
   "metadata": {
    "collapsed": false
   },
   "outputs": [
    {
     "name": "stdout",
     "output_type": "stream",
     "text": [
      "/global/homes/b/bpb/ExoMetabolomic_Example_Data/MEDIA-1.h5\n",
      "Media\n",
      "1\n"
     ]
    }
   ],
   "source": [
    "print myExperiment.finfos[0].hdf_file\n",
    "print myExperiment.finfos[0].group\n",
    "print myExperiment.finfos[0].polarity"
   ]
  },
  {
   "cell_type": "markdown",
   "metadata": {},
   "source": [
    "<h1>Convert All Your Files Manually</h1>\n",
    "\n",
    "<h3>This is typically not performed because the \"load_files\" command above has already taken care of it</h3>"
   ]
  },
  {
   "cell_type": "code",
   "execution_count": 1,
   "metadata": {
    "collapsed": false
   },
   "outputs": [],
   "source": [
    "# myH5Files = []\n",
    "# for f in myFiles:\n",
    "#     metatlas.mzml_to_hdf('%s'%(f))\n",
    "#     myH5Files.append(f.replace('.mzML','.h5'))\n",
    "#     print f    "
   ]
  },
  {
   "cell_type": "code",
   "execution_count": 14,
   "metadata": {
    "collapsed": false
   },
   "outputs": [
    {
     "name": "stdout",
     "output_type": "stream",
     "text": [
      "20\n"
     ]
    }
   ],
   "source": [
    "print len(myExperiment.finfos)"
   ]
  },
  {
   "cell_type": "code",
   "execution_count": null,
   "metadata": {
    "collapsed": true
   },
   "outputs": [],
   "source": []
  }
 ],
 "metadata": {
  "kernelspec": {
   "display_name": "Python 2",
   "language": "python",
   "name": "python2"
  },
  "language_info": {
   "codemirror_mode": {
    "name": "ipython",
    "version": 2
   },
   "file_extension": ".py",
   "mimetype": "text/x-python",
   "name": "python",
   "nbconvert_exporter": "python",
   "pygments_lexer": "ipython2",
   "version": "2.7.10"
  }
 },
 "nbformat": 4,
 "nbformat_minor": 0
}
