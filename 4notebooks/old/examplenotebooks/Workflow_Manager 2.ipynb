{
 "cells": [
  {
   "cell_type": "markdown",
   "metadata": {},
   "source": [
    "##MetAtlas Workflow Tool\n",
    "1. Acquire great data and upload it to this folder: /project/projectdirs/metatlas/data_for_metatlas_2/\n",
    "2. Create an experiment. This requires that you specify a directory with your mzML files in it.  Convert the files and register them in the experiment.\n",
    "3. Create a file specification sheet for your experiment and fill it in. Populate the sheet and apply the file specification to the experiment.\n",
    "4. Create an Atlas in a spreadsheet. Import the spreadsheet as an Atlas in the experiment"
   ]
  },
  {
   "cell_type": "code",
   "execution_count": 2,
   "metadata": {
    "collapsed": false
   },
   "outputs": [],
   "source": [
    "%matplotlib notebook\n",
    "# %matplotlib inline\n",
    "%config InlineBackend.figure_format = 'retina'\n",
    "from matplotlib import pylab as plt\n",
    "import sys\n",
    "import glob, os\n",
    "\n",
    "# import glob\n",
    "# metob.load_lcms_files(glob.glob('/project/projectdirs/metatlas/data_for_metatlas_2/20150504_LPSilva_Actino_HILIC_POS_51isolates/*.*’))\n",
    "\n",
    "\n",
    "curr_ld_lib_path = ''\n",
    "os.environ['LD_LIBRARY_PATH'] = curr_ld_lib_path + ':/project/projectdirs/openmsi/jupyterhub_libs/boost_1_55_0/lib' + ':/project/projectdirs/openmsi/jupyterhub_libs/lib'\n",
    "import sys\n",
    "# sys.path.remove('/anaconda/lib/python2.7/site-packages')\n",
    "sys.path.append('/global/project/projectdirs/openmsi/jupyterhub_libs/anaconda/lib/python2.7/site-packages')\n",
    "\n",
    "sys.path.insert(0,'/global/project/projectdirs/metatlas/anaconda/lib/python2.7/site-packages' )\n",
    "\n",
    "from metatlas import metatlas_objects as metob\n",
    "from metatlas import h5_query as h5q\n",
    "from metatlas import mzml_to_hdf\n",
    "\n"
   ]
  },
  {
   "cell_type": "code",
   "execution_count": 3,
   "metadata": {
    "collapsed": false,
    "scrolled": false
   },
   "outputs": [],
   "source": [
    "# import glob\n",
    "# metob.load_lcms_files(glob.glob('/project/projectdirs/metatlas/raw_data/kblouie/TagOP_Trial_1_DP_NHSCA_NHSPU/*.*'))"
   ]
  },
  {
   "cell_type": "code",
   "execution_count": 4,
   "metadata": {
    "collapsed": false
   },
   "outputs": [
    {
     "name": "stdout",
     "output_type": "stream",
     "text": [
      "20150915_Ag50mm_MeOH_NEG_MSMS_1_Super_EColi_DP (988fe0c185aa435fa5e18e62e2e52139)\n"
     ]
    }
   ],
   "source": [
    "myRun = metob.queryDatabase('lcmsrun',name='20150915_Ag50mm_MeOH_NEG_MSMS_1_Super_EColi_DP%')[0]\n",
    "print myRun"
   ]
  },
  {
   "cell_type": "code",
   "execution_count": 5,
   "metadata": {
    "collapsed": false
   },
   "outputs": [
    {
     "data": {
      "application/javascript": [
       "/* Put everything inside the global mpl namespace */\n",
       "window.mpl = {};\n",
       "\n",
       "mpl.get_websocket_type = function() {\n",
       "    if (typeof(WebSocket) !== 'undefined') {\n",
       "        return WebSocket;\n",
       "    } else if (typeof(MozWebSocket) !== 'undefined') {\n",
       "        return MozWebSocket;\n",
       "    } else {\n",
       "        alert('Your browser does not have WebSocket support.' +\n",
       "              'Please try Chrome, Safari or Firefox ≥ 6. ' +\n",
       "              'Firefox 4 and 5 are also supported but you ' +\n",
       "              'have to enable WebSockets in about:config.');\n",
       "    };\n",
       "}\n",
       "\n",
       "mpl.figure = function(figure_id, websocket, ondownload, parent_element) {\n",
       "    this.id = figure_id;\n",
       "\n",
       "    this.ws = websocket;\n",
       "\n",
       "    this.supports_binary = (this.ws.binaryType != undefined);\n",
       "\n",
       "    if (!this.supports_binary) {\n",
       "        var warnings = document.getElementById(\"mpl-warnings\");\n",
       "        if (warnings) {\n",
       "            warnings.style.display = 'block';\n",
       "            warnings.textContent = (\n",
       "                \"This browser does not support binary websocket messages. \" +\n",
       "                    \"Performance may be slow.\");\n",
       "        }\n",
       "    }\n",
       "\n",
       "    this.imageObj = new Image();\n",
       "\n",
       "    this.context = undefined;\n",
       "    this.message = undefined;\n",
       "    this.canvas = undefined;\n",
       "    this.rubberband_canvas = undefined;\n",
       "    this.rubberband_context = undefined;\n",
       "    this.format_dropdown = undefined;\n",
       "\n",
       "    this.image_mode = 'full';\n",
       "\n",
       "    this.root = $('<div/>');\n",
       "    this._root_extra_style(this.root)\n",
       "    this.root.attr('style', 'display: inline-block');\n",
       "\n",
       "    $(parent_element).append(this.root);\n",
       "\n",
       "    this._init_header(this);\n",
       "    this._init_canvas(this);\n",
       "    this._init_toolbar(this);\n",
       "\n",
       "    var fig = this;\n",
       "\n",
       "    this.waiting = false;\n",
       "\n",
       "    this.ws.onopen =  function () {\n",
       "            fig.send_message(\"supports_binary\", {value: fig.supports_binary});\n",
       "            fig.send_message(\"send_image_mode\", {});\n",
       "            fig.send_message(\"refresh\", {});\n",
       "        }\n",
       "\n",
       "    this.imageObj.onload = function() {\n",
       "            if (fig.image_mode == 'full') {\n",
       "                // Full images could contain transparency (where diff images\n",
       "                // almost always do), so we need to clear the canvas so that\n",
       "                // there is no ghosting.\n",
       "                fig.context.clearRect(0, 0, fig.canvas.width, fig.canvas.height);\n",
       "            }\n",
       "            fig.context.drawImage(fig.imageObj, 0, 0);\n",
       "            fig.waiting = false;\n",
       "        };\n",
       "\n",
       "    this.imageObj.onunload = function() {\n",
       "        this.ws.close();\n",
       "    }\n",
       "\n",
       "    this.ws.onmessage = this._make_on_message_function(this);\n",
       "\n",
       "    this.ondownload = ondownload;\n",
       "}\n",
       "\n",
       "mpl.figure.prototype._init_header = function() {\n",
       "    var titlebar = $(\n",
       "        '<div class=\"ui-dialog-titlebar ui-widget-header ui-corner-all ' +\n",
       "        'ui-helper-clearfix\"/>');\n",
       "    var titletext = $(\n",
       "        '<div class=\"ui-dialog-title\" style=\"width: 100%; ' +\n",
       "        'text-align: center; padding: 3px;\"/>');\n",
       "    titlebar.append(titletext)\n",
       "    this.root.append(titlebar);\n",
       "    this.header = titletext[0];\n",
       "}\n",
       "\n",
       "\n",
       "\n",
       "mpl.figure.prototype._canvas_extra_style = function(canvas_div) {\n",
       "\n",
       "}\n",
       "\n",
       "\n",
       "mpl.figure.prototype._root_extra_style = function(canvas_div) {\n",
       "\n",
       "}\n",
       "\n",
       "mpl.figure.prototype._init_canvas = function() {\n",
       "    var fig = this;\n",
       "\n",
       "    var canvas_div = $('<div/>');\n",
       "\n",
       "    canvas_div.attr('style', 'position: relative; clear: both; outline: 0');\n",
       "\n",
       "    function canvas_keyboard_event(event) {\n",
       "        return fig.key_event(event, event['data']);\n",
       "    }\n",
       "\n",
       "    canvas_div.keydown('key_press', canvas_keyboard_event);\n",
       "    canvas_div.keyup('key_release', canvas_keyboard_event);\n",
       "    this.canvas_div = canvas_div\n",
       "    this._canvas_extra_style(canvas_div)\n",
       "    this.root.append(canvas_div);\n",
       "\n",
       "    var canvas = $('<canvas/>');\n",
       "    canvas.addClass('mpl-canvas');\n",
       "    canvas.attr('style', \"left: 0; top: 0; z-index: 0; outline: 0\")\n",
       "\n",
       "    this.canvas = canvas[0];\n",
       "    this.context = canvas[0].getContext(\"2d\");\n",
       "\n",
       "    var rubberband = $('<canvas/>');\n",
       "    rubberband.attr('style', \"position: absolute; left: 0; top: 0; z-index: 1;\")\n",
       "\n",
       "    var pass_mouse_events = true;\n",
       "\n",
       "    canvas_div.resizable({\n",
       "        start: function(event, ui) {\n",
       "            pass_mouse_events = false;\n",
       "        },\n",
       "        resize: function(event, ui) {\n",
       "            fig.request_resize(ui.size.width, ui.size.height);\n",
       "        },\n",
       "        stop: function(event, ui) {\n",
       "            pass_mouse_events = true;\n",
       "            fig.request_resize(ui.size.width, ui.size.height);\n",
       "        },\n",
       "    });\n",
       "\n",
       "    function mouse_event_fn(event) {\n",
       "        if (pass_mouse_events)\n",
       "            return fig.mouse_event(event, event['data']);\n",
       "    }\n",
       "\n",
       "    rubberband.mousedown('button_press', mouse_event_fn);\n",
       "    rubberband.mouseup('button_release', mouse_event_fn);\n",
       "    // Throttle sequential mouse events to 1 every 20ms.\n",
       "    rubberband.mousemove('motion_notify', mouse_event_fn);\n",
       "\n",
       "    rubberband.mouseenter('figure_enter', mouse_event_fn);\n",
       "    rubberband.mouseleave('figure_leave', mouse_event_fn);\n",
       "\n",
       "    canvas_div.on(\"wheel\", function (event) {\n",
       "        event = event.originalEvent;\n",
       "        event['data'] = 'scroll'\n",
       "        if (event.deltaY < 0) {\n",
       "            event.step = 1;\n",
       "        } else {\n",
       "            event.step = -1;\n",
       "        }\n",
       "        mouse_event_fn(event);\n",
       "    });\n",
       "\n",
       "    canvas_div.append(canvas);\n",
       "    canvas_div.append(rubberband);\n",
       "\n",
       "    this.rubberband = rubberband;\n",
       "    this.rubberband_canvas = rubberband[0];\n",
       "    this.rubberband_context = rubberband[0].getContext(\"2d\");\n",
       "    this.rubberband_context.strokeStyle = \"#000000\";\n",
       "\n",
       "    this._resize_canvas = function(width, height) {\n",
       "        // Keep the size of the canvas, canvas container, and rubber band\n",
       "        // canvas in synch.\n",
       "        canvas_div.css('width', width)\n",
       "        canvas_div.css('height', height)\n",
       "\n",
       "        canvas.attr('width', width);\n",
       "        canvas.attr('height', height);\n",
       "\n",
       "        rubberband.attr('width', width);\n",
       "        rubberband.attr('height', height);\n",
       "    }\n",
       "\n",
       "    // Set the figure to an initial 600x600px, this will subsequently be updated\n",
       "    // upon first draw.\n",
       "    this._resize_canvas(600, 600);\n",
       "\n",
       "    // Disable right mouse context menu.\n",
       "    $(this.rubberband_canvas).bind(\"contextmenu\",function(e){\n",
       "        return false;\n",
       "    });\n",
       "\n",
       "    function set_focus () {\n",
       "        canvas.focus();\n",
       "        canvas_div.focus();\n",
       "    }\n",
       "\n",
       "    window.setTimeout(set_focus, 100);\n",
       "}\n",
       "\n",
       "mpl.figure.prototype._init_toolbar = function() {\n",
       "    var fig = this;\n",
       "\n",
       "    var nav_element = $('<div/>')\n",
       "    nav_element.attr('style', 'width: 100%');\n",
       "    this.root.append(nav_element);\n",
       "\n",
       "    // Define a callback function for later on.\n",
       "    function toolbar_event(event) {\n",
       "        return fig.toolbar_button_onclick(event['data']);\n",
       "    }\n",
       "    function toolbar_mouse_event(event) {\n",
       "        return fig.toolbar_button_onmouseover(event['data']);\n",
       "    }\n",
       "\n",
       "    for(var toolbar_ind in mpl.toolbar_items) {\n",
       "        var name = mpl.toolbar_items[toolbar_ind][0];\n",
       "        var tooltip = mpl.toolbar_items[toolbar_ind][1];\n",
       "        var image = mpl.toolbar_items[toolbar_ind][2];\n",
       "        var method_name = mpl.toolbar_items[toolbar_ind][3];\n",
       "\n",
       "        if (!name) {\n",
       "            // put a spacer in here.\n",
       "            continue;\n",
       "        }\n",
       "        var button = $('<button/>');\n",
       "        button.addClass('ui-button ui-widget ui-state-default ui-corner-all ' +\n",
       "                        'ui-button-icon-only');\n",
       "        button.attr('role', 'button');\n",
       "        button.attr('aria-disabled', 'false');\n",
       "        button.click(method_name, toolbar_event);\n",
       "        button.mouseover(tooltip, toolbar_mouse_event);\n",
       "\n",
       "        var icon_img = $('<span/>');\n",
       "        icon_img.addClass('ui-button-icon-primary ui-icon');\n",
       "        icon_img.addClass(image);\n",
       "        icon_img.addClass('ui-corner-all');\n",
       "\n",
       "        var tooltip_span = $('<span/>');\n",
       "        tooltip_span.addClass('ui-button-text');\n",
       "        tooltip_span.html(tooltip);\n",
       "\n",
       "        button.append(icon_img);\n",
       "        button.append(tooltip_span);\n",
       "\n",
       "        nav_element.append(button);\n",
       "    }\n",
       "\n",
       "    var fmt_picker_span = $('<span/>');\n",
       "\n",
       "    var fmt_picker = $('<select/>');\n",
       "    fmt_picker.addClass('mpl-toolbar-option ui-widget ui-widget-content');\n",
       "    fmt_picker_span.append(fmt_picker);\n",
       "    nav_element.append(fmt_picker_span);\n",
       "    this.format_dropdown = fmt_picker[0];\n",
       "\n",
       "    for (var ind in mpl.extensions) {\n",
       "        var fmt = mpl.extensions[ind];\n",
       "        var option = $(\n",
       "            '<option/>', {selected: fmt === mpl.default_extension}).html(fmt);\n",
       "        fmt_picker.append(option)\n",
       "    }\n",
       "\n",
       "    // Add hover states to the ui-buttons\n",
       "    $( \".ui-button\" ).hover(\n",
       "        function() { $(this).addClass(\"ui-state-hover\");},\n",
       "        function() { $(this).removeClass(\"ui-state-hover\");}\n",
       "    );\n",
       "\n",
       "    var status_bar = $('<span class=\"mpl-message\"/>');\n",
       "    nav_element.append(status_bar);\n",
       "    this.message = status_bar[0];\n",
       "}\n",
       "\n",
       "mpl.figure.prototype.request_resize = function(x_pixels, y_pixels) {\n",
       "    // Request matplotlib to resize the figure. Matplotlib will then trigger a resize in the client,\n",
       "    // which will in turn request a refresh of the image.\n",
       "    this.send_message('resize', {'width': x_pixels, 'height': y_pixels});\n",
       "}\n",
       "\n",
       "mpl.figure.prototype.send_message = function(type, properties) {\n",
       "    properties['type'] = type;\n",
       "    properties['figure_id'] = this.id;\n",
       "    this.ws.send(JSON.stringify(properties));\n",
       "}\n",
       "\n",
       "mpl.figure.prototype.send_draw_message = function() {\n",
       "    if (!this.waiting) {\n",
       "        this.waiting = true;\n",
       "        this.ws.send(JSON.stringify({type: \"draw\", figure_id: this.id}));\n",
       "    }\n",
       "}\n",
       "\n",
       "\n",
       "mpl.figure.prototype.handle_save = function(fig, msg) {\n",
       "    var format_dropdown = fig.format_dropdown;\n",
       "    var format = format_dropdown.options[format_dropdown.selectedIndex].value;\n",
       "    fig.ondownload(fig, format);\n",
       "}\n",
       "\n",
       "\n",
       "mpl.figure.prototype.handle_resize = function(fig, msg) {\n",
       "    var size = msg['size'];\n",
       "    if (size[0] != fig.canvas.width || size[1] != fig.canvas.height) {\n",
       "        fig._resize_canvas(size[0], size[1]);\n",
       "        fig.send_message(\"refresh\", {});\n",
       "    };\n",
       "}\n",
       "\n",
       "mpl.figure.prototype.handle_rubberband = function(fig, msg) {\n",
       "    var x0 = msg['x0'];\n",
       "    var y0 = fig.canvas.height - msg['y0'];\n",
       "    var x1 = msg['x1'];\n",
       "    var y1 = fig.canvas.height - msg['y1'];\n",
       "    x0 = Math.floor(x0) + 0.5;\n",
       "    y0 = Math.floor(y0) + 0.5;\n",
       "    x1 = Math.floor(x1) + 0.5;\n",
       "    y1 = Math.floor(y1) + 0.5;\n",
       "    var min_x = Math.min(x0, x1);\n",
       "    var min_y = Math.min(y0, y1);\n",
       "    var width = Math.abs(x1 - x0);\n",
       "    var height = Math.abs(y1 - y0);\n",
       "\n",
       "    fig.rubberband_context.clearRect(\n",
       "        0, 0, fig.canvas.width, fig.canvas.height);\n",
       "\n",
       "    fig.rubberband_context.strokeRect(min_x, min_y, width, height);\n",
       "}\n",
       "\n",
       "mpl.figure.prototype.handle_figure_label = function(fig, msg) {\n",
       "    // Updates the figure title.\n",
       "    fig.header.textContent = msg['label'];\n",
       "}\n",
       "\n",
       "mpl.figure.prototype.handle_cursor = function(fig, msg) {\n",
       "    var cursor = msg['cursor'];\n",
       "    switch(cursor)\n",
       "    {\n",
       "    case 0:\n",
       "        cursor = 'pointer';\n",
       "        break;\n",
       "    case 1:\n",
       "        cursor = 'default';\n",
       "        break;\n",
       "    case 2:\n",
       "        cursor = 'crosshair';\n",
       "        break;\n",
       "    case 3:\n",
       "        cursor = 'move';\n",
       "        break;\n",
       "    }\n",
       "    fig.rubberband_canvas.style.cursor = cursor;\n",
       "}\n",
       "\n",
       "mpl.figure.prototype.handle_message = function(fig, msg) {\n",
       "    fig.message.textContent = msg['message'];\n",
       "}\n",
       "\n",
       "mpl.figure.prototype.handle_draw = function(fig, msg) {\n",
       "    // Request the server to send over a new figure.\n",
       "    fig.send_draw_message();\n",
       "}\n",
       "\n",
       "mpl.figure.prototype.handle_image_mode = function(fig, msg) {\n",
       "    fig.image_mode = msg['mode'];\n",
       "}\n",
       "\n",
       "mpl.figure.prototype.updated_canvas_event = function() {\n",
       "    // Called whenever the canvas gets updated.\n",
       "    this.send_message(\"ack\", {});\n",
       "}\n",
       "\n",
       "// A function to construct a web socket function for onmessage handling.\n",
       "// Called in the figure constructor.\n",
       "mpl.figure.prototype._make_on_message_function = function(fig) {\n",
       "    return function socket_on_message(evt) {\n",
       "        if (evt.data instanceof Blob) {\n",
       "            /* FIXME: We get \"Resource interpreted as Image but\n",
       "             * transferred with MIME type text/plain:\" errors on\n",
       "             * Chrome.  But how to set the MIME type?  It doesn't seem\n",
       "             * to be part of the websocket stream */\n",
       "            evt.data.type = \"image/png\";\n",
       "\n",
       "            /* Free the memory for the previous frames */\n",
       "            if (fig.imageObj.src) {\n",
       "                (window.URL || window.webkitURL).revokeObjectURL(\n",
       "                    fig.imageObj.src);\n",
       "            }\n",
       "\n",
       "            fig.imageObj.src = (window.URL || window.webkitURL).createObjectURL(\n",
       "                evt.data);\n",
       "            fig.updated_canvas_event();\n",
       "            return;\n",
       "        }\n",
       "        else if (typeof evt.data === 'string' && evt.data.slice(0, 21) == \"data:image/png;base64\") {\n",
       "            fig.imageObj.src = evt.data;\n",
       "            fig.updated_canvas_event();\n",
       "            return;\n",
       "        }\n",
       "\n",
       "        var msg = JSON.parse(evt.data);\n",
       "        var msg_type = msg['type'];\n",
       "\n",
       "        // Call the  \"handle_{type}\" callback, which takes\n",
       "        // the figure and JSON message as its only arguments.\n",
       "        try {\n",
       "            var callback = fig[\"handle_\" + msg_type];\n",
       "        } catch (e) {\n",
       "            console.log(\"No handler for the '\" + msg_type + \"' message type: \", msg);\n",
       "            return;\n",
       "        }\n",
       "\n",
       "        if (callback) {\n",
       "            try {\n",
       "                // console.log(\"Handling '\" + msg_type + \"' message: \", msg);\n",
       "                callback(fig, msg);\n",
       "            } catch (e) {\n",
       "                console.log(\"Exception inside the 'handler_\" + msg_type + \"' callback:\", e, e.stack, msg);\n",
       "            }\n",
       "        }\n",
       "    };\n",
       "}\n",
       "\n",
       "// from http://stackoverflow.com/questions/1114465/getting-mouse-location-in-canvas\n",
       "mpl.findpos = function(e) {\n",
       "    //this section is from http://www.quirksmode.org/js/events_properties.html\n",
       "    var targ;\n",
       "    if (!e)\n",
       "        e = window.event;\n",
       "    if (e.target)\n",
       "        targ = e.target;\n",
       "    else if (e.srcElement)\n",
       "        targ = e.srcElement;\n",
       "    if (targ.nodeType == 3) // defeat Safari bug\n",
       "        targ = targ.parentNode;\n",
       "\n",
       "    // jQuery normalizes the pageX and pageY\n",
       "    // pageX,Y are the mouse positions relative to the document\n",
       "    // offset() returns the position of the element relative to the document\n",
       "    var x = e.pageX - $(targ).offset().left;\n",
       "    var y = e.pageY - $(targ).offset().top;\n",
       "\n",
       "    return {\"x\": x, \"y\": y};\n",
       "};\n",
       "\n",
       "mpl.figure.prototype.mouse_event = function(event, name) {\n",
       "    var canvas_pos = mpl.findpos(event)\n",
       "\n",
       "    if (name === 'button_press')\n",
       "    {\n",
       "        this.canvas.focus();\n",
       "        this.canvas_div.focus();\n",
       "    }\n",
       "\n",
       "    var x = canvas_pos.x;\n",
       "    var y = canvas_pos.y;\n",
       "\n",
       "    this.send_message(name, {x: x, y: y, button: event.button,\n",
       "                             step: event.step});\n",
       "\n",
       "    /* This prevents the web browser from automatically changing to\n",
       "     * the text insertion cursor when the button is pressed.  We want\n",
       "     * to control all of the cursor setting manually through the\n",
       "     * 'cursor' event from matplotlib */\n",
       "    event.preventDefault();\n",
       "    return false;\n",
       "}\n",
       "\n",
       "mpl.figure.prototype._key_event_extra = function(event, name) {\n",
       "    // Handle any extra behaviour associated with a key event\n",
       "}\n",
       "\n",
       "mpl.figure.prototype.key_event = function(event, name) {\n",
       "\n",
       "    // Prevent repeat events\n",
       "    if (name == 'key_press')\n",
       "    {\n",
       "        if (event.which === this._key)\n",
       "            return;\n",
       "        else\n",
       "            this._key = event.which;\n",
       "    }\n",
       "    if (name == 'key_release')\n",
       "        this._key = null;\n",
       "\n",
       "    var value = '';\n",
       "    if (event.ctrlKey && event.which != 17)\n",
       "        value += \"ctrl+\";\n",
       "    if (event.altKey && event.which != 18)\n",
       "        value += \"alt+\";\n",
       "    if (event.shiftKey && event.which != 16)\n",
       "        value += \"shift+\";\n",
       "\n",
       "    value += 'k';\n",
       "    value += event.which.toString();\n",
       "\n",
       "    this._key_event_extra(event, name);\n",
       "\n",
       "    this.send_message(name, {key: value});\n",
       "    return false;\n",
       "}\n",
       "\n",
       "mpl.figure.prototype.toolbar_button_onclick = function(name) {\n",
       "    if (name == 'download') {\n",
       "        this.handle_save(this, null);\n",
       "    } else {\n",
       "        this.send_message(\"toolbar_button\", {name: name});\n",
       "    }\n",
       "};\n",
       "\n",
       "mpl.figure.prototype.toolbar_button_onmouseover = function(tooltip) {\n",
       "    this.message.textContent = tooltip;\n",
       "};\n",
       "mpl.toolbar_items = [[\"Home\", \"Reset original view\", \"fa fa-home icon-home\", \"home\"], [\"Back\", \"Back to  previous view\", \"fa fa-arrow-left icon-arrow-left\", \"back\"], [\"Forward\", \"Forward to next view\", \"fa fa-arrow-right icon-arrow-right\", \"forward\"], [\"\", \"\", \"\", \"\"], [\"Pan\", \"Pan axes with left mouse, zoom with right\", \"fa fa-arrows icon-move\", \"pan\"], [\"Zoom\", \"Zoom to rectangle\", \"fa fa-square-o icon-check-empty\", \"zoom\"], [\"\", \"\", \"\", \"\"], [\"Download\", \"Download plot\", \"fa fa-floppy-o icon-save\", \"download\"]];\n",
       "\n",
       "mpl.extensions = [\"eps\", \"jpeg\", \"pdf\", \"png\", \"ps\", \"raw\", \"svg\", \"tif\"];\n",
       "\n",
       "mpl.default_extension = \"png\";var comm_websocket_adapter = function(comm) {\n",
       "    // Create a \"websocket\"-like object which calls the given IPython comm\n",
       "    // object with the appropriate methods. Currently this is a non binary\n",
       "    // socket, so there is still some room for performance tuning.\n",
       "    var ws = {};\n",
       "\n",
       "    ws.close = function() {\n",
       "        comm.close()\n",
       "    };\n",
       "    ws.send = function(m) {\n",
       "        //console.log('sending', m);\n",
       "        comm.send(m);\n",
       "    };\n",
       "    // Register the callback with on_msg.\n",
       "    comm.on_msg(function(msg) {\n",
       "        //console.log('receiving', msg['content']['data'], msg);\n",
       "        // Pass the mpl event to the overriden (by mpl) onmessage function.\n",
       "        ws.onmessage(msg['content']['data'])\n",
       "    });\n",
       "    return ws;\n",
       "}\n",
       "\n",
       "mpl.mpl_figure_comm = function(comm, msg) {\n",
       "    // This is the function which gets called when the mpl process\n",
       "    // starts-up an IPython Comm through the \"matplotlib\" channel.\n",
       "\n",
       "    var id = msg.content.data.id;\n",
       "    // Get hold of the div created by the display call when the Comm\n",
       "    // socket was opened in Python.\n",
       "    var element = $(\"#\" + id);\n",
       "    var ws_proxy = comm_websocket_adapter(comm)\n",
       "\n",
       "    function ondownload(figure, format) {\n",
       "        window.open(figure.imageObj.src);\n",
       "    }\n",
       "\n",
       "    var fig = new mpl.figure(id, ws_proxy,\n",
       "                           ondownload,\n",
       "                           element.get(0));\n",
       "\n",
       "    // Call onopen now - mpl needs it, as it is assuming we've passed it a real\n",
       "    // web socket which is closed, not our websocket->open comm proxy.\n",
       "    ws_proxy.onopen();\n",
       "\n",
       "    fig.parent_element = element.get(0);\n",
       "    fig.cell_info = mpl.find_output_cell(\"<div id='\" + id + \"'></div>\");\n",
       "    if (!fig.cell_info) {\n",
       "        console.error(\"Failed to find cell for figure\", id, fig);\n",
       "        return;\n",
       "    }\n",
       "\n",
       "    var output_index = fig.cell_info[2]\n",
       "    var cell = fig.cell_info[0];\n",
       "\n",
       "};\n",
       "\n",
       "mpl.figure.prototype.handle_close = function(fig, msg) {\n",
       "    // Update the output cell to use the data from the current canvas.\n",
       "    fig.push_to_output();\n",
       "    var dataURL = fig.canvas.toDataURL();\n",
       "    // Re-enable the keyboard manager in IPython - without this line, in FF,\n",
       "    // the notebook keyboard shortcuts fail.\n",
       "    IPython.keyboard_manager.enable()\n",
       "    $(fig.parent_element).html('<img src=\"' + dataURL + '\">');\n",
       "    fig.send_message('closing', {});\n",
       "    fig.ws.close()\n",
       "}\n",
       "\n",
       "mpl.figure.prototype.push_to_output = function(remove_interactive) {\n",
       "    // Turn the data on the canvas into data in the output cell.\n",
       "    var dataURL = this.canvas.toDataURL();\n",
       "    this.cell_info[1]['text/html'] = '<img src=\"' + dataURL + '\">';\n",
       "}\n",
       "\n",
       "mpl.figure.prototype.updated_canvas_event = function() {\n",
       "    // Tell IPython that the notebook contents must change.\n",
       "    IPython.notebook.set_dirty(true);\n",
       "    this.send_message(\"ack\", {});\n",
       "    var fig = this;\n",
       "    // Wait a second, then push the new image to the DOM so\n",
       "    // that it is saved nicely (might be nice to debounce this).\n",
       "    setTimeout(function () { fig.push_to_output() }, 1000);\n",
       "}\n",
       "\n",
       "mpl.figure.prototype._init_toolbar = function() {\n",
       "    var fig = this;\n",
       "\n",
       "    var nav_element = $('<div/>')\n",
       "    nav_element.attr('style', 'width: 100%');\n",
       "    this.root.append(nav_element);\n",
       "\n",
       "    // Define a callback function for later on.\n",
       "    function toolbar_event(event) {\n",
       "        return fig.toolbar_button_onclick(event['data']);\n",
       "    }\n",
       "    function toolbar_mouse_event(event) {\n",
       "        return fig.toolbar_button_onmouseover(event['data']);\n",
       "    }\n",
       "\n",
       "    for(var toolbar_ind in mpl.toolbar_items){\n",
       "        var name = mpl.toolbar_items[toolbar_ind][0];\n",
       "        var tooltip = mpl.toolbar_items[toolbar_ind][1];\n",
       "        var image = mpl.toolbar_items[toolbar_ind][2];\n",
       "        var method_name = mpl.toolbar_items[toolbar_ind][3];\n",
       "\n",
       "        if (!name) { continue; };\n",
       "\n",
       "        var button = $('<button class=\"btn btn-default\" href=\"#\" title=\"' + name + '\"><i class=\"fa ' + image + ' fa-lg\"></i></button>');\n",
       "        button.click(method_name, toolbar_event);\n",
       "        button.mouseover(tooltip, toolbar_mouse_event);\n",
       "        nav_element.append(button);\n",
       "    }\n",
       "\n",
       "    // Add the status bar.\n",
       "    var status_bar = $('<span class=\"mpl-message\" style=\"text-align:right; float: right;\"/>');\n",
       "    nav_element.append(status_bar);\n",
       "    this.message = status_bar[0];\n",
       "\n",
       "    // Add the close button to the window.\n",
       "    var buttongrp = $('<div class=\"btn-group inline pull-right\"></div>');\n",
       "    var button = $('<button class=\"btn btn-mini btn-danger\" href=\"#\" title=\"Close figure\"><i class=\"fa fa-times icon-remove icon-large\"></i></button>');\n",
       "    button.click(function (evt) { fig.handle_close(fig, {}); } );\n",
       "    button.mouseover('Close figure', toolbar_mouse_event);\n",
       "    buttongrp.append(button);\n",
       "    var titlebar = this.root.find($('.ui-dialog-titlebar'));\n",
       "    titlebar.prepend(buttongrp);\n",
       "}\n",
       "\n",
       "\n",
       "mpl.figure.prototype._canvas_extra_style = function(el){\n",
       "    // this is important to make the div 'focusable\n",
       "    el.attr('tabindex', 0)\n",
       "    // reach out to IPython and tell the keyboard manager to turn it's self\n",
       "    // off when our div gets focus\n",
       "\n",
       "    // location in version 3\n",
       "    if (IPython.notebook.keyboard_manager) {\n",
       "        IPython.notebook.keyboard_manager.register_events(el);\n",
       "    }\n",
       "    else {\n",
       "        // location in version 2\n",
       "        IPython.keyboard_manager.register_events(el);\n",
       "    }\n",
       "\n",
       "}\n",
       "\n",
       "mpl.figure.prototype._key_event_extra = function(event, name) {\n",
       "    var manager = IPython.notebook.keyboard_manager;\n",
       "    if (!manager)\n",
       "        manager = IPython.keyboard_manager;\n",
       "\n",
       "    // Check for shift+enter\n",
       "    if (event.shiftKey && event.which == 13) {\n",
       "        this.canvas_div.blur();\n",
       "        event.shiftKey = false;\n",
       "        // Send a \"J\" for go to next cell\n",
       "        event.which = 74;\n",
       "        event.keyCode = 74;\n",
       "        manager.command_mode();\n",
       "        manager.handle_keydown(event);\n",
       "    }\n",
       "}\n",
       "\n",
       "mpl.figure.prototype.handle_save = function(fig, msg) {\n",
       "    fig.ondownload(fig, null);\n",
       "}\n",
       "\n",
       "\n",
       "mpl.find_output_cell = function(html_output) {\n",
       "    // Return the cell and output element which can be found *uniquely* in the notebook.\n",
       "    // Note - this is a bit hacky, but it is done because the \"notebook_saving.Notebook\"\n",
       "    // IPython event is triggered only after the cells have been serialised, which for\n",
       "    // our purposes (turning an active figure into a static one), is too late.\n",
       "    var cells = IPython.notebook.get_cells();\n",
       "    var ncells = cells.length;\n",
       "    for (var i=0; i<ncells; i++) {\n",
       "        var cell = cells[i];\n",
       "        if (cell.cell_type === 'code'){\n",
       "            for (var j=0; j<cell.output_area.outputs.length; j++) {\n",
       "                var data = cell.output_area.outputs[j];\n",
       "                if (data.data) {\n",
       "                    // IPython >= 3 moved mimebundle to data attribute of output\n",
       "                    data = data.data;\n",
       "                }\n",
       "                if (data['text/html'] == html_output) {\n",
       "                    return [cell, data, j];\n",
       "                }\n",
       "            }\n",
       "        }\n",
       "    }\n",
       "}\n",
       "\n",
       "// Register the function which deals with the matplotlib target/channel.\n",
       "// The kernel may be null if the page has been refreshed.\n",
       "if (IPython.notebook.kernel != null) {\n",
       "    IPython.notebook.kernel.comm_manager.register_target('matplotlib', mpl.mpl_figure_comm);\n",
       "}\n"
      ],
      "text/plain": [
       "<IPython.core.display.Javascript object>"
      ]
     },
     "metadata": {},
     "output_type": "display_data"
    },
    {
     "data": {
      "text/html": [
       "<img src=\"data:image/png;base64,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\">"
      ],
      "text/plain": [
       "<IPython.core.display.HTML object>"
      ]
     },
     "metadata": {},
     "output_type": "display_data"
    }
   ],
   "source": [
    "# myRun = metob.LcmsRun(hdf5_file = '/global/homes/b/bpb/ExoMetabolomic_Example_Data/MEDIA-1.h5')\n",
    "myRun.interact(min_mz = 233.153, max_mz = 233.155)#, polarity = 'positive', ms_level=1)"
   ]
  },
  {
   "cell_type": "code",
   "execution_count": 25,
   "metadata": {
    "collapsed": false
   },
   "outputs": [],
   "source": [
    "import tables\n",
    "target_mz = 233.15416\n",
    "target_mz_tolerance = 105\n",
    "target_rt_min = 7.1\n",
    "target_rt_max = 7.15\n",
    "# target_rt_min = 7.4\n",
    "# target_rt_min = 7.6\n",
    "fid = tables.open_file(myRun.hdf5_file)\n",
    "data = h5q.get_data(fid,2,0,\n",
    "                                 min_precursor_mz = target_mz - target_mz * target_mz_tolerance / 1e6,\n",
    "                                 max_precursor_mz = target_mz + target_mz * target_mz_tolerance / 1e6,\n",
    "#                                  max_mz = mz_ref.mz + mz_ref.mz*mz_ref.mz_tolerance/1e6,\n",
    "                                 min_rt = target_rt_min,\n",
    "                                 max_rt = target_rt_max,\n",
    "                                 )"
   ]
  },
  {
   "cell_type": "code",
   "execution_count": 39,
   "metadata": {
    "collapsed": false
   },
   "outputs": [
    {
     "data": {
      "image/png": "[encoded data removed]",
      "text/plain": [
       "<matplotlib.figure.Figure at 0x7f9bf4449990>"
      ]
     },
     "metadata": {
      "image/png": {
       "height": 255,
       "width": 405
      }
     },
     "output_type": "display_data"
    }
   ],
   "source": [
    "%matplotlib inline\n",
    "import numpy as np\n",
    "plt.vlines(data['mz'],np.zeros(data['i'].shape),data['i'])\n",
    "plt.show()"
   ]
  },
  {
   "cell_type": "code",
   "execution_count": 55,
   "metadata": {
    "collapsed": false
   },
   "outputs": [
    {
     "ename": "ImportError",
     "evalue": "No module named rdkit",
     "output_type": "error",
     "traceback": [
      "\u001b[1;31m---------------------------------------------------------------------------\u001b[0m",
      "\u001b[1;31mImportError\u001b[0m                               Traceback (most recent call last)",
      "\u001b[1;32m<ipython-input-55-551409c4e15c>\u001b[0m in \u001b[0;36m<module>\u001b[1;34m()\u001b[0m\n\u001b[0;32m      1\u001b[0m \u001b[0msys\u001b[0m\u001b[1;33m.\u001b[0m\u001b[0mpath\u001b[0m\u001b[1;33m.\u001b[0m\u001b[0minsert\u001b[0m\u001b[1;33m(\u001b[0m\u001b[1;36m0\u001b[0m\u001b[1;33m,\u001b[0m\u001b[1;34m'/project/projectdirs/openmsi/projects/meta-iq/pactolus/pactolus'\u001b[0m \u001b[1;33m)\u001b[0m\u001b[1;33m\u001b[0m\u001b[0m\n\u001b[0;32m      2\u001b[0m \u001b[0mget_ipython\u001b[0m\u001b[1;33m(\u001b[0m\u001b[1;33m)\u001b[0m\u001b[1;33m.\u001b[0m\u001b[0mmagic\u001b[0m\u001b[1;33m(\u001b[0m\u001b[1;34mu'system ls /project/projectdirs/openmsi/projects/meta-iq/pactolus/pactolus/'\u001b[0m\u001b[1;33m)\u001b[0m\u001b[1;33m\u001b[0m\u001b[0m\n\u001b[1;32m----> 3\u001b[1;33m \u001b[1;32mimport\u001b[0m \u001b[0mrdkit\u001b[0m\u001b[1;33m\u001b[0m\u001b[0m\n\u001b[0m\u001b[0;32m      4\u001b[0m \u001b[1;32mfrom\u001b[0m \u001b[0mgenerate_frag_dag\u001b[0m \u001b[1;32mimport\u001b[0m \u001b[1;33m*\u001b[0m\u001b[1;33m\u001b[0m\u001b[0m\n",
      "\u001b[1;31mImportError\u001b[0m: No module named rdkit"
     ]
    }
   ],
   "source": [
    "sys.path.insert(0,'/project/projectdirs/openmsi/projects/meta-iq/pactolus/pactolus' )\n",
    "\n",
    "%system ls /project/projectdirs/openmsi/projects/meta-iq/pactolus/pactolus/\n",
    "from generate_frag_dag import *"
   ]
  },
  {
   "cell_type": "code",
   "execution_count": 31,
   "metadata": {
    "collapsed": false,
    "scrolled": true
   },
   "outputs": [
    {
     "ename": "KeyboardInterrupt",
     "evalue": "",
     "output_type": "error",
     "traceback": [
      "\u001b[1;31m---------------------------------------------------------------------------\u001b[0m",
      "\u001b[1;31mKeyboardInterrupt\u001b[0m                         Traceback (most recent call last)",
      "\u001b[1;32m<ipython-input-31-947c7f33009e>\u001b[0m in \u001b[0;36m<module>\u001b[1;34m()\u001b[0m\n\u001b[1;32m----> 1\u001b[1;33m \u001b[0mallruns\u001b[0m \u001b[1;33m=\u001b[0m \u001b[0mmetob\u001b[0m\u001b[1;33m.\u001b[0m\u001b[0mqueryDatabase\u001b[0m\u001b[1;33m(\u001b[0m\u001b[1;34m'lcmsrun'\u001b[0m\u001b[1;33m,\u001b[0m\u001b[0mcreated_by\u001b[0m\u001b[1;33m=\u001b[0m\u001b[1;34m'%'\u001b[0m\u001b[1;33m)\u001b[0m\u001b[1;33m\u001b[0m\u001b[0m\n\u001b[0m",
      "\u001b[1;32m/global/project/projectdirs/metatlas/anaconda/lib/python2.7/site-packages/metatlas/metatlas_objects.py\u001b[0m in \u001b[0;36mqueryDatabase\u001b[1;34m(object_type, **kwargs)\u001b[0m\n\u001b[0;32m    213\u001b[0m         \u001b[1;32melif\u001b[0m \u001b[1;34m'%'\u001b[0m \u001b[1;32min\u001b[0m \u001b[0mvalue\u001b[0m\u001b[1;33m:\u001b[0m\u001b[1;33m\u001b[0m\u001b[0m\n\u001b[0;32m    214\u001b[0m             \u001b[0mclauses\u001b[0m\u001b[1;33m.\u001b[0m\u001b[0mappend\u001b[0m\u001b[1;33m(\u001b[0m\u001b[1;34m\"%s like '%s'\"\u001b[0m \u001b[1;33m%\u001b[0m \u001b[1;33m(\u001b[0m\u001b[0mkey\u001b[0m\u001b[1;33m,\u001b[0m \u001b[0mvalue\u001b[0m\u001b[1;33m.\u001b[0m\u001b[0mreplace\u001b[0m\u001b[1;33m(\u001b[0m\u001b[1;34m'*'\u001b[0m\u001b[1;33m,\u001b[0m \u001b[1;34m'%'\u001b[0m\u001b[1;33m)\u001b[0m\u001b[1;33m)\u001b[0m\u001b[1;33m)\u001b[0m\u001b[1;33m\u001b[0m\u001b[0m\n\u001b[1;32m--> 215\u001b[1;33m         \u001b[1;32melse\u001b[0m\u001b[1;33m:\u001b[0m\u001b[1;33m\u001b[0m\u001b[0m\n\u001b[0m\u001b[0;32m    216\u001b[0m             \u001b[0mclauses\u001b[0m\u001b[1;33m.\u001b[0m\u001b[0mappend\u001b[0m\u001b[1;33m(\u001b[0m\u001b[1;34m\"%s = '%s'\"\u001b[0m \u001b[1;33m%\u001b[0m \u001b[1;33m(\u001b[0m\u001b[0mkey\u001b[0m\u001b[1;33m,\u001b[0m \u001b[0mvalue\u001b[0m\u001b[1;33m)\u001b[0m\u001b[1;33m)\u001b[0m\u001b[1;33m\u001b[0m\u001b[0m\n\u001b[0;32m    217\u001b[0m     \u001b[0mquery\u001b[0m \u001b[1;33m+=\u001b[0m \u001b[1;34m'and '\u001b[0m\u001b[1;33m.\u001b[0m\u001b[0mjoin\u001b[0m\u001b[1;33m(\u001b[0m\u001b[0mclauses\u001b[0m\u001b[1;33m)\u001b[0m\u001b[1;33m\u001b[0m\u001b[0m\n",
      "\u001b[1;32m/global/project/projectdirs/metatlas/anaconda/lib/python2.7/site-packages/metatlas/metatlas_objects.py\u001b[0m in \u001b[0;36mretrieve\u001b[1;34m(self, name)\u001b[0m\n\u001b[0;32m    302\u001b[0m         \u001b[1;32mif\u001b[0m \u001b[0mself\u001b[0m\u001b[1;33m.\u001b[0m\u001b[0m_changed\u001b[0m\u001b[1;33m:\u001b[0m\u001b[1;33m\u001b[0m\u001b[0m\n\u001b[0;32m    303\u001b[0m             \u001b[0mself\u001b[0m\u001b[1;33m.\u001b[0m\u001b[0mprev_unique_id\u001b[0m \u001b[1;33m=\u001b[0m \u001b[0mself\u001b[0m\u001b[1;33m.\u001b[0m\u001b[0munique_id\u001b[0m\u001b[1;33m\u001b[0m\u001b[0m\n\u001b[1;32m--> 304\u001b[1;33m             \u001b[0mself\u001b[0m\u001b[1;33m.\u001b[0m\u001b[0munique_id\u001b[0m \u001b[1;33m=\u001b[0m \u001b[0muuid\u001b[0m\u001b[1;33m.\u001b[0m\u001b[0muuid4\u001b[0m\u001b[1;33m(\u001b[0m\u001b[1;33m)\u001b[0m\u001b[1;33m.\u001b[0m\u001b[0mhex\u001b[0m\u001b[1;33m\u001b[0m\u001b[0m\n\u001b[0m\u001b[0;32m    305\u001b[0m             \u001b[0mself\u001b[0m\u001b[1;33m.\u001b[0m\u001b[0mlast_modified\u001b[0m \u001b[1;33m=\u001b[0m \u001b[0mtime\u001b[0m\u001b[1;33m.\u001b[0m\u001b[0mtime\u001b[0m\u001b[1;33m(\u001b[0m\u001b[1;33m)\u001b[0m\u001b[1;33m\u001b[0m\u001b[0m\n\u001b[0;32m    306\u001b[0m             \u001b[0mself\u001b[0m\u001b[1;33m.\u001b[0m\u001b[0mmodified_by\u001b[0m \u001b[1;33m=\u001b[0m \u001b[0mgetpass\u001b[0m\u001b[1;33m.\u001b[0m\u001b[0mgetuser\u001b[0m\u001b[1;33m(\u001b[0m\u001b[1;33m)\u001b[0m\u001b[1;33m\u001b[0m\u001b[0m\n",
      "\u001b[1;32m/global/project/projectdirs/metatlas/anaconda/lib/python2.7/site-packages/metatlas/metatlas_objects.py\u001b[0m in \u001b[0;36mload\u001b[1;34m(self, obj, name)\u001b[0m\n\u001b[0;32m    116\u001b[0m         \u001b[1;32mif\u001b[0m \u001b[0mobj\u001b[0m\u001b[1;33m.\u001b[0m\u001b[0munique_id\u001b[0m \u001b[1;32min\u001b[0m \u001b[0mself\u001b[0m\u001b[1;33m.\u001b[0m\u001b[0mseen\u001b[0m\u001b[1;33m:\u001b[0m\u001b[1;33m\u001b[0m\u001b[0m\n\u001b[0;32m    117\u001b[0m             \u001b[1;32mreturn\u001b[0m \u001b[0mself\u001b[0m\u001b[1;33m.\u001b[0m\u001b[0mseen\u001b[0m\u001b[1;33m[\u001b[0m\u001b[0mobj\u001b[0m\u001b[1;33m.\u001b[0m\u001b[0munique_id\u001b[0m\u001b[1;33m]\u001b[0m\u001b[1;33m\u001b[0m\u001b[0m\n\u001b[1;32m--> 118\u001b[1;33m         \u001b[0mname\u001b[0m \u001b[1;33m=\u001b[0m \u001b[0mname\u001b[0m \u001b[1;32mor\u001b[0m \u001b[0mobj\u001b[0m\u001b[1;33m.\u001b[0m\u001b[0m__class__\u001b[0m\u001b[1;33m.\u001b[0m\u001b[0m__name__\u001b[0m\u001b[1;33m\u001b[0m\u001b[0m\n\u001b[0m\u001b[0;32m    119\u001b[0m         \u001b[1;32mif\u001b[0m \u001b[1;32mnot\u001b[0m \u001b[0mname\u001b[0m\u001b[1;33m.\u001b[0m\u001b[0mlower\u001b[0m\u001b[1;33m(\u001b[0m\u001b[1;33m)\u001b[0m\u001b[1;33m.\u001b[0m\u001b[0mendswith\u001b[0m\u001b[1;33m(\u001b[0m\u001b[1;34m's'\u001b[0m\u001b[1;33m)\u001b[0m\u001b[1;33m:\u001b[0m\u001b[1;33m\u001b[0m\u001b[0m\n\u001b[0;32m    120\u001b[0m             \u001b[0mname\u001b[0m \u001b[1;33m+=\u001b[0m \u001b[1;34m's'\u001b[0m\u001b[1;33m\u001b[0m\u001b[0m\n",
      "\u001b[1;32m/global/project/projectdirs/metatlas/anaconda/lib/python2.7/site-packages/metatlas/metatlas_objects.py\u001b[0m in \u001b[0;36mfind_one\u001b[1;34m(self, table_name, **kwargs)\u001b[0m\n\u001b[0;32m     49\u001b[0m     \u001b[1;32mdef\u001b[0m \u001b[0minsert\u001b[0m\u001b[1;33m(\u001b[0m\u001b[0mself\u001b[0m\u001b[1;33m,\u001b[0m \u001b[0mname\u001b[0m\u001b[1;33m,\u001b[0m \u001b[0mstate\u001b[0m\u001b[1;33m)\u001b[0m\u001b[1;33m:\u001b[0m\u001b[1;33m\u001b[0m\u001b[0m\n\u001b[0;32m     50\u001b[0m         \u001b[0mname\u001b[0m \u001b[1;33m=\u001b[0m \u001b[0mname\u001b[0m\u001b[1;33m.\u001b[0m\u001b[0mlower\u001b[0m\u001b[1;33m(\u001b[0m\u001b[1;33m)\u001b[0m\u001b[1;33m\u001b[0m\u001b[0m\n\u001b[1;32m---> 51\u001b[1;33m         \u001b[1;32mif\u001b[0m \u001b[0mname\u001b[0m \u001b[1;32mnot\u001b[0m \u001b[1;32min\u001b[0m \u001b[0mself\u001b[0m\u001b[1;33m.\u001b[0m\u001b[0mdb\u001b[0m\u001b[1;33m:\u001b[0m\u001b[1;33m\u001b[0m\u001b[0m\n\u001b[0m\u001b[0;32m     52\u001b[0m             self.db.create_table(name, primary_id='unique_id',\n\u001b[0;32m     53\u001b[0m                                  primary_type='String(32)')\n",
      "\u001b[1;32m/global/project/projectdirs/metatlas/anaconda/lib/python2.7/site-packages/dataset/persistence/table.pyc\u001b[0m in \u001b[0;36mfind_one\u001b[1;34m(self, **kwargs)\u001b[0m\n\u001b[0;32m    310\u001b[0m         \"\"\"\n\u001b[0;32m    311\u001b[0m         \u001b[0mkwargs\u001b[0m\u001b[1;33m[\u001b[0m\u001b[1;34m'_limit'\u001b[0m\u001b[1;33m]\u001b[0m \u001b[1;33m=\u001b[0m \u001b[1;36m1\u001b[0m\u001b[1;33m\u001b[0m\u001b[0m\n\u001b[1;32m--> 312\u001b[1;33m         \u001b[0miterator\u001b[0m \u001b[1;33m=\u001b[0m \u001b[0mself\u001b[0m\u001b[1;33m.\u001b[0m\u001b[0mfind\u001b[0m\u001b[1;33m(\u001b[0m\u001b[1;33m**\u001b[0m\u001b[0mkwargs\u001b[0m\u001b[1;33m)\u001b[0m\u001b[1;33m\u001b[0m\u001b[0m\n\u001b[0m\u001b[0;32m    313\u001b[0m         \u001b[1;32mtry\u001b[0m\u001b[1;33m:\u001b[0m\u001b[1;33m\u001b[0m\u001b[0m\n\u001b[0;32m    314\u001b[0m             \u001b[1;32mreturn\u001b[0m \u001b[0mnext\u001b[0m\u001b[1;33m(\u001b[0m\u001b[0miterator\u001b[0m\u001b[1;33m)\u001b[0m\u001b[1;33m\u001b[0m\u001b[0m\n",
      "\u001b[1;32m/global/project/projectdirs/metatlas/anaconda/lib/python2.7/site-packages/dataset/persistence/table.pyc\u001b[0m in \u001b[0;36mfind\u001b[1;34m(self, _limit, _offset, _step, order_by, return_count, **_filter)\u001b[0m\n\u001b[0;32m    361\u001b[0m         count_query = alias(self.table.select(whereclause=args, limit=_limit, offset=_offset),\n\u001b[0;32m    362\u001b[0m                             name='count_query_alias').count()\n\u001b[1;32m--> 363\u001b[1;33m         \u001b[0mrp\u001b[0m \u001b[1;33m=\u001b[0m \u001b[0mself\u001b[0m\u001b[1;33m.\u001b[0m\u001b[0mdatabase\u001b[0m\u001b[1;33m.\u001b[0m\u001b[0mexecutable\u001b[0m\u001b[1;33m.\u001b[0m\u001b[0mexecute\u001b[0m\u001b[1;33m(\u001b[0m\u001b[0mcount_query\u001b[0m\u001b[1;33m)\u001b[0m\u001b[1;33m\u001b[0m\u001b[0m\n\u001b[0m\u001b[0;32m    364\u001b[0m         \u001b[0mtotal_row_count\u001b[0m \u001b[1;33m=\u001b[0m \u001b[0mrp\u001b[0m\u001b[1;33m.\u001b[0m\u001b[0mfetchone\u001b[0m\u001b[1;33m(\u001b[0m\u001b[1;33m)\u001b[0m\u001b[1;33m[\u001b[0m\u001b[1;36m0\u001b[0m\u001b[1;33m]\u001b[0m\u001b[1;33m\u001b[0m\u001b[0m\n\u001b[0;32m    365\u001b[0m         \u001b[1;32mif\u001b[0m \u001b[0mreturn_count\u001b[0m\u001b[1;33m:\u001b[0m\u001b[1;33m\u001b[0m\u001b[0m\n",
      "\u001b[1;32m/global/project/projectdirs/metatlas/anaconda/lib/python2.7/site-packages/sqlalchemy/engine/base.pyc\u001b[0m in \u001b[0;36mexecute\u001b[1;34m(self, statement, *multiparams, **params)\u001b[0m\n\u001b[0;32m   1987\u001b[0m \u001b[1;33m\u001b[0m\u001b[0m\n\u001b[0;32m   1988\u001b[0m         \u001b[0mconnection\u001b[0m \u001b[1;33m=\u001b[0m \u001b[0mself\u001b[0m\u001b[1;33m.\u001b[0m\u001b[0mcontextual_connect\u001b[0m\u001b[1;33m(\u001b[0m\u001b[0mclose_with_result\u001b[0m\u001b[1;33m=\u001b[0m\u001b[0mTrue\u001b[0m\u001b[1;33m)\u001b[0m\u001b[1;33m\u001b[0m\u001b[0m\n\u001b[1;32m-> 1989\u001b[1;33m         \u001b[1;32mreturn\u001b[0m \u001b[0mconnection\u001b[0m\u001b[1;33m.\u001b[0m\u001b[0mexecute\u001b[0m\u001b[1;33m(\u001b[0m\u001b[0mstatement\u001b[0m\u001b[1;33m,\u001b[0m \u001b[1;33m*\u001b[0m\u001b[0mmultiparams\u001b[0m\u001b[1;33m,\u001b[0m \u001b[1;33m**\u001b[0m\u001b[0mparams\u001b[0m\u001b[1;33m)\u001b[0m\u001b[1;33m\u001b[0m\u001b[0m\n\u001b[0m\u001b[0;32m   1990\u001b[0m \u001b[1;33m\u001b[0m\u001b[0m\n\u001b[0;32m   1991\u001b[0m     \u001b[1;32mdef\u001b[0m \u001b[0mscalar\u001b[0m\u001b[1;33m(\u001b[0m\u001b[0mself\u001b[0m\u001b[1;33m,\u001b[0m \u001b[0mstatement\u001b[0m\u001b[1;33m,\u001b[0m \u001b[1;33m*\u001b[0m\u001b[0mmultiparams\u001b[0m\u001b[1;33m,\u001b[0m \u001b[1;33m**\u001b[0m\u001b[0mparams\u001b[0m\u001b[1;33m)\u001b[0m\u001b[1;33m:\u001b[0m\u001b[1;33m\u001b[0m\u001b[0m\n",
      "\u001b[1;32m/global/project/projectdirs/metatlas/anaconda/lib/python2.7/site-packages/sqlalchemy/engine/base.pyc\u001b[0m in \u001b[0;36mexecute\u001b[1;34m(self, object, *multiparams, **params)\u001b[0m\n\u001b[0;32m    912\u001b[0m                 type(object))\n\u001b[0;32m    913\u001b[0m         \u001b[1;32melse\u001b[0m\u001b[1;33m:\u001b[0m\u001b[1;33m\u001b[0m\u001b[0m\n\u001b[1;32m--> 914\u001b[1;33m             \u001b[1;32mreturn\u001b[0m \u001b[0mmeth\u001b[0m\u001b[1;33m(\u001b[0m\u001b[0mself\u001b[0m\u001b[1;33m,\u001b[0m \u001b[0mmultiparams\u001b[0m\u001b[1;33m,\u001b[0m \u001b[0mparams\u001b[0m\u001b[1;33m)\u001b[0m\u001b[1;33m\u001b[0m\u001b[0m\n\u001b[0m\u001b[0;32m    915\u001b[0m \u001b[1;33m\u001b[0m\u001b[0m\n\u001b[0;32m    916\u001b[0m     \u001b[1;32mdef\u001b[0m \u001b[0m_execute_function\u001b[0m\u001b[1;33m(\u001b[0m\u001b[0mself\u001b[0m\u001b[1;33m,\u001b[0m \u001b[0mfunc\u001b[0m\u001b[1;33m,\u001b[0m \u001b[0mmultiparams\u001b[0m\u001b[1;33m,\u001b[0m \u001b[0mparams\u001b[0m\u001b[1;33m)\u001b[0m\u001b[1;33m:\u001b[0m\u001b[1;33m\u001b[0m\u001b[0m\n",
      "\u001b[1;32m/global/project/projectdirs/metatlas/anaconda/lib/python2.7/site-packages/sqlalchemy/sql/elements.pyc\u001b[0m in \u001b[0;36m_execute_on_connection\u001b[1;34m(self, connection, multiparams, params)\u001b[0m\n\u001b[0;32m    321\u001b[0m \u001b[1;33m\u001b[0m\u001b[0m\n\u001b[0;32m    322\u001b[0m     \u001b[1;32mdef\u001b[0m \u001b[0m_execute_on_connection\u001b[0m\u001b[1;33m(\u001b[0m\u001b[0mself\u001b[0m\u001b[1;33m,\u001b[0m \u001b[0mconnection\u001b[0m\u001b[1;33m,\u001b[0m \u001b[0mmultiparams\u001b[0m\u001b[1;33m,\u001b[0m \u001b[0mparams\u001b[0m\u001b[1;33m)\u001b[0m\u001b[1;33m:\u001b[0m\u001b[1;33m\u001b[0m\u001b[0m\n\u001b[1;32m--> 323\u001b[1;33m         \u001b[1;32mreturn\u001b[0m \u001b[0mconnection\u001b[0m\u001b[1;33m.\u001b[0m\u001b[0m_execute_clauseelement\u001b[0m\u001b[1;33m(\u001b[0m\u001b[0mself\u001b[0m\u001b[1;33m,\u001b[0m \u001b[0mmultiparams\u001b[0m\u001b[1;33m,\u001b[0m \u001b[0mparams\u001b[0m\u001b[1;33m)\u001b[0m\u001b[1;33m\u001b[0m\u001b[0m\n\u001b[0m\u001b[0;32m    324\u001b[0m \u001b[1;33m\u001b[0m\u001b[0m\n\u001b[0;32m    325\u001b[0m     \u001b[1;32mdef\u001b[0m \u001b[0munique_params\u001b[0m\u001b[1;33m(\u001b[0m\u001b[0mself\u001b[0m\u001b[1;33m,\u001b[0m \u001b[1;33m*\u001b[0m\u001b[0moptionaldict\u001b[0m\u001b[1;33m,\u001b[0m \u001b[1;33m**\u001b[0m\u001b[0mkwargs\u001b[0m\u001b[1;33m)\u001b[0m\u001b[1;33m:\u001b[0m\u001b[1;33m\u001b[0m\u001b[0m\n",
      "\u001b[1;32m/global/project/projectdirs/metatlas/anaconda/lib/python2.7/site-packages/sqlalchemy/engine/base.pyc\u001b[0m in \u001b[0;36m_execute_clauseelement\u001b[1;34m(self, elem, multiparams, params)\u001b[0m\n\u001b[0;32m   1008\u001b[0m             \u001b[0mcompiled_sql\u001b[0m\u001b[1;33m,\u001b[0m\u001b[1;33m\u001b[0m\u001b[0m\n\u001b[0;32m   1009\u001b[0m             \u001b[0mdistilled_params\u001b[0m\u001b[1;33m,\u001b[0m\u001b[1;33m\u001b[0m\u001b[0m\n\u001b[1;32m-> 1010\u001b[1;33m             \u001b[0mcompiled_sql\u001b[0m\u001b[1;33m,\u001b[0m \u001b[0mdistilled_params\u001b[0m\u001b[1;33m\u001b[0m\u001b[0m\n\u001b[0m\u001b[0;32m   1011\u001b[0m         )\n\u001b[0;32m   1012\u001b[0m         \u001b[1;32mif\u001b[0m \u001b[0mself\u001b[0m\u001b[1;33m.\u001b[0m\u001b[0m_has_events\u001b[0m \u001b[1;32mor\u001b[0m \u001b[0mself\u001b[0m\u001b[1;33m.\u001b[0m\u001b[0mengine\u001b[0m\u001b[1;33m.\u001b[0m\u001b[0m_has_events\u001b[0m\u001b[1;33m:\u001b[0m\u001b[1;33m\u001b[0m\u001b[0m\n",
      "\u001b[1;32m/global/project/projectdirs/metatlas/anaconda/lib/python2.7/site-packages/sqlalchemy/engine/base.pyc\u001b[0m in \u001b[0;36m_execute_context\u001b[1;34m(self, dialect, constructor, statement, parameters, *args)\u001b[0m\n\u001b[0;32m   1137\u001b[0m                         \u001b[0mstatement\u001b[0m\u001b[1;33m,\u001b[0m\u001b[1;33m\u001b[0m\u001b[0m\n\u001b[0;32m   1138\u001b[0m                         \u001b[0mparameters\u001b[0m\u001b[1;33m,\u001b[0m\u001b[1;33m\u001b[0m\u001b[0m\n\u001b[1;32m-> 1139\u001b[1;33m                         context)\n\u001b[0m\u001b[0;32m   1140\u001b[0m         \u001b[1;32mexcept\u001b[0m \u001b[0mException\u001b[0m \u001b[1;32mas\u001b[0m \u001b[0me\u001b[0m\u001b[1;33m:\u001b[0m\u001b[1;33m\u001b[0m\u001b[0m\n\u001b[0;32m   1141\u001b[0m             self._handle_dbapi_exception(\n",
      "\u001b[1;32m/global/project/projectdirs/metatlas/anaconda/lib/python2.7/site-packages/sqlalchemy/engine/default.pyc\u001b[0m in \u001b[0;36mdo_execute\u001b[1;34m(self, cursor, statement, parameters, context)\u001b[0m\n\u001b[0;32m    448\u001b[0m \u001b[1;33m\u001b[0m\u001b[0m\n\u001b[0;32m    449\u001b[0m     \u001b[1;32mdef\u001b[0m \u001b[0mdo_execute\u001b[0m\u001b[1;33m(\u001b[0m\u001b[0mself\u001b[0m\u001b[1;33m,\u001b[0m \u001b[0mcursor\u001b[0m\u001b[1;33m,\u001b[0m \u001b[0mstatement\u001b[0m\u001b[1;33m,\u001b[0m \u001b[0mparameters\u001b[0m\u001b[1;33m,\u001b[0m \u001b[0mcontext\u001b[0m\u001b[1;33m=\u001b[0m\u001b[0mNone\u001b[0m\u001b[1;33m)\u001b[0m\u001b[1;33m:\u001b[0m\u001b[1;33m\u001b[0m\u001b[0m\n\u001b[1;32m--> 450\u001b[1;33m         \u001b[0mcursor\u001b[0m\u001b[1;33m.\u001b[0m\u001b[0mexecute\u001b[0m\u001b[1;33m(\u001b[0m\u001b[0mstatement\u001b[0m\u001b[1;33m,\u001b[0m \u001b[0mparameters\u001b[0m\u001b[1;33m)\u001b[0m\u001b[1;33m\u001b[0m\u001b[0m\n\u001b[0m\u001b[0;32m    451\u001b[0m \u001b[1;33m\u001b[0m\u001b[0m\n\u001b[0;32m    452\u001b[0m     \u001b[1;32mdef\u001b[0m \u001b[0mdo_execute_no_params\u001b[0m\u001b[1;33m(\u001b[0m\u001b[0mself\u001b[0m\u001b[1;33m,\u001b[0m \u001b[0mcursor\u001b[0m\u001b[1;33m,\u001b[0m \u001b[0mstatement\u001b[0m\u001b[1;33m,\u001b[0m \u001b[0mcontext\u001b[0m\u001b[1;33m=\u001b[0m\u001b[0mNone\u001b[0m\u001b[1;33m)\u001b[0m\u001b[1;33m:\u001b[0m\u001b[1;33m\u001b[0m\u001b[0m\n",
      "\u001b[1;32m/global/project/projectdirs/metatlas/anaconda/lib/python2.7/site-packages/pymysql/cursors.pyc\u001b[0m in \u001b[0;36mexecute\u001b[1;34m(self, query, args)\u001b[0m\n\u001b[0;32m    132\u001b[0m             \u001b[0mquery\u001b[0m \u001b[1;33m=\u001b[0m \u001b[0mquery\u001b[0m \u001b[1;33m%\u001b[0m \u001b[0mself\u001b[0m\u001b[1;33m.\u001b[0m\u001b[0m_escape_args\u001b[0m\u001b[1;33m(\u001b[0m\u001b[0margs\u001b[0m\u001b[1;33m,\u001b[0m \u001b[0mconn\u001b[0m\u001b[1;33m)\u001b[0m\u001b[1;33m\u001b[0m\u001b[0m\n\u001b[0;32m    133\u001b[0m \u001b[1;33m\u001b[0m\u001b[0m\n\u001b[1;32m--> 134\u001b[1;33m         \u001b[0mresult\u001b[0m \u001b[1;33m=\u001b[0m \u001b[0mself\u001b[0m\u001b[1;33m.\u001b[0m\u001b[0m_query\u001b[0m\u001b[1;33m(\u001b[0m\u001b[0mquery\u001b[0m\u001b[1;33m)\u001b[0m\u001b[1;33m\u001b[0m\u001b[0m\n\u001b[0m\u001b[0;32m    135\u001b[0m         \u001b[0mself\u001b[0m\u001b[1;33m.\u001b[0m\u001b[0m_executed\u001b[0m \u001b[1;33m=\u001b[0m \u001b[0mquery\u001b[0m\u001b[1;33m\u001b[0m\u001b[0m\n\u001b[0;32m    136\u001b[0m         \u001b[1;32mreturn\u001b[0m \u001b[0mresult\u001b[0m\u001b[1;33m\u001b[0m\u001b[0m\n",
      "\u001b[1;32m/global/project/projectdirs/metatlas/anaconda/lib/python2.7/site-packages/pymysql/cursors.pyc\u001b[0m in \u001b[0;36m_query\u001b[1;34m(self, q)\u001b[0m\n\u001b[0;32m    280\u001b[0m         \u001b[0mconn\u001b[0m \u001b[1;33m=\u001b[0m \u001b[0mself\u001b[0m\u001b[1;33m.\u001b[0m\u001b[0m_get_db\u001b[0m\u001b[1;33m(\u001b[0m\u001b[1;33m)\u001b[0m\u001b[1;33m\u001b[0m\u001b[0m\n\u001b[0;32m    281\u001b[0m         \u001b[0mself\u001b[0m\u001b[1;33m.\u001b[0m\u001b[0m_last_executed\u001b[0m \u001b[1;33m=\u001b[0m \u001b[0mq\u001b[0m\u001b[1;33m\u001b[0m\u001b[0m\n\u001b[1;32m--> 282\u001b[1;33m         \u001b[0mconn\u001b[0m\u001b[1;33m.\u001b[0m\u001b[0mquery\u001b[0m\u001b[1;33m(\u001b[0m\u001b[0mq\u001b[0m\u001b[1;33m)\u001b[0m\u001b[1;33m\u001b[0m\u001b[0m\n\u001b[0m\u001b[0;32m    283\u001b[0m         \u001b[0mself\u001b[0m\u001b[1;33m.\u001b[0m\u001b[0m_do_get_result\u001b[0m\u001b[1;33m(\u001b[0m\u001b[1;33m)\u001b[0m\u001b[1;33m\u001b[0m\u001b[0m\n\u001b[0;32m    284\u001b[0m         \u001b[1;32mreturn\u001b[0m \u001b[0mself\u001b[0m\u001b[1;33m.\u001b[0m\u001b[0mrowcount\u001b[0m\u001b[1;33m\u001b[0m\u001b[0m\n",
      "\u001b[1;32m/global/project/projectdirs/metatlas/anaconda/lib/python2.7/site-packages/pymysql/connections.pyc\u001b[0m in \u001b[0;36mquery\u001b[1;34m(self, sql, unbuffered)\u001b[0m\n\u001b[0;32m    766\u001b[0m                 \u001b[0msql\u001b[0m \u001b[1;33m=\u001b[0m \u001b[0msql\u001b[0m\u001b[1;33m.\u001b[0m\u001b[0mencode\u001b[0m\u001b[1;33m(\u001b[0m\u001b[0mself\u001b[0m\u001b[1;33m.\u001b[0m\u001b[0mencoding\u001b[0m\u001b[1;33m,\u001b[0m \u001b[1;34m'surrogateescape'\u001b[0m\u001b[1;33m)\u001b[0m\u001b[1;33m\u001b[0m\u001b[0m\n\u001b[0;32m    767\u001b[0m         \u001b[0mself\u001b[0m\u001b[1;33m.\u001b[0m\u001b[0m_execute_command\u001b[0m\u001b[1;33m(\u001b[0m\u001b[0mCOMMAND\u001b[0m\u001b[1;33m.\u001b[0m\u001b[0mCOM_QUERY\u001b[0m\u001b[1;33m,\u001b[0m \u001b[0msql\u001b[0m\u001b[1;33m)\u001b[0m\u001b[1;33m\u001b[0m\u001b[0m\n\u001b[1;32m--> 768\u001b[1;33m         \u001b[0mself\u001b[0m\u001b[1;33m.\u001b[0m\u001b[0m_affected_rows\u001b[0m \u001b[1;33m=\u001b[0m \u001b[0mself\u001b[0m\u001b[1;33m.\u001b[0m\u001b[0m_read_query_result\u001b[0m\u001b[1;33m(\u001b[0m\u001b[0munbuffered\u001b[0m\u001b[1;33m=\u001b[0m\u001b[0munbuffered\u001b[0m\u001b[1;33m)\u001b[0m\u001b[1;33m\u001b[0m\u001b[0m\n\u001b[0m\u001b[0;32m    769\u001b[0m         \u001b[1;32mreturn\u001b[0m \u001b[0mself\u001b[0m\u001b[1;33m.\u001b[0m\u001b[0m_affected_rows\u001b[0m\u001b[1;33m\u001b[0m\u001b[0m\n\u001b[0;32m    770\u001b[0m \u001b[1;33m\u001b[0m\u001b[0m\n",
      "\u001b[1;32m/global/project/projectdirs/metatlas/anaconda/lib/python2.7/site-packages/pymysql/connections.pyc\u001b[0m in \u001b[0;36m_read_query_result\u001b[1;34m(self, unbuffered)\u001b[0m\n\u001b[0;32m    927\u001b[0m         \u001b[1;32melse\u001b[0m\u001b[1;33m:\u001b[0m\u001b[1;33m\u001b[0m\u001b[0m\n\u001b[0;32m    928\u001b[0m             \u001b[0mresult\u001b[0m \u001b[1;33m=\u001b[0m \u001b[0mMySQLResult\u001b[0m\u001b[1;33m(\u001b[0m\u001b[0mself\u001b[0m\u001b[1;33m)\u001b[0m\u001b[1;33m\u001b[0m\u001b[0m\n\u001b[1;32m--> 929\u001b[1;33m             \u001b[0mresult\u001b[0m\u001b[1;33m.\u001b[0m\u001b[0mread\u001b[0m\u001b[1;33m(\u001b[0m\u001b[1;33m)\u001b[0m\u001b[1;33m\u001b[0m\u001b[0m\n\u001b[0m\u001b[0;32m    930\u001b[0m         \u001b[0mself\u001b[0m\u001b[1;33m.\u001b[0m\u001b[0m_result\u001b[0m \u001b[1;33m=\u001b[0m \u001b[0mresult\u001b[0m\u001b[1;33m\u001b[0m\u001b[0m\n\u001b[0;32m    931\u001b[0m         \u001b[1;32mif\u001b[0m \u001b[0mresult\u001b[0m\u001b[1;33m.\u001b[0m\u001b[0mserver_status\u001b[0m \u001b[1;32mis\u001b[0m \u001b[1;32mnot\u001b[0m \u001b[0mNone\u001b[0m\u001b[1;33m:\u001b[0m\u001b[1;33m\u001b[0m\u001b[0m\n",
      "\u001b[1;32m/global/project/projectdirs/metatlas/anaconda/lib/python2.7/site-packages/pymysql/connections.pyc\u001b[0m in \u001b[0;36mread\u001b[1;34m(self)\u001b[0m\n\u001b[0;32m   1123\u001b[0m     \u001b[1;32mdef\u001b[0m \u001b[0mread\u001b[0m\u001b[1;33m(\u001b[0m\u001b[0mself\u001b[0m\u001b[1;33m)\u001b[0m\u001b[1;33m:\u001b[0m\u001b[1;33m\u001b[0m\u001b[0m\n\u001b[0;32m   1124\u001b[0m         \u001b[1;32mtry\u001b[0m\u001b[1;33m:\u001b[0m\u001b[1;33m\u001b[0m\u001b[0m\n\u001b[1;32m-> 1125\u001b[1;33m             \u001b[0mfirst_packet\u001b[0m \u001b[1;33m=\u001b[0m \u001b[0mself\u001b[0m\u001b[1;33m.\u001b[0m\u001b[0mconnection\u001b[0m\u001b[1;33m.\u001b[0m\u001b[0m_read_packet\u001b[0m\u001b[1;33m(\u001b[0m\u001b[1;33m)\u001b[0m\u001b[1;33m\u001b[0m\u001b[0m\n\u001b[0m\u001b[0;32m   1126\u001b[0m \u001b[1;33m\u001b[0m\u001b[0m\n\u001b[0;32m   1127\u001b[0m             \u001b[1;32mif\u001b[0m \u001b[0mfirst_packet\u001b[0m\u001b[1;33m.\u001b[0m\u001b[0mis_ok_packet\u001b[0m\u001b[1;33m(\u001b[0m\u001b[1;33m)\u001b[0m\u001b[1;33m:\u001b[0m\u001b[1;33m\u001b[0m\u001b[0m\n",
      "\u001b[1;32m/global/project/projectdirs/metatlas/anaconda/lib/python2.7/site-packages/pymysql/connections.pyc\u001b[0m in \u001b[0;36m_read_packet\u001b[1;34m(self, packet_type)\u001b[0m\n\u001b[0;32m    880\u001b[0m         \u001b[0mbuff\u001b[0m \u001b[1;33m=\u001b[0m \u001b[1;34mb''\u001b[0m\u001b[1;33m\u001b[0m\u001b[0m\n\u001b[0;32m    881\u001b[0m         \u001b[1;32mwhile\u001b[0m \u001b[0mTrue\u001b[0m\u001b[1;33m:\u001b[0m\u001b[1;33m\u001b[0m\u001b[0m\n\u001b[1;32m--> 882\u001b[1;33m             \u001b[0mpacket_header\u001b[0m \u001b[1;33m=\u001b[0m \u001b[0mself\u001b[0m\u001b[1;33m.\u001b[0m\u001b[0m_read_bytes\u001b[0m\u001b[1;33m(\u001b[0m\u001b[1;36m4\u001b[0m\u001b[1;33m)\u001b[0m\u001b[1;33m\u001b[0m\u001b[0m\n\u001b[0m\u001b[0;32m    883\u001b[0m             \u001b[1;32mif\u001b[0m \u001b[0mDEBUG\u001b[0m\u001b[1;33m:\u001b[0m \u001b[0mdump_packet\u001b[0m\u001b[1;33m(\u001b[0m\u001b[0mpacket_header\u001b[0m\u001b[1;33m)\u001b[0m\u001b[1;33m\u001b[0m\u001b[0m\n\u001b[0;32m    884\u001b[0m             \u001b[0mbtrl\u001b[0m\u001b[1;33m,\u001b[0m \u001b[0mbtrh\u001b[0m\u001b[1;33m,\u001b[0m \u001b[0mpacket_number\u001b[0m \u001b[1;33m=\u001b[0m \u001b[0mstruct\u001b[0m\u001b[1;33m.\u001b[0m\u001b[0munpack\u001b[0m\u001b[1;33m(\u001b[0m\u001b[1;34m'<HBB'\u001b[0m\u001b[1;33m,\u001b[0m \u001b[0mpacket_header\u001b[0m\u001b[1;33m)\u001b[0m\u001b[1;33m\u001b[0m\u001b[0m\n",
      "\u001b[1;32m/global/project/projectdirs/metatlas/anaconda/lib/python2.7/site-packages/pymysql/connections.pyc\u001b[0m in \u001b[0;36m_read_bytes\u001b[1;34m(self, num_bytes)\u001b[0m\n\u001b[0;32m    897\u001b[0m         \u001b[1;32mwhile\u001b[0m \u001b[0mTrue\u001b[0m\u001b[1;33m:\u001b[0m\u001b[1;33m\u001b[0m\u001b[0m\n\u001b[0;32m    898\u001b[0m             \u001b[1;32mtry\u001b[0m\u001b[1;33m:\u001b[0m\u001b[1;33m\u001b[0m\u001b[0m\n\u001b[1;32m--> 899\u001b[1;33m                 \u001b[0mdata\u001b[0m \u001b[1;33m=\u001b[0m \u001b[0mself\u001b[0m\u001b[1;33m.\u001b[0m\u001b[0m_rfile\u001b[0m\u001b[1;33m.\u001b[0m\u001b[0mread\u001b[0m\u001b[1;33m(\u001b[0m\u001b[0mnum_bytes\u001b[0m\u001b[1;33m)\u001b[0m\u001b[1;33m\u001b[0m\u001b[0m\n\u001b[0m\u001b[0;32m    900\u001b[0m                 \u001b[1;32mbreak\u001b[0m\u001b[1;33m\u001b[0m\u001b[0m\n\u001b[0;32m    901\u001b[0m             \u001b[1;32mexcept\u001b[0m \u001b[1;33m(\u001b[0m\u001b[0mIOError\u001b[0m\u001b[1;33m,\u001b[0m \u001b[0mOSError\u001b[0m\u001b[1;33m)\u001b[0m \u001b[1;32mas\u001b[0m \u001b[0me\u001b[0m\u001b[1;33m:\u001b[0m\u001b[1;33m\u001b[0m\u001b[0m\n",
      "\u001b[1;32m/global/project/projectdirs/metatlas/anaconda/lib/python2.7/site-packages/pymysql/_socketio.pyc\u001b[0m in \u001b[0;36mreadinto\u001b[1;34m(self, b)\u001b[0m\n\u001b[0;32m     57\u001b[0m         \u001b[1;32mwhile\u001b[0m \u001b[0mTrue\u001b[0m\u001b[1;33m:\u001b[0m\u001b[1;33m\u001b[0m\u001b[0m\n\u001b[0;32m     58\u001b[0m             \u001b[1;32mtry\u001b[0m\u001b[1;33m:\u001b[0m\u001b[1;33m\u001b[0m\u001b[0m\n\u001b[1;32m---> 59\u001b[1;33m                 \u001b[1;32mreturn\u001b[0m \u001b[0mself\u001b[0m\u001b[1;33m.\u001b[0m\u001b[0m_sock\u001b[0m\u001b[1;33m.\u001b[0m\u001b[0mrecv_into\u001b[0m\u001b[1;33m(\u001b[0m\u001b[0mb\u001b[0m\u001b[1;33m)\u001b[0m\u001b[1;33m\u001b[0m\u001b[0m\n\u001b[0m\u001b[0;32m     60\u001b[0m             \u001b[1;32mexcept\u001b[0m \u001b[0mtimeout\u001b[0m\u001b[1;33m:\u001b[0m\u001b[1;33m\u001b[0m\u001b[0m\n\u001b[0;32m     61\u001b[0m                 \u001b[0mself\u001b[0m\u001b[1;33m.\u001b[0m\u001b[0m_timeout_occurred\u001b[0m \u001b[1;33m=\u001b[0m \u001b[0mTrue\u001b[0m\u001b[1;33m\u001b[0m\u001b[0m\n",
      "\u001b[1;31mKeyboardInterrupt\u001b[0m: "
     ]
    }
   ],
   "source": [
    "allruns = metob.queryDatabase('lcmsrun',created_by='kblou%')"
   ]
  },
  {
   "cell_type": "code",
   "execution_count": 8,
   "metadata": {
    "collapsed": false
   },
   "outputs": [
    {
     "name": "stdout",
     "output_type": "stream",
     "text": [
      "378\n"
     ]
    }
   ],
   "source": [
    "print len(allruns)"
   ]
  },
  {
   "cell_type": "code",
   "execution_count": 10,
   "metadata": {
    "collapsed": false
   },
   "outputs": [
    {
     "name": "stderr",
     "output_type": "stream",
     "text": [
      ":0: FutureWarning: IPython widgets are experimental and may change in the future.\n"
     ]
    }
   ],
   "source": [
    "myCompound = metob.Compound()\n",
    "myCompound.edit()"
   ]
  },
  {
   "cell_type": "code",
   "execution_count": 14,
   "metadata": {
    "collapsed": true
   },
   "outputs": [],
   "source": [
    "myCompound.store()"
   ]
  },
  {
   "cell_type": "code",
   "execution_count": 15,
   "metadata": {
    "collapsed": false
   },
   "outputs": [
    {
     "name": "stdout",
     "output_type": "stream",
     "text": [
      "[{'InChl': u'InChI=1S/C8H11NO3/c1-5-8(12)7(4-11)6(3-10)2-9-5/h2,10-12H,3-4H2,1H3',\n",
      " 'created': '2015-09-18T18:54:08',\n",
      " 'created_by': u'bpb',\n",
      " 'description': u'The 4-methanol form of VITAMIN B 6 which is converted to PYRIDOXAL PHOSPHATE which is a coenzyme for synthesis of amino acids, neurotransmitters (serotonin, norepinephrine), sphingolipids, aminolevulinic acid. Although pyridoxine and Vitamin B 6 are still frequently used as synonyms, especially by medical researchers, this practice is erroneous and sometimes misleading (EE Snell; Ann NY Acad Sci, vol 585 pg 1, 1990).',\n",
      " 'functional_sets': [],\n",
      " 'last_modified': '2015-09-18T19:01:03',\n",
      " 'modified_by': u'bpb',\n",
      " 'name': u'Pyridoxine',\n",
      " 'prev_unique_id': u'2e1cd5736970490e8712be1e9dcac14b',\n",
      " 'reference_xrefs': [],\n",
      " 'unique_id': u'acd2c36fbd344088bb927b55961f441a'}]\n"
     ]
    }
   ],
   "source": [
    "allCompounds = metob.queryDatabase('Compounds')\n",
    "print allCompounds"
   ]
  },
  {
   "cell_type": "code",
   "execution_count": null,
   "metadata": {
    "collapsed": true
   },
   "outputs": [],
   "source": [
    "myMethod = metob.Method()\n",
    "myMethod.edit()"
   ]
  },
  {
   "cell_type": "code",
   "execution_count": 58,
   "metadata": {
    "collapsed": true
   },
   "outputs": [],
   "source": [
    "# queryDatabase('Atlas',user='curt',description='an atlas')\n",
    "# queryDatabase('group',modified_by='silvest',name='My cool title')"
   ]
  },
  {
   "cell_type": "code",
   "execution_count": 24,
   "metadata": {
    "collapsed": true
   },
   "outputs": [],
   "source": [
    "\n",
    "# myGrade = metob.IdentificationGrade(name='A', description='High intensity and verifiable by MSMS and RT authentic standard')\n",
    "# myGrade.store()\n",
    "# myGrade = metob.IdentificationGrade(name='B', description='Verifiable by MSMS from database or publication')\n",
    "# myGrade.store()\n",
    "# myGrade = metob.IdentificationGrade(name='C', description='Has fragment ion or neutral loss characteristic of a class of compounds')\n",
    "# myGrade.store()\n",
    "# myGrade = metob.IdentificationGrade(name='D', description='Unambiguous chemical formula and adduct')\n",
    "# myGrade.store()\n",
    "# myGrade = metob.IdentificationGrade(name='E', description='Significant feature with MSMS suggestion from MIDAS')\n",
    "# myGrade.store()\n",
    "# myGrade = metob.IdentificationGrade(name='F', description='Unknown feature that is not significant')\n",
    "# myGrade.store()\n"
   ]
  },
  {
   "cell_type": "code",
   "execution_count": 28,
   "metadata": {
    "collapsed": false
   },
   "outputs": [
    {
     "data": {
      "text/plain": [
       "[{'created': '2015-09-18T22:40:44',\n",
       "  'created_by': u'bpb',\n",
       "  'description': u'High intensity and verifiable by MSMS and RT authentic standard',\n",
       "  'last_modified': '2015-09-18T22:40:44',\n",
       "  'modified_by': u'bpb',\n",
       "  'name': u'A',\n",
       "  'prev_unique_id': u'',\n",
       "  'unique_id': u'1f1e6edd1bf84aad96365345e9f6ece3'}]"
      ]
     },
     "execution_count": 28,
     "metadata": {},
     "output_type": "execute_result"
    }
   ],
   "source": [
    "myIDGrade = metob.queryDatabase('IdentificationGrade',name='A')\n",
    "myIDGrade"
   ]
  },
  {
   "cell_type": "code",
   "execution_count": 26,
   "metadata": {
    "collapsed": false
   },
   "outputs": [
    {
     "name": "stdout",
     "output_type": "stream",
     "text": [
      "Demo Atlas (4aa04a7587f34061a48d2d6fa75d9c85)\n",
      "Untitled (6628e404509f4b1093bf0d66cae852ed)\n",
      "R2A Media Positive Mode Hilic (3270d704c3774a269650e7bd2926e611)\n",
      "R2A Media Positive Mode Hilic (1105d024f3834efa96c88dbee11fe873)\n"
     ]
    },
    {
     "data": {
      "text/plain": [
       "{'compound_ids': [],\n",
       " 'created': '2015-09-18T19:25:55',\n",
       " 'created_by': u'bpb',\n",
       " 'description': u'No description',\n",
       " 'last_modified': '2015-09-19T00:24:17',\n",
       " 'modified_by': u'bpb',\n",
       " 'name': u'R2A Media Positive Mode Hilic',\n",
       " 'prev_unique_id': u'24e3b62f79514ece984edcaa4109bb2e',\n",
       " 'unique_id': u'1105d024f3834efa96c88dbee11fe873'}"
      ]
     },
     "execution_count": 26,
     "metadata": {},
     "output_type": "execute_result"
    }
   ],
   "source": [
    "atlases = metob.queryDatabase('Atlas',created_by='bpb')\n",
    "for a in atlases:\n",
    "    print a\n",
    "myAtlas = atlases[3]\n",
    "# print myAtlas\n",
    "myAtlas"
   ]
  },
  {
   "cell_type": "code",
   "execution_count": null,
   "metadata": {
    "collapsed": true
   },
   "outputs": [],
   "source": [
    "# class FragmentationReference(Reference):\n",
    "\n",
    "#     polarity = Enum(POLARITY, 'positive')\n",
    "#     precursor_mz = CFloat()\n",
    "#     mz_intensities = List(Instance(MzIntensityPair),\n",
    "#                           help='list of [mz, intesity] tuples that describe ' +\n",
    "#                                ' a fragmentation spectra')\n",
    "\n",
    "# class MzIntensityPair(MetatlasObject):\n",
    "#     mz = CFloat()\n",
    "#     intensity = CFloat()\n",
    "\n",
    "# @set_docstring\n",
    "# class MzReference(Reference):\n",
    "#     \"\"\"Source of the assertion that a compound has a given m/z and\n",
    "#     other properties directly tied to m/z.\n",
    "#     \"\"\" \n",
    "#     mz = CFloat()\n",
    "#     mz_tolerance = CFloat()\n",
    "#     mz_tolerance_units = Enum(('ppm', 'Da'), 'ppm')\n",
    "#     detected_polarity = Enum(POLARITY, 'positive')\n",
    "#     adduct = CUnicode(help='Optional adduct')\n",
    "#     modification = CUnicode(help='Optional modification')\n",
    "#     observed_formula = CUnicode(help='Optional observed formula')"
   ]
  },
  {
   "cell_type": "code",
   "execution_count": 29,
   "metadata": {
    "collapsed": false
   },
   "outputs": [
    {
     "ename": "NameError",
     "evalue": "name 'myCompound' is not defined",
     "output_type": "error",
     "traceback": [
      "\u001b[1;31m---------------------------------------------------------------------------\u001b[0m",
      "\u001b[1;31mNameError\u001b[0m                                 Traceback (most recent call last)",
      "\u001b[1;32m<ipython-input-29-41346abc5189>\u001b[0m in \u001b[0;36m<module>\u001b[1;34m()\u001b[0m\n\u001b[0;32m      5\u001b[0m \u001b[1;33m\u001b[0m\u001b[0m\n\u001b[0;32m      6\u001b[0m \u001b[1;31m# my_ref.append(metob.FragmentationReference(lcms_run=myRun, RTpeak=2.6, RTmin = 2.0, RTmax = 3.0, RTUnits = 'min'))\u001b[0m\u001b[1;33m\u001b[0m\u001b[1;33m\u001b[0m\u001b[0m\n\u001b[1;32m----> 7\u001b[1;33m \u001b[0mmy_id\u001b[0m \u001b[1;33m=\u001b[0m \u001b[0mmetob\u001b[0m\u001b[1;33m.\u001b[0m\u001b[0mCompoundId\u001b[0m\u001b[1;33m(\u001b[0m\u001b[0mcompound\u001b[0m\u001b[1;33m=\u001b[0m\u001b[0mmyCompound\u001b[0m\u001b[1;33m,\u001b[0m \u001b[0midentification_grade\u001b[0m\u001b[1;33m=\u001b[0m\u001b[0mmyIDGrade\u001b[0m\u001b[1;33m[\u001b[0m\u001b[1;36m0\u001b[0m\u001b[1;33m]\u001b[0m\u001b[1;33m,\u001b[0m \u001b[0mreferences\u001b[0m\u001b[1;33m=\u001b[0m\u001b[0mmy_ref\u001b[0m\u001b[1;33m)\u001b[0m\u001b[1;33m\u001b[0m\u001b[0m\n\u001b[0m\u001b[0;32m      8\u001b[0m \u001b[1;31m# myAtlas = metob.Atlas(name = 'R2A Media Positive Mode Hilic', compounds_ids = [my_id])\u001b[0m\u001b[1;33m\u001b[0m\u001b[1;33m\u001b[0m\u001b[0m\n\u001b[0;32m      9\u001b[0m \u001b[0mmyAtlas\u001b[0m\u001b[1;33m.\u001b[0m\u001b[0mcompound_ids\u001b[0m \u001b[1;33m=\u001b[0m \u001b[1;33m[\u001b[0m\u001b[0mmy_id\u001b[0m\u001b[1;33m]\u001b[0m \u001b[1;31m#TODO: should be compound_identifications\u001b[0m\u001b[1;33m\u001b[0m\u001b[0m\n",
      "\u001b[1;31mNameError\u001b[0m: name 'myCompound' is not defined"
     ]
    }
   ],
   "source": [
    "my_ref = []\n",
    "my_ref.append(metob.RtReference(lcms_run=myRun, RTpeak=2.6, RTmin = 2.0, RTmax = 3.0, RTUnits = 'min'))\n",
    "my_ref.append(metob.MzReference(lcms_run=myRun, mz=170.081169, mz_tolerance=5, mz_tolerance_units='ppm', detected_polarity='positive',adduct='+Proton',modification='',observed_formula='C8H11NO3') ) #TODO: should be neutral formula\n",
    "# metob.FragmentationReference() #TODO: should be the reference to a real spectrum in a file\n",
    "\n",
    "# my_ref.append(metob.FragmentationReference(lcms_run=myRun, RTpeak=2.6, RTmin = 2.0, RTmax = 3.0, RTUnits = 'min'))\n",
    "my_id = metob.CompoundId(compound=myCompound, identification_grade=myIDGrade[0], references=my_ref)\n",
    "# myAtlas = metob.Atlas(name = 'R2A Media Positive Mode Hilic', compounds_ids = [my_id])\n",
    "myAtlas.compound_ids = [my_id] #TODO: should be compound_identifications\n",
    "myAtlas.store()\n"
   ]
  },
  {
   "cell_type": "code",
   "execution_count": 21,
   "metadata": {
    "collapsed": false
   },
   "outputs": [
    {
     "ename": "IndexError",
     "evalue": "list index out of range",
     "output_type": "error",
     "traceback": [
      "\u001b[1;31m---------------------------------------------------------------------------\u001b[0m",
      "\u001b[1;31mIndexError\u001b[0m                                Traceback (most recent call last)",
      "\u001b[1;32m<ipython-input-21-0513b83dfcd2>\u001b[0m in \u001b[0;36m<module>\u001b[1;34m()\u001b[0m\n\u001b[1;32m----> 1\u001b[1;33m \u001b[1;32mprint\u001b[0m \u001b[0mmyAtlas\u001b[0m\u001b[1;33m.\u001b[0m\u001b[0mcompound_ids\u001b[0m\u001b[1;33m[\u001b[0m\u001b[1;36m0\u001b[0m\u001b[1;33m]\u001b[0m\u001b[1;33m.\u001b[0m\u001b[0mcompound\u001b[0m\u001b[1;33m.\u001b[0m\u001b[0mname\u001b[0m\u001b[1;33m\u001b[0m\u001b[0m\n\u001b[0m\u001b[0;32m      2\u001b[0m \u001b[1;32mprint\u001b[0m \u001b[0mmyAtlas\u001b[0m\u001b[1;33m.\u001b[0m\u001b[0mcompounds_ids\u001b[0m\u001b[1;33m[\u001b[0m\u001b[1;36m0\u001b[0m\u001b[1;33m]\u001b[0m\u001b[1;33m.\u001b[0m\u001b[0mcompound\u001b[0m\u001b[1;33m.\u001b[0m\u001b[0mInChl\u001b[0m \u001b[1;31m#TODO: Change to InChI\u001b[0m\u001b[1;33m\u001b[0m\u001b[0m\n\u001b[0;32m      3\u001b[0m \u001b[1;31m# print myAtlas.compounds_ids[0].identification_grade\u001b[0m\u001b[1;33m\u001b[0m\u001b[1;33m\u001b[0m\u001b[0m\n\u001b[0;32m      4\u001b[0m \u001b[0mrt_ref\u001b[0m \u001b[1;33m=\u001b[0m \u001b[0mmyAtlas\u001b[0m\u001b[1;33m.\u001b[0m\u001b[0mcompounds_ids\u001b[0m\u001b[1;33m[\u001b[0m\u001b[1;36m0\u001b[0m\u001b[1;33m]\u001b[0m\u001b[1;33m.\u001b[0m\u001b[0mreferences\u001b[0m\u001b[1;33m[\u001b[0m\u001b[1;36m0\u001b[0m\u001b[1;33m]\u001b[0m\u001b[1;33m\u001b[0m\u001b[0m\n\u001b[0;32m      5\u001b[0m \u001b[0mmz_ref\u001b[0m \u001b[1;33m=\u001b[0m \u001b[0mmyAtlas\u001b[0m\u001b[1;33m.\u001b[0m\u001b[0mcompounds_ids\u001b[0m\u001b[1;33m[\u001b[0m\u001b[1;36m0\u001b[0m\u001b[1;33m]\u001b[0m\u001b[1;33m.\u001b[0m\u001b[0mreferences\u001b[0m\u001b[1;33m[\u001b[0m\u001b[1;36m1\u001b[0m\u001b[1;33m]\u001b[0m\u001b[1;33m\u001b[0m\u001b[0m\n",
      "\u001b[1;31mIndexError\u001b[0m: list index out of range"
     ]
    }
   ],
   "source": [
    "print myAtlas.compounds_ids[0].compound.name\n",
    "print myAtlas.compounds_ids[0].compound.InChl #TODO: Change to InChI\n",
    "# print myAtlas.compounds_ids[0].identification_grade\n",
    "rt_ref = myAtlas.compounds_ids[0].references[0]\n",
    "mz_ref = myAtlas.compounds_ids[0].references[1]\n",
    "print rt_ref.RTpeak, rt_ref.RTmin, rt_ref.RTmax\n",
    "print mz_ref.mz, mz_ref.mz_tolerance, mz_ref.mz_tolerance_units"
   ]
  },
  {
   "cell_type": "code",
   "execution_count": 13,
   "metadata": {
    "collapsed": false,
    "scrolled": false
   },
   "outputs": [],
   "source": [
    "\n",
    "#TODO: I need to specify a method for these files\n",
    "import glob, os\n",
    "myPath = '/project/projectdirs/metatlas/data_for_metatlas_2/20150504_LPSilva_Actino_HILIC_POS_51isolates'\n",
    "myFiles = glob.glob(os.path.join(myPath,'*.h5'))\n",
    "# print myFiles\n",
    "myItems = []\n",
    "for f in myFiles:\n",
    "    if 'HB42' in f:\n",
    "        myItems.append( metob.LcmsRun(hdf5_file = f) )\n",
    "spentmediaFiles = metob.Group(name='HB42 Spent Medium',description='Spent medium from isolate HB42 grown in R2A and analyzed with hilic positive mode',items=myItems)\n",
    "spentmediaFiles.store()\n",
    "\n",
    "myItems = []\n",
    "for f in myFiles:\n",
    "    if 'R2A' in f:\n",
    "        myItems.append( metob.LcmsRun(hdf5_file = f))\n",
    "mediaFiles = metob.Group(name='Control Medium',description='R2A medium analyzed with hilic positive mode',items=myItems)\n",
    "mediaFiles.store()\n",
    "\n",
    "myExperiment = metob.Group(name='Control vs Spent Medium',\n",
    "                           description='Four replicates of both R2A medium and spent medium from isolate HB42 analyzed with hilic positive mode',\n",
    "                           items=[spentmediaFiles,mediaFiles])\n",
    "myExperiment.store()\n",
    "\n"
   ]
  },
  {
   "cell_type": "code",
   "execution_count": 14,
   "metadata": {
    "collapsed": false
   },
   "outputs": [
    {
     "name": "stdout",
     "output_type": "stream",
     "text": [
      "Four replicates of both R2A medium and spent medium from isolate HB42 analyzed with hilic positive mode\n",
      "Spent medium from isolate HB42 grown in R2A and analyzed with hilic positive mode\n",
      "/project/projectdirs/metatlas/data_for_metatlas_2/20150504_LPSilva_Actino_HILIC_POS_51isolates/20150424_pHILIC_POS_MSMS_HB42-4.h5\n",
      "R2A medium analyzed with hilic positive mode\n",
      "/project/projectdirs/metatlas/data_for_metatlas_2/20150504_LPSilva_Actino_HILIC_POS_51isolates/20150424_pHILIC_POS_MSMS_R2A-4.h5\n"
     ]
    }
   ],
   "source": [
    "print myExperiment.description\n",
    "print myExperiment.items[0].description\n",
    "print myExperiment.items[0].items[0].hdf5_file\n",
    "print myExperiment.items[1].description\n",
    "print myExperiment.items[1].items[0].hdf5_file\n"
   ]
  },
  {
   "cell_type": "code",
   "execution_count": 126,
   "metadata": {
    "collapsed": false
   },
   "outputs": [],
   "source": [
    "from metatlas import h5_query as h5q"
   ]
  },
  {
   "cell_type": "code",
   "execution_count": 15,
   "metadata": {
    "collapsed": false
   },
   "outputs": [
    {
     "name": "stdout",
     "output_type": "stream",
     "text": [
      "/project/projectdirs/metatlas/data_for_metatlas_2/20150504_LPSilva_Actino_HILIC_POS_51isolates/20150424_pHILIC_POS_MSMS_HB42-4.h5\n"
     ]
    },
    {
     "ename": "NameError",
     "evalue": "name 'mz_ref' is not defined",
     "output_type": "error",
     "traceback": [
      "\u001b[1;31m---------------------------------------------------------------------------\u001b[0m",
      "\u001b[1;31mNameError\u001b[0m                                 Traceback (most recent call last)",
      "\u001b[1;32m<ipython-input-15-022e13776967>\u001b[0m in \u001b[0;36m<module>\u001b[1;34m()\u001b[0m\n\u001b[0;32m      8\u001b[0m                                  \u001b[1;36m1\u001b[0m\u001b[1;33m,\u001b[0m\u001b[1;33m\u001b[0m\u001b[0m\n\u001b[0;32m      9\u001b[0m                                  \u001b[1;36m1\u001b[0m\u001b[1;33m,\u001b[0m\u001b[1;33m\u001b[0m\u001b[0m\n\u001b[1;32m---> 10\u001b[1;33m                                  \u001b[0mmin_mz\u001b[0m \u001b[1;33m=\u001b[0m \u001b[0mmz_ref\u001b[0m\u001b[1;33m.\u001b[0m\u001b[0mmz\u001b[0m \u001b[1;33m-\u001b[0m \u001b[0mmz_ref\u001b[0m\u001b[1;33m.\u001b[0m\u001b[0mmz\u001b[0m\u001b[1;33m*\u001b[0m\u001b[0mmz_ref\u001b[0m\u001b[1;33m.\u001b[0m\u001b[0mmz_tolerance\u001b[0m\u001b[1;33m/\u001b[0m\u001b[1;36m1e6\u001b[0m\u001b[1;33m,\u001b[0m\u001b[1;33m\u001b[0m\u001b[0m\n\u001b[0m\u001b[0;32m     11\u001b[0m                                  \u001b[0mmax_mz\u001b[0m \u001b[1;33m=\u001b[0m \u001b[0mmz_ref\u001b[0m\u001b[1;33m.\u001b[0m\u001b[0mmz\u001b[0m \u001b[1;33m+\u001b[0m \u001b[0mmz_ref\u001b[0m\u001b[1;33m.\u001b[0m\u001b[0mmz\u001b[0m\u001b[1;33m*\u001b[0m\u001b[0mmz_ref\u001b[0m\u001b[1;33m.\u001b[0m\u001b[0mmz_tolerance\u001b[0m\u001b[1;33m/\u001b[0m\u001b[1;36m1e6\u001b[0m\u001b[1;33m,\u001b[0m\u001b[1;33m\u001b[0m\u001b[0m\n\u001b[0;32m     12\u001b[0m                                  \u001b[0mmin_rt\u001b[0m \u001b[1;33m=\u001b[0m \u001b[0mrt_ref\u001b[0m\u001b[1;33m.\u001b[0m\u001b[0mRTmin\u001b[0m\u001b[1;33m,\u001b[0m\u001b[1;33m\u001b[0m\u001b[0m\n",
      "\u001b[1;31mNameError\u001b[0m: name 'mz_ref' is not defined"
     ]
    }
   ],
   "source": [
    "# TODO: reconvert files and use LcmsRun.interact\n",
    "# This was done the old way and won't work anymore\n",
    "data = []\n",
    "for f in myExperiment.items:\n",
    "    for ff in f.items:\n",
    "        print ff.hdf5_file\n",
    "        data.append(h5q.get_data(ff.hdf5_file,\n",
    "                                 1,\n",
    "                                 1,\n",
    "                                 min_mz = mz_ref.mz - mz_ref.mz*mz_ref.mz_tolerance/1e6,\n",
    "                                 max_mz = mz_ref.mz + mz_ref.mz*mz_ref.mz_tolerance/1e6,\n",
    "                                 min_rt = rt_ref.RTmin,\n",
    "                                 max_rt = rt_ref.RTmax,\n",
    "                                 ))"
   ]
  },
  {
   "cell_type": "code",
   "execution_count": null,
   "metadata": {
    "collapsed": true
   },
   "outputs": [],
   "source": []
  },
  {
   "cell_type": "code",
   "execution_count": null,
   "metadata": {
    "collapsed": true
   },
   "outputs": [],
   "source": []
  },
  {
   "cell_type": "code",
   "execution_count": 123,
   "metadata": {
    "collapsed": false
   },
   "outputs": [],
   "source": [
    "# import pandas as pd\n",
    "# atlas_file = '/global/homes/b/bpb/20150804_POS_pHILIC_R2A_Small.txt'\n",
    "# finfo_file = '/global/homes/b/bpb/POS_C18_Actino_FileInfo.txt'\n",
    "\n",
    "# df = pd.read_csv(atlas_file,sep='\\t')\n",
    "# df.fillna('',inplace=True)\n",
    "# comp_list = df.to_dict('records')\n",
    "\n",
    "# df = pd.read_csv(finfo_file,sep='\\t')\n",
    "# df.fillna('',inplace=True)\n",
    "# finfo_list = df.to_dict('records')\n",
    "\n",
    "# print comp_list[0]\n",
    "# # print finfo_list"
   ]
  },
  {
   "cell_type": "code",
   "execution_count": 4,
   "metadata": {
    "collapsed": true
   },
   "outputs": [],
   "source": [
    "# compounds = []\n",
    "# for comp in comp_list:\n",
    "#     compounds.append(metatlas_objects.Compound(name = comp['name'], \n",
    "#                                formula = comp['formula'], \n",
    "#                                adducts = comp['adducts'], \n",
    "#                                mz = comp['mz'], \n",
    "#                                mz_threshold = comp['mz_threshold'],\n",
    "#                                rt_min = comp['rt_min'], \n",
    "#                                rt_max = comp['rt_max'], \n",
    "#                                rt_peak = comp['rt_peak'],\n",
    "#                                neutral_mass = comp['neutral_mass'],\n",
    "#                                pubchem_id = comp['pubchem_id']))"
   ]
  },
  {
   "cell_type": "code",
   "execution_count": null,
   "metadata": {
    "collapsed": true
   },
   "outputs": [],
   "source": []
  }
 ],
 "metadata": {
  "kernelspec": {
   "display_name": "Python 2",
   "language": "python",
   "name": "python2"
  },
  "language_info": {
   "codemirror_mode": {
    "name": "ipython",
    "version": 2
   },
   "file_extension": ".py",
   "mimetype": "text/x-python",
   "name": "python",
   "nbconvert_exporter": "python",
   "pygments_lexer": "ipython2",
   "version": "2.7.10"
  }
 },
 "nbformat": 4,
 "nbformat_minor": 0
}
