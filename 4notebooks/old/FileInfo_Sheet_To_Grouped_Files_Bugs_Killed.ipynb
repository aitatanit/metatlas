{
 "cells": [
  {
   "cell_type": "code",
   "execution_count": 7,
   "metadata": {
    "collapsed": false
   },
   "outputs": [],
   "source": [
    "\n",
    "import sys\n",
    "#sys.path.insert(0,'/global/project/projectdirs/metatlas/anaconda/lib/python2.7/site-packages' )\n",
    "from metatlas import metatlas_objects as metob\n",
    "import qgrid\n",
    "%matplotlib notebook\n",
    "import pandas as pd\n",
    "\n",
    "from metatlas import gui\n",
    "gui.show_experiments()"
   ]
  },
  {
   "cell_type": "code",
   "execution_count": 4,
   "metadata": {
    "collapsed": false
   },
   "outputs": [
    {
     "name": "stdout",
     "output_type": "stream",
     "text": [
      "[{'compound': [{'creation_time': '2015-10-14T18:08:13',\n",
      " 'description': u'http://www.chemicalize.org/structure/#!mol=%5B2H%5DC%28%5B2H%5D%29%28CC%28C%28%3DO%29O%29N%29C%28%5B2H%5D%29%28%5B2H%5D%29CN&source=fp',\n",
      " 'formula': u'C6H14N2O2',\n",
      " 'functional_sets': [],\n",
      " 'head_id': u'fd378d6c413643fe88df4e7bbc0a53c1',\n",
      " 'inchi': u'InChI=1/C6H14N2O2/c7-4-2-1-3-5(8)6(9)10/h5H,1-4,7-8H2,(H,9,10)/i1D2,2D2',\n",
      " 'inchi_key': None,\n",
      " 'last_modified': '2015-10-14T18:08:21',\n",
      " 'mono_isotopic_molecular_weight': 150.13063049316406,\n",
      " 'name': u'd4 lysine',\n",
      " 'neutralized_2d_inchi': None,\n",
      " 'neutralized_2d_inchi_key': None,\n",
      " 'neutralized_inchi': None,\n",
      " 'neutralized_inchi_key': None,\n",
      " 'number_components': None,\n",
      " 'permanent_charge': None,\n",
      " 'prev_uid': u'origin',\n",
      " 'reference_xrefs': [],\n",
      " 'synonyms': u'',\n",
      " 'unique_id': u'fd378d6c413643fe88df4e7bbc0a53c1',\n",
      " 'url': u'',\n",
      " 'username': u'bpb'}],\n",
      " 'creation_time': '2015-11-30T18:57:46',\n",
      " 'description': u'No description',\n",
      " 'frag_references': [],\n",
      " 'head_id': u'2bd981372d5940d5b9b32616f53fb9ae',\n",
      " 'identification_grade': None,\n",
      " 'last_modified': '2015-11-30T18:57:46',\n",
      " 'mz_references': [{'adduct': u'[M+H]+',\n",
      " 'creation_time': '2015-11-30T18:57:46',\n",
      " 'description': u'No description',\n",
      " 'detected_polarity': 'positive',\n",
      " 'enabled': True,\n",
      " 'head_id': u'36d614bbf0c643de8be63e762c59fa6e',\n",
      " 'last_modified': '2015-11-30T18:57:46',\n",
      " 'lcms_run': None,\n",
      " 'modification': u'',\n",
      " 'mz': 151.137906493164,\n",
      " 'mz_tolerance': 15.0,\n",
      " 'mz_tolerance_units': 'ppm',\n",
      " 'name': u'Untitled',\n",
      " 'observed_formula': u'',\n",
      " 'prev_uid': u'origin',\n",
      " 'ref_type': u'',\n",
      " 'unique_id': u'36d614bbf0c643de8be63e762c59fa6e',\n",
      " 'username': u'bpb'}],\n",
      " 'name': u'Untitled',\n",
      " 'prev_uid': u'origin',\n",
      " 'rt_references': [{'creation_time': '2015-11-30T18:57:46',\n",
      " 'description': u'No description',\n",
      " 'enabled': True,\n",
      " 'head_id': u'79e7a3a46e024f3bbe982e58c2754318',\n",
      " 'last_modified': '2015-11-30T18:57:46',\n",
      " 'lcms_run': None,\n",
      " 'name': u'Untitled',\n",
      " 'prev_uid': u'origin',\n",
      " 'ref_type': u'',\n",
      " 'rt_max': 21.15,\n",
      " 'rt_min': 19.5,\n",
      " 'rt_peak': 19.97,\n",
      " 'rt_units': 'min',\n",
      " 'unique_id': u'79e7a3a46e024f3bbe982e58c2754318',\n",
      " 'username': u'bpb'}],\n",
      " 'unique_id': u'2bd981372d5940d5b9b32616f53fb9ae',\n",
      " 'username': u'bpb'}]\n"
     ]
    }
   ],
   "source": [
    "#c = metob.retrieve('Compound',name='%arginine%', username='*')\n",
    "c = metob.retrieve('Atlas', name='%LS%', username='*')\n",
    "#print len(c)\n",
    "#print c[1].name\n",
    "print c[1].compound_identifications\n",
    "x = list()\n",
    "for cc in c:\n",
    "    x.append(cc.compound_identifications)\n",
    "    "
   ]
  },
  {
   "cell_type": "code",
   "execution_count": 3,
   "metadata": {
    "collapsed": false
   },
   "outputs": [
    {
     "data": {
      "text/plain": [
       "151.137906493164"
      ]
     },
     "execution_count": 3,
     "metadata": {},
     "output_type": "execute_result"
    }
   ],
   "source": [
    "for cc in x[1]:\n",
    "    s = cc.mz_references\n",
    "\n",
    "s.mz\n"
   ]
  },
  {
   "cell_type": "code",
   "execution_count": 40,
   "metadata": {
    "collapsed": false
   },
   "outputs": [
    {
     "name": "stdout",
     "output_type": "stream",
     "text": [
      "1970\n"
     ]
    }
   ],
   "source": [
    "#make file info template sheet by selecting a folder:\n",
    "# bpb@edison06:/project/projectdirs/metatlas/raw_data/lpsilva> ls -lta\n",
    "# total 3584\n",
    "# drwxrws--- 17 silvest metatlas 131072 Oct 11 10:18 ..\n",
    "# drwxrws---  2 silvest metatlas 131072 Sep 29 15:30 Actinobacillus test\n",
    "# drwxrws---  2 silvest metatlas 262144 Sep 29 14:13 20150521_LPSilva_Actino_C18_NEG_51isolates\n",
    "# drwxrws---  2 silvest metatlas 262144 Sep 29 13:43 20150514_LPSilva_Actino_C18_POS_51isolates\n",
    "# drwxrws---  2 silvest metatlas 262144 Sep 29 13:09 20150512_LPSilva_Actino_HILIC_NEG_51isolates\n",
    "# drwxrws---  2 silvest metatlas 262144 Sep 29 11:46 20150504_LPSilva_Actino_HILIC_POS_51isolates\n",
    "# files = metob.retrieve('LcmsRun',mzml_file='%katezh/20151016_%')\n",
    "#files = metob.retrieve('LcmsRun',experiment='20160203_KBL-BC_Root-Exudate_Hilic_QExactive_Trial-Run', username='*')\n",
    "\n",
    "files = metob.retrieve('LcmsRun',mzml_file='%_LPSilva_Actino_%_51isolates%', username='*')\n",
    "flist = []\n",
    "for f in files:\n",
    "    flist.append(f.mzml_file)\n",
    "import numpy as np\n",
    "flist = np.unique(flist)\n",
    "print len(flist)\n"
   ]
  },
  {
   "cell_type": "code",
   "execution_count": 41,
   "metadata": {
    "collapsed": false
   },
   "outputs": [
    {
     "data": {
      "text/plain": [
       "{'creation_time': '2015-09-19T21:38:55',\n",
       " 'description': u'20150512_LPSilva_Actino_HILIC_NEG_51isolates 20150502_pHILIC_NEG_MSMS_L2B49-4.mzML',\n",
       " 'experiment': u'20150512_LPSilva_Actino_HILIC_NEG_51isolates',\n",
       " 'hdf5_file': u'/project/projectdirs/metatlas/raw_data/lpsilva/20150512_LPSilva_Actino_HILIC_NEG_51isolates/20150502_pHILIC_NEG_MSMS_L2B49-4.h5',\n",
       " 'head_id': u'002d87307ff243eab8bb19ee45d77da2',\n",
       " 'injection_volume': 0.0,\n",
       " 'injection_volume_units': 'xx',\n",
       " 'last_modified': '2015-12-13T09:50:20',\n",
       " 'method': None,\n",
       " 'mzml_file': u'/project/projectdirs/metatlas/raw_data/lpsilva/20150512_LPSilva_Actino_HILIC_NEG_51isolates/20150502_pHILIC_NEG_MSMS_L2B49-4.mzML',\n",
       " 'name': u'20150502_pHILIC_NEG_MSMS_L2B49-4.mzML',\n",
       " 'prev_uid': u'3db77276c3dc4ebda4f1d045f22554e6',\n",
       " 'sample': None,\n",
       " 'unique_id': u'002d87307ff243eab8bb19ee45d77da2',\n",
       " 'username': u'lpsilva'}"
      ]
     },
     "execution_count": 41,
     "metadata": {},
     "output_type": "execute_result"
    }
   ],
   "source": [
    "files[0]"
   ]
  },
  {
   "cell_type": "code",
   "execution_count": 4,
   "metadata": {
    "collapsed": true
   },
   "outputs": [],
   "source": [
    "#dump all the files to a spreadheet, download it, and make a \"filled in\" one.\n",
    "with open('FileInfo_Sheet_Unique_20160203_KBL-BC_Root-Exudate_Hilic_QExactive_Trial-Run.tab','w') as fid:\n",
    "    fid.write('mzml_file\\tgroup\\tdescription\\n')\n",
    "    for f in flist:\n",
    "        fid.write('%s\\t\\t\\n'%f)\n"
   ]
  },
  {
   "cell_type": "code",
   "execution_count": 5,
   "metadata": {
    "collapsed": false
   },
   "outputs": [
    {
     "data": {
      "text/html": [
       "<div>\n",
       "<table border=\"1\" class=\"dataframe\">\n",
       "  <thead>\n",
       "    <tr style=\"text-align: right;\">\n",
       "      <th></th>\n",
       "      <th>mzml_file</th>\n",
       "      <th>group</th>\n",
       "      <th>description</th>\n",
       "    </tr>\n",
       "  </thead>\n",
       "  <tbody>\n",
       "    <tr>\n",
       "      <th>0</th>\n",
       "      <td>/global/project/projectdirs/metatlas/raw_data/...</td>\n",
       "      <td>20160203_KBL-BC_Root-Exudate_Hilic_QExactive_T...</td>\n",
       "      <td>NaN</td>\n",
       "    </tr>\n",
       "    <tr>\n",
       "      <th>1</th>\n",
       "      <td>/global/project/projectdirs/metatlas/raw_data/...</td>\n",
       "      <td>20160203_KBL-BC_Root-Exudate_Hilic_QExactive_T...</td>\n",
       "      <td>NaN</td>\n",
       "    </tr>\n",
       "  </tbody>\n",
       "</table>\n",
       "</div>"
      ],
      "text/plain": [
       "                                           mzml_file  \\\n",
       "0  /global/project/projectdirs/metatlas/raw_data/...   \n",
       "1  /global/project/projectdirs/metatlas/raw_data/...   \n",
       "\n",
       "                                               group  description  \n",
       "0  20160203_KBL-BC_Root-Exudate_Hilic_QExactive_T...          NaN  \n",
       "1  20160203_KBL-BC_Root-Exudate_Hilic_QExactive_T...          NaN  "
      ]
     },
     "execution_count": 5,
     "metadata": {},
     "output_type": "execute_result"
    }
   ],
   "source": [
    "#Download the fileinfo sheet and fill it in!\n",
    "df = pd.read_csv('FileInfo_Sheet_Unique_20160203_KBL-BC_Root-Exudate_Hilic_QExactive_Trial-Run.tab',sep='\\t')\n",
    "df"
   ]
  },
  {
   "cell_type": "code",
   "execution_count": 6,
   "metadata": {
    "collapsed": false
   },
   "outputs": [],
   "source": [
    "grouped = df.groupby(by='group')\n",
    "# list(grouped)"
   ]
  },
  {
   "cell_type": "code",
   "execution_count": 16,
   "metadata": {
    "collapsed": false
   },
   "outputs": [
    {
     "data": {
      "text/plain": [
       "['20160126_KBL_PS_plant_violacein_VioStdpt00001ugml',\n",
       " '20160126_KBL_PS_plant_violacein_VioStdpt00005ugml']"
      ]
     },
     "execution_count": 16,
     "metadata": {},
     "output_type": "execute_result"
    }
   ],
   "source": [
    "grouped.groups.keys()"
   ]
  },
  {
   "cell_type": "code",
   "execution_count": 17,
   "metadata": {
    "collapsed": false
   },
   "outputs": [],
   "source": [
    "# metob.retrieve('LcmsRun',mzml_file='%0150115_pHILIC_NEG_MSMS_R2A-1An%',username='*')"
   ]
  },
  {
   "cell_type": "code",
   "execution_count": 7,
   "metadata": {
    "collapsed": false
   },
   "outputs": [],
   "source": [
    "for g in grouped.groups.keys():\n",
    "    indices = grouped.groups[g]\n",
    "    myGroup = metob.Group()\n",
    "    myGroup.name = '%s'%g\n",
    "    myGroup.description = df.loc[indices[0],'description']\n",
    "    file_set = []\n",
    "    for i in indices:\n",
    "        file_set.append(metob.retrieve('LcmsRun',mzml_file='%%%s'%df.loc[i,'mzml_file'],username='*')[0])\n",
    "    myGroup.items = file_set\n",
    "    metob.store(myGroup)"
   ]
  },
  {
   "cell_type": "code",
   "execution_count": 19,
   "metadata": {
    "collapsed": false
   },
   "outputs": [
    {
     "name": "stdout",
     "output_type": "stream",
     "text": [
      "20\n",
      "ACN_50mmAgC18_QExactive_20160126_KBL_PS_plant_violacein_VioStdpt1ugml\n",
      "20150819_C18_ACN_POS_MSMS_Vio_pt1ugmL.mzML\n",
      " \n",
      "ACN_50mmAgC18_QExactive_20160126_KBL_PS_plant_violacein_VioStdpt05ugml\n",
      "20150819_C18_ACN_POS_MSMS_Vio_pt05ugmL.mzML\n",
      " \n",
      "ACN_50mmAgC18_QExactive_20160126_KBL_PS_plant_violacein_WT\n",
      "20141107_1_WT_C18_POS_MSMS_ACN_vioplant.mzML\n",
      " \n",
      "ACN_50mmAgC18_QExactive_20160126_KBL_PS_plant_violacein_VioStd5ugml\n",
      "20150819_C18_ACN_POS_MSMS_Vio_5ugmL.mzML\n",
      " \n",
      "ACN_50mmAgC18_QExactive_20160126_KBL_PS_plant_violacein_VioStdpt005ugml\n",
      "20150819_C18_ACN_POS_MSMS_Vio_pt005ugmL.mzML\n",
      " \n",
      "ACN_50mmAgC18_QExactive_20160126_KBL_PS_plant_violacein_VioTrp5\n",
      "20141107_4_VioTrp5_C18_POS_MSMS_ACN_vioplant.mzML\n",
      " \n",
      "ACN_50mmAgC18_QExactive_20160126_KBL_PS_plant_violacein_Vio\n",
      "20141107_3_vio_C18_POS_MSMS_ACN_vioplant.mzML\n",
      " \n",
      "ACN_50mmAgC18_QExactive_20160126_KBL_PS_plant_violacein_VioStd10ugml\n",
      "20150819_C18_ACN_POS_MSMS_Vio_10ugmL.mzML\n",
      " \n",
      "ACN_50mmAgC18_QExactive_20160126_KBL_PS_plant_violacein_VioStdpt001ugml\n",
      "20150819_C18_ACN_POS_MSMS_Vio_pt001ugmL.mzML\n",
      " \n",
      "ACN_50mmAgC18_QExactive_20160126_KBL_PS_plant_violacein_VioStdpt5ugml\n",
      "20150819_C18_ACN_POS_MSMS_Vio_pt5ugmL.mzML\n",
      " \n",
      "ACN_50mmAgC18_QExactive_20160126_KBL_PS_plant_violacein_VioStd1ugml\n",
      "20150819_C18_ACN_POS_MSMS_Vio_1ugmL.mzML\n",
      " \n",
      "ACN_50mmAgC18_QExactive_20160126_KBL_PS_plant_violacein_VioPlantEx\n",
      "20150819_C18_ACN_POS_MSMS_VioPlant_1_Aug.mzML\n",
      "20150819_C18_ACN_POS_MSMS_VioPlant_2_Aug.mzML\n",
      "20150819_C18_ACN_POS_MSMS_VioPlant_3_Aug.mzML\n",
      "20150819_C18_ACN_POS_MSMS_VioPlant_4_Aug.mzML\n",
      "20150819_C18_ACN_POS_MSMS_VioPlant_5_Aug.mzML\n",
      " \n",
      "ACN_50mmAgC18_QExactive_20160126_KBL_PS_plant_violacein_VioStdpt01ugml\n",
      "20150819_C18_ACN_POS_MSMS_Vio_pt01ugmL.mzML\n",
      " \n",
      "ACN_50mmAgC18_QExactive_20160126_KBL_PS_plant_violacein_OldVioPlantEx\n",
      "20150819_C18_ACN_POS_MSMS_VioPlant_6_Aug.mzML\n",
      " \n",
      "ACN_50mmAgC18_QExactive_20160126_KBL_PS_plant_violacein_OldWTPlantEx\n",
      "20150819_C18_ACN_POS_MSMS_VioPlant_7_Aug.mzML\n",
      " \n",
      "ACN_50mmAgC18_QExactive_20160126_KBL_PS_plant_violacein_Trp5\n",
      "20141107_2_trp5_C18_POS_MSMS_ACN_vioplant.mzML\n",
      " \n",
      "ACN_50mmAgC18_QExactive_20160126_KBL_PS_plant_violacein_VioStdpt0001ugml\n",
      "20150819_C18_ACN_POS_MSMS_Vio_pt0001ugmL.mzML\n",
      " \n",
      "ACN_50mmAgC18_QExactive_20160126_KBL_PS_plant_violacein_VioStdpt0005ugml\n",
      "20150819_C18_ACN_POS_MSMS_Vio_pt0005ugmL.mzML\n",
      " \n",
      "ACN_50mmAgC18_QExactive_20160126_KBL_PS_plant_violacein_VioStdpt00001ugml\n",
      "20150819_C18_ACN_POS_MSMS_Vio_pt00001ugmL.mzML\n",
      " \n",
      "ACN_50mmAgC18_QExactive_20160126_KBL_PS_plant_violacein_VioStdpt00005ugml\n",
      "20150819_C18_ACN_POS_MSMS_Vio_pt00005ugmL.mzML\n",
      " \n"
     ]
    }
   ],
   "source": [
    "g = metob.retrieve('Groups',name = '%_KBL_PS_%')\n",
    "print len(g)\n",
    "for gg in g:\n",
    "    print gg.name\n",
    "    for i in gg.items:\n",
    "        print i.name\n",
    "    print \" \""
   ]
  },
  {
   "cell_type": "code",
   "execution_count": null,
   "metadata": {
    "collapsed": true
   },
   "outputs": [],
   "source": []
  },
  {
   "cell_type": "code",
   "execution_count": null,
   "metadata": {
    "collapsed": true
   },
   "outputs": [],
   "source": []
  }
 ],
 "metadata": {
  "kernelspec": {
   "display_name": "Python 2",
   "language": "python",
   "name": "python2"
  },
  "language_info": {
   "codemirror_mode": {
    "name": "ipython",
    "version": 2
   },
   "file_extension": ".py",
   "mimetype": "text/x-python",
   "name": "python",
   "nbconvert_exporter": "python",
   "pygments_lexer": "ipython2",
   "version": "2.7.11"
  }
 },
 "nbformat": 4,
 "nbformat_minor": 0
}
