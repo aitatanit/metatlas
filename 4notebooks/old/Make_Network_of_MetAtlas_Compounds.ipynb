{
 "cells": [
  {
   "cell_type": "code",
   "execution_count": 1,
   "metadata": {
    "collapsed": false
   },
   "outputs": [],
   "source": [
    "import sys,os\n",
    "sys.path.insert(0,'/global/project/projectdirs/metatlas/anaconda/lib/python2.7/site-packages' )\n",
    "from metatlas import metatlas_objects as metob\n",
    "import csv\n",
    "\n",
    "\n",
    "curr_ld_lib_path = ''\n",
    "\n",
    "os.environ['LD_LIBRARY_PATH'] = curr_ld_lib_path + ':/project/projectdirs/openmsi/jupyterhub_libs/boost_1_55_0/lib' + ':/project/projectdirs/openmsi/jupyterhub_libs/lib'\n",
    "import sys\n",
    "# sys.path.remove('/anaconda/lib/python2.7/site-packages')\n",
    "sys.path.append('/global/project/projectdirs/openmsi/jupyterhub_libs/anaconda/lib/python2.7/site-packages')\n",
    "sys.path.insert(0,'/project/projectdirs/openmsi/projects/meta-iq/pactolus/pactolus' )\n",
    "\n",
    "from rdkit import Chem\n",
    "# from rdkit.Chem.rdMolDescriptors import ExactMolWt\n",
    "from rdkit.Chem import Descriptors\n",
    "from rdkit.Chem import rdMolDescriptors\n",
    "from rdkit.Chem import AllChem\n",
    "from rdkit.Chem.Fingerprints import FingerprintMols\n",
    "from rdkit.Chem import Draw\n",
    "\n",
    "from rdkit import DataStructs\n",
    "import numpy as np\n",
    "\n",
    "from matplotlib import pylab as plt\n",
    "\n",
    "%matplotlib inline\n",
    "%config InlineBackend.figure_format = 'retina'\n",
    "\n",
    "import networkx as nx\n"
   ]
  },
  {
   "cell_type": "code",
   "execution_count": 2,
   "metadata": {
    "collapsed": false
   },
   "outputs": [
    {
     "name": "stdout",
     "output_type": "stream",
     "text": [
      "11871\n"
     ]
    }
   ],
   "source": [
    "allCompounds = metob.retrieve('Compounds')\n",
    "print len(allCompounds)"
   ]
  },
  {
   "cell_type": "code",
   "execution_count": 11,
   "metadata": {
    "collapsed": false
   },
   "outputs": [
    {
     "name": "stdout",
     "output_type": "stream",
     "text": [
      "glycyl-AMP (10f07f882af14292bd6b7e725ac6082e)\n",
      "L-threonyl-AMP (18b07b153dcf429c8827952edde92b37)\n",
      "2-hydroxy-dAMP (3b6ea909ce1041ee863c476b9d936534)\n",
      "AMP-Mor (45449ed9a0c74a07a8a38a703354e8ed)\n",
      "1-(5-phospho-&beta;-D-ribosyl)-AMP (4faa68f98f3a499c9edde95663f4e2b9)\n",
      "linoleyl-AMP (60439034c9864043b783aa09676925ea)\n",
      "lipol-AMP (62ad67ef79b64b7d82ff2edeb17da61e)\n",
      "2-iodo-L-isoleucine-NHSO<sub>2</sub>-AMP (76c96a776ced401e8176055a3a284b85)\n",
      "3'-amino-3'-deoxyAMP (7b7981ccd9564aed8ca4af175a1ff4cd)\n",
      "dAMP (7e89e193408840e4ace0a0ad76555579)\n",
      "AMP-PCP (7f263779c884467eb80551297b34eaca)\n",
      "http://metacyc.org/META/NEW-IMAGE?type=COMPOUND&object=AMP (818b5d47fa604be6ba997ecdb7ba27f0)\n",
      "AMPPNP (8826c772513b414aa5fa039246c65306)\n",
      "AMP-lysine (a13a2645de4544298b9da5bda09daf87)\n",
      "8-oxo-dAMP (db4e69dbffea4225889fd922e7bffd22)\n",
      "acetyl AMP (f5d5b1563e814e89b61230b1300d1bbd)\n",
      "cyclic-AMP (f67cedae81134c36bbb91907c782b99e)\n"
     ]
    }
   ],
   "source": [
    "for c in allCompounds:\n",
    "    if 'AMP' in c.name:\n",
    "        print c"
   ]
  },
  {
   "cell_type": "code",
   "execution_count": 3,
   "metadata": {
    "collapsed": false
   },
   "outputs": [
    {
     "data": {
      "text/plain": [
       "{'InChI': u'InChI=1S/C15H24/c1-11(2)13-8-9-14-7-5-6-12(3)15(14,4)10-13/h7,12-13H,1,5-6,8-10H2,2-4H3/t12-,13-,15-/m1/s1',\n",
       " 'MonoIsotopic_molecular_weight': 204.188,\n",
       " 'creation_time': '2015-10-08T17:37:27',\n",
       " 'description': u'',\n",
       " 'formula': u'C15H24',\n",
       " 'functional_sets': [],\n",
       " 'last_modified': '2015-10-08T17:38:13',\n",
       " 'name': u'(-)-4-epieremophilene',\n",
       " 'prev_uid': u'',\n",
       " 'reference_xrefs': [],\n",
       " 'synonyms': u'',\n",
       " 'unique_id': u'0005ec9d4a8e4f1c9bd7cdee585a1ebc',\n",
       " 'url': u'',\n",
       " 'username': u'bpb'}"
      ]
     },
     "execution_count": 3,
     "metadata": {},
     "output_type": "execute_result"
    }
   ],
   "source": [
    "allCompounds[0]"
   ]
  },
  {
   "cell_type": "code",
   "execution_count": 44,
   "metadata": {
    "collapsed": false
   },
   "outputs": [],
   "source": [
    "#Store the necessary data from the metatlas database for each compound\n",
    "myNames = [x.name for x in allCompounds]\n",
    "myMW = [x.MonoIsotopic_molecular_weight for x in allCompounds]\n",
    "myformula = [x.formula for x in allCompounds]\n",
    "myID = [x.unique_id for x in allCompounds]\n",
    "\n",
    "# Convert each InChI to an RDKit molecule\n",
    "myMols = [Chem.MolFromInchi(str(x.InChI)) for x in allCompounds]\n",
    "\n",
    "# Calculate Chemical Fingerprints\n",
    "# fps = [FingerprintMols.FingerprintMol(x) for x in myMols]\n",
    "\n",
    "# Calculate Chemical Fingerprints Using Fixed BitLength\n",
    "N = 2048\n",
    "fps = [FingerprintMols.FingerprintMol(x,minPath=1,maxPath=7,fpSize=N,bitsPerHash=2,useHs=True,tgtDensity=0,minSize=N,branchedPaths=True,\n",
    "                                     useBondOrder=True,atomInvariants=[],fromAtoms=[],atomBits=[]) for x in myMols]"
   ]
  },
  {
   "cell_type": "code",
   "execution_count": 19,
   "metadata": {
    "collapsed": false
   },
   "outputs": [],
   "source": [
    "fp_mat = np.zeros((len(fps),N))\n",
    "for i,f in enumerate(fps):\n",
    "    for j in range(N):\n",
    "        fp_mat[i,j] = float(DataStructs.BitVectToText(fps[i])[j])"
   ]
  },
  {
   "cell_type": "code",
   "execution_count": 20,
   "metadata": {
    "collapsed": false
   },
   "outputs": [
    {
     "name": "stdout",
     "output_type": "stream",
     "text": [
      "(11862, 2048)\n"
     ]
    }
   ],
   "source": [
    "print fp_mat.shape"
   ]
  },
  {
   "cell_type": "code",
   "execution_count": 24,
   "metadata": {
    "collapsed": true
   },
   "outputs": [],
   "source": [
    "from scipy.spatial.distance import pdist\n",
    "from scipy.cluster.hierarchy import linkage\n",
    "from scipy.cluster.hierarchy import fcluster\n",
    "dists = pdist(fp_mat[:,:],'cityblock')"
   ]
  },
  {
   "cell_type": "code",
   "execution_count": 26,
   "metadata": {
    "collapsed": false
   },
   "outputs": [],
   "source": [
    "from scipy.spatial.distance import squareform\n",
    "pd = squareform(dists)"
   ]
  },
  {
   "cell_type": "code",
   "execution_count": 25,
   "metadata": {
    "collapsed": false
   },
   "outputs": [],
   "source": [
    "\n",
    "# Y = linkage(dists, method='average')\n",
    "# cutoff = 0\n",
    "# metClusterIDs = fcluster(Y,cutoff,criterion='distance')\n",
    "# print len(np.unique(metClusterIDs))\n"
   ]
  },
  {
   "cell_type": "code",
   "execution_count": null,
   "metadata": {
    "collapsed": false
   },
   "outputs": [],
   "source": [
    "from rdkit.DataManip import Metric\n",
    "\n",
    "import time\n",
    "start_time = time.time()\n",
    "d = np.zeros((len(fps),len(fps)))\n",
    "for i,fps1 in enumerate(fps):\n",
    "    for j,fps2 in enumerate(fps):\n",
    "        if i<j:\n",
    "            pd[i,j] = DataStructs.FingerprintSimilarity(fps[i],fps[j])\n",
    "\n",
    "### TO\n",
    "# there is something that doesn't make sense with this.\n",
    "# probably row column ordering is different than scipy\n",
    "# d = Metric.GetTanimotoSimMat(fps) \n",
    "# pd = squareform(d)\n",
    "\n",
    "e_time = time.time() - start_time\n",
    "print e_time"
   ]
  },
  {
   "cell_type": "code",
   "execution_count": null,
   "metadata": {
    "collapsed": true
   },
   "outputs": [],
   "source": []
  },
  {
   "cell_type": "code",
   "execution_count": 18,
   "metadata": {
    "collapsed": false
   },
   "outputs": [
    {
     "name": "stdout",
     "output_type": "stream",
     "text": [
      "3-oxo-(11Z)-eicos-11-enoyl-CoA   chlorophyll b 0.62623120788\n",
      "1.0\n"
     ]
    }
   ],
   "source": [
    "idx1 = 2945\n",
    "idx2 = 168\n",
    "test_d = DataStructs.FingerprintSimilarity(fps[idx1],fps[idx2])\n",
    "print myNames[idx1],\" \",myNames[idx2], test_d\n",
    "print pd[idx1,idx2]\n"
   ]
  },
  {
   "cell_type": "code",
   "execution_count": 46,
   "metadata": {
    "collapsed": false
   },
   "outputs": [],
   "source": [
    "# s = np.sum(pd==0.0,1)\n",
    "# idx1 = np.argsort(s)[::-1]\n",
    "\n",
    "# checker = 0+18\n",
    "\n",
    "# print idx1[checker], myNames[idx1[checker]]\n",
    "# idx2 = np.argwhere(pd[idx1[checker],:]==0.0)\n",
    "# for i,idx in enumerate(idx2):\n",
    "#     print i, idx, myNames[idx], pd[checker,idx],pd[idx1[checker],idx[0]]\n",
    "# #     idx2 = np.argwhere(pd[i,:]>=1)\n",
    "# #     for j in idx2:\n",
    "# #         print i,j,myNames[j],pd[i,j]"
   ]
  },
  {
   "cell_type": "markdown",
   "metadata": {},
   "source": [
    "#Identify sets of compounds that are identical by Tanimoto coefficient"
   ]
  },
  {
   "cell_type": "code",
   "execution_count": 142,
   "metadata": {
    "collapsed": false
   },
   "outputs": [],
   "source": [
    "fid = open('MetAtlas_Network_unity.tab','w')\n",
    "for i in range(pd.shape[0]):\n",
    "    for j in range(pd.shape[1]):\n",
    "        if i<j:\n",
    "            if pd[i,j]==1:\n",
    "                fid.write('\"#%d %s\"\\t\"#%d %s\"\\t%5.5f\\n' % (i,\n",
    "                                                           myNames[i],\n",
    "                                                           j,\n",
    "                                                           myNames[j],\n",
    "                                                           pd[i,j]))\n",
    "#         print i, idx, myNames[idx], pd[checker,idx],pd[idx1[checker],idx[0]]\n",
    "#     pd_row = pd[i,:]\n",
    "#     m = np.max(pd_row)\n",
    "#     if m==1:\n",
    "#     idx = np.argwhere( pd_row == 1.0 )\n",
    "#     for j in idx:\n",
    "#         if j!=i:\n",
    "#             fid.write('\"%d%s\"\\t\"%d%s\"\\t%5.5f\\n' % (i,myNames[i],j,myNames[j],pd_row[j]))\n",
    "fid.close()"
   ]
  },
  {
   "cell_type": "markdown",
   "metadata": {},
   "source": [
    "#Make network of most similar metabolites"
   ]
  },
  {
   "cell_type": "code",
   "execution_count": 48,
   "metadata": {
    "collapsed": true
   },
   "outputs": [],
   "source": [
    "fid = open('MetAtlas_Network_Similar.tab','w')\n",
    "for i in range(pd.shape[0]):\n",
    "    temp = pd[i,0:i]\n",
    "    if len(temp)>1:\n",
    "        m = min(temp)\n",
    "        if m<100000:\n",
    "            for j in range(i-1):\n",
    "                if pd[i,j]==m:\n",
    "                    fid.write('\"#%d %s %5.4f %s\"\\t\"#%d %s %5.4f %s\"\\t%5.5f\\n' % (i,\n",
    "                                                                                 myformula[i],\n",
    "                                                                                 myMW[i],\n",
    "                                                                                 myNames[i],\n",
    "                                                                                 j,\n",
    "                                                                                 myformula[j],\n",
    "                                                                                 myMW[j],\n",
    "                                                                                 myNames[j],\n",
    "                                                                                 pd[i,j]))\n",
    "    \n",
    "#     m = max(pd[i,:])\n",
    "# #     if m == 1:\n",
    "#     for j in range(pd.shape[1]):\n",
    "#         if i<j:\n",
    "#             if pd[i,j]==m:\n",
    "#                 fid.write('\"#%d %s %5.4f %s\"\\t\"#%d %s %5.4f %s\"\\t%5.5f\\n' % (i,\n",
    "#                                                                                  myformula[i],\n",
    "#                                                                                  myMW[i],\n",
    "#                                                                                  myNames[i],\n",
    "#                                                                                  j,\n",
    "#                                                                                  myformula[j],\n",
    "#                                                                                  myMW[j],\n",
    "#                                                                                  myNames[j],\n",
    "#                                                                                  pd[i,j]))\n",
    "#         print i, idx, myNames[idx], pd[checker,idx],pd[idx1[checker],idx[0]]\n",
    "#     pd_row = pd[i,:]\n",
    "#     m = np.max(pd_row)\n",
    "#     if m==1:\n",
    "#     idx = np.argwhere( pd_row == 1.0 )\n",
    "#     for j in idx:\n",
    "#         if j!=i:\n",
    "#             fid.write('\"%d%s\"\\t\"%d%s\"\\t%5.5f\\n' % (i,myNames[i],j,myNames[j],pd_row[j]))\n",
    "fid.close()"
   ]
  },
  {
   "cell_type": "code",
   "execution_count": 45,
   "metadata": {
    "collapsed": false
   },
   "outputs": [],
   "source": [
    "fid = open('Tanimoto_2048_MetAtlas_Network_Cutoff_Min_Match_100.tab','w')\n",
    "for i in range(pd.shape[0]):\n",
    "    temp = pd[i,0:i]\n",
    "    if len(temp)>1:\n",
    "        m = min(temp)\n",
    "        if m<100:\n",
    "            for j in range(i-1):\n",
    "                if pd[i,j]==m:\n",
    "                    fid.write('\"#%d %s %5.4f %s\"\\t\"#%d %s %5.4f %s\"\\t%5.5f\\n' % (i,\n",
    "                                                                                 myformula[i],\n",
    "                                                                                 myMW[i],\n",
    "                                                                                 myNames[i],\n",
    "                                                                                 j,\n",
    "                                                                                 myformula[j],\n",
    "                                                                                 myMW[j],\n",
    "                                                                                 myNames[j],\n",
    "                                                                                 pd[i,j]))\n",
    "#         print i, idx, myNames[idx], pd[checker,idx],pd[idx1[checker],idx[0]]\n",
    "#     pd_row = pd[i,:]\n",
    "#     m = np.max(pd_row)\n",
    "#     if m==1:\n",
    "#     idx = np.argwhere( pd_row == 1.0 )\n",
    "#     for j in idx:\n",
    "#         if j!=i:\n",
    "#             fid.write('\"%d%s\"\\t\"%d%s\"\\t%5.5f\\n' % (i,myNames[i],j,myNames[j],pd_row[j]))\n",
    "fid.close()"
   ]
  },
  {
   "cell_type": "code",
   "execution_count": null,
   "metadata": {
    "collapsed": true
   },
   "outputs": [],
   "source": []
  },
  {
   "cell_type": "code",
   "execution_count": 138,
   "metadata": {
    "collapsed": false
   },
   "outputs": [
    {
     "name": "stdout",
     "output_type": "stream",
     "text": [
      "[1522] 650\n",
      "(array([1522]),)\n",
      "[1522]\n",
      "(+)-valencene\n",
      "(-)-4-epieremophilene\n"
     ]
    }
   ],
   "source": [
    "print i,j\n",
    "pd.shape[0]\n",
    "idx2 = np.where(pd[0,:]==1.0)\n",
    "print idx2\n",
    "for i in idx2:\n",
    "    print i\n",
    "    print myNames[i]\n",
    "    print myNames[0]\n"
   ]
  },
  {
   "cell_type": "code",
   "execution_count": 54,
   "metadata": {
    "collapsed": false
   },
   "outputs": [
    {
     "data": {
      "application/javascript": [
       "var nb = IPython.notebook;\n",
       "var kernel = IPython.notebook.kernel;\n",
       "var command = \"NOTEBOOK_FULL_PATH = '\" + nb.base_url + nb.notebook_path + \"'\";\n",
       "kernel.execute(command);"
      ],
      "text/plain": [
       "<IPython.core.display.Javascript object>"
      ]
     },
     "metadata": {},
     "output_type": "display_data"
    }
   ],
   "source": [
    "%%javascript\n",
    "var nb = IPython.notebook;\n",
    "var kernel = IPython.notebook.kernel;\n",
    "var command = \"NOTEBOOK_FULL_PATH = '\" + nb.base_url + nb.notebook_path + \"'\";\n",
    "kernel.execute(command);"
   ]
  },
  {
   "cell_type": "code",
   "execution_count": 58,
   "metadata": {
    "collapsed": false
   },
   "outputs": [
    {
     "name": "stdout",
     "output_type": "stream",
     "text": [
      "http://nbviewer.ipython.org/url/portal.nersc.gov/project/openmsi/Make_Network_of_MetAtlas_Compounds.ipynb?flush_cache=true\n"
     ]
    }
   ],
   "source": [
    "filename = os.path.basename(NOTEBOOK_FULL_PATH)\n",
    "%system cp $filename /project/projectdirs/openmsi/www/\n",
    "temp = '%s/%s'%('/project/projectdirs/openmsi/www',filename)\n",
    "%system chmod 775 $temp\n",
    "print 'http://nbviewer.ipython.org/url/portal.nersc.gov/project/openmsi/%s?flush_cache=true'%filename"
   ]
  },
  {
   "cell_type": "code",
   "execution_count": null,
   "metadata": {
    "collapsed": true
   },
   "outputs": [],
   "source": []
  }
 ],
 "metadata": {
  "kernelspec": {
   "display_name": "Python 2",
   "language": "python",
   "name": "python2"
  },
  "language_info": {
   "codemirror_mode": {
    "name": "ipython",
    "version": 2
   },
   "file_extension": ".py",
   "mimetype": "text/x-python",
   "name": "python",
   "nbconvert_exporter": "python",
   "pygments_lexer": "ipython2",
   "version": "2.7.10"
  }
 },
 "nbformat": 4,
 "nbformat_minor": 0
}
