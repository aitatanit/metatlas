{
 "cells": [
  {
   "cell_type": "code",
   "execution_count": 1,
   "metadata": {
    "collapsed": false
   },
   "outputs": [
    {
     "name": "stdout",
     "output_type": "stream",
     "text": [
      "The history saving thread hit an unexpected error (OperationalError('disk I/O error',)).History will not be written to the database.\n"
     ]
    }
   ],
   "source": [
    "import sys,os\n",
    "sys.path.insert(0,'/global/project/projectdirs/metatlas/anaconda/lib/python2.7/site-packages' )\n",
    "from metatlas import metatlas_objects as metob\n",
    "import csv\n",
    "\n",
    "\n",
    "curr_ld_lib_path = ''\n",
    "\n",
    "os.environ['LD_LIBRARY_PATH'] = curr_ld_lib_path + ':/project/projectdirs/openmsi/jupyterhub_libs/boost_1_55_0/lib' + ':/project/projectdirs/openmsi/jupyterhub_libs/lib'\n",
    "import sys\n",
    "# sys.path.remove('/anaconda/lib/python2.7/site-packages')\n",
    "sys.path.append('/global/project/projectdirs/openmsi/jupyterhub_libs/anaconda/lib/python2.7/site-packages')\n",
    "sys.path.insert(0,'/project/projectdirs/openmsi/projects/meta-iq/pactolus/pactolus' )\n",
    "\n",
    "from rdkit import Chem\n",
    "# from rdkit.Chem.rdMolDescriptors import ExactMolWt\n",
    "from rdkit.Chem import Descriptors\n",
    "from rdkit.Chem import rdMolDescriptors\n",
    "from rdkit.Chem import AllChem\n",
    "from rdkit.Chem.Fingerprints import FingerprintMols\n",
    "from rdkit.Chem import Draw\n",
    "\n",
    "from rdkit import DataStructs\n",
    "import numpy as np\n",
    "\n",
    "from matplotlib import pylab as plt\n",
    "\n",
    "%matplotlib inline\n",
    "%config InlineBackend.figure_format = 'retina'\n",
    "\n",
    "import networkx as nx\n",
    "\n"
   ]
  },
  {
   "cell_type": "code",
   "execution_count": 2,
   "metadata": {
    "collapsed": true
   },
   "outputs": [],
   "source": [
    "# import pickle\n",
    "# with open('save_compound_data_12.pkl', 'rb') as handle:\n",
    "#     compoundData = pickle.load(handle)"
   ]
  },
  {
   "cell_type": "code",
   "execution_count": 2,
   "metadata": {
    "collapsed": false
   },
   "outputs": [
    {
     "name": "stdout",
     "output_type": "stream",
     "text": [
      "15479\n"
     ]
    }
   ],
   "source": [
    "allCompounds = metob.retrieve('Compounds',InchI='InchI%')\n",
    "print len(allCompounds)"
   ]
  },
  {
   "cell_type": "code",
   "execution_count": 3,
   "metadata": {
    "collapsed": false
   },
   "outputs": [],
   "source": [
    "# for c in allCompounds:\n",
    "#     if 'AMP' in c.name:\n",
    "#         print c"
   ]
  },
  {
   "cell_type": "code",
   "execution_count": 3,
   "metadata": {
    "collapsed": false
   },
   "outputs": [
    {
     "data": {
      "text/plain": [
       "{'InChI': u'InChI=1S/C15H24/c1-11(2)13-8-9-14-7-5-6-12(3)15(14,4)10-13/h7,12-13H,1,5-6,8-10H2,2-4H3/t12-,13-,15-/m1/s1',\n",
       " 'MonoIsotopic_molecular_weight': 204.18780517578125,\n",
       " 'creation_time': '2015-10-08T17:37:27',\n",
       " 'description': u'',\n",
       " 'formula': u'C15H24',\n",
       " 'functional_sets': [],\n",
       " 'head_id': u'0005ec9d4a8e4f1c9bd7cdee585a1ebc',\n",
       " 'last_modified': '2015-10-08T17:38:13',\n",
       " 'name': u'(-)-4-epieremophilene',\n",
       " 'prev_uid': u'origin',\n",
       " 'reference_xrefs': [],\n",
       " 'synonyms': u'',\n",
       " 'unique_id': u'0005ec9d4a8e4f1c9bd7cdee585a1ebc',\n",
       " 'url': u'',\n",
       " 'username': u'bpb'}"
      ]
     },
     "execution_count": 3,
     "metadata": {},
     "output_type": "execute_result"
    }
   ],
   "source": [
    "allCompounds[0]"
   ]
  },
  {
   "cell_type": "code",
   "execution_count": 4,
   "metadata": {
    "collapsed": false
   },
   "outputs": [
    {
     "name": "stdout",
     "output_type": "stream",
     "text": [
      "15395\n"
     ]
    }
   ],
   "source": [
    "compoundData = {}\n",
    "compoundData['myName'] = []\n",
    "compoundData['myMW'] = []\n",
    "compoundData['myFormula'] = []\n",
    "compoundData['myID'] = []\n",
    "compoundData['myMol'] = []\n",
    "compoundData['myFingerprint'] = []\n",
    "compoundData['inchi'] = []\n",
    "compoundData['inchikey'] = []\n",
    "\n",
    "N = 2048\n",
    "\n",
    "for i,c in enumerate(allCompounds):\n",
    "    if c.name != None:\n",
    "        m = Chem.MolFromInchi(str(c.inchi))\n",
    "        f = FingerprintMols.FingerprintMol(m,\n",
    "                                     minPath=1,\n",
    "                                     maxPath=7,\n",
    "                                     fpSize=N,\n",
    "                                     bitsPerHash=2,\n",
    "                                     useHs=False,\n",
    "                                     tgtDensity=0,\n",
    "                                     minSize=N,\n",
    "                                     branchedPaths=True,\n",
    "                                     useBondOrder=True,\n",
    "                                     atomInvariants=[],\n",
    "                                     fromAtoms=[],\n",
    "                                     atomBits=[])\n",
    "        if np.sum(f) > 0:\n",
    "            compoundData['myFingerprint'].append(f)\n",
    "            compoundData['myMol'].append(m)\n",
    "            compoundData['myName'].append(c.name)\n",
    "            compoundData['myMW'].append(c.mono_isotopic_molecular_weight)\n",
    "            compoundData['myFormula'].append(c.formula)\n",
    "            compoundData['myID'].append(c.unique_id)\n",
    "print len(compoundData['myFingerprint'])"
   ]
  },
  {
   "cell_type": "code",
   "execution_count": 5,
   "metadata": {
    "collapsed": false
   },
   "outputs": [],
   "source": [
    "compoundData['fingerprint_dists'] = np.zeros((len(compoundData['myFingerprint']),len(compoundData['myFingerprint'])))\n",
    "for i,fps1 in enumerate(compoundData['myFingerprint']):\n",
    "    for j,fps2 in enumerate(compoundData['myFingerprint']):\n",
    "        if i<j:\n",
    "            compoundData['fingerprint_dists'][i,j] = DataStructs.FingerprintSimilarity(fps1,fps2)\n",
    "\n",
    "compoundData['fingerprint_mat'] = np.zeros((len(compoundData['myFingerprint']),N))\n",
    "# norm_fingerprint_mat = np.zeros((len(compoundData['myFingerprint']),N))\n",
    "for i,f in enumerate(compoundData['myFingerprint']):\n",
    "    for j in range(N):\n",
    "        compoundData['fingerprint_mat'][i,j] = float(DataStructs.BitVectToText(compoundData['myFingerprint'][i])[j])\n",
    "\n",
    "import pickle\n",
    "with open('save_compound_data_0_no_Hs.pkl', 'wb') as handle:\n",
    "    pickle.dump(compoundData, handle)"
   ]
  },
  {
   "cell_type": "code",
   "execution_count": 7,
   "metadata": {
    "collapsed": true
   },
   "outputs": [],
   "source": [
    "clusterData = {}\n",
    "\n",
    "# print compoundData['fingerprint_dists'][:4,:4]\n",
    "d = np.triu_indices(compoundData['fingerprint_dists'].shape[0],\n",
    "                    1,\n",
    "                    compoundData['fingerprint_dists'].shape[1])\n",
    "\n",
    "vals = np.zeros(len(d[0]))\n",
    "for i in range(len(d[0])):\n",
    "    vals[i] = 1.0 - compoundData['fingerprint_dists'][d[0][i],d[1][i]]\n",
    "\n",
    "# from scipy.spatial.distance import squareform\n",
    "clusterData['distance'] = vals"
   ]
  },
  {
   "cell_type": "code",
   "execution_count": 11,
   "metadata": {
    "collapsed": false
   },
   "outputs": [
    {
     "data": {
      "text/plain": [
       "2"
      ]
     },
     "execution_count": 11,
     "metadata": {},
     "output_type": "execute_result"
    }
   ],
   "source": [
    "1+1"
   ]
  },
  {
   "cell_type": "code",
   "execution_count": 8,
   "metadata": {
    "collapsed": false
   },
   "outputs": [],
   "source": [
    "with open('save_cluster_data_all_no_Hs.pkl', 'wb') as handle:\n",
    "    pickle.dump(clusterData, handle)"
   ]
  },
  {
   "cell_type": "code",
   "execution_count": 3,
   "metadata": {
    "collapsed": false
   },
   "outputs": [],
   "source": [
    "import pickle\n",
    "with open('save_cluster_data_all_no_Hs.pkl', 'r') as handle:\n",
    "    clusterData = pickle.load(handle)"
   ]
  },
  {
   "cell_type": "code",
   "execution_count": 4,
   "metadata": {
    "collapsed": false
   },
   "outputs": [],
   "source": [
    "\n",
    "\n",
    "# print clusterData['distance'][:4,:4]\n",
    "\n",
    "from scipy.cluster.hierarchy import linkage\n",
    "clusterData['linkage'] = linkage(clusterData['distance'], method='average')\n",
    "\n",
    "\n",
    "with open('save_cluster_data_all_no_Hs.pkl', 'wb') as handle:\n",
    "    pickle.dump(clusterData, handle)"
   ]
  },
  {
   "cell_type": "code",
   "execution_count": 12,
   "metadata": {
    "collapsed": false
   },
   "outputs": [
    {
     "data": {
      "text/plain": [
       "['save_cluster_data_0_no_Hs.pkl',\n",
       " 'save_cluster_data_12.pkl',\n",
       " 'save_cluster_data.pkl',\n",
       " 'save_compound_data_0_no_Hs.pkl',\n",
       " 'save_compound_data_12.pkl',\n",
       " 'save_compound_data.pkl']"
      ]
     },
     "execution_count": 12,
     "metadata": {},
     "output_type": "execute_result"
    }
   ],
   "source": [
    "%system ls *.pkl"
   ]
  },
  {
   "cell_type": "code",
   "execution_count": 54,
   "metadata": {
    "collapsed": false
   },
   "outputs": [
    {
     "data": {
      "application/javascript": [
       "var nb = IPython.notebook;\n",
       "var kernel = IPython.notebook.kernel;\n",
       "var command = \"NOTEBOOK_FULL_PATH = '\" + nb.base_url + nb.notebook_path + \"'\";\n",
       "kernel.execute(command);"
      ],
      "text/plain": [
       "<IPython.core.display.Javascript object>"
      ]
     },
     "metadata": {},
     "output_type": "display_data"
    }
   ],
   "source": [
    "%%javascript\n",
    "var nb = IPython.notebook;\n",
    "var kernel = IPython.notebook.kernel;\n",
    "var command = \"NOTEBOOK_FULL_PATH = '\" + nb.base_url + nb.notebook_path + \"'\";\n",
    "kernel.execute(command);"
   ]
  },
  {
   "cell_type": "code",
   "execution_count": 58,
   "metadata": {
    "collapsed": false
   },
   "outputs": [
    {
     "name": "stdout",
     "output_type": "stream",
     "text": [
      "http://nbviewer.ipython.org/url/portal.nersc.gov/project/openmsi/Make_Network_of_MetAtlas_Compounds.ipynb?flush_cache=true\n"
     ]
    }
   ],
   "source": [
    "filename = os.path.basename(NOTEBOOK_FULL_PATH)\n",
    "%system cp $filename /project/projectdirs/openmsi/www/\n",
    "temp = '%s/%s'%('/project/projectdirs/openmsi/www',filename)\n",
    "%system chmod 775 $temp\n",
    "print 'http://nbviewer.ipython.org/url/portal.nersc.gov/project/openmsi/%s?flush_cache=true'%filename"
   ]
  },
  {
   "cell_type": "code",
   "execution_count": null,
   "metadata": {
    "collapsed": true
   },
   "outputs": [],
   "source": []
  }
 ],
 "metadata": {
  "kernelspec": {
   "display_name": "Python 2",
   "language": "python",
   "name": "python2"
  },
  "language_info": {
   "codemirror_mode": {
    "name": "ipython",
    "version": 2
   },
   "file_extension": ".py",
   "mimetype": "text/x-python",
   "name": "python",
   "nbconvert_exporter": "python",
   "pygments_lexer": "ipython2",
   "version": "2.7.10"
  }
 },
 "nbformat": 4,
 "nbformat_minor": 0
}
