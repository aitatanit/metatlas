{
 "cells": [
  {
   "cell_type": "code",
   "execution_count": 1,
   "metadata": {
    "collapsed": false
   },
   "outputs": [],
   "source": [
    "import sys\n",
    "import os\n",
    "import re\n",
    "\n",
    "%matplotlib notebook\n",
    "# %matplotlib inline\n",
    "%config InlineBackend.figure_format = 'retina'\n",
    "from matplotlib import pylab as plt\n",
    "import sys\n",
    "import glob, os\n",
    "\n",
    "\n",
    "curr_ld_lib_path = ''\n",
    "os.environ['LD_LIBRARY_PATH'] = curr_ld_lib_path + ':/project/projectdirs/openmsi/jupyterhub_libs/boost_1_55_0/lib' + ':/project/projectdirs/openmsi/jupyterhub_libs/lib'\n",
    "import sys\n",
    "# sys.path.remove('/anaconda/lib/python2.7/site-packages')\n",
    "sys.path.append('/global/project/projectdirs/openmsi/jupyterhub_libs/anaconda/lib/python2.7/site-packages')\n",
    "\n",
    "sys.path.insert(0,'/global/project/projectdirs/metatlas/anaconda/lib/python2.7/site-packages' )\n",
    "\n",
    "from metatlas import metatlas_objects as metob\n",
    "from metatlas import h5_query as h5q\n",
    "from metatlas import mzml_to_hdf\n",
    "\n",
    "\n",
    "sys.path.append('/project/projectdirs/openmsi/projects/meta-iq/pactolus/pactolus')\n",
    "\n",
    "import score_frag_dag"
   ]
  },
  {
   "cell_type": "code",
   "execution_count": 14,
   "metadata": {
    "collapsed": false
   },
   "outputs": [],
   "source": [
    "# import seaborn as sns\n",
    "# %matplotlib notebook\n",
    "# # %matplotlib inline\n",
    "# %config InlineBackend.figure_format = 'retina'\n",
    "# from matplotlib import pylab as plt\n",
    "# import sys\n",
    "# sys.path.insert(0,'/global/project/projectdirs/metatlas/anaconda/lib/python2.7/site-packages' )\n",
    "# from metatlas import metatlas_objects as metob\n",
    "# from metatlas import h5_query as h5q\n",
    "# from metatlas import mzml_to_hdf\n",
    "# import glob, os\n"
   ]
  },
  {
   "cell_type": "code",
   "execution_count": 2,
   "metadata": {
    "collapsed": true
   },
   "outputs": [],
   "source": [
    "import tables\n",
    "\n",
    "import numpy as np"
   ]
  },
  {
   "cell_type": "code",
   "execution_count": 3,
   "metadata": {
    "collapsed": false
   },
   "outputs": [
    {
     "name": "stdout",
     "output_type": "stream",
     "text": [
      "[{'creation_time': '2015-09-20T03:35:03',\n",
      " 'description': u'20150914_actinorhodin_finalset_50mm 20150910_C18_MeOH_NEG_MSMS_Scoelicolor_media_Ref_TwoNine_Day3_3of4___Run53.mzML',\n",
      " 'hdf5_file': u'/project/projectdirs/metatlas/raw_data/kblouie/20150914_actinorhodin_finalset_50mm/20150910_C18_MeOH_NEG_MSMS_Scoelicolor_media_Ref_TwoNine_Day3_3of4___Run53.h5',\n",
      " 'head_id': u'ac236419df994a32902c3cd37072d127',\n",
      " 'last_modified': '2015-10-08T18:32:38',\n",
      " 'method': None,\n",
      " 'mzml_file': u'/project/projectdirs/metatlas/raw_data/kblouie/20150914_actinorhodin_finalset_50mm/20150910_C18_MeOH_NEG_MSMS_Scoelicolor_media_Ref_TwoNine_Day3_3of4___Run53.mzML',\n",
      " 'name': u'20150910_C18_MeOH_NEG_MSMS_Scoelicolor_media_Ref_TwoNine_Day3_3of4___Run53.mzML',\n",
      " 'prev_uid': u'origin',\n",
      " 'sample': None,\n",
      " 'unique_id': u'ac236419df994a32902c3cd37072d127',\n",
      " 'username': u'kblouie'}]\n"
     ]
    }
   ],
   "source": [
    "my_run = metob.retrieve('lcmsrun', name='%20150910_C18_MeOH_NEG_MSMS_Scoelicolor_media_Ref_TwoNine_Day3_3of4___Run53%')\n",
    "print my_run"
   ]
  },
  {
   "cell_type": "code",
   "execution_count": 4,
   "metadata": {
    "collapsed": false
   },
   "outputs": [
    {
     "name": "stdout",
     "output_type": "stream",
     "text": [
      "[ 7.5419445   7.5419445   7.5419445   7.5419445   7.5419445   7.5419445\n",
      "  7.5419445   7.5419445   7.5419445   7.5419445   7.5419445   7.5419445\n",
      "  7.5419445   7.5419445   7.5419445   7.5419445   7.5419445   7.5419445\n",
      "  7.5419445   7.5419445   7.5419445   7.5419445   7.5419445   7.5419445\n",
      "  7.5419445   7.5419445   7.5419445   7.5419445   7.5419445   7.5419445\n",
      "  7.5419445   7.5419445   7.5419445   7.5419445   7.5419445   7.5419445\n",
      "  7.5419445   7.5419445   7.5419445   7.5419445   7.5419445   7.5419445\n",
      "  7.5419445   7.5419445   7.5419445   7.5419445   7.72450113  7.72450113\n",
      "  7.72450113  7.72450113  7.72450113  7.72450113  7.72450113  7.72450113\n",
      "  7.72450113  7.72450113  7.72450113  7.72450113  7.72450113  7.72450113\n",
      "  7.72450113  7.72450113  7.72450113  7.72450113  7.72450113  7.72450113\n",
      "  7.72450113  7.72450113  7.72450113  7.72450113  7.72450113  7.72450113\n",
      "  7.72450113  7.72450113  7.72450113  7.72450113  7.72450113  7.72450113\n",
      "  7.72450113]\n"
     ]
    }
   ],
   "source": [
    "with tables.open_file(my_run[0].hdf5_file) as fid:\n",
    "    data = h5q.get_data(fid,2,0,min_rt = 5.1,max_rt = 7.9,min_precursor_MZ=633.12,max_precursor_MZ = 633.2)\n",
    "print data['rt']"
   ]
  },
  {
   "cell_type": "code",
   "execution_count": 5,
   "metadata": {
    "collapsed": false
   },
   "outputs": [],
   "source": [
    "def get_unique_scan_data(data):\n",
    "    \"\"\"\n",
    "    Input:\n",
    "    data - numpy nd array containing MSMS data\n",
    "    \n",
    "    Output:\n",
    "    rt - retention time of scan\n",
    "    pmz - precursor m/z of scan\n",
    "    Both are sorted by descending precursor ion intensity\n",
    "    \n",
    "    for data returned from h5query.get_data(),\n",
    "    return the retention time and precursor m/z\n",
    "    sorted by descending precursor ion intensity\n",
    "    \"\"\"\n",
    "    urt,idx = np.unique(data['rt'],return_index=True)\n",
    "    idx\n",
    "    sx = np.argsort(data['precursor_intensity'][idx])[::-1]\n",
    "    prt = data['rt'][idx[sx]]\n",
    "    pmz = data['precursor_MZ'][idx[sx]]\n",
    "    return prt,pmz\n",
    "\n",
    "\n",
    "def get_non_redundant_precursor_list(prt,pmz,rt_cutoff,mz_cutoff):\n",
    "    \"\"\"\n",
    "    Input:\n",
    "    rt - retention time of scan\n",
    "    pmz - precursor m/z of scan\n",
    "    Both are sorted by descending precursor ion intensity\n",
    "    rt_cutoff - \n",
    "    mz_cutoff - \n",
    "    \n",
    "    Output:\n",
    "    list_of_prt - list of \n",
    "    list_of_pmz - list of \n",
    "    \"\"\"\n",
    "    \n",
    "    list_of_pmz = [] #contains list of precursor m/z [pmz1,pmz2,...,pmz_n]\n",
    "    list_of_prt = [] #contains list of precursor rt [prt1,prt2,...,prt_n]\n",
    "    \n",
    "    for i in range(len(prt)):\n",
    "        if len(list_of_pmz) == 0:\n",
    "            # none are in the list yet; so there is nothing to check\n",
    "            list_of_pmz.append(pmz[i])\n",
    "            list_of_prt.append(prt[i])\n",
    "        else:\n",
    "            # check if new rt qualifies for inclusion\n",
    "            if min(abs(list_of_prt - prt[i])) > rt_cutoff or min(abs(list_of_pmz - pmz[i])) > mz_cutoff:\n",
    "                list_of_pmz.append(pmz[i])\n",
    "                list_of_prt.append(prt[i])\n",
    "    return list_of_prt,list_of_pmz"
   ]
  },
  {
   "cell_type": "code",
   "execution_count": 6,
   "metadata": {
    "collapsed": false
   },
   "outputs": [],
   "source": [
    "prt,pmz = get_unique_scan_data(data)\n",
    "\n",
    "rt_cutoff = 0.23\n",
    "mz_cutoff = 0.05\n",
    "list_of_prt,list_of_pmz = get_non_redundant_precursor_list(prt,pmz,rt_cutoff,mz_cutoff)\n"
   ]
  },
  {
   "cell_type": "code",
   "execution_count": 7,
   "metadata": {
    "collapsed": false
   },
   "outputs": [
    {
     "data": {
      "text/plain": [
       "{'precursor_mz': [633.12708],\n",
       " 'spectra': [array([[  6.02219849e+01,   5.13611426e+03],\n",
       "         [  6.45197067e+01,   5.31844141e+03],\n",
       "         [  6.98501816e+01,   5.67258447e+03],\n",
       "         [  7.65564728e+01,   5.86723633e+03],\n",
       "         [  1.02837791e+02,   6.63435449e+03],\n",
       "         [  1.95310944e+02,   6.94508936e+03],\n",
       "         [  1.95346817e+02,   5.35564795e+03],\n",
       "         [  2.30951797e+02,   6.08355859e+03],\n",
       "         [  2.58053192e+02,   1.16679834e+04],\n",
       "         [  2.59062347e+02,   4.59729961e+04],\n",
       "         [  2.73077271e+02,   7.24596094e+04],\n",
       "         [  2.85077332e+02,   2.16664453e+04],\n",
       "         [  3.07239838e+02,   5.24816797e+03],\n",
       "         [  4.58103638e+02,   4.89963672e+04],\n",
       "         [  4.60081451e+02,   3.66318633e+04],\n",
       "         [  4.66106598e+02,   9.99861328e+03],\n",
       "         [  4.67118042e+02,   7.16287158e+03],\n",
       "         [  4.81088440e+02,   9.08090332e+03],\n",
       "         [  4.83109131e+02,   1.46352406e+05],\n",
       "         [  4.84119049e+02,   8.25898203e+04],\n",
       "         [  4.85128876e+02,   4.34224219e+04],\n",
       "         [  4.86096375e+02,   1.41140562e+05],\n",
       "         [  4.88110260e+02,   1.09656885e+04],\n",
       "         [  4.91111481e+02,   7.50981738e+03],\n",
       "         [  4.98096252e+02,   3.90590703e+04],\n",
       "         [  5.01120361e+02,   2.49719703e+05],\n",
       "         [  5.02124176e+02,   2.99160117e+04],\n",
       "         [  5.03139282e+02,   2.03241855e+04],\n",
       "         [  5.04109619e+02,   7.30114531e+04],\n",
       "         [  5.09125122e+02,   1.39737781e+05],\n",
       "         [  5.12112244e+02,   1.30703898e+05],\n",
       "         [  5.15095886e+02,   1.27436611e+04],\n",
       "         [  5.27135925e+02,   6.96762938e+05],\n",
       "         [  5.30123108e+02,   2.17331531e+05],\n",
       "         [  5.31119324e+02,   6.42012109e+03],\n",
       "         [  5.43092346e+02,   1.09529971e+04],\n",
       "         [  5.45154175e+02,   2.32297984e+05],\n",
       "         [  5.46117981e+02,   6.22249805e+04],\n",
       "         [  5.47124756e+02,   1.38596689e+04],\n",
       "         [  5.48097168e+02,   2.43663344e+05],\n",
       "         [  5.71124634e+02,   1.05528477e+05],\n",
       "         [  5.74113586e+02,   9.96611719e+04],\n",
       "         [  5.89136414e+02,   2.05418075e+06],\n",
       "         [  5.90123657e+02,   4.34102188e+04],\n",
       "         [  6.33126465e+02,   1.17730050e+06],\n",
       "         [  6.34134155e+02,   9.05391094e+04]], dtype=float32)]}"
      ]
     },
     "execution_count": 7,
     "metadata": {},
     "output_type": "execute_result"
    }
   ],
   "source": [
    "#setup data format for searching\n",
    "pactolus_input = {}\n",
    "pactolus_input['spectra'] = []\n",
    "pactolus_input['precursor_mz'] = []\n",
    "for i,(prt,pmz) in enumerate(zip(list_of_prt,list_of_pmz)):\n",
    "    idx = np.argwhere((data['precursor_MZ'] == pmz) & (data['rt'] == prt )).flatten()\n",
    "    arr = np.array([data['mz'][idx], data['i'][idx]]).T\n",
    "    pactolus_input['spectra'].append(arr)\n",
    "    pactolus_input['precursor_mz'].append(pmz)\n",
    "    \n",
    "pactolus_input"
   ]
  },
  {
   "cell_type": "code",
   "execution_count": 8,
   "metadata": {
    "collapsed": false
   },
   "outputs": [
    {
     "data": {
      "image/png": "[encoded data removed]",
      "text/plain": [
       "<matplotlib.figure.Figure at 0x7f86b6180cd0>"
      ]
     },
     "metadata": {
      "image/png": {
       "height": 255,
       "width": 405
      }
     },
     "output_type": "display_data"
    }
   ],
   "source": [
    "%matplotlib inline\n",
    "plt.vlines(pactolus_input['spectra'][0][:,0],\n",
    "           np.zeros(pactolus_input['spectra'][0][:,1].shape),\n",
    "           pactolus_input['spectra'][0][:,1],\n",
    "           color='k',linestyles='solid')\n",
    "plt.show()"
   ]
  },
  {
   "cell_type": "code",
   "execution_count": 10,
   "metadata": {
    "collapsed": false
   },
   "outputs": [
    {
     "name": "stdout",
     "output_type": "stream",
     "text": [
      "[633.12671]\n",
      "[7.6977539]\n"
     ]
    }
   ],
   "source": [
    "# # print data['precursor_MZ']\n",
    "# # print data['rt']\n",
    "# # data['mz']\n",
    "# # data['i']\n",
    "# # data['precursor_MZ']\n",
    "# # idx = np.argsort(data['precursor_intensity'])[::-1]\n",
    "# # data['precursor_intensity'][idx]\n",
    "# # data['collision_energy']\n",
    "print list_of_pmz\n",
    "print list_of_prt\n",
    "# print len(pmz)"
   ]
  },
  {
   "cell_type": "code",
   "execution_count": 71,
   "metadata": {
    "collapsed": false
   },
   "outputs": [],
   "source": [
    "# print len(list_of_pmz_rt)\n",
    "# print list_of_pmz_rt"
   ]
  },
  {
   "cell_type": "code",
   "execution_count": 72,
   "metadata": {
    "collapsed": false
   },
   "outputs": [],
   "source": [
    "# arr = np.array([data['mz'], data['i']]).T\n",
    "# \n",
    "# other_arr = np.array([other_data['mz'], other_data['i']]).T"
   ]
  },
  {
   "cell_type": "code",
   "execution_count": 60,
   "metadata": {
    "collapsed": false
   },
   "outputs": [],
   "source": [
    "# all_my_h5_files = glob.glob('/project/projectdirs/openmsi/projects/pactolus_trees/*VTIKDEXOEJDMJP-WYUUTHIRSA-L*.h5')\n",
    "for f in all_my_h5_files:\n",
    "    if \"VTIKDEXOEJDMJP\" in f:\n",
    "        print f\n",
    "\n"
   ]
  },
  {
   "cell_type": "code",
   "execution_count": 66,
   "metadata": {
    "collapsed": false
   },
   "outputs": [
    {
     "name": "stdout",
     "output_type": "stream",
     "text": [
      "('/project/projectdirs/openmsi/projects/pactolus_trees/FragTreeLibrary_test_hdf5_5_CCDRPBGPIXPGRW-UHFFFAOYSA-N.h5', 634.4080834360016)\n",
      "('/project/projectdirs/openmsi/projects/pactolus_trees/FragTreeLibrary_test_hdf5_5_WJMMBVSOQPALFO-BHYGPSQDSA-N.h5', 634.4080834360016)\n",
      "('/project/projectdirs/openmsi/projects/pactolus_trees/FragTreeLibrary_test_hdf5_5_NARQRJFIZNOSJV-UHFFFAOYSA-N.h5', 634.4080834360016)\n",
      "('/project/projectdirs/openmsi/projects/pactolus_trees/FragTreeLibrary_test_hdf5_5_GJIGVPBRJFOUGD-SSQLMYNASA-N.h5', 634.4749812240018)\n",
      "('/project/projectdirs/openmsi/projects/pactolus_trees/FragTreeLibrary_test_hdf5_5_HRUXIQZFNLQZQA-UHFFFAOYSA-N.h5', 635.0877176640005)\n"
     ]
    }
   ],
   "source": [
    "tree_table = np.load(maxdepth_5_table)\n",
    "for t in tree_table:\n",
    "    if abs(t[1] - 634.132255544) < 1:\n",
    "        print t"
   ]
  },
  {
   "cell_type": "code",
   "execution_count": 9,
   "metadata": {
    "collapsed": false
   },
   "outputs": [
    {
     "ename": "IOError",
     "evalue": "[Errno 2] No such file or directory: '/global/homes/b/bpb/trees/gen_tree_result_neutralized_metacyc/metacyc_max_depth_5.npy'",
     "output_type": "error",
     "traceback": [
      "\u001b[1;31m---------------------------------------------------------------------------\u001b[0m",
      "\u001b[1;31mIOError\u001b[0m                                   Traceback (most recent call last)",
      "\u001b[1;32m<ipython-input-9-eb132c0add26>\u001b[0m in \u001b[0;36m<module>\u001b[1;34m()\u001b[0m\n\u001b[0;32m     14\u001b[0m     score_frag_dag.make_file_lookup_table_by_MS1_mass(all_my_h5_files, \n\u001b[0;32m     15\u001b[0m                                                       \u001b[0mpath\u001b[0m\u001b[1;33m=\u001b[0m\u001b[0mpath_to_trees\u001b[0m\u001b[1;33m,\u001b[0m\u001b[1;33m\u001b[0m\u001b[0m\n\u001b[1;32m---> 16\u001b[1;33m                                                       save_result='metacyc_max_depth_5')\n\u001b[0m\u001b[0;32m     17\u001b[0m \u001b[1;33m\u001b[0m\u001b[0m\n\u001b[0;32m     18\u001b[0m \u001b[0mmaxdepth_5_table\u001b[0m \u001b[1;33m=\u001b[0m \u001b[0mos\u001b[0m\u001b[1;33m.\u001b[0m\u001b[0mpath\u001b[0m\u001b[1;33m.\u001b[0m\u001b[0mjoin\u001b[0m\u001b[1;33m(\u001b[0m\u001b[0mpath_to_trees\u001b[0m\u001b[1;33m,\u001b[0m \u001b[0mmy_tree_filename\u001b[0m \u001b[1;33m+\u001b[0m \u001b[1;34m'.npy'\u001b[0m\u001b[1;33m)\u001b[0m\u001b[1;33m\u001b[0m\u001b[0m\n",
      "\u001b[1;32m/project/projectdirs/openmsi/projects/meta-iq/pactolus/pactolus/score_frag_dag.pyc\u001b[0m in \u001b[0;36mmake_file_lookup_table_by_MS1_mass\u001b[1;34m(tree_files, path, save_result)\u001b[0m\n\u001b[0;32m    237\u001b[0m     \u001b[0morder\u001b[0m \u001b[1;33m=\u001b[0m \u001b[0mnp\u001b[0m\u001b[1;33m.\u001b[0m\u001b[0margsort\u001b[0m\u001b[1;33m(\u001b[0m\u001b[0mtree_files_by_ms1_mass\u001b[0m\u001b[1;33m[\u001b[0m\u001b[1;34m'ms1_mass'\u001b[0m\u001b[1;33m]\u001b[0m\u001b[1;33m)\u001b[0m\u001b[1;33m\u001b[0m\u001b[0m\n\u001b[0;32m    238\u001b[0m     \u001b[1;32mif\u001b[0m \u001b[0msave_result\u001b[0m\u001b[1;33m:\u001b[0m\u001b[1;33m\u001b[0m\u001b[0m\n\u001b[1;32m--> 239\u001b[1;33m         \u001b[0mnp\u001b[0m\u001b[1;33m.\u001b[0m\u001b[0msave\u001b[0m\u001b[1;33m(\u001b[0m\u001b[0mos\u001b[0m\u001b[1;33m.\u001b[0m\u001b[0mpath\u001b[0m\u001b[1;33m.\u001b[0m\u001b[0mjoin\u001b[0m\u001b[1;33m(\u001b[0m\u001b[0mpath\u001b[0m\u001b[1;33m,\u001b[0m \u001b[0msave_result\u001b[0m\u001b[1;33m)\u001b[0m\u001b[1;33m,\u001b[0m \u001b[0mtree_files_by_ms1_mass\u001b[0m\u001b[1;33m[\u001b[0m\u001b[0morder\u001b[0m\u001b[1;33m]\u001b[0m\u001b[1;33m)\u001b[0m\u001b[1;33m\u001b[0m\u001b[0m\n\u001b[0m\u001b[0;32m    240\u001b[0m     \u001b[1;32mreturn\u001b[0m \u001b[0mtree_files_by_ms1_mass\u001b[0m\u001b[1;33m[\u001b[0m\u001b[0morder\u001b[0m\u001b[1;33m]\u001b[0m\u001b[1;33m\u001b[0m\u001b[0m\n\u001b[0;32m    241\u001b[0m \u001b[1;33m\u001b[0m\u001b[0m\n",
      "\u001b[1;32m//anaconda/lib/python2.7/site-packages/numpy/lib/npyio.pyc\u001b[0m in \u001b[0;36msave\u001b[1;34m(file, arr)\u001b[0m\n\u001b[0;32m    444\u001b[0m         \u001b[1;32mif\u001b[0m \u001b[1;32mnot\u001b[0m \u001b[0mfile\u001b[0m\u001b[1;33m.\u001b[0m\u001b[0mendswith\u001b[0m\u001b[1;33m(\u001b[0m\u001b[1;34m'.npy'\u001b[0m\u001b[1;33m)\u001b[0m\u001b[1;33m:\u001b[0m\u001b[1;33m\u001b[0m\u001b[0m\n\u001b[0;32m    445\u001b[0m             \u001b[0mfile\u001b[0m \u001b[1;33m=\u001b[0m \u001b[0mfile\u001b[0m \u001b[1;33m+\u001b[0m \u001b[1;34m'.npy'\u001b[0m\u001b[1;33m\u001b[0m\u001b[0m\n\u001b[1;32m--> 446\u001b[1;33m         \u001b[0mfid\u001b[0m \u001b[1;33m=\u001b[0m \u001b[0mopen\u001b[0m\u001b[1;33m(\u001b[0m\u001b[0mfile\u001b[0m\u001b[1;33m,\u001b[0m \u001b[1;34m\"wb\"\u001b[0m\u001b[1;33m)\u001b[0m\u001b[1;33m\u001b[0m\u001b[0m\n\u001b[0m\u001b[0;32m    447\u001b[0m         \u001b[0mown_fid\u001b[0m \u001b[1;33m=\u001b[0m \u001b[0mTrue\u001b[0m\u001b[1;33m\u001b[0m\u001b[0m\n\u001b[0;32m    448\u001b[0m     \u001b[1;32melse\u001b[0m\u001b[1;33m:\u001b[0m\u001b[1;33m\u001b[0m\u001b[0m\n",
      "\u001b[1;31mIOError\u001b[0m: [Errno 2] No such file or directory: '/global/homes/b/bpb/trees/gen_tree_result_neutralized_metacyc/metacyc_max_depth_5.npy'"
     ]
    }
   ],
   "source": [
    "pos_mode_neutralizations = [-1.00727646677, -(1.00727646677+1.00782504), +5.4857990946e-4,]\n",
    "neg_mode_neutralizations = [-el for el in pos_mode_neutralizations]\n",
    "\n",
    "# make lookup table\n",
    "# path_to_trees = '/project/projectdirs/openmsi/projects/pactolus_trees/'\n",
    "# all_my_h5_files = glob.glob('/project/projectdirs/openmsi/projects/pactolus_trees/*_hdf5_5_*.h5')\n",
    "\n",
    "path_to_trees = '/project/projectdirs/openmsi/projects/ben_trees/'\n",
    "all_my_h5_files = glob.glob('/project/projectdirs/openmsi/projects/ben_trees/*_hdf5_5_*.h5')\n",
    "\n",
    "my_tree_filename = 'metacyc_max_depth_5'\n",
    "\n",
    "if not os.path.isfile(os.path.join(path_to_trees, my_tree_filename + '.npy')):\n",
    "    score_frag_dag.make_file_lookup_table_by_MS1_mass(all_my_h5_files, \n",
    "                                                      path=path_to_trees, \n",
    "                                                      save_result='metacyc_max_depth_5')\n",
    "\n",
    "maxdepth_5_table = os.path.join(path_to_trees, my_tree_filename + '.npy')\n",
    "\n",
    "params = {'file_lookup_table': maxdepth_5_table,\n",
    "          'ms1_mass_tol': 0.05,\n",
    "          'ms2_mass_tol': 0.05,\n",
    "          'neutralizations': neg_mode_neutralizations,\n",
    "          'max_depth': 5,\n",
    "              }\n",
    "\n",
    "print neg_mode_neutralizations"
   ]
  },
  {
   "cell_type": "code",
   "execution_count": 49,
   "metadata": {
    "collapsed": false
   },
   "outputs": [
    {
     "data": {
      "text/plain": [
       "{'precursor_mz': [633.12708],\n",
       " 'spectra': [array([[  6.02219849e+01,   5.13611426e+03],\n",
       "         [  6.45197067e+01,   5.31844141e+03],\n",
       "         [  6.98501816e+01,   5.67258447e+03],\n",
       "         [  7.65564728e+01,   5.86723633e+03],\n",
       "         [  1.02837791e+02,   6.63435449e+03],\n",
       "         [  1.95310944e+02,   6.94508936e+03],\n",
       "         [  1.95346817e+02,   5.35564795e+03],\n",
       "         [  2.30951797e+02,   6.08355859e+03],\n",
       "         [  2.58053192e+02,   1.16679834e+04],\n",
       "         [  2.59062347e+02,   4.59729961e+04],\n",
       "         [  2.73077271e+02,   7.24596094e+04],\n",
       "         [  2.85077332e+02,   2.16664453e+04],\n",
       "         [  3.07239838e+02,   5.24816797e+03],\n",
       "         [  4.58103638e+02,   4.89963672e+04],\n",
       "         [  4.60081451e+02,   3.66318633e+04],\n",
       "         [  4.66106598e+02,   9.99861328e+03],\n",
       "         [  4.67118042e+02,   7.16287158e+03],\n",
       "         [  4.81088440e+02,   9.08090332e+03],\n",
       "         [  4.83109131e+02,   1.46352406e+05],\n",
       "         [  4.84119049e+02,   8.25898203e+04],\n",
       "         [  4.85128876e+02,   4.34224219e+04],\n",
       "         [  4.86096375e+02,   1.41140562e+05],\n",
       "         [  4.88110260e+02,   1.09656885e+04],\n",
       "         [  4.91111481e+02,   7.50981738e+03],\n",
       "         [  4.98096252e+02,   3.90590703e+04],\n",
       "         [  5.01120361e+02,   2.49719703e+05],\n",
       "         [  5.02124176e+02,   2.99160117e+04],\n",
       "         [  5.03139282e+02,   2.03241855e+04],\n",
       "         [  5.04109619e+02,   7.30114531e+04],\n",
       "         [  5.09125122e+02,   1.39737781e+05],\n",
       "         [  5.12112244e+02,   1.30703898e+05],\n",
       "         [  5.15095886e+02,   1.27436611e+04],\n",
       "         [  5.27135925e+02,   6.96762938e+05],\n",
       "         [  5.30123108e+02,   2.17331531e+05],\n",
       "         [  5.31119324e+02,   6.42012109e+03],\n",
       "         [  5.43092346e+02,   1.09529971e+04],\n",
       "         [  5.45154175e+02,   2.32297984e+05],\n",
       "         [  5.46117981e+02,   6.22249805e+04],\n",
       "         [  5.47124756e+02,   1.38596689e+04],\n",
       "         [  5.48097168e+02,   2.43663344e+05],\n",
       "         [  5.71124634e+02,   1.05528477e+05],\n",
       "         [  5.74113586e+02,   9.96611719e+04],\n",
       "         [  5.89136414e+02,   2.05418075e+06],\n",
       "         [  5.90123657e+02,   4.34102188e+04],\n",
       "         [  6.33126465e+02,   1.17730050e+06],\n",
       "         [  6.34134155e+02,   9.05391094e+04]], dtype=float32)]}"
      ]
     },
     "execution_count": 49,
     "metadata": {},
     "output_type": "execute_result"
    }
   ],
   "source": [
    "pactolus_input"
   ]
  },
  {
   "cell_type": "code",
   "execution_count": 12,
   "metadata": {
    "collapsed": false
   },
   "outputs": [
    {
     "data": {
      "text/plain": [
       "0"
      ]
     },
     "execution_count": 12,
     "metadata": {},
     "output_type": "execute_result"
    }
   ],
   "source": [
    "foo = score_frag_dag.score_scan_list_against_trees(pactolus_input['spectra'], pactolus_input['precursor_mz'], params)\n",
    "np.argmax(foo)"
   ]
  },
  {
   "cell_type": "code",
   "execution_count": 33,
   "metadata": {
    "collapsed": false,
    "scrolled": true
   },
   "outputs": [],
   "source": [
    "my_db = '/project/projectdirs/openmsi/projects/meta-iq/pactolus/data/' + 'MetaCyc.mdb'\n",
    "pactolus_results = score_frag_dag.make_pactolus_hit_table(foo, maxdepth_5_table, original_db=my_db)"
   ]
  },
  {
   "cell_type": "code",
   "execution_count": 37,
   "metadata": {
    "collapsed": false
   },
   "outputs": [
    {
     "name": "stdout",
     "output_type": "stream",
     "text": [
      "(0.7875834703445435, 'MetaCyC_10461', 'ethyl red', 297.1477355957031, 0, 0)\n",
      "(0.9809126853942871, 'MetaCyC_7413', 'emodin', 270.0528259277344, 0, 0)\n",
      "(0.0572817325592041, 'MetaCyC_1181', '(1<i>S</i>,6<i>R</i>)-2-succinyl-6-hydroxy-2,4-cyclohexadiene-1-carboxylate', 240.06338500976562, 0, 0)\n",
      "(0.23310670256614685, 'MetaCyC_1416', 'tetrachloroethene', 163.8754119873047, 0, 0)\n",
      "(0.5957505702972412, 'MetaCyC_8529', 'levoglucosan', 162.05282592773438, 0, 0)\n",
      "(0.0007101739174686372, 'MetaCyC_6396', '2-12:0-lysoPG', 428.217529296875, 0, 0)\n",
      "(0.33812853693962097, 'MetaCyC_752', 'pentachloroethane', 199.85208129882812, 0, 0)\n",
      "(0.7275602221488953, 'MetaCyC_9299', 'cortolone', 366.2406311035156, 0, 0)\n",
      "(1.4161595106124878, 'MetaCyC_7168', '1D-<i>chiro</i>-inositol', 180.06338500976562, 0, 0)\n",
      "(0.12381210178136826, 'MetaCyC_6694', \"3-(2'-methylthio)ethylmalic-acid\", 208.04054260253906, 0, 0)\n",
      "(0.21038520336151123, 'MetaCyC_7088', '3-dehydroteasterone', 446.339599609375, 0, 0)\n",
      "(0.8556255102157593, 'MetaCyC_7758', 'L-serine-phosphoethanolamine', 228.05111694335938, 0, 0)\n",
      "(1.1637345552444458, 'MetaCyC_1023', 'all-<i>trans</i>-geranylgeranylcysteine', 393.2701416015625, 0, 0)\n",
      "(0.1808895319700241, 'MetaCyC_6502', '1-20:2-2-18:2-phosphatidylethanolamine', 767.5465087890625, 0, 0)\n",
      "(0.4854579269886017, 'MetaCyC_4595', 'methyl pyruvate', 102.03169250488281, 0, 0)\n",
      "(0.7690903544425964, 'MetaCyC_208', 'glucuronamide', 193.0586395263672, 0, 0)\n",
      "(0.906912624835968, 'MetaCyC_3299', 'sodium dodecyl sulfate', 266.1551818847656, 0, 0)\n",
      "(0.9160449504852295, 'MetaCyC_802', 'reduced 3-acetylpyridine adenine dinucleotide', 664.1295166015625, 0, 0)\n",
      "(0.9478674530982971, 'MetaCyC_8110', 'UDP-2,4-diacetamido-2,4,6-trideoxy-&beta;-L-altropyranose', 632.1132202148438, 0, 0)\n",
      "(0.6281113028526306, 'MetaCyC_5382', '(R)-3,4-dihydroxymandelonitrile', 165.04258728027344, 0, 0)\n",
      "(0.3608606159687042, 'MetaCyC_9406', '7-dehydroporiferasterol', 410.3548583984375, 0, 0)\n",
      "(0.02890894003212452, 'MetaCyC_1629', '1,1,1,2-tetrachloroethane', 165.8910675048828, 0, 0)\n",
      "(0.082353875041008, 'MetaCyC_9446', '4&alpha;-hydroxymethyl,4&beta;,14&alpha;-dimethyl-9&beta;,19-cyclo-5&alpha;-ergost-24(24<sup>1</sup>', 456.396728515625, 0, 0)\n",
      "(0.7915668487548828, 'MetaCyC_8521', 'D-glyceraldehyde', 90.03169250488281, 0, 0)\n",
      "(0.644523561000824, 'MetaCyC_1281', 'EHNA', 277.19024658203125, 0, 0)\n",
      "(0.26264336705207825, 'MetaCyC_3059', '2-(hydroxymethyl)-3-(acetamidomethylene)succinate', 217.0586395263672, 0, 0)\n",
      "(0.9409633874893188, 'MetaCyC_4010', 'questin', 284.0684814453125, 0, 0)\n",
      "(0.09281157702207565, 'MetaCyC_7053', '(+)-7-<i>iso</i>-jasmonoyl-L-isoleucine', 323.20965576171875, 0, 0)\n",
      "(0.7696071267127991, 'MetaCyC_5079', 'L-palmitoylcarnitine', 399.3348693847656, 0, 0)\n",
      "(0.5365105271339417, 'MetaCyC_7572', 'parabanate', 114.00653839111328, 0, 0)\n",
      "(0.04719662666320801, 'MetaCyC_302', 'porphobilinogen', 226.09535217285156, 0, 0)\n",
      "(0.5514329671859741, 'MetaCyC_123', '12-hydroxydihydrochelirubine', 379.1055908203125, 0, 0)\n",
      "(0.2572994828224182, 'MetaCyC_250', '(25<i>R</i>)-3&alpha;,7&alpha;-dihydroxy-5&beta;-cholestan-26-al', 418.3446960449219, 0, 0)\n",
      "(1.6318769454956055, 'MetaCyC_563', '(3R)-3-(2,4-dihydroxyphenyl)-3,4-dihydro-2H-1-benzopyran-4,7-diol', 274.0841369628906, 0, 0)\n",
      "(0.3252941071987152, 'MetaCyC_1254', 'chloroform', 117.91438293457031, 0, 0)\n",
      "(0.7353898286819458, 'MetaCyC_6936', '17-hydroxy-octadecenoate', 298.25079345703125, 0, 0)\n",
      "(0.006075924262404442, 'MetaCyC_7782', '<i>N</i>-(3-oxododecanoyl)-L-homoserine', 315.2045593261719, 0, 0)\n",
      "(0.5478740930557251, 'MetaCyC_3660', 'calcitroate', 374.2456970214844, 0, 0)\n",
      "(0.8381285071372986, 'MetaCyC_4351', 'freon 11', 135.90496826171875, 0, 0)\n",
      "(0.07402956485748291, 'MetaCyC_6563', 'psychosine', 461.33526611328125, 0, 0)\n",
      "(1.1601364612579346, 'MetaCyC_2324', 'CMP-<i>N</i>-glycoloyl-&beta;-neuraminate', 630.1422119140625, 0, 0)\n",
      "(0.1694522202014923, 'MetaCyC_1462', '1,1,1-trichloroethane', 131.93003845214844, 0, 0)\n",
      "(0.48392340540885925, 'MetaCyC_2289', '2-deoxyribonolactone', 132.04225158691406, 0, 0)\n",
      "(0.5110822916030884, 'MetaCyC_6421', '1-18:2-2-18:2-phosphatidate', 696.4730224609375, 0, 0)\n",
      "(0.7400855422019958, 'MetaCyC_4316', 'ascopyrone M', 144.04225158691406, 0, 0)\n",
      "(0.05742281302809715, 'MetaCyC_110', '17-O-deacetylvindoline', 414.2154846191406, 0, 0)\n",
      "(0.2741040587425232, 'MetaCyC_114', 'aurachin-C', 379.2511291503906, 0, 0)\n",
      "(0.3488742709159851, 'MetaCyC_9459', '7-dehydrodesmosterol', 382.3235778808594, 0, 0)\n",
      "(1.112168788909912, 'MetaCyC_8111', 'UDP-2,3-diacetamido-2,3-dideoxy-&alpha;-D-mannuronate', 662.08740234375, 0, 0)\n",
      "(0.6653583645820618, 'MetaCyC_1211', 'norajmaline', 312.18377685546875, 0, 0)\n",
      "(0.5750381350517273, 'MetaCyC_4707', 'dephospho-CoA', 687.1488647460938, 0, 0)\n",
      "(0.0004771294188685715, 'MetaCyC_7744', 'L-threonine O-3-phosphate', 199.02456665039062, 0, 0)\n",
      "(0.9018236398696899, 'MetaCyC_6315', 'zealexin A1', 234.1619873046875, 0, 0)\n",
      "(0.5939044952392578, 'MetaCyC_8182', 'GDP-4-amino-4,6-dideoxy-&alpha;-D-<i>N</i>-acetylglucosamine', 629.124755859375, 0, 0)\n",
      "(0.9020643830299377, 'MetaCyC_7881', 'L-proline', 115.0633316040039, 0, 0)\n",
      "(0.0688503235578537, 'MetaCyC_486', 'secologanin', 388.1369323730469, 0, 0)\n",
      "(0.07784868776798248, 'MetaCyC_2614', 'demethylsulochrin', 318.0739440917969, 0, 0)\n",
      "(0.5517419576644897, 'MetaCyC_2145', '15-hydroxypentadecanoate', 258.219482421875, 0, 0)\n",
      "(0.3632138669490814, 'MetaCyC_6031', '10&beta;,14&beta;-dihydroxytaxa-4(20),11-dien-5&alpha;-yl acetate', 362.2456970214844, 0, 0)\n",
      "(0.7515400648117065, 'MetaCyC_920', '(+)-larreatricin', 284.1412353515625, 0, 0)\n",
      "(0.31099697947502136, 'MetaCyC_8016', 'arbekacin', 552.3118896484375, 0, 0)\n",
      "(0.304311603307724, 'MetaCyC_781', '3-pyridinesulfonate', 158.99900817871094, 0, 0)\n",
      "(0.4679942727088928, 'MetaCyC_5529', '3-nitro-1-propionate', 119.02185821533203, 0, 0)\n",
      "(0.2907801568508148, 'MetaCyC_4490', '2,5-dichloro-<i>p</i>-quinone', 175.9431915283203, 0, 0)\n",
      "(0.0681682750582695, 'MetaCyC_9464', '4&alpha;-hydroxymethyl-4&beta;-methyl-5&alpha;-cholesta-8,24-dien-3&beta;-ol', 428.36541748046875, 0, 0)\n",
      "(0.21706172823905945, 'MetaCyC_5867', 'medicagenate', 502.3294372558594, 0, 0)\n",
      "(0.42557573318481445, 'MetaCyC_3559', '10&beta;-hydroxytaxa-4(20),11-dien-5&alpha;-yl acetate', 346.25079345703125, 0, 0)\n"
     ]
    }
   ],
   "source": [
    "for r in pactolus_results:\n",
    "    if len(r)>0:\n",
    "        print r[0]"
   ]
  },
  {
   "cell_type": "code",
   "execution_count": 50,
   "metadata": {
    "collapsed": false
   },
   "outputs": [
    {
     "data": {
      "text/plain": [
       "234.16143646677"
      ]
     },
     "execution_count": 50,
     "metadata": {},
     "output_type": "execute_result"
    }
   ],
   "source": [
    "233.15416+1.00727646677"
   ]
  },
  {
   "cell_type": "code",
   "execution_count": 51,
   "metadata": {
    "collapsed": false
   },
   "outputs": [
    {
     "data": {
      "text/plain": [
       "0.0005434772299963697"
      ]
     },
     "execution_count": 51,
     "metadata": {},
     "output_type": "execute_result"
    }
   ],
   "source": [
    "234.161979944-234.16143646677"
   ]
  },
  {
   "cell_type": "code",
   "execution_count": 68,
   "metadata": {
    "collapsed": true
   },
   "outputs": [],
   "source": [
    "foo = np.load(maxdepth_5_table)"
   ]
  },
  {
   "cell_type": "code",
   "execution_count": 69,
   "metadata": {
    "collapsed": false
   },
   "outputs": [
    {
     "data": {
      "text/plain": [
       "array([ ('/project/projectdirs/openmsi/projects/pactolus_trees/FragTreeLibrary_test_hdf5_5_OOXWYYGXTJLWHA-UHFFFAOYSA-N.h5', 40.031300128),\n",
       "       ('/project/projectdirs/openmsi/projects/pactolus_trees/FragTreeLibrary_test_hdf5_5_XZMCDFZZKTWFGF-UHFFFAOYSA-N.h5', 42.021798063999995),\n",
       "       ('/project/projectdirs/openmsi/projects/pactolus_trees/FragTreeLibrary_test_hdf5_5_QQONPFPTGQHPMA-UHFFFAOYSA-N.h5', 42.046950192),\n",
       "       ...,\n",
       "       ('/project/projectdirs/openmsi/projects/pactolus_trees/FragTreeLibrary_test_hdf5_5_NTXGVHCCXVHYCL-UHFFFAOYSA-N.h5', 926.6318285440028),\n",
       "       ('/project/projectdirs/openmsi/projects/pactolus_trees/FragTreeLibrary_test_hdf5_5_HMTFXPJOBPIOIN-UHFFFAOYSA-N.h5', 952.7187878080008),\n",
       "       ('/project/projectdirs/openmsi/projects/pactolus_trees/FragTreeLibrary_test_hdf5_5_RGHRJBIKIYUHEV-UHFFFAOYSA-N.h5', 952.7187878080008)], \n",
       "      dtype=[('filename', 'S400'), ('ms1_mass', '<f8')])"
      ]
     },
     "execution_count": 69,
     "metadata": {},
     "output_type": "execute_result"
    }
   ],
   "source": [
    "foo"
   ]
  },
  {
   "cell_type": "code",
   "execution_count": null,
   "metadata": {
    "collapsed": true
   },
   "outputs": [],
   "source": []
  }
 ],
 "metadata": {
  "kernelspec": {
   "display_name": "Python 2",
   "language": "python",
   "name": "python2"
  },
  "language_info": {
   "codemirror_mode": {
    "name": "ipython",
    "version": 2
   },
   "file_extension": ".py",
   "mimetype": "text/x-python",
   "name": "python",
   "nbconvert_exporter": "python",
   "pygments_lexer": "ipython2",
   "version": "2.7.10"
  }
 },
 "nbformat": 4,
 "nbformat_minor": 0
}
