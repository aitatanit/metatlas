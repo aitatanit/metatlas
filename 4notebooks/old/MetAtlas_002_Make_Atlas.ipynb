{
 "cells": [
  {
   "cell_type": "code",
   "execution_count": null,
   "metadata": {
    "collapsed": true
   },
   "outputs": [],
   "source": [
    "# 1) Convert files for Metatlas 2.0 (using mzCAT)\n",
    "# 2) Transfer to NERSC (using mzCAT)\n",
    "# 3) Make MetAtlas Groups for your files\n",
    "# 4) Enter your internal standards into an Atlas\n",
    "# 5) Extract data from each of your files for the internal standards\n",
    "# 6) Export the results in a meaningful way\n",
    "\n",
    "# If all goes according to plan that means on Thursday we will:\n",
    "# 1) Build a small Atlas of your favorite molecules that have been identified.\n",
    "# 2) Extract data from each of your files for these molecules\n",
    "# 3) Export the results in a meaningful way"
   ]
  },
  {
   "cell_type": "code",
   "execution_count": 1,
   "metadata": {
    "collapsed": true
   },
   "outputs": [],
   "source": [
    "%matplotlib notebook\n",
    "%config InlineBackend.figure_format = 'retina'\n",
    "\n",
    "import sys,os,glob,csv\n",
    "import numpy as np\n",
    "from matplotlib import pylab as plt\n",
    "\n",
    "from scipy.spatial.distance import pdist\n",
    "from scipy.cluster.hierarchy import linkage\n",
    "from scipy.cluster.hierarchy import fcluster\n",
    "from scipy.spatial.distance import squareform\n",
    "\n",
    "sys.path.insert(0,'/global/project/projectdirs/metatlas/anaconda/lib/python2.7/site-packages' )\n",
    "from metatlas import metatlas_objects as metob\n",
    "from metatlas import h5_query\n",
    "\n",
    "# curr_ld_lib_path = ''\n",
    "# os.environ['LD_LIBRARY_PATH'] = curr_ld_lib_path + ':/project/projectdirs/openmsi/jupyterhub_libs/boost_1_55_0/lib' + ':/project/projectdirs/openmsi/jupyterhub_libs/lib'\n",
    "# sys.path.remove('/anaconda/lib/python2.7/site-packages')\n",
    "# sys.path.append('/global/project/projectdirs/openmsi/jupyterhub_libs/anaconda/lib/python2.7/site-packages')\n",
    "# sys.path.insert(0,'/project/projectdirs/openmsi/projects/meta-iq/pactolus/pactolus' )\n",
    "\n",
    "# from rdkit import Chem\n",
    "# from rdkit.Chem.rdMolDescriptors import ExactMolWt\n",
    "# from rdkit.Chem import Descriptors\n",
    "# from rdkit.Chem import rdMolDescriptors\n",
    "# from rdkit.Chem import AllChem\n",
    "# from rdkit.Chem.Fingerprints import FingerprintMols\n",
    "# from rdkit.Chem import Draw\n",
    "# from rdkit import DataStructs\n",
    "# from rdkit.DataManip import Metric\n",
    "\n",
    "# import networkx as nx"
   ]
  },
  {
   "cell_type": "code",
   "execution_count": null,
   "metadata": {
    "collapsed": false
   },
   "outputs": [
    {
     "name": "stderr",
     "output_type": "stream",
     "text": [
      ":0: FutureWarning: IPython widgets are experimental and may change in the future.\n",
      "/global/project/projectdirs/metatlas/anaconda/lib/python2.7/site-packages/pandas/core/internals.py:956: FutureWarning: comparison to `None` will result in an elementwise object comparison in the future.\n",
      "  return self._try_coerce_result(func(values, other))\n"
     ]
    }
   ],
   "source": [
    "atlases = metob.retrieve('Atlas',name='QExactive%')\n",
    "myid = atlases[0]\n",
    "# for c in myid.compound_identifications:\n",
    "#     print c\n",
    "cid = myid.compound_identifications[0]\n",
    "cid.references\n",
    "# type(cid.references[0].retrieve())\n",
    "# cid.references[0].retrieve()\n",
    "# metob.edit_objects(cid.references)"
   ]
  },
  {
   "cell_type": "code",
   "execution_count": 36,
   "metadata": {
    "collapsed": false
   },
   "outputs": [],
   "source": [
    "# [{'InChI': u'InChI=1S/C7H6O3/c8-6-4-2-1-3-5(6)7(9)10/h1-4,8H,(H,9,10)/p-1',\n",
    "#   'MonoIsotopic_molecular_weight': 138.032,\n",
    "#   'creation_time': '2015-10-08T17:37:14',\n",
    "#   'description': u'',\n",
    "#   'formula': u'C7H6O3',\n",
    "#   'functional_sets': [],\n",
    "#   'last_modified': '2015-10-08T17:38:12',\n",
    "#   'name': u'salicylate',\n",
    "#   'prev_uid': u'',\n",
    "#   'reference_xrefs': [],\n",
    "#   'synonyms': u'',\n",
    "#   'unique_id': u'75423646be08414a8a6337ca6a7120ce',\n",
    "#   'url': u'',\n",
    "#   'username': u'bpb'}]\n",
    "\n",
    "# #query for your compound, use any of the \n",
    "# query_comp = metob.retrieve('Compound',unique_id='75423646be08414a8a6337ca6a7120ce')\n",
    "# for i,c in enumerate(query_comp):\n",
    "#     print i,c.name, c.formula,c.InChI,c.synonyms\n",
    "# query_comp"
   ]
  },
  {
   "cell_type": "code",
   "execution_count": 87,
   "metadata": {
    "collapsed": false
   },
   "outputs": [
    {
     "name": "stdout",
     "output_type": "stream",
     "text": [
      "3,6-Dihydroxy-4-methylpyridazine C5H6N2O2 126.043 https://pubchem.ncbi.nlm.nih.gov/compound/79826 InChI=1S/C5H6N2O2/c1-3-2-4(8)6-7-5(3)9/h2H,1H3,(H,6,8)(H,7,9)\n",
      " \n",
      "d5-benzoic acid C7H6O2 127.068 https://pubchem.ncbi.nlm.nih.gov/compound/71603 InChI=1S/C7H6O2/c8-7(9)6-4-2-1-3-5-6/h1-5H,(H,8,9)/i1D,2D,3D,4D,5D\n",
      " \n",
      "4-(3,3-dimethyl-ureido)benzoic acid C10H12N2O3 208.085 http://www.chemicalize.org/structure/#!mol=CN%28C%29C%28%3DO%29Nc1ccc%28cc1%29C%28%3DO%29O&source=fp InChI=1S/C10H12N2O3/c1-12(2)10(15)11-8-5-3-7(4-6-8)9(13)14/h3-6H,1-2H3,(H,11,15)(H,13,14)\n",
      " \n",
      "9-anthracene carboxylic acid C15H10O2 222.068 https://pubchem.ncbi.nlm.nih.gov/compound/9-Anthroic_acid InChI=1S/C15H10O2/c16-15(17)14-12-7-3-1-5-10(12)9-11-6-2-4-8-13(11)14/h1-9H,(H,16,17)\n",
      " \n",
      "13C-15N-L-phenylalanine C9H11NO2 175.106 https://pubchem.ncbi.nlm.nih.gov/compound/16217565 InChI=1S/C9H11NO2/c10-8(9(11)12)6-7-4-2-1-3-5-7/h1-5,8H,6,10H2,(H,11,12)/t8-/m0/s1/i1+1,2+1,3+1,4+1,5+1,6+1,7+1,8+1,9+1,10+1\n",
      " \n",
      "13C-glucose C6H12O6 186.084 https://pubchem.ncbi.nlm.nih.gov/compound/10954241#section=Top InChI=1S/C6H12O6/c7-1-2-3(8)4(9)5(10)6(11)12-2/h2-11H,1H2/t2-,3-,4+,5-,6?/m1/s1/i1+1,2+1,3+1,4+1,5+1,6+1\n",
      " \n",
      "d8-lysine C6H14N2O2 154.156 http://www.chemicalize.org/structure/#!mol=%5B2H%5DC%28%5B2H%5D%29%28C%28C%28%3DO%29O%29N%29C%28%5B2H%5D%29%28%5B2H%5D%29C%28%5B2H%5D%29%28%5B2H%5D%29C%28%5B2H%5D%29%28%5B2H%5D%29N&source=fp InChI=1/C6H14N2O2/c7-4-2-1-3-5(8)6(9)10/h5H,1-4,7-8H2,(H,9,10)/i1D2,2D2,3D2,4D2\n",
      " \n",
      "d4 lysine C6H14N2O2 150.131 http://www.chemicalize.org/structure/#!mol=%5B2H%5DC%28%5B2H%5D%29%28CC%28C%28%3DO%29O%29N%29C%28%5B2H%5D%29%28%5B2H%5D%29CN&source=fp InChI=1/C6H14N2O2/c7-4-2-1-3-5(8)6(9)10/h5H,1-4,7-8H2,(H,9,10)/i1D2,2D2\n",
      " \n",
      "ABMBA C8H8BrNO2 228.974 https://pubchem.ncbi.nlm.nih.gov/compound/2774400 InChI=1S/C8H8BrNO2/c1-4-2-5(8(11)12)7(10)6(9)3-4/h2-3H,10H2,1H3,(H,11,12)\n",
      " \n"
     ]
    }
   ],
   "source": [
    "# These are the compounds to add to the database.  \n",
    "# In reality, a person wouldn't have this nice list, but would need to search by keywords or other filters.  QGrid might be really handy.\n",
    "compounds = [\n",
    "    '3,6-Dihydroxy-4-methylpyridazine',\n",
    "'d5-benzoic acid',\n",
    "'4-(3,3-dimethyl-ureido)benzoic acid',\n",
    "'9-anthracene carboxylic acid',\n",
    "'13C-15N-L-phenylalanine',\n",
    "'13C-glucose',\n",
    "'d8-lysine',\n",
    "'d4 lysine',\n",
    "'ABMBA'\n",
    "]\n",
    "myCompounds = []\n",
    "for mycompound in compounds:\n",
    "    query_comp = metob.retrieve('Compound',name=mycompound)\n",
    "    for c in query_comp:\n",
    "        myCompounds.append(c)\n",
    "        print c.name,c.formula,c.MonoIsotopic_molecular_weight,c.description, c.InChI  \n",
    "        print \" \""
   ]
  },
  {
   "cell_type": "code",
   "execution_count": 44,
   "metadata": {
    "collapsed": false
   },
   "outputs": [
    {
     "data": {
      "text/plain": [
       "{'RTUnits': 'sec',\n",
       " 'RTmax': 0.0,\n",
       " 'RTmin': 0.0,\n",
       " 'RTpeak': 0.0,\n",
       " 'creation_time': '2015-10-15T21:34:39',\n",
       " 'description': u'No description',\n",
       " 'enabled': True,\n",
       " 'last_modified': '2015-10-15T21:34:39',\n",
       " 'lcms_run': None,\n",
       " 'name': u'Untitled',\n",
       " 'prev_uid': u'',\n",
       " 'ref_type': u'',\n",
       " 'unique_id': u'0f844fb9664144349dcea290c1579204',\n",
       " 'username': u'bpb'}"
      ]
     },
     "execution_count": 44,
     "metadata": {},
     "output_type": "execute_result"
    }
   ],
   "source": [
    "metob.RtReference()"
   ]
  },
  {
   "cell_type": "code",
   "execution_count": 88,
   "metadata": {
    "collapsed": false
   },
   "outputs": [],
   "source": [
    "rt = [3.0,19.97]\n",
    "all_identifications = []\n",
    "for i,c in enumerate(myCompounds):\n",
    "    mzRef = metob.MzReference()\n",
    "    mzRef.mz = c.MonoIsotopic_molecular_weight + 1.007276\n",
    "    mzRef.mz_tolerance = 20\n",
    "    mzRef.mz_tolerance_units = 'ppm'\n",
    "    mzRef.detected_polarity = 'positive'\n",
    "    mzRef.adduct = '[M+H]+'\n",
    "    \n",
    "#     rtRef = metob.RtReference()\n",
    "#     rtRef.RTUnits = 'min'\n",
    "#     rtRef.RTmin = rt[i] - 1.5\n",
    "#     rtRef.RTmax = rt[i] + 1.5\n",
    "#     rtRef.RTpeak = rt[i]\n",
    "    \n",
    "    myID = metob.CompoundIdentification()\n",
    "    myID.compound = c\n",
    "    myID.references = [mzRef]#,rtRef]\n",
    "    all_identifications.append(myID)\n",
    "\n",
    "myAtlas = metob.Atlas()\n",
    "#metob.Atlas() has \"compound_identifications\" and a \"name\"\n",
    "myAtlas.name = 'All Encompasing Internal Standards Positive Mode'\n",
    "myAtlas.compound_identifications = all_identifications\n",
    "metob.store(myAtlas)"
   ]
  },
  {
   "cell_type": "code",
   "execution_count": 34,
   "metadata": {
    "collapsed": false
   },
   "outputs": [
    {
     "data": {
      "application/javascript": [
       "var nb = IPython.notebook;\n",
       "var kernel = IPython.notebook.kernel;\n",
       "var command = \"NOTEBOOK_FULL_PATH = '\" + nb.base_url + nb.notebook_path + \"'\";\n",
       "kernel.execute(command);"
      ],
      "text/plain": [
       "<IPython.core.display.Javascript object>"
      ]
     },
     "metadata": {},
     "output_type": "display_data"
    }
   ],
   "source": [
    "%%javascript\n",
    "var nb = IPython.notebook;\n",
    "var kernel = IPython.notebook.kernel;\n",
    "var command = \"NOTEBOOK_FULL_PATH = '\" + nb.base_url + nb.notebook_path + \"'\";\n",
    "kernel.execute(command);"
   ]
  },
  {
   "cell_type": "code",
   "execution_count": 35,
   "metadata": {
    "collapsed": false
   },
   "outputs": [
    {
     "name": "stdout",
     "output_type": "stream",
     "text": [
      "http://nbviewer.ipython.org/url/portal.nersc.gov/project/openmsi/MetAtlas_002_Make_Atlas.ipynb?flush_cache=true\n"
     ]
    }
   ],
   "source": [
    "filename = os.path.basename(NOTEBOOK_FULL_PATH)\n",
    "%system cp $filename /project/projectdirs/openmsi/www/\n",
    "temp = '%s/%s'%('/project/projectdirs/openmsi/www',filename)\n",
    "%system chmod 775 $temp\n",
    "print 'http://nbviewer.ipython.org/url/portal.nersc.gov/project/openmsi/%s?flush_cache=true'%filename"
   ]
  },
  {
   "cell_type": "code",
   "execution_count": null,
   "metadata": {
    "collapsed": true
   },
   "outputs": [],
   "source": []
  }
 ],
 "metadata": {
  "kernelspec": {
   "display_name": "Python 2",
   "language": "python",
   "name": "python2"
  },
  "language_info": {
   "codemirror_mode": {
    "name": "ipython",
    "version": 2
   },
   "file_extension": ".py",
   "mimetype": "text/x-python",
   "name": "python",
   "nbconvert_exporter": "python",
   "pygments_lexer": "ipython2",
   "version": "2.7.10"
  }
 },
 "nbformat": 4,
 "nbformat_minor": 0
}
