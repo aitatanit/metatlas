{
 "cells": [
  {
   "cell_type": "code",
   "execution_count": 1,
   "metadata": {
    "collapsed": true
   },
   "outputs": [],
   "source": [
    "import sys\n",
    "from metatlas import metatlas_objects as metob\n",
    "import qgrid\n",
    "import metatlas.directory_watcher\n",
    "import pandas as pd\n",
    "%matplotlib notebook\n",
    "from metatlas import  gui\n",
    "from ipywidgets import widgets\n",
    "from IPython.display import display\n"
   ]
  },
  {
   "cell_type": "code",
   "execution_count": 2,
   "metadata": {
    "collapsed": false,
    "scrolled": false
   },
   "outputs": [
    {
     "name": "stdout",
     "output_type": "stream",
     "text": [
      "****************************************************************************************************\n",
      "1\n",
      "****************************************************************************************************\n",
      "****************************************************************************************************\n",
      "1\n",
      "****************************************************************************************************\n",
      "****************************************************************************************************\n",
      "1\n",
      "****************************************************************************************************\n",
      "****************************************************************************************************\n",
      "1\n",
      "****************************************************************************************************\n"
     ]
    }
   ],
   "source": [
    "mz_header = ['compound', 'adduct', 'polarity', 'mz', 'mz_tolerance', 'mz_tolerance_units', 'uname']\n",
    "mz_dict = dict()\n",
    "\n",
    "rt_header = ['compound', 'lcms_run', 'rt_max', 'rt_min', 'rt_peak', 'rt_units', 'uname']\n",
    "rt_dict = dict()\n",
    "\n",
    "    \n",
    "atlases_select = widgets.Select(description = 'Atlases:', options = [])\n",
    "search_string = widgets.Text(description = \"Atlas Name\")\n",
    "mz_button = widgets.Button(description = 'mz')\n",
    "rt_button = widgets.Button(description = 'rt')\n",
    "\n",
    "def atlas_list (sender):\n",
    "    wild_card = search_string.value\n",
    "    atlas = metob.retrieve('Atlas',name= wild_card, username='*')\n",
    "    atlases_list = list()\n",
    "    for cc in atlas:\n",
    "        atlases_list.append(cc.name)    \n",
    "           \n",
    "    atlases_select.options = atlases_list    \n",
    "  \n",
    "                            \n",
    "                            \n",
    "                            \n",
    "def get_mz(b):\n",
    "    atlas = metob.retrieve('Atlas', name = atlases_select.value, username='*')\n",
    "    \n",
    "    #- clear the dictionary\n",
    "    for i in mz_header:\n",
    "        mz_dict[i] = list()\n",
    "    \n",
    "    for x in atlas[0].compound_identifications:\n",
    "        mz_dict['compound'].append(str(x.compound[0].name))\n",
    "        mz_dict['adduct'].append(str(x.mz_references[0].adduct))\n",
    "        mz_dict['mz'].append(str(x.mz_references[0].mz))\n",
    "        mz_dict['polarity'].append(str(x.mz_references[0].detected_polarity))\n",
    "        mz_dict['mz_tolerance'].append(str(x.mz_references[0].mz_tolerance))\n",
    "        mz_dict['uname'].append(str(x.mz_references[0].username))\n",
    "        mz_dict['mz_tolerance_units'].append(str(x.mz_references[0].mz_tolerance_units))\n",
    "        \n",
    "        #return mz_dict\n",
    "        #grid = gui.create_qgrid([])\n",
    "    qgrid.show_grid(pd.DataFrame.from_dict(mz_dict))\n",
    "        #grid.df = pd.DataFrame.from_dict(my_dict)\n",
    "        #display(grid)\n",
    "\n",
    "def get_rt(b):\n",
    "    atlas = metob.retrieve('Atlas', name = atlases_select.value, username='*')\n",
    "    \n",
    "    #- clear the dictionary\n",
    "    for i in rt_header:\n",
    "        rt_dict[i] = list()\n",
    "    \n",
    "    for x in atlas[0].compound_identifications:\n",
    "        rt_dict['compound'].append(str(x.compound[0].name))\n",
    "        rt_dict['lcms_run'].append(str(x.rt_references[0].lcms_run))\n",
    "        rt_dict['rt_max'].append(str(x.rt_references[0].rt_max))\n",
    "        rt_dict['rt_min'].append(str(x.rt_references[0].rt_min))\n",
    "        rt_dict['rt_peak'].append(str(x.rt_references[0].rt_peak))\n",
    "        rt_dict['uname'].append(str(x.rt_references[0].username))\n",
    "        rt_dict['rt_units'].append(str(x.rt_references[0].rt_units))\n",
    "        \n",
    "        #return mz_dict\n",
    "        #grid = gui.create_qgrid([])\n",
    "    qgrid.show_grid(pd.DataFrame.from_dict(rt_dict))\n",
    "        #grid.df = pd.DataFrame.from_dict(my_dict)\n",
    "        #display(grid)     \n",
    "    \n",
    "    \n",
    "\n",
    "def get_atlas(sender):\n",
    "    return  atlases.value\n",
    "    \n",
    "    \n",
    "search_string.observe(atlas_list)\n",
    "#atlases_select.observe(select_atlas)\n",
    "\n",
    "\n",
    "mz_button.on_click(get_mz)\n",
    "rt_button.on_click(get_rt)\n",
    "display(widgets.HBox((search_string, mz_button, rt_button)))\n",
    "\n",
    "display(atlases_select)\n",
    "\n",
    "#i = widgets.interactive(select_atlas, atlas_name=atlases)\n",
    "#grid = gui.create_qgrid([])\n",
    "#grid.df = pd.DataFrame.from_dict(test)"
   ]
  },
  {
   "cell_type": "markdown",
   "metadata": {},
   "source": [
    "This is not complete -- still need to clear the grid between each button click"
   ]
  }
 ],
 "metadata": {
  "kernelspec": {
   "display_name": "Python 2",
   "language": "python",
   "name": "python2"
  },
  "language_info": {
   "codemirror_mode": {
    "name": "ipython",
    "version": 2
   },
   "file_extension": ".py",
   "mimetype": "text/x-python",
   "name": "python",
   "nbconvert_exporter": "python",
   "pygments_lexer": "ipython2",
   "version": "2.7.11"
  }
 },
 "nbformat": 4,
 "nbformat_minor": 0
}
