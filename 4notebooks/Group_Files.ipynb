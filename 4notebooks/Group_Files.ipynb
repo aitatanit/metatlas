{
 "cells": [
  {
   "cell_type": "code",
   "execution_count": null,
   "metadata": {
    "collapsed": true
   },
   "outputs": [],
   "source": [
    "# 1) Convert files for Metatlas 2.0 (using mzCAT)\n",
    "# 2) Transfer to NERSC (using mzCAT)\n",
    "# 3) Make MetAtlas Groups for your files\n",
    "# 4) Enter your internal standards into an Atlas\n",
    "# 5) Extract data from each of your files for the internal standards\n",
    "# 6) Export the results in a meaningful way\n",
    "\n",
    "# If all goes according to plan that means on Thursday we will:\n",
    "# 1) Build a small Atlas of your favorite molecules that have been identified.\n",
    "# 2) Extract data from each of your files for these molecules\n",
    "# 3) Export the results in a meaningful way"
   ]
  },
  {
   "cell_type": "code",
   "execution_count": 1,
   "metadata": {
    "collapsed": true
   },
   "outputs": [],
   "source": [
    "%matplotlib inline\n",
    "%config InlineBackend.figure_format = 'retina'\n",
    "\n",
    "import sys,os,glob,csv\n",
    "import numpy as np\n",
    "from matplotlib import pylab as plt\n",
    "\n",
    "from scipy.spatial.distance import pdist\n",
    "from scipy.cluster.hierarchy import linkage\n",
    "from scipy.cluster.hierarchy import fcluster\n",
    "from scipy.spatial.distance import squareform\n",
    "\n",
    "sys.path.insert(0,'/global/project/projectdirs/metatlas/anaconda/lib/python2.7/site-packages' )\n",
    "from metatlas import metatlas_objects as metob\n",
    "from metatlas import h5_query\n",
    "\n",
    "curr_ld_lib_path = ''\n",
    "\n",
    "os.environ['LD_LIBRARY_PATH'] = curr_ld_lib_path + ':/project/projectdirs/openmsi/jupyterhub_libs/boost_1_55_0/lib' + ':/project/projectdirs/openmsi/jupyterhub_libs/lib'\n",
    "# sys.path.remove('/anaconda/lib/python2.7/site-packages')\n",
    "sys.path.append('/global/project/projectdirs/openmsi/jupyterhub_libs/anaconda/lib/python2.7/site-packages')\n",
    "sys.path.insert(0,'/project/projectdirs/openmsi/projects/meta-iq/pactolus/pactolus' )\n",
    "\n",
    "from rdkit import Chem\n",
    "# from rdkit.Chem.rdMolDescriptors import ExactMolWt\n",
    "from rdkit.Chem import Descriptors\n",
    "from rdkit.Chem import rdMolDescriptors\n",
    "from rdkit.Chem import AllChem\n",
    "from rdkit.Chem.Fingerprints import FingerprintMols\n",
    "from rdkit.Chem import Draw\n",
    "from rdkit import DataStructs\n",
    "from rdkit.DataManip import Metric\n",
    "\n",
    "import networkx as nx"
   ]
  },
  {
   "cell_type": "code",
   "execution_count": 13,
   "metadata": {
    "collapsed": false
   },
   "outputs": [
    {
     "name": "stdout",
     "output_type": "stream",
     "text": [
      "/global/project/projectdirs/metatlas//raw_data/tls/151002_QE_porewater_neg/150930_HILIC_TS_neg_blank15.h5\n",
      "/global/project/projectdirs/metatlas//raw_data/tls/151002_QE_porewater_neg/150930_HILIC_TS_neg_12C_18h.h5\n",
      "/global/project/projectdirs/metatlas//raw_data/tls/151002_QE_porewater_pos/150930_HILIC_TS_pos_10E_18h.h5\n",
      "/global/project/projectdirs/metatlas//raw_data/tls/151002_QE_porewater_neg/150930_HILIC_TS_neg_18D_49h.h5\n",
      "/global/project/projectdirs/metatlas//raw_data/tls/151002_QE_porewater_pos/150930_HILIC_TS_pos_6C_9h.h5\n",
      "/global/project/projectdirs/metatlas//raw_data/tls/151002_QE_porewater_pos/150930_HILIC_TS_pos_15B_42h.h5\n",
      "/global/project/projectdirs/metatlas//raw_data/tls/151002_QE_porewater_pos/150930_HILIC_TS_pos_11D_18h.h5\n",
      "/global/project/projectdirs/metatlas//raw_data/tls/151002_QE_porewater_pos/150930_HILIC_TS_pos_16E_42h.h5\n",
      "/global/project/projectdirs/metatlas//raw_data/tls/151002_QE_porewater_pos/150930_HILIC_TS_pos_5B_9h.h5\n",
      "/global/project/projectdirs/metatlas//raw_data/tls/151002_QE_porewater_neg/150930_HILIC_TS_neg_3C_3min.h5\n",
      "/global/project/projectdirs/metatlas//raw_data/tls/151002_QE_porewater_pos/150930_HILIC_TS_pos_14B_42h.h5\n",
      "/global/project/projectdirs/metatlas//raw_data/tls/151002_QE_porewater_pos/150930_HILIC_TS_pos_18C_49h.h5\n",
      "/global/project/projectdirs/metatlas//raw_data/tls/151002_QE_porewater_pos/150930_HILIC_TS_pos_9D_18h.h5\n",
      "/global/project/projectdirs/metatlas//raw_data/tls/151002_QE_porewater_neg/150930_HILIC_TS_neg_blank6.h5\n",
      "/global/project/projectdirs/metatlas//raw_data/tls/151002_QE_porewater_pos/150930_HILIC_TS_pos_QC4.h5\n",
      "/global/project/projectdirs/metatlas//raw_data/tls/151002_QE_porewater_neg/150930_HILIC_TS_neg_14B_42h.h5\n",
      "/global/project/projectdirs/metatlas//raw_data/tls/151002_QE_porewater_neg/150930_HILIC_TS_neg_3A_3min.h5\n",
      "/global/project/projectdirs/metatlas//raw_data/tls/151002_QE_porewater_neg/150930_HILIC_TS_neg_14E_42h.h5\n",
      "/global/project/projectdirs/metatlas//raw_data/tls/151002_QE_porewater_pos/150930_HILIC_TS_pos_5E_9h.h5\n",
      "/global/project/projectdirs/metatlas//raw_data/tls/151002_QE_porewater_pos/150930_HILIC_TS_pos_QC5.h5\n",
      "/global/project/projectdirs/metatlas//raw_data/tls/151002_QE_porewater_neg/150930_HILIC_TS_neg_17E_49h.h5\n",
      "/global/project/projectdirs/metatlas//raw_data/tls/151002_QE_porewater_neg/150930_HILIC_TS_neg_1C_3min.h5\n",
      "/global/project/projectdirs/metatlas//raw_data/tls/151002_QE_porewater_neg/150930_HILIC_TS_neg_17A_49h.h5\n",
      "/global/project/projectdirs/metatlas//raw_data/tls/151002_QE_porewater_pos/150930_HILIC_TS_pos_QC7.h5\n",
      "/global/project/projectdirs/metatlas//raw_data/tls/151002_QE_porewater_pos/150930_HILIC_TS_pos_QC8.h5\n",
      "/global/project/projectdirs/metatlas//raw_data/tls/151002_QE_porewater_neg/150930_HILIC_TS_neg_13D_42h.h5\n",
      "/global/project/projectdirs/metatlas//raw_data/tls/151002_QE_porewater_neg/150930_HILIC_TS_neg_4C_3min.h5\n",
      "/global/project/projectdirs/metatlas//raw_data/tls/151002_QE_porewater_neg/150930_HILIC_TS_neg_2D_3min.h5\n",
      "/global/project/projectdirs/metatlas//raw_data/tls/151002_QE_porewater_pos/150930_HILIC_TS_pos_15D_42h.h5\n",
      "/global/project/projectdirs/metatlas//raw_data/tls/151002_QE_porewater_neg/150930_HILIC_TS_neg_11C_18h.h5\n",
      "/global/project/projectdirs/metatlas//raw_data/tls/151002_QE_porewater_pos/150930_HILIC_TS_pos_13C_42h.h5\n",
      "/global/project/projectdirs/metatlas//raw_data/tls/151002_QE_porewater_neg/150930_HILIC_TS_neg_5E_9h.h5\n",
      "/global/project/projectdirs/metatlas//raw_data/tls/151002_QE_porewater_pos/150930_HILIC_TS_pos_16A_42h.h5\n",
      "/global/project/projectdirs/metatlas//raw_data/tls/151002_QE_porewater_neg/150930_HILIC_TS_neg_14D_42h.h5\n",
      "/global/project/projectdirs/metatlas//raw_data/tls/151002_QE_porewater_neg/150930_HILIC_TS_neg_QC1.h5\n",
      "/global/project/projectdirs/metatlas//raw_data/tls/151002_QE_porewater_pos/150930_HILIC_TS_pos_blank9.h5\n",
      "/global/project/projectdirs/metatlas//raw_data/tls/151002_QE_porewater_neg/150930_HILIC_TS_neg_12A_18h.h5\n",
      "/global/project/projectdirs/metatlas//raw_data/tls/151002_QE_porewater_neg/150930_HILIC_TS_neg_2B_3min.h5\n",
      "/global/project/projectdirs/metatlas//raw_data/tls/151002_QE_porewater_neg/150930_HILIC_TS_neg_18E_49h.h5\n",
      "/global/project/projectdirs/metatlas//raw_data/tls/151002_QE_porewater_neg/150930_HILIC_TS_neg_10D_18h.h5\n",
      "/global/project/projectdirs/metatlas//raw_data/tls/151002_QE_porewater_neg/150930_HILIC_TS_neg_19B_49h.h5\n",
      "/global/project/projectdirs/metatlas//raw_data/tls/151002_QE_porewater_neg/150930_HILIC_TS_neg_QC9.h5\n",
      "/global/project/projectdirs/metatlas//raw_data/tls/151002_QE_porewater_pos/150930_HILIC_TS_pos_2C_3min.h5\n",
      "/global/project/projectdirs/metatlas//raw_data/tls/151002_QE_porewater_pos/150930_HILIC_TS_pos_12C_18h.h5\n",
      "/global/project/projectdirs/metatlas//raw_data/tls/151002_QE_porewater_neg/150930_HILIC_TS_neg_20B_49h.h5\n",
      "/global/project/projectdirs/metatlas//raw_data/tls/151002_QE_porewater_pos/150930_HILIC_TS_pos_14E_42h.h5\n",
      "/global/project/projectdirs/metatlas//raw_data/tls/151002_QE_porewater_neg/150930_HILIC_TS_neg_20C_49h.h5\n",
      "/global/project/projectdirs/metatlas//raw_data/tls/151002_QE_porewater_neg/150930_HILIC_TS_neg_blank5.h5\n",
      "/global/project/projectdirs/metatlas//raw_data/tls/151002_QE_porewater_pos/150930_HILIC_TS_pos_blank6.h5\n",
      "/global/project/projectdirs/metatlas//raw_data/tls/151002_QE_porewater_neg/150930_HILIC_TS_neg_7B_9h.h5\n",
      "/global/project/projectdirs/metatlas//raw_data/tls/151002_QE_porewater_neg/150930_HILIC_TS_neg_blank3.h5\n",
      "/global/project/projectdirs/metatlas//raw_data/tls/151002_QE_porewater_neg/150930_HILIC_TS_neg_1A_3min.h5\n",
      "/global/project/projectdirs/metatlas//raw_data/tls/151002_QE_porewater_neg/150930_HILIC_TS_neg_8E_9h.h5\n",
      "/global/project/projectdirs/metatlas//raw_data/tls/151002_QE_porewater_neg/150930_HILIC_TS_neg_6D_9h.h5\n",
      "/global/project/projectdirs/metatlas//raw_data/tls/151002_QE_porewater_pos/150930_HILIC_TS_pos_blank3.h5\n",
      "/global/project/projectdirs/metatlas//raw_data/tls/151002_QE_porewater_pos/150930_HILIC_TS_pos_14C_42h.h5\n",
      "/global/project/projectdirs/metatlas//raw_data/tls/151002_QE_porewater_pos/150930_HILIC_TS_pos_6B_9h.h5\n",
      "/global/project/projectdirs/metatlas//raw_data/tls/151002_QE_porewater_neg/150930_HILIC_TS_neg_4D_3min.h5\n",
      "/global/project/projectdirs/metatlas//raw_data/tls/151002_QE_porewater_neg/150930_HILIC_TS_neg_3D_3min.h5\n",
      "/global/project/projectdirs/metatlas//raw_data/tls/151002_QE_porewater_pos/150930_HILIC_TS_pos_4D_3min.h5\n",
      "/global/project/projectdirs/metatlas//raw_data/tls/151002_QE_porewater_pos/150930_HILIC_TS_pos_2E_3min.h5\n",
      "/global/project/projectdirs/metatlas//raw_data/tls/151002_QE_porewater_neg/150930_HILIC_TS_neg_13C_42h.h5\n",
      "/global/project/projectdirs/metatlas//raw_data/tls/151002_QE_porewater_pos/150930_HILIC_TS_pos_18A_49h.h5\n",
      "/global/project/projectdirs/metatlas//raw_data/tls/151002_QE_porewater_pos/150930_HILIC_TS_pos_16C_42h.h5\n",
      "/global/project/projectdirs/metatlas//raw_data/tls/151002_QE_porewater_neg/150930_HILIC_TS_neg_QC4.h5\n",
      "/global/project/projectdirs/metatlas//raw_data/tls/151002_QE_porewater_pos/150930_HILIC_TS_pos_11A_18h.h5\n",
      "/global/project/projectdirs/metatlas//raw_data/tls/151002_QE_porewater_pos/150930_HILIC_TS_pos_12D_18h.h5\n",
      "/global/project/projectdirs/metatlas//raw_data/tls/151002_QE_porewater_pos/150930_HILIC_TS_pos_blank4.h5\n",
      "/global/project/projectdirs/metatlas//raw_data/tls/151002_QE_porewater_pos/150930_HILIC_TS_pos_5A_9h.h5\n",
      "/global/project/projectdirs/metatlas//raw_data/tls/151002_QE_porewater_neg/150930_HILIC_TS_neg_17B_49h.h5\n",
      "/global/project/projectdirs/metatlas//raw_data/tls/151002_QE_porewater_pos/150930_HILIC_TS_pos_9A_18h.h5\n",
      "/global/project/projectdirs/metatlas//raw_data/tls/151002_QE_porewater_neg/150930_HILIC_TS_neg_20E_49h.h5\n",
      "/global/project/projectdirs/metatlas//raw_data/tls/151002_QE_porewater_neg/150930_HILIC_TS_neg_QC11.h5\n",
      "/global/project/projectdirs/metatlas//raw_data/tls/151002_QE_porewater_pos/150930_HILIC_TS_pos_3A_3min.h5\n",
      "/global/project/projectdirs/metatlas//raw_data/tls/151002_QE_porewater_neg/150930_HILIC_TS_neg_5C_9h.h5\n",
      "/global/project/projectdirs/metatlas//raw_data/tls/151002_QE_porewater_neg/150930_HILIC_TS_neg_QC6.h5\n",
      "/global/project/projectdirs/metatlas//raw_data/tls/151002_QE_porewater_neg/150930_HILIC_TS_neg_blank10.h5\n",
      "/global/project/projectdirs/metatlas//raw_data/tls/151002_QE_porewater_pos/150930_HILIC_TS_pos_QC6.h5\n",
      "/global/project/projectdirs/metatlas//raw_data/tls/151002_QE_porewater_neg/150930_HILIC_TS_neg_9A_18h.h5\n",
      "/global/project/projectdirs/metatlas//raw_data/tls/151002_QE_porewater_neg/150930_HILIC_TS_neg_QC2.h5\n",
      "/global/project/projectdirs/metatlas//raw_data/tls/151002_QE_porewater_neg/150930_HILIC_TS_neg_3E_3min.h5\n",
      "/global/project/projectdirs/metatlas//raw_data/tls/151002_QE_porewater_neg/150930_HILIC_TS_neg_5D_9h.h5\n",
      "/global/project/projectdirs/metatlas//raw_data/tls/151002_QE_porewater_neg/150930_HILIC_TS_neg_7C_9h.h5\n",
      "/global/project/projectdirs/metatlas//raw_data/tls/151002_QE_porewater_neg/150930_HILIC_TS_neg_2E_3min.h5\n",
      "/global/project/projectdirs/metatlas//raw_data/tls/151002_QE_porewater_pos/150930_HILIC_TS_pos_16D_42h.h5\n",
      "/global/project/projectdirs/metatlas//raw_data/tls/151002_QE_porewater_neg/150930_HILIC_TS_neg_1E_3min.h5\n",
      "/global/project/projectdirs/metatlas//raw_data/tls/151002_QE_porewater_neg/150930_HILIC_TS_neg_6E_9h.h5\n",
      "/global/project/projectdirs/metatlas//raw_data/tls/151002_QE_porewater_neg/150930_HILIC_TS_neg_11B_18h.h5\n",
      "/global/project/projectdirs/metatlas//raw_data/tls/151002_QE_porewater_neg/150930_HILIC_TS_neg_QC7.h5\n",
      "/global/project/projectdirs/metatlas//raw_data/tls/151002_QE_porewater_neg/150930_HILIC_TS_neg_QC8.h5\n",
      "/global/project/projectdirs/metatlas//raw_data/tls/151002_QE_porewater_pos/150930_HILIC_TS_pos_20C_49h.h5\n",
      "/global/project/projectdirs/metatlas//raw_data/tls/151002_QE_porewater_neg/150930_HILIC_TS_neg_4A_3min.h5\n",
      "/global/project/projectdirs/metatlas//raw_data/tls/151002_QE_porewater_neg/150930_HILIC_TS_neg_9D_18h.h5\n",
      "/global/project/projectdirs/metatlas//raw_data/tls/151002_QE_porewater_pos/150930_HILIC_TS_pos_11B_18h.h5\n",
      "/global/project/projectdirs/metatlas//raw_data/tls/151002_QE_porewater_neg/150930_HILIC_TS_neg_4E_3min.h5\n",
      "/global/project/projectdirs/metatlas//raw_data/tls/151002_QE_porewater_neg/150930_HILIC_TS_neg_18C_49h.h5\n",
      "/global/project/projectdirs/metatlas//raw_data/tls/151002_QE_porewater_neg/150930_HILIC_TS_neg_QC10.h5\n",
      "/global/project/projectdirs/metatlas//raw_data/tls/151002_QE_porewater_neg/150930_HILIC_TS_neg_16D_42h.h5\n",
      "/global/project/projectdirs/metatlas//raw_data/tls/151002_QE_porewater_pos/150930_HILIC_TS_pos_7E_9h.h5\n",
      "/global/project/projectdirs/metatlas//raw_data/tls/151002_QE_porewater_neg/150930_HILIC_TS_neg_3B_3min.h5\n",
      "/global/project/projectdirs/metatlas//raw_data/tls/151002_QE_porewater_neg/150930_HILIC_TS_neg_7D_9h.h5\n",
      "/global/project/projectdirs/metatlas//raw_data/tls/151002_QE_porewater_neg/150930_HILIC_TS_neg_blank12.h5\n",
      "/global/project/projectdirs/metatlas//raw_data/tls/151002_QE_porewater_pos/150930_HILIC_TS_pos_blank2.h5\n",
      "/global/project/projectdirs/metatlas//raw_data/tls/151002_QE_porewater_neg/150930_HILIC_TS_neg_14C_42h.h5\n",
      "/global/project/projectdirs/metatlas//raw_data/tls/151002_QE_porewater_neg/150930_HILIC_TS_neg_16E_42h.h5\n",
      "/global/project/projectdirs/metatlas//raw_data/tls/151002_QE_porewater_neg/150930_HILIC_TS_neg_19E_49h.h5\n",
      "/global/project/projectdirs/metatlas//raw_data/tls/151002_QE_porewater_pos/150930_HILIC_TS_pos_10D_18h.h5\n",
      "/global/project/projectdirs/metatlas//raw_data/tls/151002_QE_porewater_pos/150930_HILIC_TS_pos_18E_49h.h5\n",
      "/global/project/projectdirs/metatlas//raw_data/tls/151002_QE_porewater_neg/150930_HILIC_TS_neg_19C_49h.h5\n",
      "/global/project/projectdirs/metatlas//raw_data/tls/151002_QE_porewater_pos/150930_HILIC_TS_pos_9E_18h.h5\n",
      "/global/project/projectdirs/metatlas//raw_data/tls/151002_QE_porewater_neg/150930_HILIC_TS_neg_blank4.h5\n",
      "/global/project/projectdirs/metatlas//raw_data/tls/151002_QE_porewater_neg/150930_HILIC_TS_neg_blank13.h5\n",
      "/global/project/projectdirs/metatlas//raw_data/tls/151002_QE_porewater_neg/150930_HILIC_TS_neg_blank9.h5\n",
      "/global/project/projectdirs/metatlas//raw_data/tls/151002_QE_porewater_neg/150930_HILIC_TS_neg_1D_3min.h5\n",
      "/global/project/projectdirs/metatlas//raw_data/tls/151002_QE_porewater_pos/150930_HILIC_TS_pos_1A_3min.h5\n",
      "/global/project/projectdirs/metatlas//raw_data/tls/151002_QE_porewater_neg/150930_HILIC_TS_neg_13B_42h.h5\n",
      "/global/project/projectdirs/metatlas//raw_data/tls/151002_QE_porewater_neg/150930_HILIC_TS_neg_2A_3min.h5\n",
      "/global/project/projectdirs/metatlas//raw_data/tls/151002_QE_porewater_neg/150930_HILIC_TS_neg_blank11.h5\n",
      "/global/project/projectdirs/metatlas//raw_data/tls/151002_QE_porewater_neg/150930_HILIC_TS_neg_5B_9h.h5\n",
      "/global/project/projectdirs/metatlas//raw_data/tls/151002_QE_porewater_pos/150930_HILIC_TS_pos_blank8.h5\n",
      "/global/project/projectdirs/metatlas//raw_data/tls/151002_QE_porewater_pos/150930_HILIC_TS_pos_10C_18h.h5\n",
      "/global/project/projectdirs/metatlas//raw_data/tls/151002_QE_porewater_neg/150930_HILIC_TS_neg_9C_18h.h5\n",
      "/global/project/projectdirs/metatlas//raw_data/tls/151002_QE_porewater_neg/150930_HILIC_TS_neg_11E_18h.h5\n",
      "/global/project/projectdirs/metatlas//raw_data/tls/151002_QE_porewater_neg/150930_HILIC_TS_neg_2C_3min.h5\n",
      "/global/project/projectdirs/metatlas//raw_data/tls/151002_QE_porewater_pos/150930_HILIC_TS_pos_9B_18h.h5\n",
      "/global/project/projectdirs/metatlas//raw_data/tls/151002_QE_porewater_pos/150930_HILIC_TS_pos_blank5.h5\n",
      "/global/project/projectdirs/metatlas//raw_data/tls/151002_QE_porewater_pos/150930_HILIC_TS_pos_19E_49h.h5\n",
      "/global/project/projectdirs/metatlas//raw_data/tls/151002_QE_porewater_neg/150930_HILIC_TS_neg_10E_18h.h5\n",
      "/global/project/projectdirs/metatlas//raw_data/tls/151002_QE_porewater_neg/150930_HILIC_TS_neg_12D_18h.h5\n",
      "/global/project/projectdirs/metatlas//raw_data/tls/151002_QE_porewater_neg/150930_HILIC_TS_neg_blank1.h5\n",
      "/global/project/projectdirs/metatlas//raw_data/tls/151002_QE_porewater_pos/150930_HILIC_TS_pos_blank7.h5\n",
      "/global/project/projectdirs/metatlas//raw_data/tls/151002_QE_porewater_pos/150930_HILIC_TS_pos_20E_49h.h5\n",
      "/global/project/projectdirs/metatlas//raw_data/tls/151002_QE_porewater_neg/150930_HILIC_TS_neg_15C_42h.h5\n",
      "/global/project/projectdirs/metatlas//raw_data/tls/151002_QE_porewater_neg/150930_HILIC_TS_neg_20D_49h.h5\n",
      "/global/project/projectdirs/metatlas//raw_data/tls/151002_QE_porewater_neg/150930_HILIC_TS_neg_11D_18h.h5\n",
      "/global/project/projectdirs/metatlas//raw_data/tls/151002_QE_porewater_neg/150930_HILIC_TS_neg_5A_9h.h5\n",
      "/global/project/projectdirs/metatlas//raw_data/tls/151002_QE_porewater_neg/150930_HILIC_TS_neg_6C_9h.h5\n",
      "/global/project/projectdirs/metatlas//raw_data/tls/151002_QE_porewater_neg/150930_HILIC_TS_neg_18B_49h.h5\n",
      "/global/project/projectdirs/metatlas//raw_data/tls/151002_QE_porewater_neg/150930_HILIC_TS_neg_4B_3min.h5\n",
      "/global/project/projectdirs/metatlas//raw_data/tls/151002_QE_porewater_neg/150930_HILIC_TS_neg_6A_9h.h5\n",
      "/global/project/projectdirs/metatlas//raw_data/tls/151002_QE_porewater_neg/150930_HILIC_TS_neg_18A_49h.h5\n",
      "/global/project/projectdirs/metatlas//raw_data/tls/151002_QE_porewater_neg/150930_HILIC_TS_neg_blank7.h5\n",
      "/global/project/projectdirs/metatlas//raw_data/tls/151002_QE_porewater_neg/150930_HILIC_TS_neg_1B_3min.h5\n",
      "/global/project/projectdirs/metatlas//raw_data/tls/151002_QE_porewater_neg/150930_HILIC_TS_neg_6B_9h.h5\n",
      "/global/project/projectdirs/metatlas//raw_data/tls/151002_QE_porewater_neg/150930_HILIC_TS_neg_15D_42h.h5\n",
      "/global/project/projectdirs/metatlas//raw_data/tls/151002_QE_porewater_pos/150930_HILIC_TS_pos_1B_3min.h5\n",
      "/global/project/projectdirs/metatlas//raw_data/tls/151002_QE_porewater_neg/150930_HILIC_TS_neg_9E_18h.h5\n",
      "/global/project/projectdirs/metatlas//raw_data/tls/151002_QE_porewater_neg/150930_HILIC_TS_neg_20A_49h.h5\n",
      "/global/project/projectdirs/metatlas//raw_data/tls/151002_QE_porewater_pos/150930_HILIC_TS_pos_11E_18h.h5\n",
      "/global/project/projectdirs/metatlas//raw_data/tls/151002_QE_porewater_pos/150930_HILIC_TS_pos_6D_9h.h5\n",
      "/global/project/projectdirs/metatlas//raw_data/tls/151002_QE_porewater_neg/150930_HILIC_TS_neg_9B_18h.h5\n",
      "/global/project/projectdirs/metatlas//raw_data/tls/151002_QE_porewater_neg/150930_HILIC_TS_neg_16A_42h.h5\n",
      "/global/project/projectdirs/metatlas//raw_data/tls/151002_QE_porewater_neg/150930_HILIC_TS_neg_7E_9h.h5\n",
      "/global/project/projectdirs/metatlas//raw_data/tls/151002_QE_porewater_neg/150930_HILIC_TS_neg_blank8.h5\n",
      "/global/project/projectdirs/metatlas//raw_data/tls/151002_QE_porewater_neg/150930_HILIC_TS_neg_19A_49h.h5\n",
      "/global/project/projectdirs/metatlas//raw_data/tls/151002_QE_porewater_neg/150930_HILIC_TS_neg_19D_49h.h5\n",
      "/global/project/projectdirs/metatlas//raw_data/tls/151002_QE_porewater_neg/150930_HILIC_TS_neg_17D_49h.h5\n",
      "/global/project/projectdirs/metatlas//raw_data/tls/151002_QE_porewater_pos/150930_HILIC_TS_pos_3D_3min.h5\n",
      "/global/project/projectdirs/metatlas//raw_data/tls/151002_QE_porewater_neg/150930_HILIC_TS_neg_13A_42h.h5\n",
      "/global/project/projectdirs/metatlas//raw_data/tls/151002_QE_porewater_pos/150930_HILIC_TS_pos_7D_9h.h5\n",
      "/global/project/projectdirs/metatlas//raw_data/tls/151002_QE_porewater_pos/150930_HILIC_TS_pos_10B_18h.h5\n",
      "/global/project/projectdirs/metatlas//raw_data/tls/151002_QE_porewater_neg/150930_HILIC_TS_neg_10C_18h.h5\n",
      "/global/project/projectdirs/metatlas//raw_data/tls/151002_QE_porewater_neg/150930_HILIC_TS_neg_blank2.h5\n",
      "/global/project/projectdirs/metatlas//raw_data/tls/151002_QE_porewater_pos/150930_HILIC_TS_pos_15C_42h.h5\n",
      "/global/project/projectdirs/metatlas//raw_data/tls/151002_QE_porewater_neg/150930_HILIC_TS_neg_12B_18h.h5\n",
      "/global/project/projectdirs/metatlas//raw_data/tls/151002_QE_porewater_neg/150930_HILIC_TS_neg_QC5.h5\n",
      "/global/project/projectdirs/metatlas//raw_data/tls/151002_QE_porewater_pos/150930_HILIC_TS_pos_4A_3min.h5\n",
      "/global/project/projectdirs/metatlas//raw_data/tls/151002_QE_porewater_pos/150930_HILIC_TS_pos_QC3.h5\n",
      "/global/project/projectdirs/metatlas//raw_data/tls/151002_QE_porewater_neg/150930_HILIC_TS_neg_16C_42h.h5\n",
      "/global/project/projectdirs/metatlas//raw_data/tls/151002_QE_porewater_neg/150930_HILIC_TS_neg_blank14.h5\n",
      "/global/project/projectdirs/metatlas//raw_data/tls/151002_QE_porewater_pos/150930_HILIC_TS_pos_17B_49h.h5\n",
      "/global/project/projectdirs/metatlas//raw_data/tls/151002_QE_porewater_pos/150930_HILIC_TS_pos_QC2.h5\n",
      "/global/project/projectdirs/metatlas//raw_data/tls/151002_QE_porewater_pos/150930_HILIC_TS_pos_3C_3min.h5\n",
      "/global/project/projectdirs/metatlas//raw_data/tls/151002_QE_porewater_pos/150930_HILIC_TS_pos_20D_49h.h5\n",
      "/global/project/projectdirs/metatlas//raw_data/tls/151002_QE_porewater_neg/150930_HILIC_TS_neg_11A_18h.h5\n",
      "/global/project/projectdirs/metatlas//raw_data/tls/151002_QE_porewater_neg/150930_HILIC_TS_neg_15B_42h.h5\n",
      "/global/project/projectdirs/metatlas//raw_data/tls/151002_QE_porewater_neg/150930_HILIC_TS_neg_17C_49h.h5\n",
      "/global/project/projectdirs/metatlas//raw_data/tls/151002_QE_porewater_neg/150930_HILIC_TS_neg_10B_18h.h5\n",
      "/global/project/projectdirs/metatlas//raw_data/tls/151002_QE_porewater_pos/150930_HILIC_TS_pos_1D_3min.h5\n",
      "/global/project/projectdirs/metatlas//raw_data/tls/151002_QE_porewater_pos/150930_HILIC_TS_pos_20B_49h.h5\n"
     ]
    }
   ],
   "source": [
    "myFiles = metob.retrieve('lcmsrun',description='%151002_QE_porewater_%')\n",
    "# myFiles\n",
    "for f in myFiles:\n",
    "    print f.hdf5_file"
   ]
  },
  {
   "cell_type": "code",
   "execution_count": 26,
   "metadata": {
    "collapsed": false
   },
   "outputs": [
    {
     "name": "stdout",
     "output_type": "stream",
     "text": [
      "[u'10_18h' u'11_18h' u'12_18h' u'13_42h' u'14_42h' u'15_42h' u'16_42h'\n",
      " u'17_49h' u'18_49h' u'19_49h' u'1_3min' u'20_49h' u'2_3min' u'3_3min'\n",
      " u'4_3min' u'5_9h' u'6_9h' u'7_9h' u'8_9h' u'9_18h' u'Blank' u'QC']\n"
     ]
    }
   ],
   "source": [
    "polarity = []\n",
    "sample = []\n",
    "\n",
    "for f in myFiles:\n",
    "    fp = os.path.split(f.hdf5_file.replace('.h5',''))\n",
    "    sfp = fp[1].split('_')\n",
    "    polarity.append(sfp[3])\n",
    "    if 'blank' in fp[1]:\n",
    "        sample.append('Blank')\n",
    "    elif 'QC' in fp[1]:\n",
    "        sample.append('QC')        \n",
    "    else:\n",
    "        sample.append('%s_%s'%(sfp[4][:-1],sfp[5]))\n",
    "ugroups = np.unique(sample)    \n",
    "print ugroups"
   ]
  },
  {
   "cell_type": "code",
   "execution_count": 29,
   "metadata": {
    "collapsed": false
   },
   "outputs": [],
   "source": [
    "#make the groups in the database and simultaneously populate the runs\n",
    "all_my_groups = []\n",
    "for j,u in enumerate(ugroups):\n",
    "    indices = [i for i, x in enumerate(sample) if x == u]\n",
    "    myGroup = metob.Group()\n",
    "    myGroup.name = u\n",
    "    myGroup.description = ugroups[j]\n",
    "    file_set = []\n",
    "    for index in indices:\n",
    "        file_set.append(myFiles[index])\n",
    "    myGroup.items = file_set\n",
    "    all_my_groups.append(myGroup)\n",
    "\n",
    "# don't forget to make the \"experiment\" group: the group of groups\n",
    "\n",
    "metob.store(all_my_groups)"
   ]
  },
  {
   "cell_type": "code",
   "execution_count": 28,
   "metadata": {
    "collapsed": false
   },
   "outputs": [
    {
     "data": {
      "text/plain": [
       "22"
      ]
     },
     "execution_count": 28,
     "metadata": {},
     "output_type": "execute_result"
    }
   ],
   "source": [
    "len(all_my_groups)"
   ]
  },
  {
   "cell_type": "code",
   "execution_count": 30,
   "metadata": {
    "collapsed": true
   },
   "outputs": [],
   "source": [
    "myGroup = metob.Group()\n",
    "myGroup.name = '20151002_TLS_QExactive_Hilic_Crust Porewater'\n",
    "myGroup.description = 'This crust wetup, timeseries is paired with metatranscriptomics to identify who is doing what during the course of a wetup.'\n",
    "myGroup.items = all_my_groups\n",
    "metob.store(myGroup)"
   ]
  },
  {
   "cell_type": "code",
   "execution_count": null,
   "metadata": {
    "collapsed": true
   },
   "outputs": [],
   "source": [
    "%%javascript\n",
    "var nb = IPython.notebook;\n",
    "var kernel = IPython.notebook.kernel;\n",
    "var command = \"NOTEBOOK_FULL_PATH = '\" + nb.base_url + nb.notebook_path + \"'\";\n",
    "kernel.execute(command);"
   ]
  },
  {
   "cell_type": "code",
   "execution_count": null,
   "metadata": {
    "collapsed": true
   },
   "outputs": [],
   "source": [
    "filename = os.path.basename(NOTEBOOK_FULL_PATH)\n",
    "%system cp $filename /project/projectdirs/openmsi/www/\n",
    "temp = '%s/%s'%('/project/projectdirs/openmsi/www',filename)\n",
    "%system chmod 775 $temp\n",
    "print 'http://nbviewer.ipython.org/url/portal.nersc.gov/project/openmsi/%s?flush_cache=true'%filename"
   ]
  }
 ],
 "metadata": {
  "kernelspec": {
   "display_name": "Python 2",
   "language": "python",
   "name": "python2"
  },
  "language_info": {
   "codemirror_mode": {
    "name": "ipython",
    "version": 2
   },
   "file_extension": ".py",
   "mimetype": "text/x-python",
   "name": "python",
   "nbconvert_exporter": "python",
   "pygments_lexer": "ipython2",
   "version": "2.7.11"
  }
 },
 "nbformat": 4,
 "nbformat_minor": 0
}
