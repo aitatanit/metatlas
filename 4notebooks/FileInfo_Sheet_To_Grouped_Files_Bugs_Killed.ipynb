{
 "cells": [
  {
   "cell_type": "code",
   "execution_count": 1,
   "metadata": {
    "collapsed": false
   },
   "outputs": [
    {
     "name": "stdout",
     "output_type": "stream",
     "text": [
      "<Database(mysql+pymysql://localhost/metatlas)>\n"
     ]
    }
   ],
   "source": [
    "import sys\n",
    "#sys.path.insert(0,'/global/project/projectdirs/metatlas/anaconda/lib/python2.7/site-packages' )\n",
    "from metatlas import metatlas_objects as metob\n",
    "import qgrid\n",
    "%matplotlib notebook\n",
    "import pandas as pd\n",
    "print metob.database\n",
    "from metatlas import  gui\n",
    "from ipywidgets import widgets\n",
    "from IPython.display import display\n"
   ]
  },
  {
   "cell_type": "code",
   "execution_count": 4,
   "metadata": {
    "collapsed": false
   },
   "outputs": [
    {
     "name": "stdout",
     "output_type": "stream",
     "text": [
      "d5-benzoic acid\n",
      "20151130_LS_Negative_Hilic_QExactive_Archetypes_ISTDs\n",
      "20151130_LS_Negative_Hilic_QExactive_Archetypes_ISTDs\n"
     ]
    }
   ],
   "source": [
    "#c = metob.retrieve('Groups', description='15_42h')\n",
    "\n",
    "atlases = widgets.Select(description = 'Atlases:', options = [])\n",
    "compounds = widgets.Select(description = 'Compounds:', options = [])\n",
    "search_string = widgets.Text(description = \"Atlas Name\")\n",
    "compound_string = widgets.Text(description = \"Compound Name\")\n",
    "display(search_string)\n",
    "display(compound_string)\n",
    "display(compounds)\n",
    "display(atlases)\n"
   ]
  },
  {
   "cell_type": "code",
   "execution_count": 7,
   "metadata": {
    "collapsed": false
   },
   "outputs": [
    {
     "name": "stdout",
     "output_type": "stream",
     "text": [
      "None\n",
      "<ipywidgets.widgets.widget_box.Box object at 0x7fefbb54b050>\n"
     ]
    }
   ],
   "source": [
    "def new_atlas_list (sender):\n",
    "    wild_card = search_string.value\n",
    "    atlas = metob.retrieve('Atlas',name= wild_card, username='*')\n",
    "    atlases_list = list()\n",
    "    for cc in atlas:\n",
    "        atlases_list.append(cc.name)    \n",
    "           \n",
    "    atlases.options = atlases_list    \n",
    "  \n",
    "                            \n",
    "                            \n",
    "                            \n",
    "def select_atlas(atlas_name):\n",
    "    atlas = metob.retrieve('Atlas',name= atlas_name, username='*')   \n",
    "    compounds_list = list()\n",
    "    for cc in atlas:\n",
    "        \n",
    "        for x in cc.compound_identifications:\n",
    "            z = x.compound\n",
    "            \n",
    "            for zz in z:\n",
    "                compounds_list.append(zz.name)\n",
    "\n",
    "    \n",
    "    \n",
    "    compounds.options = compounds_list                        \n",
    "                            \n",
    "    \n",
    "\n",
    "def new_compounds_list(sender):\n",
    "    compounds.options = [atlases.value]\n",
    "\n",
    "def print_compound(value):\n",
    "    print value['new']\n",
    "    \n",
    "def print_atlas(sender):\n",
    "    print atlases.value\n",
    "    \n",
    "search_string.observe(new_atlas_list)\n",
    "atlases.observe(print_atlas)\n",
    "print atlases.value\n",
    "i = widgets.interactive(select_atlas, atlas_name=atlases)\n",
    "compounds.observe(print_compound, 'value')\n",
    "print i\n"
   ]
  },
  {
   "cell_type": "code",
   "execution_count": null,
   "metadata": {
    "collapsed": false,
    "scrolled": true
   },
   "outputs": [],
   "source": [
    "atlas = metob.retrieve('Atlas', name='%_LS_%', username='*')\n",
    "\n",
    "print len(atlas)\n",
    "\n",
    "atlases = dict()\n",
    "\n",
    "cc = atlas[1]\n",
    "\n",
    "for x in cc.compound_identifications:\n",
    "    print x\n",
    "\n",
    "#print x.\n",
    "#print type(x.mz_references)\n",
    "#print x.mz_references\n",
    "#print x.compound\n",
    "#print '-'*100\n",
    "#print metob.to_dataframe(x.mz_references)\n",
    "#        x = cc.compound_identifications[1]\n",
    "#        for xx in x.mz_references:\n",
    "#            pass\n",
    "            #print xx\n",
    "            #print '-'*100\n",
    "            #break\n",
    "#        break\n",
    "#    break\n",
    "    \n",
    "atlases = {'name': ['1', '2', '3'],\n",
    "           'compounds': ['a', 'b', 'c'],\n",
    "           'mz_references': ['d', 'e', 'f'],\n",
    "           'rt_refences': ['g', 'h', 'i'],\n",
    "           'frag_references': ['j', 'k', 'l']\n",
    "          }\n",
    "    \n",
    "pd.DataFrame.from_dict(atlases)\n",
    "grid = gui.create_qgrid([])\n",
    "grid.df = pd.DataFrame.from_dict(atlases)\n",
    "\n",
    "display(grid)\n",
    "\n",
    "#x = atlas[1]\n",
    "#x.compound_identifications"
   ]
  },
  {
   "cell_type": "code",
   "execution_count": null,
   "metadata": {
    "collapsed": false
   },
   "outputs": [],
   "source": [
    "#make file info template sheet by selecting a folder:\n",
    "# bpb@edison06:/project/projectdirs/metatlas/raw_data/lpsilva> ls -lta\n",
    "# total 3584\n",
    "# drwxrws--- 17 silvest metatlas 131072 Oct 11 10:18 ..\n",
    "# drwxrws---  2 silvest metatlas 131072 Sep 29 15:30 Actinobacillus test\n",
    "# drwxrws---  2 silvest metatlas 262144 Sep 29 14:13 20150521_LPSilva_Actino_C18_NEG_51isolates\n",
    "# drwxrws---  2 silvest metatlas 262144 Sep 29 13:43 20150514_LPSilva_Actino_C18_POS_51isolates\n",
    "# drwxrws---  2 silvest metatlas 262144 Sep 29 13:09 20150512_LPSilva_Actino_HILIC_NEG_51isolates\n",
    "# drwxrws---  2 silvest metatlas 262144 Sep 29 11:46 20150504_LPSilva_Actino_HILIC_POS_51isolates\n",
    "# files = metob.retrieve('LcmsRun',mzml_file='%katezh/20151016_%')\n",
    "files = metob.retrieve('LcmsRun',experiment='20160203_KBL-BC_Root-Exudate_Hilic_QExactive_Trial-Run', username='*')\n",
    "\n",
    "# files = metob.retrieve('LcmsRun',mzml_file='%_LPSilva_Actino_%_51isolates%', username='*')\n",
    "flist = []\n",
    "for f in files:\n",
    "    flist.append(f.mzml_file)\n",
    "import numpy as np\n",
    "flist = np.unique(flist)\n",
    "print len(flist)\n"
   ]
  },
  {
   "cell_type": "code",
   "execution_count": null,
   "metadata": {
    "collapsed": false
   },
   "outputs": [],
   "source": [
    "files[0]"
   ]
  },
  {
   "cell_type": "code",
   "execution_count": null,
   "metadata": {
    "collapsed": true
   },
   "outputs": [],
   "source": [
    "#dump all the files to a spreadheet, download it, and make a \"filled in\" one.\n",
    "with open('FileInfo_Sheet_Unique_20160203_KBL-BC_Root-Exudate_Hilic_QExactive_Trial-Run.tab','w') as fid:\n",
    "    fid.write('mzml_file\\tgroup\\tdescription\\n')\n",
    "    for f in flist:\n",
    "        fid.write('%s\\t\\t\\n'%f)\n"
   ]
  },
  {
   "cell_type": "code",
   "execution_count": null,
   "metadata": {
    "collapsed": false
   },
   "outputs": [],
   "source": [
    "#Download the fileinfo sheet and fill it in!\n",
    "df = pd.read_csv('FileInfo_Sheet_Unique_20160203_KBL-BC_Root-Exudate_Hilic_QExactive_Trial-Run.tab',sep='\\t')\n",
    "df"
   ]
  },
  {
   "cell_type": "code",
   "execution_count": null,
   "metadata": {
    "collapsed": false
   },
   "outputs": [],
   "source": [
    "grouped = df.groupby(by='group')\n",
    "# list(grouped)"
   ]
  },
  {
   "cell_type": "code",
   "execution_count": null,
   "metadata": {
    "collapsed": false
   },
   "outputs": [],
   "source": [
    "grouped.groups.keys()"
   ]
  },
  {
   "cell_type": "code",
   "execution_count": null,
   "metadata": {
    "collapsed": false
   },
   "outputs": [],
   "source": [
    "# metob.retrieve('LcmsRun',mzml_file='%0150115_pHILIC_NEG_MSMS_R2A-1An%',username='*')"
   ]
  },
  {
   "cell_type": "code",
   "execution_count": null,
   "metadata": {
    "collapsed": false
   },
   "outputs": [],
   "source": [
    "for g in grouped.groups.keys():\n",
    "    indices = grouped.groups[g]\n",
    "    myGroup = metob.Group()\n",
    "    myGroup.name = '%s'%g\n",
    "    myGroup.description = df.loc[indices[0],'description']\n",
    "    file_set = []\n",
    "    for i in indices:\n",
    "        file_set.append(metob.retrieve('LcmsRun',mzml_file='%%%s'%df.loc[i,'mzml_file'],username='*')[0])\n",
    "    myGroup.items = file_set\n",
    "    metob.store(myGroup)"
   ]
  },
  {
   "cell_type": "code",
   "execution_count": null,
   "metadata": {
    "collapsed": false
   },
   "outputs": [],
   "source": [
    "g = metob.retrieve('Groups',name = '%_KBL_PS_%')\n",
    "print len(g)\n",
    "for gg in g:\n",
    "    print gg.name\n",
    "    for i in gg.items:\n",
    "        print i.name\n",
    "    print \" \""
   ]
  },
  {
   "cell_type": "code",
   "execution_count": null,
   "metadata": {
    "collapsed": true
   },
   "outputs": [],
   "source": []
  },
  {
   "cell_type": "code",
   "execution_count": null,
   "metadata": {
    "collapsed": true
   },
   "outputs": [],
   "source": []
  }
 ],
 "metadata": {
  "kernelspec": {
   "display_name": "Python 2",
   "language": "python",
   "name": "python2"
  },
  "language_info": {
   "codemirror_mode": {
    "name": "ipython",
    "version": 2
   },
   "file_extension": ".py",
   "mimetype": "text/x-python",
   "name": "python",
   "nbconvert_exporter": "python",
   "pygments_lexer": "ipython2",
   "version": "2.7.11"
  }
 },
 "nbformat": 4,
 "nbformat_minor": 0
}
