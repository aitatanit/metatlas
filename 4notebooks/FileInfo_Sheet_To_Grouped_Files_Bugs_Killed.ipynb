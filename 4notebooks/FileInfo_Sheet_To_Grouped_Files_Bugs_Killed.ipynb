{
 "cells": [
  {
   "cell_type": "code",
   "execution_count": 5,
   "metadata": {
    "collapsed": false
   },
   "outputs": [
    {
     "name": "stdout",
     "output_type": "stream",
     "text": [
      "<Database(mysql+pymysql://localhost/metatlas)>\n"
     ]
    }
   ],
   "source": [
    "import sys\n",
    "#sys.path.insert(0,'/global/project/projectdirs/metatlas/anaconda/lib/python2.7/site-packages' )\n",
    "from metatlas import metatlas_objects as metob\n",
    "import qgrid\n",
    "%matplotlib notebook\n",
    "import pandas as pd\n",
    "print metob.database\n"
   ]
  },
  {
   "cell_type": "code",
   "execution_count": 14,
   "metadata": {
    "collapsed": false
   },
   "outputs": [
    {
     "name": "stdout",
     "output_type": "stream",
     "text": [
      "[u'20151016_KZ_Qexactive_Hilic_Avena_exudates_pos', u'20150826_KZ_Qexactive_Hilic_Avena_exudates_neg', u'20151016_KZ_Negative_Hilic_QExactive_AvenaExudates', u'20151016_KZ_Positive_Hilic_QExactive_AvenaExudates', u'20151023_KZ_Positive_Hilic_QExactive_AvenaExudates', u'20151023_KZ_Positive_Hilic_QExactive_AvenaExudates', u'20151023_KZ_Positive_Hilic_QExactive_AvenaExudates', u'20151023_KZ_Positive_Hilic_QExactive_AvenaExudates', u'20151023_KZ_Positive_Hilic_QExactive_AvenaExudates', u'20151023_KZ_Positive_Hilic_QExactive_AvenaExudates', u'20151023_KZ_Positive_Hilic_QExactive_AvenaExudates_2', u'20151023_KZ_Negative_Hilic_QExactive_AvenaExudates_2']\n"
     ]
    }
   ],
   "source": [
    "#c = metob.retrieve('Groups', description='15_42h')\n",
    "atlas = metob.retrieve('Atlas',name = '%_KZ_%',username='*')\n",
    "len(atlas)\n",
    "atlase_names = list()\n",
    "for cc in atlas:\n",
    "    atlase_names.append(cc.name)\n",
    "    #print cc.compound_identifications\n",
    "    \n",
    "print atlase_names\n"
   ]
  },
  {
   "cell_type": "code",
   "execution_count": 3,
   "metadata": {
    "collapsed": false
   },
   "outputs": [
    {
     "name": "stdout",
     "output_type": "stream",
     "text": [
      "0\n"
     ]
    }
   ],
   "source": [
    "#make file info template sheet by selecting a folder:\n",
    "# bpb@edison06:/project/projectdirs/metatlas/raw_data/lpsilva> ls -lta\n",
    "# total 3584\n",
    "# drwxrws--- 17 silvest metatlas 131072 Oct 11 10:18 ..\n",
    "# drwxrws---  2 silvest metatlas 131072 Sep 29 15:30 Actinobacillus test\n",
    "# drwxrws---  2 silvest metatlas 262144 Sep 29 14:13 20150521_LPSilva_Actino_C18_NEG_51isolates\n",
    "# drwxrws---  2 silvest metatlas 262144 Sep 29 13:43 20150514_LPSilva_Actino_C18_POS_51isolates\n",
    "# drwxrws---  2 silvest metatlas 262144 Sep 29 13:09 20150512_LPSilva_Actino_HILIC_NEG_51isolates\n",
    "# drwxrws---  2 silvest metatlas 262144 Sep 29 11:46 20150504_LPSilva_Actino_HILIC_POS_51isolates\n",
    "# files = metob.retrieve('LcmsRun',mzml_file='%katezh/20151016_%')\n",
    "files = metob.retrieve('LcmsRun',experiment='20160203_KBL-BC_Root-Exudate_Hilic_QExactive_Trial-Run', username='*')\n",
    "\n",
    "# files = metob.retrieve('LcmsRun',mzml_file='%_LPSilva_Actino_%_51isolates%', username='*')\n",
    "flist = []\n",
    "for f in files:\n",
    "    flist.append(f.mzml_file)\n",
    "import numpy as np\n",
    "flist = np.unique(flist)\n",
    "print len(flist)\n"
   ]
  },
  {
   "cell_type": "code",
   "execution_count": 14,
   "metadata": {
    "collapsed": false
   },
   "outputs": [
    {
     "data": {
      "text/plain": [
       "{'creation_time': '2015-12-14T19:43:22',\n",
       " 'description': u'Human Microbiome- Arkin Lab SJ_HM_6550_151018_EL0A_Neg_098.mzML',\n",
       " 'experiment': u'Human Microbiome- Arkin Lab',\n",
       " 'hdf5_file': u'/global/project/projectdirs/metatlas/raw_data/sjenkins/Human Microbiome- Arkin Lab/SJ_HM_6550_151018_EL0A_Neg_098.h5',\n",
       " 'head_id': u'a2099fd30e244e7980dab93317131129',\n",
       " 'last_modified': '2015-12-14T19:50:15',\n",
       " 'method': None,\n",
       " 'mzml_file': u'/global/project/projectdirs/metatlas/raw_data/sjenkins/Human Microbiome- Arkin Lab/SJ_HM_6550_151018_EL0A_Neg_098.mzML',\n",
       " 'name': u'SJ_HM_6550_151018_EL0A_Neg_098.mzML',\n",
       " 'prev_uid': u'origin',\n",
       " 'sample': None,\n",
       " 'unique_id': u'a2099fd30e244e7980dab93317131129',\n",
       " 'username': u'pasteur'}"
      ]
     },
     "execution_count": 14,
     "metadata": {},
     "output_type": "execute_result"
    }
   ],
   "source": [
    "files[0]"
   ]
  },
  {
   "cell_type": "code",
   "execution_count": 4,
   "metadata": {
    "collapsed": true
   },
   "outputs": [],
   "source": [
    "#dump all the files to a spreadheet, download it, and make a \"filled in\" one.\n",
    "with open('FileInfo_Sheet_Unique_20160203_KBL-BC_Root-Exudate_Hilic_QExactive_Trial-Run.tab','w') as fid:\n",
    "    fid.write('mzml_file\\tgroup\\tdescription\\n')\n",
    "    for f in flist:\n",
    "        fid.write('%s\\t\\t\\n'%f)\n"
   ]
  },
  {
   "cell_type": "code",
   "execution_count": 5,
   "metadata": {
    "collapsed": false
   },
   "outputs": [
    {
     "data": {
      "text/html": [
       "<div>\n",
       "<table border=\"1\" class=\"dataframe\">\n",
       "  <thead>\n",
       "    <tr style=\"text-align: right;\">\n",
       "      <th></th>\n",
       "      <th>mzml_file</th>\n",
       "      <th>group</th>\n",
       "      <th>description</th>\n",
       "    </tr>\n",
       "  </thead>\n",
       "  <tbody>\n",
       "    <tr>\n",
       "      <th>0</th>\n",
       "      <td>/global/project/projectdirs/metatlas/raw_data/...</td>\n",
       "      <td>20160203_KBL-BC_Root-Exudate_Hilic_QExactive_T...</td>\n",
       "      <td>NaN</td>\n",
       "    </tr>\n",
       "    <tr>\n",
       "      <th>1</th>\n",
       "      <td>/global/project/projectdirs/metatlas/raw_data/...</td>\n",
       "      <td>20160203_KBL-BC_Root-Exudate_Hilic_QExactive_T...</td>\n",
       "      <td>NaN</td>\n",
       "    </tr>\n",
       "  </tbody>\n",
       "</table>\n",
       "</div>"
      ],
      "text/plain": [
       "                                           mzml_file  \\\n",
       "0  /global/project/projectdirs/metatlas/raw_data/...   \n",
       "1  /global/project/projectdirs/metatlas/raw_data/...   \n",
       "\n",
       "                                               group  description  \n",
       "0  20160203_KBL-BC_Root-Exudate_Hilic_QExactive_T...          NaN  \n",
       "1  20160203_KBL-BC_Root-Exudate_Hilic_QExactive_T...          NaN  "
      ]
     },
     "execution_count": 5,
     "metadata": {},
     "output_type": "execute_result"
    }
   ],
   "source": [
    "#Download the fileinfo sheet and fill it in!\n",
    "df = pd.read_csv('FileInfo_Sheet_Unique_20160203_KBL-BC_Root-Exudate_Hilic_QExactive_Trial-Run.tab',sep='\\t')\n",
    "df"
   ]
  },
  {
   "cell_type": "code",
   "execution_count": 6,
   "metadata": {
    "collapsed": false
   },
   "outputs": [],
   "source": [
    "grouped = df.groupby(by='group')\n",
    "# list(grouped)"
   ]
  },
  {
   "cell_type": "code",
   "execution_count": 16,
   "metadata": {
    "collapsed": false
   },
   "outputs": [
    {
     "data": {
      "text/plain": [
       "['20160126_KBL_PS_plant_violacein_VioStdpt00001ugml',\n",
       " '20160126_KBL_PS_plant_violacein_VioStdpt00005ugml']"
      ]
     },
     "execution_count": 16,
     "metadata": {},
     "output_type": "execute_result"
    }
   ],
   "source": [
    "grouped.groups.keys()"
   ]
  },
  {
   "cell_type": "code",
   "execution_count": 17,
   "metadata": {
    "collapsed": false
   },
   "outputs": [],
   "source": [
    "# metob.retrieve('LcmsRun',mzml_file='%0150115_pHILIC_NEG_MSMS_R2A-1An%',username='*')"
   ]
  },
  {
   "cell_type": "code",
   "execution_count": 7,
   "metadata": {
    "collapsed": false
   },
   "outputs": [],
   "source": [
    "for g in grouped.groups.keys():\n",
    "    indices = grouped.groups[g]\n",
    "    myGroup = metob.Group()\n",
    "    myGroup.name = '%s'%g\n",
    "    myGroup.description = df.loc[indices[0],'description']\n",
    "    file_set = []\n",
    "    for i in indices:\n",
    "        file_set.append(metob.retrieve('LcmsRun',mzml_file='%%%s'%df.loc[i,'mzml_file'],username='*')[0])\n",
    "    myGroup.items = file_set\n",
    "    metob.store(myGroup)"
   ]
  },
  {
   "cell_type": "code",
   "execution_count": 19,
   "metadata": {
    "collapsed": false
   },
   "outputs": [
    {
     "name": "stdout",
     "output_type": "stream",
     "text": [
      "20\n",
      "ACN_50mmAgC18_QExactive_20160126_KBL_PS_plant_violacein_VioStdpt1ugml\n",
      "20150819_C18_ACN_POS_MSMS_Vio_pt1ugmL.mzML\n",
      " \n",
      "ACN_50mmAgC18_QExactive_20160126_KBL_PS_plant_violacein_VioStdpt05ugml\n",
      "20150819_C18_ACN_POS_MSMS_Vio_pt05ugmL.mzML\n",
      " \n",
      "ACN_50mmAgC18_QExactive_20160126_KBL_PS_plant_violacein_WT\n",
      "20141107_1_WT_C18_POS_MSMS_ACN_vioplant.mzML\n",
      " \n",
      "ACN_50mmAgC18_QExactive_20160126_KBL_PS_plant_violacein_VioStd5ugml\n",
      "20150819_C18_ACN_POS_MSMS_Vio_5ugmL.mzML\n",
      " \n",
      "ACN_50mmAgC18_QExactive_20160126_KBL_PS_plant_violacein_VioStdpt005ugml\n",
      "20150819_C18_ACN_POS_MSMS_Vio_pt005ugmL.mzML\n",
      " \n",
      "ACN_50mmAgC18_QExactive_20160126_KBL_PS_plant_violacein_VioTrp5\n",
      "20141107_4_VioTrp5_C18_POS_MSMS_ACN_vioplant.mzML\n",
      " \n",
      "ACN_50mmAgC18_QExactive_20160126_KBL_PS_plant_violacein_Vio\n",
      "20141107_3_vio_C18_POS_MSMS_ACN_vioplant.mzML\n",
      " \n",
      "ACN_50mmAgC18_QExactive_20160126_KBL_PS_plant_violacein_VioStd10ugml\n",
      "20150819_C18_ACN_POS_MSMS_Vio_10ugmL.mzML\n",
      " \n",
      "ACN_50mmAgC18_QExactive_20160126_KBL_PS_plant_violacein_VioStdpt001ugml\n",
      "20150819_C18_ACN_POS_MSMS_Vio_pt001ugmL.mzML\n",
      " \n",
      "ACN_50mmAgC18_QExactive_20160126_KBL_PS_plant_violacein_VioStdpt5ugml\n",
      "20150819_C18_ACN_POS_MSMS_Vio_pt5ugmL.mzML\n",
      " \n",
      "ACN_50mmAgC18_QExactive_20160126_KBL_PS_plant_violacein_VioStd1ugml\n",
      "20150819_C18_ACN_POS_MSMS_Vio_1ugmL.mzML\n",
      " \n",
      "ACN_50mmAgC18_QExactive_20160126_KBL_PS_plant_violacein_VioPlantEx\n",
      "20150819_C18_ACN_POS_MSMS_VioPlant_1_Aug.mzML\n",
      "20150819_C18_ACN_POS_MSMS_VioPlant_2_Aug.mzML\n",
      "20150819_C18_ACN_POS_MSMS_VioPlant_3_Aug.mzML\n",
      "20150819_C18_ACN_POS_MSMS_VioPlant_4_Aug.mzML\n",
      "20150819_C18_ACN_POS_MSMS_VioPlant_5_Aug.mzML\n",
      " \n",
      "ACN_50mmAgC18_QExactive_20160126_KBL_PS_plant_violacein_VioStdpt01ugml\n",
      "20150819_C18_ACN_POS_MSMS_Vio_pt01ugmL.mzML\n",
      " \n",
      "ACN_50mmAgC18_QExactive_20160126_KBL_PS_plant_violacein_OldVioPlantEx\n",
      "20150819_C18_ACN_POS_MSMS_VioPlant_6_Aug.mzML\n",
      " \n",
      "ACN_50mmAgC18_QExactive_20160126_KBL_PS_plant_violacein_OldWTPlantEx\n",
      "20150819_C18_ACN_POS_MSMS_VioPlant_7_Aug.mzML\n",
      " \n",
      "ACN_50mmAgC18_QExactive_20160126_KBL_PS_plant_violacein_Trp5\n",
      "20141107_2_trp5_C18_POS_MSMS_ACN_vioplant.mzML\n",
      " \n",
      "ACN_50mmAgC18_QExactive_20160126_KBL_PS_plant_violacein_VioStdpt0001ugml\n",
      "20150819_C18_ACN_POS_MSMS_Vio_pt0001ugmL.mzML\n",
      " \n",
      "ACN_50mmAgC18_QExactive_20160126_KBL_PS_plant_violacein_VioStdpt0005ugml\n",
      "20150819_C18_ACN_POS_MSMS_Vio_pt0005ugmL.mzML\n",
      " \n",
      "ACN_50mmAgC18_QExactive_20160126_KBL_PS_plant_violacein_VioStdpt00001ugml\n",
      "20150819_C18_ACN_POS_MSMS_Vio_pt00001ugmL.mzML\n",
      " \n",
      "ACN_50mmAgC18_QExactive_20160126_KBL_PS_plant_violacein_VioStdpt00005ugml\n",
      "20150819_C18_ACN_POS_MSMS_Vio_pt00005ugmL.mzML\n",
      " \n"
     ]
    }
   ],
   "source": [
    "g = metob.retrieve('Groups',name = '%_KBL_PS_%')\n",
    "print len(g)\n",
    "for gg in g:\n",
    "    print gg.name\n",
    "    for i in gg.items:\n",
    "        print i.name\n",
    "    print \" \""
   ]
  },
  {
   "cell_type": "code",
   "execution_count": null,
   "metadata": {
    "collapsed": true
   },
   "outputs": [],
   "source": []
  },
  {
   "cell_type": "code",
   "execution_count": null,
   "metadata": {
    "collapsed": true
   },
   "outputs": [],
   "source": []
  }
 ],
 "metadata": {
  "kernelspec": {
   "display_name": "Python 2",
   "language": "python",
   "name": "python2"
  },
  "language_info": {
   "codemirror_mode": {
    "name": "ipython",
    "version": 2
   },
   "file_extension": ".py",
   "mimetype": "text/x-python",
   "name": "python",
   "nbconvert_exporter": "python",
   "pygments_lexer": "ipython2",
   "version": "2.7.11"
  }
 },
 "nbformat": 4,
 "nbformat_minor": 0
}
