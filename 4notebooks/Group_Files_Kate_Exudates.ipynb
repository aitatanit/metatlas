{
 "cells": [
  {
   "cell_type": "code",
   "execution_count": null,
   "metadata": {
    "collapsed": true
   },
   "outputs": [],
   "source": [
    "# 1) Convert files for Metatlas 2.0 (using mzCAT)\n",
    "# 2) Transfer to NERSC (using mzCAT)\n",
    "# 3) Make MetAtlas Groups for your files\n",
    "# 4) Enter your internal standards into an Atlas\n",
    "# 5) Extract data from each of your files for the internal standards\n",
    "# 6) Export the results in a meaningful way\n",
    "\n",
    "# If all goes according to plan that means on Thursday we will:\n",
    "# 1) Build a small Atlas of your favorite molecules that have been identified.\n",
    "# 2) Extract data from each of your files for these molecules\n",
    "# 3) Export the results in a meaningful way"
   ]
  },
  {
   "cell_type": "code",
   "execution_count": 1,
   "metadata": {
    "collapsed": true
   },
   "outputs": [],
   "source": [
    "%matplotlib inline\n",
    "%config InlineBackend.figure_format = 'retina'\n",
    "\n",
    "import sys,os,glob,csv\n",
    "import numpy as np\n",
    "from matplotlib import pylab as plt\n",
    "\n",
    "from scipy.spatial.distance import pdist\n",
    "from scipy.cluster.hierarchy import linkage\n",
    "from scipy.cluster.hierarchy import fcluster\n",
    "from scipy.spatial.distance import squareform\n",
    "\n",
    "sys.path.insert(0,'/global/project/projectdirs/metatlas/anaconda/lib/python2.7/site-packages' )\n",
    "from metatlas import metatlas_objects as metob\n",
    "from metatlas import h5_query\n",
    "\n",
    "curr_ld_lib_path = ''\n",
    "\n",
    "os.environ['LD_LIBRARY_PATH'] = curr_ld_lib_path + ':/project/projectdirs/openmsi/jupyterhub_libs/boost_1_55_0/lib' + ':/project/projectdirs/openmsi/jupyterhub_libs/lib'\n",
    "# sys.path.remove('/anaconda/lib/python2.7/site-packages')\n",
    "sys.path.append('/global/project/projectdirs/openmsi/jupyterhub_libs/anaconda/lib/python2.7/site-packages')\n",
    "sys.path.insert(0,'/project/projectdirs/openmsi/projects/meta-iq/pactolus/pactolus' )\n",
    "\n",
    "from rdkit import Chem\n",
    "# from rdkit.Chem.rdMolDescriptors import ExactMolWt\n",
    "from rdkit.Chem import Descriptors\n",
    "from rdkit.Chem import rdMolDescriptors\n",
    "from rdkit.Chem import AllChem\n",
    "from rdkit.Chem.Fingerprints import FingerprintMols\n",
    "from rdkit.Chem import Draw\n",
    "from rdkit import DataStructs\n",
    "from rdkit.DataManip import Metric\n",
    "\n",
    "import networkx as nx"
   ]
  },
  {
   "cell_type": "code",
   "execution_count": 8,
   "metadata": {
    "collapsed": false
   },
   "outputs": [
    {
     "name": "stdout",
     "output_type": "stream",
     "text": [
      "/global/project/projectdirs/metatlas//raw_data/katezh/20150826_KZH_pHILIC_QExactive_ExudatesAndCassettes/20150826_pHILIC_NEG_MSMS_ACN__Root_exu_cassette_2__R6_8ul.h5\n",
      "/global/project/projectdirs/metatlas//raw_data/katezh/20150826_KZH_pHILIC_QExactive_ExudatesAndCassettes/20150826_pHILIC_NEG_MSMS_ACN__Root_exu_cassette_10__R14_8ul.h5\n",
      "/global/project/projectdirs/metatlas//raw_data/katezh/20150826_KZH_pHILIC_QExactive_ExudatesAndCassettes/20150826_pHILIC_FPS_MSMS_ACN__ITSD_MidCassettes__8ul.h5\n",
      "/global/project/projectdirs/metatlas//raw_data/katezh/20150826_KZH_pHILIC_QExactive_ExudatesAndCassettes/20150826_pHILIC_NEG_MSMS_ACN__Root_exu_cassette_8__R12_8ul.h5\n",
      "/global/project/projectdirs/metatlas//raw_data/katezh/20150826_KZH_pHILIC_QExactive_ExudatesAndCassettes/20150826_pHILIC_NEG_MSMS_ACN__Root_exudate_1_3x_R1_8ul.h5\n",
      "/global/project/projectdirs/metatlas//raw_data/katezh/20150826_KZH_pHILIC_QExactive_ExudatesAndCassettes/20150826_pHILIC_POS_MSMS_ACN__Root_exu_cassette_3__R7_8ul.h5\n",
      "/global/project/projectdirs/metatlas//raw_data/katezh/20150826_KZH_pHILIC_QExactive_ExudatesAndCassettes/20150826_pHILIC_POS_MSMS_ACN__MeOHBlank_Pre_3__8ul_150826162701.h5\n",
      "/global/project/projectdirs/metatlas//raw_data/katezh/20150826_KZH_pHILIC_QExactive_ExudatesAndCassettes/20150826_pHILIC_POS_MSMS_ACN__Root_exu_cassette_8__R12_8ul.h5\n",
      "/global/project/projectdirs/metatlas//raw_data/katezh/20150826_KZH_pHILIC_QExactive_ExudatesAndCassettes/20150826_pHILIC_POS_MSMS_ACN__Root_exu_cassette_1__R5_8ul.h5\n",
      "/global/project/projectdirs/metatlas//raw_data/katezh/20150826_KZH_pHILIC_QExactive_ExudatesAndCassettes/20150826_pHILIC_POS_MSMS_ACN__Root_exudate_2_3x_R2_8ul.h5\n",
      "/global/project/projectdirs/metatlas//raw_data/katezh/20150826_KZH_pHILIC_QExactive_ExudatesAndCassettes/20150826_pHILIC_POS_MSMS_ACN__MeOHBlank_Post_2__8ul.h5\n",
      "/global/project/projectdirs/metatlas//raw_data/katezh/20150826_KZH_pHILIC_QExactive_ExudatesAndCassettes/20150826_pHILIC_POS_MSMS_ACN__MeOHBlank_Pre_6__8ul.h5\n",
      "/global/project/projectdirs/metatlas//raw_data/katezh/20150826_KZH_pHILIC_QExactive_ExudatesAndCassettes/20150826_pHILIC_POS_MSMS_ACN__Root_exu_cassette_5__R9_8ul.h5\n",
      "/global/project/projectdirs/metatlas//raw_data/katezh/20150826_KZH_pHILIC_QExactive_ExudatesAndCassettes/20150826_pHILIC_NEG_MSMS_ACN__Root_exu_cassette_5__R9_8ul.h5\n",
      "/global/project/projectdirs/metatlas//raw_data/katezh/20150826_KZH_pHILIC_QExactive_ExudatesAndCassettes/20150826_pHILIC_POS_MSMS_ACN__Root_exu_cassette_4__R8_8ul_150827152957.h5\n",
      "/global/project/projectdirs/metatlas//raw_data/katezh/20150826_KZH_pHILIC_QExactive_ExudatesAndCassettes/20150826_pHILIC_NEG_MSMS_ACN__Root_exu_cassette_9__R13_8ul.h5\n",
      "/global/project/projectdirs/metatlas//raw_data/katezh/20150826_KZH_pHILIC_QExactive_ExudatesAndCassettes/20150826_pHILIC_FPS_MSMS_ACN__ITSD_Pre_4__8ul.h5\n",
      "/global/project/projectdirs/metatlas//raw_data/katezh/20150826_KZH_pHILIC_QExactive_ExudatesAndCassettes/20150826_pHILIC_NEG_MSMS_ACN__Root_exu_cassette_1__R5_8ul.h5\n",
      "/global/project/projectdirs/metatlas//raw_data/katezh/20150826_KZH_pHILIC_QExactive_ExudatesAndCassettes/20150826_pHILIC_POS_MSMS_ACN__Root_exu_cassette_7__R11_8ul.h5\n",
      "/global/project/projectdirs/metatlas//raw_data/katezh/20150826_KZH_pHILIC_QExactive_ExudatesAndCassettes/20150826_pHILIC_POS_MSMS_ACN__Root_exudate_3_3x_R3_8ul.h5\n",
      "/global/project/projectdirs/metatlas//raw_data/katezh/20150826_KZH_pHILIC_QExactive_ExudatesAndCassettes/20150826_pHILIC_NEG_MSMS_ACN__Root_exu_cassette_4__R8_8ul.h5\n",
      "/global/project/projectdirs/metatlas//raw_data/katezh/20150826_KZH_pHILIC_QExactive_ExudatesAndCassettes/20150826_pHILIC_POS_MSMS_ACN__MeOHBlank_Pre_3__8ul.h5\n",
      "/global/project/projectdirs/metatlas//raw_data/katezh/20150826_KZH_pHILIC_QExactive_ExudatesAndCassettes/20150826_pHILIC_NEG_MSMS_ACN__Root_exudate_4_3x_R4_8ul.h5\n",
      "/global/project/projectdirs/metatlas//raw_data/katezh/20150826_KZH_pHILIC_QExactive_ExudatesAndCassettes/20150826_pHILIC_POS_MSMS_ACN__Root_exu_cassette_9__R13_8ul.h5\n",
      "/global/project/projectdirs/metatlas//raw_data/katezh/20150826_KZH_pHILIC_QExactive_ExudatesAndCassettes/20150826_pHILIC_POS_MSMS_ACN__Root_exudate_1_3x_R1_8ul.h5\n",
      "/global/project/projectdirs/metatlas//raw_data/katezh/20150826_KZH_pHILIC_QExactive_ExudatesAndCassettes/20150826_pHILIC_POS_MSMS_ACN__MeOHBlank_Post_3__8ul.h5\n",
      "/global/project/projectdirs/metatlas//raw_data/katezh/20150826_KZH_pHILIC_QExactive_ExudatesAndCassettes/20150826_pHILIC_POS_MSMS_ACN__MeOHBlank_PostCrash1__8ul.h5\n",
      "/global/project/projectdirs/metatlas//raw_data/katezh/20150826_KZH_pHILIC_QExactive_ExudatesAndCassettes/20150826_pHILIC_POS_MSMS_ACN__Root_exu_cassette_2__R6_8ul.h5\n",
      "/global/project/projectdirs/metatlas//raw_data/katezh/20150826_KZH_pHILIC_QExactive_ExudatesAndCassettes/20150826_pHILIC_FPS_MSMS_ACN__QCMix_Pre_8ul.h5\n",
      "/global/project/projectdirs/metatlas//raw_data/katezh/20150826_KZH_pHILIC_QExactive_ExudatesAndCassettes/20150826_pHILIC_POS_MSMS_ACN__MeOHBlank_Post_1__8ul.h5\n",
      "/global/project/projectdirs/metatlas//raw_data/katezh/20150826_KZH_pHILIC_QExactive_ExudatesAndCassettes/20150826_pHILIC_POS_MSMS_ACN__Root_exudate_4_3x_R4_8ul.h5\n",
      "/global/project/projectdirs/metatlas//raw_data/katezh/20150826_KZH_pHILIC_QExactive_ExudatesAndCassettes/20150826_pHILIC_NEG_MSMS_ACN__Root_exu_cassette_3__R7_8ul.h5\n",
      "/global/project/projectdirs/metatlas//raw_data/katezh/20150826_KZH_pHILIC_QExactive_ExudatesAndCassettes/20150826_pHILIC_POS_MSMS_ACN__Root_exu_cassette_10__R14_8ul.h5\n",
      "/global/project/projectdirs/metatlas//raw_data/katezh/20150826_KZH_pHILIC_QExactive_ExudatesAndCassettes/20150826_pHILIC_NEG_MSMS_ACN__Root_exu_cassette_7__R11_8ul.h5\n",
      "/global/project/projectdirs/metatlas//raw_data/katezh/20150826_KZH_pHILIC_QExactive_ExudatesAndCassettes/20150826_pHILIC_NEG_MSMS_ACN__Root_exu_cassette_6__R10_8ul.h5\n",
      "/global/project/projectdirs/metatlas//raw_data/katezh/20150826_KZH_pHILIC_QExactive_ExudatesAndCassettes/20150826_pHILIC_POS_MSMS_ACN__Root_exu_cassette_6__R10_8ul.h5\n",
      "/global/project/projectdirs/metatlas//raw_data/katezh/20150826_KZH_pHILIC_QExactive_ExudatesAndCassettes/20150826_pHILIC_POS_MSMS_ACN__MeOHBlank_PostCrash2__8ul.h5\n",
      "/global/project/projectdirs/metatlas//raw_data/katezh/20150826_KZH_pHILIC_QExactive_ExudatesAndCassettes/20150826_pHILIC_NEG_MSMS_ACN__Root_exu_cassette_3__R7_8ul_redo.h5\n",
      "/global/project/projectdirs/metatlas//raw_data/katezh/20150826_KZH_pHILIC_QExactive_ExudatesAndCassettes/20150826_pHILIC_POS_MSMS_ACN__MeOHBlank_Pre_5__8ul.h5\n",
      "/global/project/projectdirs/metatlas//raw_data/katezh/20150826_KZH_pHILIC_QExactive_ExudatesAndCassettes/20150826_pHILIC_POS_MSMS_ACN__MeOHBlank_Post_4__8ul.h5\n",
      "/global/project/projectdirs/metatlas//raw_data/katezh/20150826_KZH_pHILIC_QExactive_ExudatesAndCassettes/20150826_pHILIC_FPS_MSMS_ACN__ITSD_POST_4__8ul.h5\n",
      "/global/project/projectdirs/metatlas//raw_data/katezh/20150826_KZH_pHILIC_QExactive_ExudatesAndCassettes/20150826_pHILIC_POS_MSMS_ACN__MeOHBlank_Pre_2__8ul.h5\n",
      "/global/project/projectdirs/metatlas//raw_data/katezh/20150826_KZH_pHILIC_QExactive_ExudatesAndCassettes/20150826_pHILIC_POS_MSMS_ACN__MeOHBlank_Pre_1__8ul.h5\n",
      "/global/project/projectdirs/metatlas//raw_data/katezh/20150826_KZH_pHILIC_QExactive_ExudatesAndCassettes/20150826_pHILIC_FPS_MSMS_ACN__QCMix_POST_8ul.h5\n",
      "/global/project/projectdirs/metatlas//raw_data/katezh/20150826_KZH_pHILIC_QExactive_ExudatesAndCassettes/20150826_pHILIC_NEG_MSMS_ACN__Root_exudate_2_3x_R2_8ul.h5\n",
      "/global/project/projectdirs/metatlas//raw_data/katezh/20150826_KZH_pHILIC_QExactive_ExudatesAndCassettes/20150826_pHILIC_NEG_MSMS_ACN__Root_exudate_3_3x_R3_8ul.h5\n"
     ]
    }
   ],
   "source": [
    "myFiles = metob.retrieve('lcmsrun',description='%20150826%')\n",
    "# myFiles\n",
    "for f in myFiles:\n",
    "    print f.hdf5_file"
   ]
  },
  {
   "cell_type": "code",
   "execution_count": 13,
   "metadata": {
    "collapsed": false
   },
   "outputs": [
    {
     "name": "stdout",
     "output_type": "stream",
     "text": [
      "[u'Blank' u'ISTD' u'QC' u'Root Exudate' u'Root_exu_cassette_1'\n",
      " u'Root_exu_cassette_10' u'Root_exu_cassette_2' u'Root_exu_cassette_3'\n",
      " u'Root_exu_cassette_4' u'Root_exu_cassette_5' u'Root_exu_cassette_6'\n",
      " u'Root_exu_cassette_7' u'Root_exu_cassette_8' u'Root_exu_cassette_9']\n"
     ]
    }
   ],
   "source": [
    "polarity = []\n",
    "sample = []\n",
    "\n",
    "for f in myFiles:\n",
    "    fp = os.path.split(f.hdf5_file.replace('.h5',''))\n",
    "    sfp = fp[1].split('_')\n",
    "    polarity.append(sfp[2])\n",
    "    if 'Blank' in fp[1]:\n",
    "        sample.append('Blank')\n",
    "    elif 'QC' in fp[1]:\n",
    "        sample.append('QC')        \n",
    "    elif 'ITSD' in fp[1]:\n",
    "        sample.append('ISTD')\n",
    "    elif '_exudate_' in fp[1]:\n",
    "        sample.append('Root Exudate')\n",
    "    else:\n",
    "        ssfp = fp[1].split('__')\n",
    "        sample.append(ssfp[1])\n",
    "ugroups = np.unique(sample)    \n",
    "print ugroups"
   ]
  },
  {
   "cell_type": "code",
   "execution_count": 14,
   "metadata": {
    "collapsed": false
   },
   "outputs": [],
   "source": [
    "#make the groups in the database and simultaneously populate the runs\n",
    "all_my_groups = []\n",
    "for j,u in enumerate(ugroups):\n",
    "    indices = [i for i, x in enumerate(sample) if x == u]\n",
    "    myGroup = metob.Group()\n",
    "    myGroup.name = u\n",
    "    myGroup.description = ugroups[j]\n",
    "    file_set = []\n",
    "    for index in indices:\n",
    "        file_set.append(myFiles[index])\n",
    "    myGroup.items = file_set\n",
    "    all_my_groups.append(myGroup)\n",
    "\n",
    "# don't forget to make the \"experiment\" group: the group of groups\n",
    "\n",
    "metob.store(all_my_groups)"
   ]
  },
  {
   "cell_type": "code",
   "execution_count": 28,
   "metadata": {
    "collapsed": false
   },
   "outputs": [
    {
     "data": {
      "text/plain": [
       "22"
      ]
     },
     "execution_count": 28,
     "metadata": {},
     "output_type": "execute_result"
    }
   ],
   "source": [
    "len(all_my_groups)"
   ]
  },
  {
   "cell_type": "code",
   "execution_count": 15,
   "metadata": {
    "collapsed": true
   },
   "outputs": [],
   "source": [
    "myGroup = metob.Group()\n",
    "myGroup.name = '20150826_KZH_QExactive_Hilic_Avena_exudates_and_standards'\n",
    "myGroup.description = 'These samples are hydroponic Avena exudates collected over three, six, nine and 12 weeks in four biological replicates and two experimental controls. The aim is to define exudation profile of Avena barbata.'\n",
    "myGroup.items = all_my_groups\n",
    "metob.store(myGroup)"
   ]
  },
  {
   "cell_type": "code",
   "execution_count": 31,
   "metadata": {
    "collapsed": false
   },
   "outputs": [
    {
     "data": {
      "application/javascript": [
       "var nb = IPython.notebook;\n",
       "var kernel = IPython.notebook.kernel;\n",
       "var command = \"NOTEBOOK_FULL_PATH = '\" + nb.base_url + nb.notebook_path + \"'\";\n",
       "kernel.execute(command);"
      ],
      "text/plain": [
       "<IPython.core.display.Javascript object>"
      ]
     },
     "metadata": {},
     "output_type": "display_data"
    }
   ],
   "source": [
    "%%javascript\n",
    "var nb = IPython.notebook;\n",
    "var kernel = IPython.notebook.kernel;\n",
    "var command = \"NOTEBOOK_FULL_PATH = '\" + nb.base_url + nb.notebook_path + \"'\";\n",
    "kernel.execute(command);"
   ]
  },
  {
   "cell_type": "code",
   "execution_count": 32,
   "metadata": {
    "collapsed": false
   },
   "outputs": [
    {
     "name": "stdout",
     "output_type": "stream",
     "text": [
      "http://nbviewer.ipython.org/url/portal.nersc.gov/project/openmsi/MetAtlas_001_Group_Files.ipynb?flush_cache=true\n"
     ]
    }
   ],
   "source": [
    "filename = os.path.basename(NOTEBOOK_FULL_PATH)\n",
    "%system cp $filename /project/projectdirs/openmsi/www/\n",
    "temp = '%s/%s'%('/project/projectdirs/openmsi/www',filename)\n",
    "%system chmod 775 $temp\n",
    "print 'http://nbviewer.ipython.org/url/portal.nersc.gov/project/openmsi/%s?flush_cache=true'%filename"
   ]
  },
  {
   "cell_type": "code",
   "execution_count": null,
   "metadata": {
    "collapsed": true
   },
   "outputs": [],
   "source": []
  }
 ],
 "metadata": {
  "kernelspec": {
   "display_name": "Python 2",
   "language": "python",
   "name": "python2"
  },
  "language_info": {
   "codemirror_mode": {
    "name": "ipython",
    "version": 2
   },
   "file_extension": ".py",
   "mimetype": "text/x-python",
   "name": "python",
   "nbconvert_exporter": "python",
   "pygments_lexer": "ipython2",
   "version": "2.7.11"
  }
 },
 "nbformat": 4,
 "nbformat_minor": 0
}
